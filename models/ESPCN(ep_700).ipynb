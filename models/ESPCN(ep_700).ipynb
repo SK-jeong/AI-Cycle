{
  "nbformat": 4,
  "nbformat_minor": 0,
  "metadata": {
    "kernelspec": {
      "display_name": "Python 3",
      "language": "python",
      "name": "python3"
    },
    "language_info": {
      "codemirror_mode": {
        "name": "ipython",
        "version": 3
      },
      "file_extension": ".py",
      "mimetype": "text/x-python",
      "name": "python",
      "nbconvert_exporter": "python",
      "pygments_lexer": "ipython3",
      "version": "3.7.7"
    },
    "colab": {
      "name": "ESPCN(ep 700).ipynb",
      "provenance": [],
      "collapsed_sections": []
    },
    "accelerator": "GPU"
  },
  "cells": [
    {
      "cell_type": "markdown",
      "metadata": {
        "id": "ltwP7z_ZamD2"
      },
      "source": [
        "# ESPCN ([Real-Time Single Image and Video Super-Resolution Using an Efficient Sub-Pixel Convolutional Neural Network](https://arxiv.org/abs/1609.05158)) \n",
        "\n",
        "implemented using TensorFlow Lite"
      ]
    },
    {
      "cell_type": "markdown",
      "metadata": {
        "id": "RGPuOaduamD8"
      },
      "source": [
        "## Setup"
      ]
    },
    {
      "cell_type": "markdown",
      "metadata": {
        "id": "R1aj6-55amD9"
      },
      "source": [
        "For color space transformation, install OpenCV."
      ]
    },
    {
      "cell_type": "code",
      "metadata": {
        "id": "D8KlTuA9amD9",
        "colab": {
          "base_uri": "https://localhost:8080/"
        },
        "outputId": "9f166684-5bf9-4b52-fb4d-34889c5e33ac"
      },
      "source": [
        "!pip install opencv-python"
      ],
      "execution_count": null,
      "outputs": [
        {
          "output_type": "stream",
          "text": [
            "Requirement already satisfied: opencv-python in /usr/local/lib/python3.7/dist-packages (4.1.2.30)\n",
            "Requirement already satisfied: numpy>=1.14.5 in /usr/local/lib/python3.7/dist-packages (from opencv-python) (1.19.5)\n"
          ],
          "name": "stdout"
        }
      ]
    },
    {
      "cell_type": "code",
      "metadata": {
        "colab": {
          "base_uri": "https://localhost:8080/"
        },
        "id": "MNPrx0-q_BEd",
        "outputId": "e9565b6d-a8dd-41f5-efbe-e99edb2f881e"
      },
      "source": [
        "from google.colab import drive\n",
        "drive.mount('/content/gdrive')"
      ],
      "execution_count": null,
      "outputs": [
        {
          "output_type": "stream",
          "text": [
            "Mounted at /content/gdrive\n"
          ],
          "name": "stdout"
        }
      ]
    },
    {
      "cell_type": "code",
      "metadata": {
        "id": "3wuB9C-A_Jo3"
      },
      "source": [
        "# 경로 설정\n",
        "import os\n",
        "import os, glob\n",
        "import os.path\n",
        "os.chdir('/content/gdrive/MyDrive/2021/AI-Cycle/SR')"
      ],
      "execution_count": null,
      "outputs": []
    },
    {
      "cell_type": "code",
      "metadata": {
        "id": "QU1zi1yK9DoU"
      },
      "source": [
        "from PIL import Image"
      ],
      "execution_count": null,
      "outputs": []
    },
    {
      "cell_type": "markdown",
      "metadata": {
        "id": "YZPPwoXsamEA"
      },
      "source": [
        "## Build the model"
      ]
    },
    {
      "cell_type": "markdown",
      "metadata": {
        "id": "poAmc_GtamD-"
      },
      "source": [
        "Import dependencies."
      ]
    },
    {
      "cell_type": "code",
      "metadata": {
        "scrolled": true,
        "id": "jDOmSCAyamD_"
      },
      "source": [
        "import tensorflow as tf\n",
        "import tarfile\n",
        "import datetime\n",
        "import cv2\n",
        "import numpy as np\n",
        "import matplotlib.pyplot as plt\n",
        "from tensorflow.python.keras.layers import Conv2D, Input, Lambda, Activation\n",
        "from tensorflow.python.keras.models import Model\n",
        "from os.path import exists, join, basename\n",
        "from os import makedirs, remove, path\n",
        "from six.moves import urllib"
      ],
      "execution_count": null,
      "outputs": []
    },
    {
      "cell_type": "markdown",
      "metadata": {
        "id": "K7_XeZjJamD_"
      },
      "source": [
        "Set some parameters and download BSD300 dataset."
      ]
    },
    {
      "cell_type": "code",
      "metadata": {
        "id": "QnempMrYamD_"
      },
      "source": [
        "def download_dataset(file, target_dir=\"dataset\", extract=True):\n",
        "    if not exists(join(target_dir, \"DIV2K/images/train\")):\n",
        "        source_url = \"http://data.vision.ee.ethz.ch/cvl/DIV2K/DIV2K_train_HR.zip\"\n",
        "        target_dir = path.abspath(target_dir)\n",
        "        tf.keras.utils.get_file(file, source_url, cache_subdir=target_dir, extract=extract)\n",
        "\n",
        "# download_dataset('DIV2K_train_HR.zip')\n"
      ],
      "execution_count": null,
      "outputs": []
    },
    {
      "cell_type": "code",
      "metadata": {
        "id": "TouM5GU8MV5Z"
      },
      "source": [
        "SCALE = 2\n",
        "# LR_SIZE = 100\n",
        "# Make sure HR_SIZE is smaller than 300 since some images in the dataset have height/width < 300\n",
        "# HR_SIZE = LR_SIZE * SCALE\n",
        "IMG_SIZE = 300\n",
        "HR_SIZE = IMG_SIZE * SCALE\n",
        "\n",
        "BATCH_SIZE = 100"
      ],
      "execution_count": null,
      "outputs": []
    },
    {
      "cell_type": "code",
      "metadata": {
        "id": "XrOm9v60amEA",
        "colab": {
          "base_uri": "https://localhost:8080/"
        },
        "outputId": "1d18e201-d143-46c9-8541-9fc81408fcda"
      },
      "source": [
        "# Helper function to wrap depth_to_space op (pixel shuffle) in a Lambda layer\n",
        "def pixel_shuffle(scale):\n",
        "    return lambda x: tf.nn.depth_to_space(x, scale)\n",
        "\n",
        "input = Input(shape=(IMG_SIZE, IMG_SIZE, 1))\n",
        "x = Conv2D(64, [5, 5], padding='same', activation='relu')(input)\n",
        "x = Conv2D(32, [3, 3], padding='same', activation='relu')(x)\n",
        "x = Conv2D(SCALE**2, [3, 3], padding='same')(x)\n",
        "x = Lambda(pixel_shuffle(scale=SCALE))(x)\n",
        "x = Activation('tanh')(x)\n",
        "model = Model(input, x, name=\"ESPCN\")\n",
        "\n",
        "logdir = \"./logdir/\" + datetime.datetime.now().strftime(\"%Y%m%d-%H%M%S\")\n",
        "tensorboard_callback = tf.keras.callbacks.TensorBoard(logdir, histogram_freq=1)\n",
        "\n",
        "model.compile(optimizer=tf.keras.optimizers.Adam(learning_rate=1e-4), loss=tf.keras.losses.MSE)\n",
        "\n",
        "model.summary()"
      ],
      "execution_count": null,
      "outputs": [
        {
          "output_type": "stream",
          "text": [
            "Model: \"ESPCN\"\n",
            "_________________________________________________________________\n",
            "Layer (type)                 Output Shape              Param #   \n",
            "=================================================================\n",
            "input_1 (InputLayer)         [(None, 300, 300, 1)]     0         \n",
            "_________________________________________________________________\n",
            "conv2d (Conv2D)              (None, 300, 300, 64)      1664      \n",
            "_________________________________________________________________\n",
            "conv2d_1 (Conv2D)            (None, 300, 300, 32)      18464     \n",
            "_________________________________________________________________\n",
            "conv2d_2 (Conv2D)            (None, 300, 300, 4)       1156      \n",
            "_________________________________________________________________\n",
            "lambda (Lambda)              (None, 600, 600, 1)       0         \n",
            "_________________________________________________________________\n",
            "activation (Activation)      (None, 600, 600, 1)       0         \n",
            "=================================================================\n",
            "Total params: 21,284\n",
            "Trainable params: 21,284\n",
            "Non-trainable params: 0\n",
            "_________________________________________________________________\n"
          ],
          "name": "stdout"
        }
      ]
    },
    {
      "cell_type": "markdown",
      "metadata": {
        "id": "CRyyApx6Ksp0"
      },
      "source": [
        "## Video -> Frame"
      ]
    },
    {
      "cell_type": "code",
      "metadata": {
        "id": "8SOxLMQ5KsBz"
      },
      "source": [
        "import cv2\n",
        "import os\n",
        "from os.path import join\n",
        "\n",
        "vidcap = cv2.VideoCapture('recycle.mp4')\n",
        "\n",
        "def getFrame(sec):\n",
        "    vidcap.set(cv2.CAP_PROP_POS_MSEC,sec*1000)\n",
        "    hasFrames,image = vidcap.read()\n",
        "    current_directory = os.getcwd()\n",
        "    path = os.path.join(current_directory, r'frame folder')\n",
        "    if not os.path.exists(path):\n",
        "      os.makedirs(path)\n",
        "    if hasFrames:\n",
        "        cv2.imwrite(os.path.join(path,\"image\"+str(count)+\".jpg\"), image)     # save frame as JPG file\n",
        "\n",
        "    return hasFrames\n",
        "sec = 0\n",
        "frameRate = 0.05 #//it will capture image in each * second\n",
        "count=1\n",
        "success = getFrame(sec)\n",
        "while success:\n",
        "    count = count + 1\n",
        "    sec = sec + frameRate\n",
        "    sec = round(sec, 2)\n",
        "    success = getFrame(sec)"
      ],
      "execution_count": null,
      "outputs": []
    },
    {
      "cell_type": "code",
      "metadata": {
        "id": "PObxdXG8oa9p"
      },
      "source": [
        "TRAIN_IMAGES = \"dataset/BSDS300+DIV2K/images/train/*.jpg\"\n",
        "TEST_IMAGES = \"dataset/BSDS300+DIV2K/images/test/*.jpg\""
      ],
      "execution_count": null,
      "outputs": []
    },
    {
      "cell_type": "markdown",
      "metadata": {
        "id": "HEnIAshXamEA"
      },
      "source": [
        "ESPCN implements a simple network with 3 convolutional layers and 1 pixel shuffle layer on the Y channel (luminance) in the YCbCr color space. Cb and Cr channels are upsampled using bicubic method. We can prepare our training and test datasets as the following."
      ]
    },
    {
      "cell_type": "code",
      "metadata": {
        "scrolled": false,
        "id": "2-mrUn9WamEA"
      },
      "source": [
        "def extract_luminance(path):\n",
        "    img = cv2.imread(path.numpy().decode('UTF8'))\n",
        "    img = cv2.cvtColor(img, cv2.COLOR_BGR2YCrCb)\n",
        "    # Extract luminance\n",
        "    img_y = img[:, :, 0:1]\n",
        "    return img_y\n",
        "\n",
        "def load_image(img_path):\n",
        "    [hr_img,] = tf.py_function(extract_luminance, [img_path], [tf.float32])\n",
        "    hr_img = tf.convert_to_tensor(hr_img)\n",
        "    hr_img = tf.image.random_crop(hr_img, [HR_SIZE, HR_SIZE, 1])\n",
        "    hr_img = tf.cast(hr_img, tf.float32)\n",
        "    hr_img = hr_img / 255.\n",
        "    # lr_img = hr_img\n",
        "    lr_img = tf.image.resize(hr_img, [HR_SIZE//SCALE, HR_SIZE//SCALE], tf.image.ResizeMethod.BICUBIC)\n",
        "    return lr_img, hr_img\n"
      ],
      "execution_count": null,
      "outputs": []
    },
    {
      "cell_type": "code",
      "metadata": {
        "id": "RItxzskiSIz8"
      },
      "source": [
        "training_dataset = tf.data.Dataset.list_files(TRAIN_IMAGES) \\\n",
        "                   .map(load_image, num_parallel_calls=tf.data.experimental.AUTOTUNE) \\\n",
        "                   .batch(BATCH_SIZE) \\\n",
        "                   .prefetch(tf.data.experimental.AUTOTUNE) \\\n",
        "                   .shuffle(buffer_size = 200) \n",
        "\n",
        "test_dataset = tf.data.Dataset.list_files(TEST_IMAGES) \\\n",
        "                   .map(load_image, num_parallel_calls=tf.data.experimental.AUTOTUNE) \\\n",
        "                   .batch(BATCH_SIZE) \\\n",
        "                   .prefetch(tf.data.experimental.AUTOTUNE)"
      ],
      "execution_count": null,
      "outputs": []
    },
    {
      "cell_type": "markdown",
      "metadata": {
        "id": "UmhoK7GhamEB"
      },
      "source": [
        "## Train and export the model"
      ]
    },
    {
      "cell_type": "code",
      "metadata": {
        "id": "ozg_JwF9amEB",
        "colab": {
          "base_uri": "https://localhost:8080/"
        },
        "outputId": "942bc5bd-d3d6-469e-ff31-1128c5f7b3af"
      },
      "source": [
        "model.fit(training_dataset,epochs= 700,validation_data=test_dataset,\n",
        "          callbacks = [tensorboard_callback]) # workers = 3\n",
        "\n",
        "model.save(\"export_ep700\")"
      ],
      "execution_count": null,
      "outputs": [
        {
          "output_type": "stream",
          "text": [
            "Epoch 1/700\n",
            "6/6 [==============================] - 25s 1s/step - loss: 0.0142 - val_loss: 0.0133\n",
            "Epoch 2/700\n",
            "6/6 [==============================] - 25s 1s/step - loss: 0.0132 - val_loss: 0.0126\n",
            "Epoch 3/700\n",
            "6/6 [==============================] - 25s 1s/step - loss: 0.0120 - val_loss: 0.0116\n",
            "Epoch 4/700\n",
            "6/6 [==============================] - 25s 1s/step - loss: 0.0114 - val_loss: 0.0112\n",
            "Epoch 5/700\n",
            "6/6 [==============================] - 25s 1s/step - loss: 0.0110 - val_loss: 0.0104\n",
            "Epoch 6/700\n",
            "6/6 [==============================] - 25s 1s/step - loss: 0.0103 - val_loss: 0.0111\n",
            "Epoch 7/700\n",
            "6/6 [==============================] - 25s 1s/step - loss: 0.0101 - val_loss: 0.0101\n",
            "Epoch 8/700\n",
            "6/6 [==============================] - 25s 1s/step - loss: 0.0102 - val_loss: 0.0103\n",
            "Epoch 9/700\n",
            "6/6 [==============================] - 25s 1s/step - loss: 0.0094 - val_loss: 0.0092\n",
            "Epoch 10/700\n",
            "6/6 [==============================] - 25s 1s/step - loss: 0.0095 - val_loss: 0.0098\n",
            "Epoch 11/700\n",
            "6/6 [==============================] - 25s 1s/step - loss: 0.0096 - val_loss: 0.0088\n",
            "Epoch 12/700\n",
            "6/6 [==============================] - 25s 1s/step - loss: 0.0089 - val_loss: 0.0089\n",
            "Epoch 13/700\n",
            "6/6 [==============================] - 25s 1s/step - loss: 0.0087 - val_loss: 0.0087\n",
            "Epoch 14/700\n",
            "6/6 [==============================] - 25s 1s/step - loss: 0.0084 - val_loss: 0.0085\n",
            "Epoch 15/700\n",
            "6/6 [==============================] - 25s 1s/step - loss: 0.0081 - val_loss: 0.0084\n",
            "Epoch 16/700\n",
            "6/6 [==============================] - 26s 1s/step - loss: 0.0080 - val_loss: 0.0079\n",
            "Epoch 17/700\n",
            "6/6 [==============================] - 25s 2s/step - loss: 0.0077 - val_loss: 0.0077\n",
            "Epoch 18/700\n",
            "6/6 [==============================] - 25s 1s/step - loss: 0.0077 - val_loss: 0.0073\n",
            "Epoch 19/700\n",
            "6/6 [==============================] - 26s 2s/step - loss: 0.0073 - val_loss: 0.0071\n",
            "Epoch 20/700\n",
            "6/6 [==============================] - 26s 1s/step - loss: 0.0068 - val_loss: 0.0069\n",
            "Epoch 21/700\n",
            "6/6 [==============================] - 26s 1s/step - loss: 0.0067 - val_loss: 0.0065\n",
            "Epoch 22/700\n",
            "6/6 [==============================] - 26s 1s/step - loss: 0.0067 - val_loss: 0.0063\n",
            "Epoch 23/700\n",
            "6/6 [==============================] - 25s 1s/step - loss: 0.0068 - val_loss: 0.0064\n",
            "Epoch 24/700\n",
            "6/6 [==============================] - 26s 1s/step - loss: 0.0063 - val_loss: 0.0061\n",
            "Epoch 25/700\n",
            "6/6 [==============================] - 26s 1s/step - loss: 0.0063 - val_loss: 0.0062\n",
            "Epoch 26/700\n",
            "6/6 [==============================] - 26s 1s/step - loss: 0.0063 - val_loss: 0.0060\n",
            "Epoch 27/700\n",
            "6/6 [==============================] - 26s 1s/step - loss: 0.0059 - val_loss: 0.0060\n",
            "Epoch 28/700\n",
            "6/6 [==============================] - 26s 1s/step - loss: 0.0059 - val_loss: 0.0061\n",
            "Epoch 29/700\n",
            "6/6 [==============================] - 26s 1s/step - loss: 0.0058 - val_loss: 0.0060\n",
            "Epoch 30/700\n",
            "6/6 [==============================] - 26s 1s/step - loss: 0.0058 - val_loss: 0.0056\n",
            "Epoch 31/700\n",
            "6/6 [==============================] - 26s 1s/step - loss: 0.0058 - val_loss: 0.0054\n",
            "Epoch 32/700\n",
            "6/6 [==============================] - 26s 1s/step - loss: 0.0055 - val_loss: 0.0058\n",
            "Epoch 33/700\n",
            "6/6 [==============================] - 26s 1s/step - loss: 0.0055 - val_loss: 0.0056\n",
            "Epoch 34/700\n",
            "6/6 [==============================] - 25s 1s/step - loss: 0.0054 - val_loss: 0.0053\n",
            "Epoch 35/700\n",
            "6/6 [==============================] - 25s 1s/step - loss: 0.0053 - val_loss: 0.0056\n",
            "Epoch 36/700\n",
            "6/6 [==============================] - 25s 1s/step - loss: 0.0054 - val_loss: 0.0053\n",
            "Epoch 37/700\n",
            "6/6 [==============================] - 25s 1s/step - loss: 0.0053 - val_loss: 0.0048\n",
            "Epoch 38/700\n",
            "6/6 [==============================] - 25s 1s/step - loss: 0.0052 - val_loss: 0.0056\n",
            "Epoch 39/700\n",
            "6/6 [==============================] - 25s 1s/step - loss: 0.0051 - val_loss: 0.0052\n",
            "Epoch 40/700\n",
            "6/6 [==============================] - 25s 1s/step - loss: 0.0049 - val_loss: 0.0049\n",
            "Epoch 41/700\n",
            "6/6 [==============================] - 25s 1s/step - loss: 0.0050 - val_loss: 0.0048\n",
            "Epoch 42/700\n",
            "6/6 [==============================] - 25s 1s/step - loss: 0.0050 - val_loss: 0.0049\n",
            "Epoch 43/700\n",
            "6/6 [==============================] - 25s 1s/step - loss: 0.0048 - val_loss: 0.0055\n",
            "Epoch 44/700\n",
            "6/6 [==============================] - 25s 1s/step - loss: 0.0049 - val_loss: 0.0051\n",
            "Epoch 45/700\n",
            "6/6 [==============================] - 25s 1s/step - loss: 0.0049 - val_loss: 0.0048\n",
            "Epoch 46/700\n",
            "6/6 [==============================] - 25s 1s/step - loss: 0.0047 - val_loss: 0.0045\n",
            "Epoch 47/700\n",
            "6/6 [==============================] - 25s 1s/step - loss: 0.0046 - val_loss: 0.0048\n",
            "Epoch 48/700\n",
            "6/6 [==============================] - 25s 1s/step - loss: 0.0047 - val_loss: 0.0046\n",
            "Epoch 49/700\n",
            "6/6 [==============================] - 25s 1s/step - loss: 0.0045 - val_loss: 0.0045\n",
            "Epoch 50/700\n",
            "6/6 [==============================] - 25s 1s/step - loss: 0.0045 - val_loss: 0.0048\n",
            "Epoch 51/700\n",
            "6/6 [==============================] - 25s 1s/step - loss: 0.0045 - val_loss: 0.0047\n",
            "Epoch 52/700\n",
            "6/6 [==============================] - 25s 1s/step - loss: 0.0045 - val_loss: 0.0044\n",
            "Epoch 53/700\n",
            "6/6 [==============================] - 25s 1s/step - loss: 0.0044 - val_loss: 0.0042\n",
            "Epoch 54/700\n",
            "6/6 [==============================] - 25s 1s/step - loss: 0.0045 - val_loss: 0.0043\n",
            "Epoch 55/700\n",
            "6/6 [==============================] - 25s 1s/step - loss: 0.0041 - val_loss: 0.0037\n",
            "Epoch 56/700\n",
            "6/6 [==============================] - 25s 1s/step - loss: 0.0043 - val_loss: 0.0042\n",
            "Epoch 57/700\n",
            "6/6 [==============================] - 25s 1s/step - loss: 0.0040 - val_loss: 0.0041\n",
            "Epoch 58/700\n",
            "6/6 [==============================] - 25s 1s/step - loss: 0.0040 - val_loss: 0.0042\n",
            "Epoch 59/700\n",
            "6/6 [==============================] - 25s 1s/step - loss: 0.0041 - val_loss: 0.0041\n",
            "Epoch 60/700\n",
            "6/6 [==============================] - 25s 1s/step - loss: 0.0040 - val_loss: 0.0042\n",
            "Epoch 61/700\n",
            "6/6 [==============================] - 25s 1s/step - loss: 0.0039 - val_loss: 0.0040\n",
            "Epoch 62/700\n",
            "6/6 [==============================] - 25s 1s/step - loss: 0.0038 - val_loss: 0.0039\n",
            "Epoch 63/700\n",
            "6/6 [==============================] - 25s 1s/step - loss: 0.0040 - val_loss: 0.0039\n",
            "Epoch 64/700\n",
            "6/6 [==============================] - 25s 1s/step - loss: 0.0038 - val_loss: 0.0038\n",
            "Epoch 65/700\n",
            "6/6 [==============================] - 25s 1s/step - loss: 0.0039 - val_loss: 0.0039\n",
            "Epoch 66/700\n",
            "6/6 [==============================] - 25s 1s/step - loss: 0.0038 - val_loss: 0.0038\n",
            "Epoch 67/700\n",
            "6/6 [==============================] - 25s 1s/step - loss: 0.0037 - val_loss: 0.0038\n",
            "Epoch 68/700\n",
            "6/6 [==============================] - 25s 1s/step - loss: 0.0036 - val_loss: 0.0037\n",
            "Epoch 69/700\n",
            "6/6 [==============================] - 25s 1s/step - loss: 0.0036 - val_loss: 0.0038\n",
            "Epoch 70/700\n",
            "6/6 [==============================] - 25s 1s/step - loss: 0.0035 - val_loss: 0.0037\n",
            "Epoch 71/700\n",
            "6/6 [==============================] - 25s 1s/step - loss: 0.0035 - val_loss: 0.0034\n",
            "Epoch 72/700\n",
            "6/6 [==============================] - 25s 1s/step - loss: 0.0035 - val_loss: 0.0037\n",
            "Epoch 73/700\n",
            "6/6 [==============================] - 25s 1s/step - loss: 0.0035 - val_loss: 0.0034\n",
            "Epoch 74/700\n",
            "6/6 [==============================] - 25s 1s/step - loss: 0.0035 - val_loss: 0.0035\n",
            "Epoch 75/700\n",
            "6/6 [==============================] - 25s 1s/step - loss: 0.0035 - val_loss: 0.0034\n",
            "Epoch 76/700\n",
            "6/6 [==============================] - 25s 1s/step - loss: 0.0034 - val_loss: 0.0035\n",
            "Epoch 77/700\n",
            "6/6 [==============================] - 26s 1s/step - loss: 0.0033 - val_loss: 0.0034\n",
            "Epoch 78/700\n",
            "6/6 [==============================] - 25s 1s/step - loss: 0.0033 - val_loss: 0.0034\n",
            "Epoch 79/700\n",
            "6/6 [==============================] - 25s 1s/step - loss: 0.0034 - val_loss: 0.0034\n",
            "Epoch 80/700\n",
            "6/6 [==============================] - 25s 2s/step - loss: 0.0034 - val_loss: 0.0032\n",
            "Epoch 81/700\n",
            "6/6 [==============================] - 25s 1s/step - loss: 0.0031 - val_loss: 0.0033\n",
            "Epoch 82/700\n",
            "6/6 [==============================] - 25s 1s/step - loss: 0.0032 - val_loss: 0.0033\n",
            "Epoch 83/700\n",
            "6/6 [==============================] - 25s 1s/step - loss: 0.0032 - val_loss: 0.0032\n",
            "Epoch 84/700\n",
            "6/6 [==============================] - 26s 1s/step - loss: 0.0031 - val_loss: 0.0030\n",
            "Epoch 85/700\n",
            "6/6 [==============================] - 26s 1s/step - loss: 0.0032 - val_loss: 0.0033\n",
            "Epoch 86/700\n",
            "6/6 [==============================] - 26s 2s/step - loss: 0.0031 - val_loss: 0.0031\n",
            "Epoch 87/700\n",
            "6/6 [==============================] - 26s 1s/step - loss: 0.0031 - val_loss: 0.0033\n",
            "Epoch 88/700\n",
            "6/6 [==============================] - 26s 1s/step - loss: 0.0030 - val_loss: 0.0029\n",
            "Epoch 89/700\n",
            "6/6 [==============================] - 26s 1s/step - loss: 0.0029 - val_loss: 0.0030\n",
            "Epoch 90/700\n",
            "6/6 [==============================] - 26s 1s/step - loss: 0.0030 - val_loss: 0.0027\n",
            "Epoch 91/700\n",
            "6/6 [==============================] - 26s 1s/step - loss: 0.0030 - val_loss: 0.0031\n",
            "Epoch 92/700\n",
            "6/6 [==============================] - 26s 1s/step - loss: 0.0031 - val_loss: 0.0031\n",
            "Epoch 93/700\n",
            "6/6 [==============================] - 26s 1s/step - loss: 0.0029 - val_loss: 0.0031\n",
            "Epoch 94/700\n",
            "6/6 [==============================] - 26s 1s/step - loss: 0.0029 - val_loss: 0.0030\n",
            "Epoch 95/700\n",
            "6/6 [==============================] - 26s 2s/step - loss: 0.0029 - val_loss: 0.0029\n",
            "Epoch 96/700\n",
            "6/6 [==============================] - 26s 1s/step - loss: 0.0029 - val_loss: 0.0030\n",
            "Epoch 97/700\n",
            "6/6 [==============================] - 26s 1s/step - loss: 0.0029 - val_loss: 0.0028\n",
            "Epoch 98/700\n",
            "6/6 [==============================] - 26s 2s/step - loss: 0.0028 - val_loss: 0.0029\n",
            "Epoch 99/700\n",
            "6/6 [==============================] - 26s 1s/step - loss: 0.0028 - val_loss: 0.0027\n",
            "Epoch 100/700\n",
            "6/6 [==============================] - 26s 2s/step - loss: 0.0029 - val_loss: 0.0028\n",
            "Epoch 101/700\n",
            "6/6 [==============================] - 26s 1s/step - loss: 0.0028 - val_loss: 0.0028\n",
            "Epoch 102/700\n",
            "6/6 [==============================] - 26s 1s/step - loss: 0.0029 - val_loss: 0.0025\n",
            "Epoch 103/700\n",
            "6/6 [==============================] - 26s 1s/step - loss: 0.0028 - val_loss: 0.0026\n",
            "Epoch 104/700\n",
            "6/6 [==============================] - 26s 2s/step - loss: 0.0027 - val_loss: 0.0027\n",
            "Epoch 105/700\n",
            "6/6 [==============================] - 26s 1s/step - loss: 0.0028 - val_loss: 0.0026\n",
            "Epoch 106/700\n",
            "6/6 [==============================] - 26s 1s/step - loss: 0.0027 - val_loss: 0.0025\n",
            "Epoch 107/700\n",
            "6/6 [==============================] - 26s 1s/step - loss: 0.0027 - val_loss: 0.0026\n",
            "Epoch 108/700\n",
            "6/6 [==============================] - 26s 1s/step - loss: 0.0026 - val_loss: 0.0027\n",
            "Epoch 109/700\n",
            "6/6 [==============================] - 26s 1s/step - loss: 0.0026 - val_loss: 0.0030\n",
            "Epoch 110/700\n",
            "6/6 [==============================] - 26s 1s/step - loss: 0.0026 - val_loss: 0.0026\n",
            "Epoch 111/700\n",
            "6/6 [==============================] - 26s 1s/step - loss: 0.0025 - val_loss: 0.0027\n",
            "Epoch 112/700\n",
            "6/6 [==============================] - 26s 2s/step - loss: 0.0026 - val_loss: 0.0026\n",
            "Epoch 113/700\n",
            "6/6 [==============================] - 26s 1s/step - loss: 0.0026 - val_loss: 0.0025\n",
            "Epoch 114/700\n",
            "6/6 [==============================] - 26s 1s/step - loss: 0.0025 - val_loss: 0.0025\n",
            "Epoch 115/700\n",
            "6/6 [==============================] - 26s 1s/step - loss: 0.0025 - val_loss: 0.0026\n",
            "Epoch 116/700\n",
            "6/6 [==============================] - 26s 1s/step - loss: 0.0025 - val_loss: 0.0025\n",
            "Epoch 117/700\n",
            "6/6 [==============================] - 26s 1s/step - loss: 0.0025 - val_loss: 0.0024\n",
            "Epoch 118/700\n",
            "6/6 [==============================] - 26s 1s/step - loss: 0.0026 - val_loss: 0.0026\n",
            "Epoch 119/700\n",
            "6/6 [==============================] - 26s 1s/step - loss: 0.0025 - val_loss: 0.0023\n",
            "Epoch 120/700\n",
            "6/6 [==============================] - 26s 1s/step - loss: 0.0025 - val_loss: 0.0024\n",
            "Epoch 121/700\n",
            "6/6 [==============================] - 26s 1s/step - loss: 0.0025 - val_loss: 0.0026\n",
            "Epoch 122/700\n",
            "6/6 [==============================] - 26s 2s/step - loss: 0.0025 - val_loss: 0.0024\n",
            "Epoch 123/700\n",
            "6/6 [==============================] - 26s 1s/step - loss: 0.0024 - val_loss: 0.0023\n",
            "Epoch 124/700\n",
            "6/6 [==============================] - 26s 2s/step - loss: 0.0025 - val_loss: 0.0024\n",
            "Epoch 125/700\n",
            "6/6 [==============================] - 26s 1s/step - loss: 0.0024 - val_loss: 0.0022\n",
            "Epoch 126/700\n",
            "6/6 [==============================] - 26s 1s/step - loss: 0.0024 - val_loss: 0.0021\n",
            "Epoch 127/700\n",
            "6/6 [==============================] - 26s 1s/step - loss: 0.0025 - val_loss: 0.0023\n",
            "Epoch 128/700\n",
            "6/6 [==============================] - 26s 1s/step - loss: 0.0025 - val_loss: 0.0023\n",
            "Epoch 129/700\n",
            "6/6 [==============================] - 26s 2s/step - loss: 0.0023 - val_loss: 0.0024\n",
            "Epoch 130/700\n",
            "6/6 [==============================] - 26s 1s/step - loss: 0.0023 - val_loss: 0.0023\n",
            "Epoch 131/700\n",
            "6/6 [==============================] - 26s 1s/step - loss: 0.0024 - val_loss: 0.0023\n",
            "Epoch 132/700\n",
            "6/6 [==============================] - 26s 1s/step - loss: 0.0024 - val_loss: 0.0022\n",
            "Epoch 133/700\n",
            "6/6 [==============================] - 26s 1s/step - loss: 0.0023 - val_loss: 0.0022\n",
            "Epoch 134/700\n",
            "6/6 [==============================] - 26s 2s/step - loss: 0.0023 - val_loss: 0.0023\n",
            "Epoch 135/700\n",
            "6/6 [==============================] - 26s 1s/step - loss: 0.0023 - val_loss: 0.0025\n",
            "Epoch 136/700\n",
            "6/6 [==============================] - 26s 1s/step - loss: 0.0023 - val_loss: 0.0023\n",
            "Epoch 137/700\n",
            "6/6 [==============================] - 26s 1s/step - loss: 0.0022 - val_loss: 0.0021\n",
            "Epoch 138/700\n",
            "6/6 [==============================] - 26s 2s/step - loss: 0.0023 - val_loss: 0.0021\n",
            "Epoch 139/700\n",
            "6/6 [==============================] - 26s 2s/step - loss: 0.0022 - val_loss: 0.0020\n",
            "Epoch 140/700\n",
            "6/6 [==============================] - 26s 1s/step - loss: 0.0023 - val_loss: 0.0021\n",
            "Epoch 141/700\n",
            "6/6 [==============================] - 26s 2s/step - loss: 0.0022 - val_loss: 0.0023\n",
            "Epoch 142/700\n",
            "6/6 [==============================] - 26s 1s/step - loss: 0.0022 - val_loss: 0.0022\n",
            "Epoch 143/700\n",
            "6/6 [==============================] - 26s 1s/step - loss: 0.0022 - val_loss: 0.0021\n",
            "Epoch 144/700\n",
            "6/6 [==============================] - 26s 1s/step - loss: 0.0022 - val_loss: 0.0021\n",
            "Epoch 145/700\n",
            "6/6 [==============================] - 26s 1s/step - loss: 0.0022 - val_loss: 0.0023\n",
            "Epoch 146/700\n",
            "6/6 [==============================] - 26s 1s/step - loss: 0.0022 - val_loss: 0.0025\n",
            "Epoch 147/700\n",
            "6/6 [==============================] - 26s 1s/step - loss: 0.0023 - val_loss: 0.0023\n",
            "Epoch 148/700\n",
            "6/6 [==============================] - 26s 1s/step - loss: 0.0022 - val_loss: 0.0022\n",
            "Epoch 149/700\n",
            "6/6 [==============================] - 26s 1s/step - loss: 0.0022 - val_loss: 0.0022\n",
            "Epoch 150/700\n",
            "6/6 [==============================] - 26s 1s/step - loss: 0.0022 - val_loss: 0.0022\n",
            "Epoch 151/700\n",
            "6/6 [==============================] - 26s 1s/step - loss: 0.0023 - val_loss: 0.0021\n",
            "Epoch 152/700\n",
            "6/6 [==============================] - 26s 1s/step - loss: 0.0022 - val_loss: 0.0021\n",
            "Epoch 153/700\n",
            "6/6 [==============================] - 26s 1s/step - loss: 0.0021 - val_loss: 0.0023\n",
            "Epoch 154/700\n",
            "6/6 [==============================] - 26s 2s/step - loss: 0.0021 - val_loss: 0.0021\n",
            "Epoch 155/700\n",
            "6/6 [==============================] - 26s 1s/step - loss: 0.0022 - val_loss: 0.0024\n",
            "Epoch 156/700\n",
            "6/6 [==============================] - 26s 2s/step - loss: 0.0022 - val_loss: 0.0020\n",
            "Epoch 157/700\n",
            "6/6 [==============================] - 26s 1s/step - loss: 0.0021 - val_loss: 0.0020\n",
            "Epoch 158/700\n",
            "6/6 [==============================] - 26s 2s/step - loss: 0.0021 - val_loss: 0.0020\n",
            "Epoch 159/700\n",
            "6/6 [==============================] - 26s 1s/step - loss: 0.0022 - val_loss: 0.0023\n",
            "Epoch 160/700\n",
            "6/6 [==============================] - 26s 1s/step - loss: 0.0021 - val_loss: 0.0022\n",
            "Epoch 161/700\n",
            "6/6 [==============================] - 26s 1s/step - loss: 0.0021 - val_loss: 0.0021\n",
            "Epoch 162/700\n",
            "6/6 [==============================] - 26s 2s/step - loss: 0.0019 - val_loss: 0.0022\n",
            "Epoch 163/700\n",
            "6/6 [==============================] - 26s 1s/step - loss: 0.0020 - val_loss: 0.0020\n",
            "Epoch 164/700\n",
            "6/6 [==============================] - 26s 2s/step - loss: 0.0021 - val_loss: 0.0021\n",
            "Epoch 165/700\n",
            "6/6 [==============================] - 26s 1s/step - loss: 0.0021 - val_loss: 0.0019\n",
            "Epoch 166/700\n",
            "6/6 [==============================] - 26s 2s/step - loss: 0.0021 - val_loss: 0.0021\n",
            "Epoch 167/700\n",
            "6/6 [==============================] - 26s 1s/step - loss: 0.0021 - val_loss: 0.0020\n",
            "Epoch 168/700\n",
            "6/6 [==============================] - 26s 1s/step - loss: 0.0021 - val_loss: 0.0021\n",
            "Epoch 169/700\n",
            "6/6 [==============================] - 26s 1s/step - loss: 0.0020 - val_loss: 0.0020\n",
            "Epoch 170/700\n",
            "6/6 [==============================] - 26s 1s/step - loss: 0.0020 - val_loss: 0.0020\n",
            "Epoch 171/700\n",
            "6/6 [==============================] - 26s 2s/step - loss: 0.0021 - val_loss: 0.0019\n",
            "Epoch 172/700\n",
            "6/6 [==============================] - 26s 1s/step - loss: 0.0021 - val_loss: 0.0021\n",
            "Epoch 173/700\n",
            "6/6 [==============================] - 26s 1s/step - loss: 0.0021 - val_loss: 0.0020\n",
            "Epoch 174/700\n",
            "6/6 [==============================] - 26s 1s/step - loss: 0.0019 - val_loss: 0.0020\n",
            "Epoch 175/700\n",
            "6/6 [==============================] - 26s 2s/step - loss: 0.0021 - val_loss: 0.0019\n",
            "Epoch 176/700\n",
            "6/6 [==============================] - 26s 1s/step - loss: 0.0021 - val_loss: 0.0019\n",
            "Epoch 177/700\n",
            "6/6 [==============================] - 26s 1s/step - loss: 0.0021 - val_loss: 0.0019\n",
            "Epoch 178/700\n",
            "6/6 [==============================] - 26s 1s/step - loss: 0.0020 - val_loss: 0.0019\n",
            "Epoch 179/700\n",
            "6/6 [==============================] - 26s 1s/step - loss: 0.0020 - val_loss: 0.0022\n",
            "Epoch 180/700\n",
            "6/6 [==============================] - 26s 1s/step - loss: 0.0020 - val_loss: 0.0020\n",
            "Epoch 181/700\n",
            "6/6 [==============================] - 26s 1s/step - loss: 0.0020 - val_loss: 0.0019\n",
            "Epoch 182/700\n",
            "6/6 [==============================] - 26s 1s/step - loss: 0.0021 - val_loss: 0.0019\n",
            "Epoch 183/700\n",
            "6/6 [==============================] - 26s 1s/step - loss: 0.0020 - val_loss: 0.0021\n",
            "Epoch 184/700\n",
            "6/6 [==============================] - 26s 1s/step - loss: 0.0020 - val_loss: 0.0019\n",
            "Epoch 185/700\n",
            "6/6 [==============================] - 26s 1s/step - loss: 0.0020 - val_loss: 0.0019\n",
            "Epoch 186/700\n",
            "6/6 [==============================] - 26s 1s/step - loss: 0.0020 - val_loss: 0.0020\n",
            "Epoch 187/700\n",
            "6/6 [==============================] - 26s 1s/step - loss: 0.0020 - val_loss: 0.0019\n",
            "Epoch 188/700\n",
            "6/6 [==============================] - 25s 1s/step - loss: 0.0020 - val_loss: 0.0020\n",
            "Epoch 189/700\n",
            "6/6 [==============================] - 26s 1s/step - loss: 0.0020 - val_loss: 0.0021\n",
            "Epoch 190/700\n",
            "6/6 [==============================] - 26s 1s/step - loss: 0.0020 - val_loss: 0.0019\n",
            "Epoch 191/700\n",
            "6/6 [==============================] - 26s 2s/step - loss: 0.0019 - val_loss: 0.0019\n",
            "Epoch 192/700\n",
            "6/6 [==============================] - 26s 1s/step - loss: 0.0020 - val_loss: 0.0022\n",
            "Epoch 193/700\n",
            "6/6 [==============================] - 26s 1s/step - loss: 0.0020 - val_loss: 0.0019\n",
            "Epoch 194/700\n",
            "6/6 [==============================] - 26s 1s/step - loss: 0.0020 - val_loss: 0.0019\n",
            "Epoch 195/700\n",
            "6/6 [==============================] - 26s 1s/step - loss: 0.0020 - val_loss: 0.0021\n",
            "Epoch 196/700\n",
            "6/6 [==============================] - 26s 1s/step - loss: 0.0020 - val_loss: 0.0021\n",
            "Epoch 197/700\n",
            "6/6 [==============================] - 26s 1s/step - loss: 0.0020 - val_loss: 0.0019\n",
            "Epoch 198/700\n",
            "6/6 [==============================] - 26s 1s/step - loss: 0.0020 - val_loss: 0.0019\n",
            "Epoch 199/700\n",
            "6/6 [==============================] - 26s 1s/step - loss: 0.0020 - val_loss: 0.0018\n",
            "Epoch 200/700\n",
            "6/6 [==============================] - 26s 2s/step - loss: 0.0019 - val_loss: 0.0020\n",
            "Epoch 201/700\n",
            "6/6 [==============================] - 26s 1s/step - loss: 0.0019 - val_loss: 0.0020\n",
            "Epoch 202/700\n",
            "6/6 [==============================] - 26s 1s/step - loss: 0.0019 - val_loss: 0.0021\n",
            "Epoch 203/700\n",
            "6/6 [==============================] - 26s 1s/step - loss: 0.0020 - val_loss: 0.0019\n",
            "Epoch 204/700\n",
            "6/6 [==============================] - 26s 2s/step - loss: 0.0020 - val_loss: 0.0020\n",
            "Epoch 205/700\n",
            "6/6 [==============================] - 26s 1s/step - loss: 0.0019 - val_loss: 0.0018\n",
            "Epoch 206/700\n",
            "6/6 [==============================] - 26s 1s/step - loss: 0.0019 - val_loss: 0.0020\n",
            "Epoch 207/700\n",
            "6/6 [==============================] - 26s 2s/step - loss: 0.0019 - val_loss: 0.0019\n",
            "Epoch 208/700\n",
            "6/6 [==============================] - 26s 1s/step - loss: 0.0020 - val_loss: 0.0019\n",
            "Epoch 209/700\n",
            "6/6 [==============================] - 26s 1s/step - loss: 0.0020 - val_loss: 0.0019\n",
            "Epoch 210/700\n",
            "6/6 [==============================] - 26s 2s/step - loss: 0.0019 - val_loss: 0.0018\n",
            "Epoch 211/700\n",
            "6/6 [==============================] - 25s 1s/step - loss: 0.0019 - val_loss: 0.0018\n",
            "Epoch 212/700\n",
            "6/6 [==============================] - 26s 1s/step - loss: 0.0021 - val_loss: 0.0019\n",
            "Epoch 213/700\n",
            "6/6 [==============================] - 25s 1s/step - loss: 0.0019 - val_loss: 0.0019\n",
            "Epoch 214/700\n",
            "6/6 [==============================] - 26s 1s/step - loss: 0.0020 - val_loss: 0.0019\n",
            "Epoch 215/700\n",
            "6/6 [==============================] - 26s 1s/step - loss: 0.0020 - val_loss: 0.0017\n",
            "Epoch 216/700\n",
            "6/6 [==============================] - 25s 2s/step - loss: 0.0019 - val_loss: 0.0018\n",
            "Epoch 217/700\n",
            "6/6 [==============================] - 26s 1s/step - loss: 0.0019 - val_loss: 0.0019\n",
            "Epoch 218/700\n",
            "6/6 [==============================] - 26s 1s/step - loss: 0.0020 - val_loss: 0.0019\n",
            "Epoch 219/700\n",
            "6/6 [==============================] - 25s 1s/step - loss: 0.0019 - val_loss: 0.0020\n",
            "Epoch 220/700\n",
            "6/6 [==============================] - 26s 1s/step - loss: 0.0018 - val_loss: 0.0017\n",
            "Epoch 221/700\n",
            "6/6 [==============================] - 26s 2s/step - loss: 0.0019 - val_loss: 0.0019\n",
            "Epoch 222/700\n",
            "6/6 [==============================] - 26s 1s/step - loss: 0.0018 - val_loss: 0.0018\n",
            "Epoch 223/700\n",
            "6/6 [==============================] - 26s 1s/step - loss: 0.0019 - val_loss: 0.0019\n",
            "Epoch 224/700\n",
            "6/6 [==============================] - 26s 1s/step - loss: 0.0019 - val_loss: 0.0021\n",
            "Epoch 225/700\n",
            "6/6 [==============================] - 26s 1s/step - loss: 0.0019 - val_loss: 0.0018\n",
            "Epoch 226/700\n",
            "6/6 [==============================] - 26s 1s/step - loss: 0.0019 - val_loss: 0.0018\n",
            "Epoch 227/700\n",
            "6/6 [==============================] - 26s 1s/step - loss: 0.0019 - val_loss: 0.0020\n",
            "Epoch 228/700\n",
            "6/6 [==============================] - 26s 2s/step - loss: 0.0019 - val_loss: 0.0017\n",
            "Epoch 229/700\n",
            "6/6 [==============================] - 25s 1s/step - loss: 0.0020 - val_loss: 0.0019\n",
            "Epoch 230/700\n",
            "6/6 [==============================] - 26s 1s/step - loss: 0.0019 - val_loss: 0.0017\n",
            "Epoch 231/700\n",
            "6/6 [==============================] - 26s 1s/step - loss: 0.0019 - val_loss: 0.0019\n",
            "Epoch 232/700\n",
            "6/6 [==============================] - 25s 1s/step - loss: 0.0018 - val_loss: 0.0019\n",
            "Epoch 233/700\n",
            "6/6 [==============================] - 26s 1s/step - loss: 0.0019 - val_loss: 0.0020\n",
            "Epoch 234/700\n",
            "6/6 [==============================] - 26s 1s/step - loss: 0.0020 - val_loss: 0.0018\n",
            "Epoch 235/700\n",
            "6/6 [==============================] - 25s 1s/step - loss: 0.0019 - val_loss: 0.0019\n",
            "Epoch 236/700\n",
            "6/6 [==============================] - 25s 1s/step - loss: 0.0018 - val_loss: 0.0019\n",
            "Epoch 237/700\n",
            "6/6 [==============================] - 25s 1s/step - loss: 0.0018 - val_loss: 0.0017\n",
            "Epoch 238/700\n",
            "6/6 [==============================] - 25s 1s/step - loss: 0.0019 - val_loss: 0.0020\n",
            "Epoch 239/700\n",
            "6/6 [==============================] - 25s 1s/step - loss: 0.0019 - val_loss: 0.0020\n",
            "Epoch 240/700\n",
            "6/6 [==============================] - 25s 1s/step - loss: 0.0019 - val_loss: 0.0019\n",
            "Epoch 241/700\n",
            "6/6 [==============================] - 25s 1s/step - loss: 0.0018 - val_loss: 0.0019\n",
            "Epoch 242/700\n",
            "6/6 [==============================] - 25s 1s/step - loss: 0.0019 - val_loss: 0.0017\n",
            "Epoch 243/700\n",
            "6/6 [==============================] - 25s 1s/step - loss: 0.0019 - val_loss: 0.0020\n",
            "Epoch 244/700\n",
            "6/6 [==============================] - 25s 1s/step - loss: 0.0019 - val_loss: 0.0019\n",
            "Epoch 245/700\n",
            "6/6 [==============================] - 25s 1s/step - loss: 0.0019 - val_loss: 0.0018\n",
            "Epoch 246/700\n",
            "6/6 [==============================] - 25s 1s/step - loss: 0.0018 - val_loss: 0.0018\n",
            "Epoch 247/700\n",
            "6/6 [==============================] - 25s 1s/step - loss: 0.0019 - val_loss: 0.0019\n",
            "Epoch 248/700\n",
            "6/6 [==============================] - 25s 1s/step - loss: 0.0019 - val_loss: 0.0016\n",
            "Epoch 249/700\n",
            "6/6 [==============================] - 25s 1s/step - loss: 0.0018 - val_loss: 0.0018\n",
            "Epoch 250/700\n",
            "6/6 [==============================] - 25s 1s/step - loss: 0.0018 - val_loss: 0.0020\n",
            "Epoch 251/700\n",
            "6/6 [==============================] - 25s 1s/step - loss: 0.0018 - val_loss: 0.0019\n",
            "Epoch 252/700\n",
            "6/6 [==============================] - 25s 1s/step - loss: 0.0018 - val_loss: 0.0020\n",
            "Epoch 253/700\n",
            "6/6 [==============================] - 25s 1s/step - loss: 0.0018 - val_loss: 0.0018\n",
            "Epoch 254/700\n",
            "6/6 [==============================] - 25s 1s/step - loss: 0.0019 - val_loss: 0.0017\n",
            "Epoch 255/700\n",
            "6/6 [==============================] - 25s 1s/step - loss: 0.0019 - val_loss: 0.0018\n",
            "Epoch 256/700\n",
            "6/6 [==============================] - 25s 1s/step - loss: 0.0018 - val_loss: 0.0019\n",
            "Epoch 257/700\n",
            "6/6 [==============================] - 25s 1s/step - loss: 0.0018 - val_loss: 0.0019\n",
            "Epoch 258/700\n",
            "6/6 [==============================] - 25s 1s/step - loss: 0.0019 - val_loss: 0.0018\n",
            "Epoch 259/700\n",
            "6/6 [==============================] - 25s 1s/step - loss: 0.0019 - val_loss: 0.0017\n",
            "Epoch 260/700\n",
            "6/6 [==============================] - 25s 1s/step - loss: 0.0018 - val_loss: 0.0019\n",
            "Epoch 261/700\n",
            "6/6 [==============================] - 25s 1s/step - loss: 0.0018 - val_loss: 0.0020\n",
            "Epoch 262/700\n",
            "6/6 [==============================] - 25s 1s/step - loss: 0.0018 - val_loss: 0.0019\n",
            "Epoch 263/700\n",
            "6/6 [==============================] - 25s 1s/step - loss: 0.0019 - val_loss: 0.0019\n",
            "Epoch 264/700\n",
            "6/6 [==============================] - 25s 1s/step - loss: 0.0019 - val_loss: 0.0018\n",
            "Epoch 265/700\n",
            "6/6 [==============================] - 25s 1s/step - loss: 0.0018 - val_loss: 0.0019\n",
            "Epoch 266/700\n",
            "6/6 [==============================] - 25s 1s/step - loss: 0.0018 - val_loss: 0.0018\n",
            "Epoch 267/700\n",
            "6/6 [==============================] - 25s 1s/step - loss: 0.0018 - val_loss: 0.0019\n",
            "Epoch 268/700\n",
            "6/6 [==============================] - 25s 1s/step - loss: 0.0019 - val_loss: 0.0018\n",
            "Epoch 269/700\n",
            "6/6 [==============================] - 25s 1s/step - loss: 0.0018 - val_loss: 0.0018\n",
            "Epoch 270/700\n",
            "6/6 [==============================] - 25s 1s/step - loss: 0.0018 - val_loss: 0.0017\n",
            "Epoch 271/700\n",
            "6/6 [==============================] - 25s 1s/step - loss: 0.0017 - val_loss: 0.0019\n",
            "Epoch 272/700\n",
            "6/6 [==============================] - 25s 1s/step - loss: 0.0018 - val_loss: 0.0018\n",
            "Epoch 273/700\n",
            "6/6 [==============================] - 25s 1s/step - loss: 0.0018 - val_loss: 0.0019\n",
            "Epoch 274/700\n",
            "6/6 [==============================] - 25s 1s/step - loss: 0.0018 - val_loss: 0.0018\n",
            "Epoch 275/700\n",
            "6/6 [==============================] - 25s 1s/step - loss: 0.0019 - val_loss: 0.0016\n",
            "Epoch 276/700\n",
            "6/6 [==============================] - 25s 1s/step - loss: 0.0018 - val_loss: 0.0018\n",
            "Epoch 277/700\n",
            "6/6 [==============================] - 25s 1s/step - loss: 0.0018 - val_loss: 0.0018\n",
            "Epoch 278/700\n",
            "6/6 [==============================] - 25s 1s/step - loss: 0.0018 - val_loss: 0.0018\n",
            "Epoch 279/700\n",
            "6/6 [==============================] - 25s 1s/step - loss: 0.0019 - val_loss: 0.0017\n",
            "Epoch 280/700\n",
            "6/6 [==============================] - 25s 1s/step - loss: 0.0019 - val_loss: 0.0018\n",
            "Epoch 281/700\n",
            "6/6 [==============================] - 25s 1s/step - loss: 0.0018 - val_loss: 0.0020\n",
            "Epoch 282/700\n",
            "6/6 [==============================] - 25s 1s/step - loss: 0.0018 - val_loss: 0.0019\n",
            "Epoch 283/700\n",
            "6/6 [==============================] - 25s 1s/step - loss: 0.0019 - val_loss: 0.0019\n",
            "Epoch 284/700\n",
            "6/6 [==============================] - 25s 1s/step - loss: 0.0018 - val_loss: 0.0019\n",
            "Epoch 285/700\n",
            "6/6 [==============================] - 25s 1s/step - loss: 0.0018 - val_loss: 0.0017\n",
            "Epoch 286/700\n",
            "6/6 [==============================] - 25s 1s/step - loss: 0.0018 - val_loss: 0.0017\n",
            "Epoch 287/700\n",
            "6/6 [==============================] - 25s 1s/step - loss: 0.0018 - val_loss: 0.0020\n",
            "Epoch 288/700\n",
            "6/6 [==============================] - 25s 1s/step - loss: 0.0017 - val_loss: 0.0019\n",
            "Epoch 289/700\n",
            "6/6 [==============================] - 25s 1s/step - loss: 0.0018 - val_loss: 0.0018\n",
            "Epoch 290/700\n",
            "6/6 [==============================] - 25s 1s/step - loss: 0.0018 - val_loss: 0.0020\n",
            "Epoch 291/700\n",
            "6/6 [==============================] - 25s 1s/step - loss: 0.0019 - val_loss: 0.0019\n",
            "Epoch 292/700\n",
            "6/6 [==============================] - 25s 1s/step - loss: 0.0018 - val_loss: 0.0017\n",
            "Epoch 293/700\n",
            "6/6 [==============================] - 25s 1s/step - loss: 0.0019 - val_loss: 0.0017\n",
            "Epoch 294/700\n",
            "6/6 [==============================] - 25s 1s/step - loss: 0.0018 - val_loss: 0.0016\n",
            "Epoch 295/700\n",
            "6/6 [==============================] - 25s 1s/step - loss: 0.0018 - val_loss: 0.0016\n",
            "Epoch 296/700\n",
            "6/6 [==============================] - 25s 1s/step - loss: 0.0018 - val_loss: 0.0017\n",
            "Epoch 297/700\n",
            "6/6 [==============================] - 25s 1s/step - loss: 0.0018 - val_loss: 0.0018\n",
            "Epoch 298/700\n",
            "6/6 [==============================] - 25s 1s/step - loss: 0.0018 - val_loss: 0.0016\n",
            "Epoch 299/700\n",
            "6/6 [==============================] - 25s 1s/step - loss: 0.0017 - val_loss: 0.0019\n",
            "Epoch 300/700\n",
            "6/6 [==============================] - 25s 1s/step - loss: 0.0018 - val_loss: 0.0016\n",
            "Epoch 301/700\n",
            "6/6 [==============================] - 25s 1s/step - loss: 0.0018 - val_loss: 0.0019\n",
            "Epoch 302/700\n",
            "6/6 [==============================] - 25s 1s/step - loss: 0.0018 - val_loss: 0.0016\n",
            "Epoch 303/700\n",
            "6/6 [==============================] - 25s 1s/step - loss: 0.0018 - val_loss: 0.0017\n",
            "Epoch 304/700\n",
            "6/6 [==============================] - 25s 1s/step - loss: 0.0018 - val_loss: 0.0018\n",
            "Epoch 305/700\n",
            "6/6 [==============================] - 25s 1s/step - loss: 0.0018 - val_loss: 0.0017\n",
            "Epoch 306/700\n",
            "6/6 [==============================] - 25s 1s/step - loss: 0.0018 - val_loss: 0.0018\n",
            "Epoch 307/700\n",
            "6/6 [==============================] - 25s 1s/step - loss: 0.0017 - val_loss: 0.0018\n",
            "Epoch 308/700\n",
            "6/6 [==============================] - 25s 1s/step - loss: 0.0018 - val_loss: 0.0017\n",
            "Epoch 309/700\n",
            "6/6 [==============================] - 25s 1s/step - loss: 0.0018 - val_loss: 0.0017\n",
            "Epoch 310/700\n",
            "6/6 [==============================] - 25s 1s/step - loss: 0.0018 - val_loss: 0.0018\n",
            "Epoch 311/700\n",
            "6/6 [==============================] - 25s 1s/step - loss: 0.0018 - val_loss: 0.0019\n",
            "Epoch 312/700\n",
            "6/6 [==============================] - 25s 1s/step - loss: 0.0019 - val_loss: 0.0018\n",
            "Epoch 313/700\n",
            "6/6 [==============================] - 25s 1s/step - loss: 0.0017 - val_loss: 0.0018\n",
            "Epoch 314/700\n",
            "6/6 [==============================] - 25s 1s/step - loss: 0.0018 - val_loss: 0.0017\n",
            "Epoch 315/700\n",
            "6/6 [==============================] - 25s 1s/step - loss: 0.0017 - val_loss: 0.0017\n",
            "Epoch 316/700\n",
            "6/6 [==============================] - 25s 1s/step - loss: 0.0017 - val_loss: 0.0019\n",
            "Epoch 317/700\n",
            "6/6 [==============================] - 25s 1s/step - loss: 0.0017 - val_loss: 0.0017\n",
            "Epoch 318/700\n",
            "6/6 [==============================] - 25s 1s/step - loss: 0.0018 - val_loss: 0.0018\n",
            "Epoch 319/700\n",
            "6/6 [==============================] - 25s 1s/step - loss: 0.0019 - val_loss: 0.0019\n",
            "Epoch 320/700\n",
            "6/6 [==============================] - 25s 1s/step - loss: 0.0018 - val_loss: 0.0018\n",
            "Epoch 321/700\n",
            "6/6 [==============================] - 25s 1s/step - loss: 0.0018 - val_loss: 0.0018\n",
            "Epoch 322/700\n",
            "6/6 [==============================] - 25s 2s/step - loss: 0.0018 - val_loss: 0.0016\n",
            "Epoch 323/700\n",
            "6/6 [==============================] - 25s 1s/step - loss: 0.0018 - val_loss: 0.0017\n",
            "Epoch 324/700\n",
            "6/6 [==============================] - 25s 1s/step - loss: 0.0017 - val_loss: 0.0017\n",
            "Epoch 325/700\n",
            "6/6 [==============================] - 26s 1s/step - loss: 0.0018 - val_loss: 0.0017\n",
            "Epoch 326/700\n",
            "6/6 [==============================] - 26s 1s/step - loss: 0.0018 - val_loss: 0.0017\n",
            "Epoch 327/700\n",
            "6/6 [==============================] - 26s 2s/step - loss: 0.0018 - val_loss: 0.0018\n",
            "Epoch 328/700\n",
            "6/6 [==============================] - 26s 1s/step - loss: 0.0018 - val_loss: 0.0018\n",
            "Epoch 329/700\n",
            "6/6 [==============================] - 25s 1s/step - loss: 0.0017 - val_loss: 0.0019\n",
            "Epoch 330/700\n",
            "6/6 [==============================] - 26s 1s/step - loss: 0.0017 - val_loss: 0.0018\n",
            "Epoch 331/700\n",
            "6/6 [==============================] - 26s 1s/step - loss: 0.0018 - val_loss: 0.0018\n",
            "Epoch 332/700\n",
            "6/6 [==============================] - 26s 1s/step - loss: 0.0017 - val_loss: 0.0015\n",
            "Epoch 333/700\n",
            "6/6 [==============================] - 26s 2s/step - loss: 0.0017 - val_loss: 0.0017\n",
            "Epoch 334/700\n",
            "6/6 [==============================] - 26s 2s/step - loss: 0.0018 - val_loss: 0.0016\n",
            "Epoch 335/700\n",
            "6/6 [==============================] - 26s 1s/step - loss: 0.0018 - val_loss: 0.0019\n",
            "Epoch 336/700\n",
            "6/6 [==============================] - 26s 2s/step - loss: 0.0016 - val_loss: 0.0018\n",
            "Epoch 337/700\n",
            "6/6 [==============================] - 26s 1s/step - loss: 0.0018 - val_loss: 0.0017\n",
            "Epoch 338/700\n",
            "6/6 [==============================] - 26s 1s/step - loss: 0.0017 - val_loss: 0.0019\n",
            "Epoch 339/700\n",
            "6/6 [==============================] - 26s 1s/step - loss: 0.0017 - val_loss: 0.0018\n",
            "Epoch 340/700\n",
            "6/6 [==============================] - 26s 1s/step - loss: 0.0017 - val_loss: 0.0017\n",
            "Epoch 341/700\n",
            "6/6 [==============================] - 26s 1s/step - loss: 0.0018 - val_loss: 0.0018\n",
            "Epoch 342/700\n",
            "6/6 [==============================] - 25s 2s/step - loss: 0.0018 - val_loss: 0.0018\n",
            "Epoch 343/700\n",
            "6/6 [==============================] - 26s 1s/step - loss: 0.0018 - val_loss: 0.0018\n",
            "Epoch 344/700\n",
            "6/6 [==============================] - 26s 1s/step - loss: 0.0018 - val_loss: 0.0018\n",
            "Epoch 345/700\n",
            "6/6 [==============================] - 26s 1s/step - loss: 0.0018 - val_loss: 0.0018\n",
            "Epoch 346/700\n",
            "6/6 [==============================] - 26s 1s/step - loss: 0.0017 - val_loss: 0.0018\n",
            "Epoch 347/700\n",
            "6/6 [==============================] - 25s 1s/step - loss: 0.0018 - val_loss: 0.0017\n",
            "Epoch 348/700\n",
            "6/6 [==============================] - 25s 1s/step - loss: 0.0017 - val_loss: 0.0017\n",
            "Epoch 349/700\n",
            "6/6 [==============================] - 25s 1s/step - loss: 0.0018 - val_loss: 0.0018\n",
            "Epoch 350/700\n",
            "6/6 [==============================] - 26s 1s/step - loss: 0.0017 - val_loss: 0.0016\n",
            "Epoch 351/700\n",
            "6/6 [==============================] - 25s 1s/step - loss: 0.0017 - val_loss: 0.0017\n",
            "Epoch 352/700\n",
            "6/6 [==============================] - 25s 2s/step - loss: 0.0017 - val_loss: 0.0018\n",
            "Epoch 353/700\n",
            "6/6 [==============================] - 26s 1s/step - loss: 0.0018 - val_loss: 0.0016\n",
            "Epoch 354/700\n",
            "6/6 [==============================] - 25s 1s/step - loss: 0.0017 - val_loss: 0.0018\n",
            "Epoch 355/700\n",
            "6/6 [==============================] - 25s 1s/step - loss: 0.0017 - val_loss: 0.0017\n",
            "Epoch 356/700\n",
            "6/6 [==============================] - 26s 1s/step - loss: 0.0016 - val_loss: 0.0018\n",
            "Epoch 357/700\n",
            "6/6 [==============================] - 26s 1s/step - loss: 0.0018 - val_loss: 0.0016\n",
            "Epoch 358/700\n",
            "6/6 [==============================] - 26s 1s/step - loss: 0.0018 - val_loss: 0.0019\n",
            "Epoch 359/700\n",
            "6/6 [==============================] - 26s 1s/step - loss: 0.0018 - val_loss: 0.0019\n",
            "Epoch 360/700\n",
            "6/6 [==============================] - 25s 1s/step - loss: 0.0016 - val_loss: 0.0016\n",
            "Epoch 361/700\n",
            "6/6 [==============================] - 25s 2s/step - loss: 0.0017 - val_loss: 0.0017\n",
            "Epoch 362/700\n",
            "6/6 [==============================] - 26s 1s/step - loss: 0.0017 - val_loss: 0.0016\n",
            "Epoch 363/700\n",
            "6/6 [==============================] - 26s 1s/step - loss: 0.0017 - val_loss: 0.0017\n",
            "Epoch 364/700\n",
            "6/6 [==============================] - 26s 2s/step - loss: 0.0018 - val_loss: 0.0019\n",
            "Epoch 365/700\n",
            "6/6 [==============================] - 26s 1s/step - loss: 0.0017 - val_loss: 0.0017\n",
            "Epoch 366/700\n",
            "6/6 [==============================] - 26s 1s/step - loss: 0.0017 - val_loss: 0.0016\n",
            "Epoch 367/700\n",
            "6/6 [==============================] - 26s 1s/step - loss: 0.0018 - val_loss: 0.0018\n",
            "Epoch 368/700\n",
            "6/6 [==============================] - 26s 1s/step - loss: 0.0017 - val_loss: 0.0016\n",
            "Epoch 369/700\n",
            "6/6 [==============================] - 26s 2s/step - loss: 0.0017 - val_loss: 0.0017\n",
            "Epoch 370/700\n",
            "6/6 [==============================] - 25s 1s/step - loss: 0.0017 - val_loss: 0.0018\n",
            "Epoch 371/700\n",
            "6/6 [==============================] - 26s 2s/step - loss: 0.0018 - val_loss: 0.0017\n",
            "Epoch 372/700\n",
            "6/6 [==============================] - 26s 1s/step - loss: 0.0018 - val_loss: 0.0016\n",
            "Epoch 373/700\n",
            "6/6 [==============================] - 26s 1s/step - loss: 0.0018 - val_loss: 0.0018\n",
            "Epoch 374/700\n",
            "6/6 [==============================] - 25s 1s/step - loss: 0.0018 - val_loss: 0.0016\n",
            "Epoch 375/700\n",
            "6/6 [==============================] - 26s 1s/step - loss: 0.0017 - val_loss: 0.0016\n",
            "Epoch 376/700\n",
            "6/6 [==============================] - 25s 1s/step - loss: 0.0017 - val_loss: 0.0015\n",
            "Epoch 377/700\n",
            "6/6 [==============================] - 26s 1s/step - loss: 0.0018 - val_loss: 0.0017\n",
            "Epoch 378/700\n",
            "6/6 [==============================] - 26s 1s/step - loss: 0.0017 - val_loss: 0.0017\n",
            "Epoch 379/700\n",
            "6/6 [==============================] - 25s 1s/step - loss: 0.0018 - val_loss: 0.0017\n",
            "Epoch 380/700\n",
            "6/6 [==============================] - 26s 1s/step - loss: 0.0017 - val_loss: 0.0017\n",
            "Epoch 381/700\n",
            "6/6 [==============================] - 26s 1s/step - loss: 0.0017 - val_loss: 0.0016\n",
            "Epoch 382/700\n",
            "6/6 [==============================] - 26s 1s/step - loss: 0.0017 - val_loss: 0.0018\n",
            "Epoch 383/700\n",
            "6/6 [==============================] - 26s 1s/step - loss: 0.0017 - val_loss: 0.0017\n",
            "Epoch 384/700\n",
            "6/6 [==============================] - 26s 1s/step - loss: 0.0018 - val_loss: 0.0018\n",
            "Epoch 385/700\n",
            "6/6 [==============================] - 26s 1s/step - loss: 0.0018 - val_loss: 0.0018\n",
            "Epoch 386/700\n",
            "6/6 [==============================] - 25s 1s/step - loss: 0.0018 - val_loss: 0.0017\n",
            "Epoch 387/700\n",
            "6/6 [==============================] - 25s 1s/step - loss: 0.0018 - val_loss: 0.0019\n",
            "Epoch 388/700\n",
            "6/6 [==============================] - 25s 1s/step - loss: 0.0017 - val_loss: 0.0018\n",
            "Epoch 389/700\n",
            "6/6 [==============================] - 25s 1s/step - loss: 0.0018 - val_loss: 0.0016\n",
            "Epoch 390/700\n",
            "6/6 [==============================] - 25s 1s/step - loss: 0.0017 - val_loss: 0.0018\n",
            "Epoch 391/700\n",
            "6/6 [==============================] - 25s 1s/step - loss: 0.0018 - val_loss: 0.0015\n",
            "Epoch 392/700\n",
            "6/6 [==============================] - 25s 1s/step - loss: 0.0018 - val_loss: 0.0016\n",
            "Epoch 393/700\n",
            "6/6 [==============================] - 25s 1s/step - loss: 0.0017 - val_loss: 0.0017\n",
            "Epoch 394/700\n",
            "6/6 [==============================] - 25s 1s/step - loss: 0.0017 - val_loss: 0.0017\n",
            "Epoch 395/700\n",
            "6/6 [==============================] - 25s 1s/step - loss: 0.0017 - val_loss: 0.0019\n",
            "Epoch 396/700\n",
            "6/6 [==============================] - 25s 1s/step - loss: 0.0017 - val_loss: 0.0017\n",
            "Epoch 397/700\n",
            "6/6 [==============================] - 25s 1s/step - loss: 0.0017 - val_loss: 0.0017\n",
            "Epoch 398/700\n",
            "6/6 [==============================] - 25s 1s/step - loss: 0.0017 - val_loss: 0.0017\n",
            "Epoch 399/700\n",
            "6/6 [==============================] - 25s 1s/step - loss: 0.0018 - val_loss: 0.0016\n",
            "Epoch 400/700\n",
            "6/6 [==============================] - 25s 1s/step - loss: 0.0018 - val_loss: 0.0018\n",
            "Epoch 401/700\n",
            "6/6 [==============================] - 25s 1s/step - loss: 0.0017 - val_loss: 0.0018\n",
            "Epoch 402/700\n",
            "6/6 [==============================] - 25s 1s/step - loss: 0.0017 - val_loss: 0.0016\n",
            "Epoch 403/700\n",
            "6/6 [==============================] - 25s 1s/step - loss: 0.0016 - val_loss: 0.0017\n",
            "Epoch 404/700\n",
            "6/6 [==============================] - 25s 1s/step - loss: 0.0017 - val_loss: 0.0018\n",
            "Epoch 405/700\n",
            "6/6 [==============================] - 25s 1s/step - loss: 0.0017 - val_loss: 0.0016\n",
            "Epoch 406/700\n",
            "6/6 [==============================] - 25s 1s/step - loss: 0.0017 - val_loss: 0.0016\n",
            "Epoch 407/700\n",
            "6/6 [==============================] - 25s 1s/step - loss: 0.0017 - val_loss: 0.0017\n",
            "Epoch 408/700\n",
            "6/6 [==============================] - 25s 1s/step - loss: 0.0017 - val_loss: 0.0018\n",
            "Epoch 409/700\n",
            "6/6 [==============================] - 25s 1s/step - loss: 0.0018 - val_loss: 0.0018\n",
            "Epoch 410/700\n",
            "6/6 [==============================] - 25s 1s/step - loss: 0.0017 - val_loss: 0.0016\n",
            "Epoch 411/700\n",
            "6/6 [==============================] - 25s 1s/step - loss: 0.0017 - val_loss: 0.0015\n",
            "Epoch 412/700\n",
            "6/6 [==============================] - 25s 1s/step - loss: 0.0017 - val_loss: 0.0018\n",
            "Epoch 413/700\n",
            "6/6 [==============================] - 25s 1s/step - loss: 0.0017 - val_loss: 0.0016\n",
            "Epoch 414/700\n",
            "6/6 [==============================] - 25s 1s/step - loss: 0.0017 - val_loss: 0.0018\n",
            "Epoch 415/700\n",
            "6/6 [==============================] - 25s 1s/step - loss: 0.0017 - val_loss: 0.0017\n",
            "Epoch 416/700\n",
            "6/6 [==============================] - 25s 1s/step - loss: 0.0017 - val_loss: 0.0016\n",
            "Epoch 417/700\n",
            "6/6 [==============================] - 25s 1s/step - loss: 0.0018 - val_loss: 0.0017\n",
            "Epoch 418/700\n",
            "6/6 [==============================] - 25s 1s/step - loss: 0.0017 - val_loss: 0.0017\n",
            "Epoch 419/700\n",
            "6/6 [==============================] - 25s 1s/step - loss: 0.0017 - val_loss: 0.0016\n",
            "Epoch 420/700\n",
            "6/6 [==============================] - 25s 1s/step - loss: 0.0017 - val_loss: 0.0018\n",
            "Epoch 421/700\n",
            "6/6 [==============================] - 25s 1s/step - loss: 0.0017 - val_loss: 0.0016\n",
            "Epoch 422/700\n",
            "6/6 [==============================] - 25s 1s/step - loss: 0.0017 - val_loss: 0.0016\n",
            "Epoch 423/700\n",
            "6/6 [==============================] - 25s 1s/step - loss: 0.0016 - val_loss: 0.0016\n",
            "Epoch 424/700\n",
            "6/6 [==============================] - 25s 1s/step - loss: 0.0016 - val_loss: 0.0017\n",
            "Epoch 425/700\n",
            "6/6 [==============================] - 25s 1s/step - loss: 0.0017 - val_loss: 0.0018\n",
            "Epoch 426/700\n",
            "6/6 [==============================] - 25s 1s/step - loss: 0.0017 - val_loss: 0.0018\n",
            "Epoch 427/700\n",
            "6/6 [==============================] - 25s 1s/step - loss: 0.0016 - val_loss: 0.0016\n",
            "Epoch 428/700\n",
            "6/6 [==============================] - 25s 1s/step - loss: 0.0017 - val_loss: 0.0017\n",
            "Epoch 429/700\n",
            "6/6 [==============================] - 25s 1s/step - loss: 0.0017 - val_loss: 0.0015\n",
            "Epoch 430/700\n",
            "6/6 [==============================] - 25s 1s/step - loss: 0.0017 - val_loss: 0.0018\n",
            "Epoch 431/700\n",
            "6/6 [==============================] - 25s 1s/step - loss: 0.0017 - val_loss: 0.0017\n",
            "Epoch 432/700\n",
            "6/6 [==============================] - 25s 1s/step - loss: 0.0016 - val_loss: 0.0016\n",
            "Epoch 433/700\n",
            "6/6 [==============================] - 25s 1s/step - loss: 0.0017 - val_loss: 0.0017\n",
            "Epoch 434/700\n",
            "6/6 [==============================] - 25s 1s/step - loss: 0.0016 - val_loss: 0.0016\n",
            "Epoch 435/700\n",
            "6/6 [==============================] - 25s 1s/step - loss: 0.0017 - val_loss: 0.0019\n",
            "Epoch 436/700\n",
            "6/6 [==============================] - 25s 1s/step - loss: 0.0016 - val_loss: 0.0016\n",
            "Epoch 437/700\n",
            "6/6 [==============================] - 25s 1s/step - loss: 0.0017 - val_loss: 0.0018\n",
            "Epoch 438/700\n",
            "6/6 [==============================] - 25s 1s/step - loss: 0.0016 - val_loss: 0.0016\n",
            "Epoch 439/700\n",
            "6/6 [==============================] - 25s 1s/step - loss: 0.0017 - val_loss: 0.0017\n",
            "Epoch 440/700\n",
            "6/6 [==============================] - 25s 1s/step - loss: 0.0016 - val_loss: 0.0017\n",
            "Epoch 441/700\n",
            "6/6 [==============================] - 25s 1s/step - loss: 0.0017 - val_loss: 0.0018\n",
            "Epoch 442/700\n",
            "6/6 [==============================] - 25s 1s/step - loss: 0.0016 - val_loss: 0.0018\n",
            "Epoch 443/700\n",
            "6/6 [==============================] - 25s 1s/step - loss: 0.0017 - val_loss: 0.0017\n",
            "Epoch 444/700\n",
            "6/6 [==============================] - 25s 1s/step - loss: 0.0018 - val_loss: 0.0016\n",
            "Epoch 445/700\n",
            "6/6 [==============================] - 25s 1s/step - loss: 0.0017 - val_loss: 0.0017\n",
            "Epoch 446/700\n",
            "6/6 [==============================] - 25s 1s/step - loss: 0.0018 - val_loss: 0.0016\n",
            "Epoch 447/700\n",
            "6/6 [==============================] - 25s 1s/step - loss: 0.0017 - val_loss: 0.0016\n",
            "Epoch 448/700\n",
            "6/6 [==============================] - 25s 1s/step - loss: 0.0017 - val_loss: 0.0015\n",
            "Epoch 449/700\n",
            "6/6 [==============================] - 25s 1s/step - loss: 0.0017 - val_loss: 0.0015\n",
            "Epoch 450/700\n",
            "6/6 [==============================] - 25s 1s/step - loss: 0.0017 - val_loss: 0.0017\n",
            "Epoch 451/700\n",
            "6/6 [==============================] - 25s 1s/step - loss: 0.0017 - val_loss: 0.0016\n",
            "Epoch 452/700\n",
            "6/6 [==============================] - 25s 1s/step - loss: 0.0017 - val_loss: 0.0017\n",
            "Epoch 453/700\n",
            "6/6 [==============================] - 25s 1s/step - loss: 0.0017 - val_loss: 0.0016\n",
            "Epoch 454/700\n",
            "6/6 [==============================] - 25s 1s/step - loss: 0.0017 - val_loss: 0.0016\n",
            "Epoch 455/700\n",
            "6/6 [==============================] - 25s 1s/step - loss: 0.0017 - val_loss: 0.0018\n",
            "Epoch 456/700\n",
            "6/6 [==============================] - 25s 1s/step - loss: 0.0017 - val_loss: 0.0016\n",
            "Epoch 457/700\n",
            "6/6 [==============================] - 25s 1s/step - loss: 0.0017 - val_loss: 0.0016\n",
            "Epoch 458/700\n",
            "6/6 [==============================] - 25s 1s/step - loss: 0.0017 - val_loss: 0.0015\n",
            "Epoch 459/700\n",
            "6/6 [==============================] - 25s 1s/step - loss: 0.0017 - val_loss: 0.0016\n",
            "Epoch 460/700\n",
            "6/6 [==============================] - 25s 1s/step - loss: 0.0017 - val_loss: 0.0018\n",
            "Epoch 461/700\n",
            "6/6 [==============================] - 25s 1s/step - loss: 0.0017 - val_loss: 0.0017\n",
            "Epoch 462/700\n",
            "6/6 [==============================] - 25s 1s/step - loss: 0.0016 - val_loss: 0.0017\n",
            "Epoch 463/700\n",
            "6/6 [==============================] - 25s 1s/step - loss: 0.0018 - val_loss: 0.0018\n",
            "Epoch 464/700\n",
            "6/6 [==============================] - 25s 1s/step - loss: 0.0017 - val_loss: 0.0015\n",
            "Epoch 465/700\n",
            "6/6 [==============================] - 25s 1s/step - loss: 0.0018 - val_loss: 0.0016\n",
            "Epoch 466/700\n",
            "6/6 [==============================] - 25s 1s/step - loss: 0.0017 - val_loss: 0.0016\n",
            "Epoch 467/700\n",
            "6/6 [==============================] - 25s 1s/step - loss: 0.0017 - val_loss: 0.0015\n",
            "Epoch 468/700\n",
            "6/6 [==============================] - 25s 1s/step - loss: 0.0017 - val_loss: 0.0016\n",
            "Epoch 469/700\n",
            "6/6 [==============================] - 25s 1s/step - loss: 0.0017 - val_loss: 0.0017\n",
            "Epoch 470/700\n",
            "6/6 [==============================] - 25s 1s/step - loss: 0.0017 - val_loss: 0.0015\n",
            "Epoch 471/700\n",
            "6/6 [==============================] - 25s 1s/step - loss: 0.0017 - val_loss: 0.0015\n",
            "Epoch 472/700\n",
            "6/6 [==============================] - 25s 1s/step - loss: 0.0017 - val_loss: 0.0017\n",
            "Epoch 473/700\n",
            "6/6 [==============================] - 25s 1s/step - loss: 0.0018 - val_loss: 0.0017\n",
            "Epoch 474/700\n",
            "6/6 [==============================] - 25s 1s/step - loss: 0.0017 - val_loss: 0.0016\n",
            "Epoch 475/700\n",
            "6/6 [==============================] - 25s 1s/step - loss: 0.0017 - val_loss: 0.0017\n",
            "Epoch 476/700\n",
            "6/6 [==============================] - 25s 1s/step - loss: 0.0016 - val_loss: 0.0016\n",
            "Epoch 477/700\n",
            "6/6 [==============================] - 25s 1s/step - loss: 0.0017 - val_loss: 0.0017\n",
            "Epoch 478/700\n",
            "6/6 [==============================] - 25s 1s/step - loss: 0.0017 - val_loss: 0.0017\n",
            "Epoch 479/700\n",
            "6/6 [==============================] - 25s 1s/step - loss: 0.0016 - val_loss: 0.0016\n",
            "Epoch 480/700\n",
            "6/6 [==============================] - 25s 1s/step - loss: 0.0017 - val_loss: 0.0017\n",
            "Epoch 481/700\n",
            "6/6 [==============================] - 25s 1s/step - loss: 0.0017 - val_loss: 0.0016\n",
            "Epoch 482/700\n",
            "6/6 [==============================] - 25s 1s/step - loss: 0.0017 - val_loss: 0.0016\n",
            "Epoch 483/700\n",
            "6/6 [==============================] - 25s 1s/step - loss: 0.0017 - val_loss: 0.0016\n",
            "Epoch 484/700\n",
            "6/6 [==============================] - 25s 1s/step - loss: 0.0017 - val_loss: 0.0016\n",
            "Epoch 485/700\n",
            "6/6 [==============================] - 25s 1s/step - loss: 0.0016 - val_loss: 0.0016\n",
            "Epoch 486/700\n",
            "6/6 [==============================] - 25s 1s/step - loss: 0.0017 - val_loss: 0.0016\n",
            "Epoch 487/700\n",
            "6/6 [==============================] - 25s 1s/step - loss: 0.0016 - val_loss: 0.0017\n",
            "Epoch 488/700\n",
            "6/6 [==============================] - 25s 1s/step - loss: 0.0016 - val_loss: 0.0018\n",
            "Epoch 489/700\n",
            "6/6 [==============================] - 25s 1s/step - loss: 0.0018 - val_loss: 0.0017\n",
            "Epoch 490/700\n",
            "6/6 [==============================] - 25s 1s/step - loss: 0.0017 - val_loss: 0.0017\n",
            "Epoch 491/700\n",
            "6/6 [==============================] - 25s 1s/step - loss: 0.0017 - val_loss: 0.0016\n",
            "Epoch 492/700\n",
            "6/6 [==============================] - 25s 1s/step - loss: 0.0017 - val_loss: 0.0016\n",
            "Epoch 493/700\n",
            "6/6 [==============================] - 25s 1s/step - loss: 0.0018 - val_loss: 0.0017\n",
            "Epoch 494/700\n",
            "6/6 [==============================] - 25s 1s/step - loss: 0.0016 - val_loss: 0.0016\n",
            "Epoch 495/700\n",
            "6/6 [==============================] - 25s 1s/step - loss: 0.0016 - val_loss: 0.0017\n",
            "Epoch 496/700\n",
            "6/6 [==============================] - 25s 1s/step - loss: 0.0016 - val_loss: 0.0016\n",
            "Epoch 497/700\n",
            "6/6 [==============================] - 25s 1s/step - loss: 0.0016 - val_loss: 0.0014\n",
            "Epoch 498/700\n",
            "6/6 [==============================] - 25s 1s/step - loss: 0.0017 - val_loss: 0.0016\n",
            "Epoch 499/700\n",
            "6/6 [==============================] - 25s 1s/step - loss: 0.0017 - val_loss: 0.0015\n",
            "Epoch 500/700\n",
            "6/6 [==============================] - 25s 1s/step - loss: 0.0017 - val_loss: 0.0017\n",
            "Epoch 501/700\n",
            "6/6 [==============================] - 25s 1s/step - loss: 0.0017 - val_loss: 0.0016\n",
            "Epoch 502/700\n",
            "6/6 [==============================] - 25s 1s/step - loss: 0.0016 - val_loss: 0.0016\n",
            "Epoch 503/700\n",
            "6/6 [==============================] - 25s 1s/step - loss: 0.0017 - val_loss: 0.0016\n",
            "Epoch 504/700\n",
            "6/6 [==============================] - 25s 1s/step - loss: 0.0016 - val_loss: 0.0016\n",
            "Epoch 505/700\n",
            "6/6 [==============================] - 25s 1s/step - loss: 0.0017 - val_loss: 0.0017\n",
            "Epoch 506/700\n",
            "6/6 [==============================] - 25s 1s/step - loss: 0.0017 - val_loss: 0.0016\n",
            "Epoch 507/700\n",
            "6/6 [==============================] - 25s 1s/step - loss: 0.0016 - val_loss: 0.0014\n",
            "Epoch 508/700\n",
            "6/6 [==============================] - 25s 1s/step - loss: 0.0017 - val_loss: 0.0017\n",
            "Epoch 509/700\n",
            "6/6 [==============================] - 25s 1s/step - loss: 0.0017 - val_loss: 0.0017\n",
            "Epoch 510/700\n",
            "6/6 [==============================] - 25s 1s/step - loss: 0.0017 - val_loss: 0.0016\n",
            "Epoch 511/700\n",
            "6/6 [==============================] - 25s 1s/step - loss: 0.0017 - val_loss: 0.0015\n",
            "Epoch 512/700\n",
            "6/6 [==============================] - 25s 1s/step - loss: 0.0016 - val_loss: 0.0018\n",
            "Epoch 513/700\n",
            "6/6 [==============================] - 25s 1s/step - loss: 0.0017 - val_loss: 0.0017\n",
            "Epoch 514/700\n",
            "6/6 [==============================] - 25s 1s/step - loss: 0.0017 - val_loss: 0.0017\n",
            "Epoch 515/700\n",
            "6/6 [==============================] - 25s 1s/step - loss: 0.0017 - val_loss: 0.0017\n",
            "Epoch 516/700\n",
            "6/6 [==============================] - 25s 1s/step - loss: 0.0017 - val_loss: 0.0018\n",
            "Epoch 517/700\n",
            "6/6 [==============================] - 25s 1s/step - loss: 0.0017 - val_loss: 0.0015\n",
            "Epoch 518/700\n",
            "6/6 [==============================] - 25s 1s/step - loss: 0.0016 - val_loss: 0.0016\n",
            "Epoch 519/700\n",
            "6/6 [==============================] - 25s 1s/step - loss: 0.0018 - val_loss: 0.0016\n",
            "Epoch 520/700\n",
            "6/6 [==============================] - 25s 1s/step - loss: 0.0016 - val_loss: 0.0015\n",
            "Epoch 521/700\n",
            "6/6 [==============================] - 25s 1s/step - loss: 0.0017 - val_loss: 0.0016\n",
            "Epoch 522/700\n",
            "6/6 [==============================] - 25s 1s/step - loss: 0.0017 - val_loss: 0.0015\n",
            "Epoch 523/700\n",
            "6/6 [==============================] - 25s 1s/step - loss: 0.0017 - val_loss: 0.0016\n",
            "Epoch 524/700\n",
            "6/6 [==============================] - 25s 1s/step - loss: 0.0017 - val_loss: 0.0016\n",
            "Epoch 525/700\n",
            "6/6 [==============================] - 25s 1s/step - loss: 0.0017 - val_loss: 0.0018\n",
            "Epoch 526/700\n",
            "6/6 [==============================] - 25s 1s/step - loss: 0.0016 - val_loss: 0.0016\n",
            "Epoch 527/700\n",
            "6/6 [==============================] - 25s 1s/step - loss: 0.0017 - val_loss: 0.0016\n",
            "Epoch 528/700\n",
            "6/6 [==============================] - 25s 1s/step - loss: 0.0017 - val_loss: 0.0017\n",
            "Epoch 529/700\n",
            "6/6 [==============================] - 25s 2s/step - loss: 0.0017 - val_loss: 0.0017\n",
            "Epoch 530/700\n",
            "6/6 [==============================] - 26s 1s/step - loss: 0.0016 - val_loss: 0.0014\n",
            "Epoch 531/700\n",
            "6/6 [==============================] - 25s 1s/step - loss: 0.0017 - val_loss: 0.0015\n",
            "Epoch 532/700\n",
            "6/6 [==============================] - 25s 2s/step - loss: 0.0017 - val_loss: 0.0017\n",
            "Epoch 533/700\n",
            "6/6 [==============================] - 26s 1s/step - loss: 0.0016 - val_loss: 0.0015\n",
            "Epoch 534/700\n",
            "6/6 [==============================] - 25s 1s/step - loss: 0.0016 - val_loss: 0.0018\n",
            "Epoch 535/700\n",
            "6/6 [==============================] - 25s 1s/step - loss: 0.0016 - val_loss: 0.0016\n",
            "Epoch 536/700\n",
            "6/6 [==============================] - 26s 1s/step - loss: 0.0016 - val_loss: 0.0015\n",
            "Epoch 537/700\n",
            "6/6 [==============================] - 25s 1s/step - loss: 0.0017 - val_loss: 0.0018\n",
            "Epoch 538/700\n",
            "6/6 [==============================] - 26s 1s/step - loss: 0.0016 - val_loss: 0.0017\n",
            "Epoch 539/700\n",
            "6/6 [==============================] - 26s 1s/step - loss: 0.0017 - val_loss: 0.0016\n",
            "Epoch 540/700\n",
            "6/6 [==============================] - 26s 1s/step - loss: 0.0017 - val_loss: 0.0015\n",
            "Epoch 541/700\n",
            "6/6 [==============================] - 26s 1s/step - loss: 0.0016 - val_loss: 0.0016\n",
            "Epoch 542/700\n",
            "6/6 [==============================] - 26s 1s/step - loss: 0.0016 - val_loss: 0.0016\n",
            "Epoch 543/700\n",
            "6/6 [==============================] - 26s 1s/step - loss: 0.0016 - val_loss: 0.0016\n",
            "Epoch 544/700\n",
            "6/6 [==============================] - 26s 1s/step - loss: 0.0016 - val_loss: 0.0016\n",
            "Epoch 545/700\n",
            "6/6 [==============================] - 26s 1s/step - loss: 0.0017 - val_loss: 0.0015\n",
            "Epoch 546/700\n",
            "6/6 [==============================] - 26s 1s/step - loss: 0.0016 - val_loss: 0.0016\n",
            "Epoch 547/700\n",
            "6/6 [==============================] - 26s 1s/step - loss: 0.0017 - val_loss: 0.0015\n",
            "Epoch 548/700\n",
            "6/6 [==============================] - 25s 1s/step - loss: 0.0016 - val_loss: 0.0017\n",
            "Epoch 549/700\n",
            "6/6 [==============================] - 26s 1s/step - loss: 0.0016 - val_loss: 0.0014\n",
            "Epoch 550/700\n",
            "6/6 [==============================] - 25s 2s/step - loss: 0.0017 - val_loss: 0.0016\n",
            "Epoch 551/700\n",
            "6/6 [==============================] - 25s 1s/step - loss: 0.0017 - val_loss: 0.0017\n",
            "Epoch 552/700\n",
            "6/6 [==============================] - 26s 1s/step - loss: 0.0016 - val_loss: 0.0015\n",
            "Epoch 553/700\n",
            "6/6 [==============================] - 25s 1s/step - loss: 0.0016 - val_loss: 0.0015\n",
            "Epoch 554/700\n",
            "6/6 [==============================] - 26s 2s/step - loss: 0.0016 - val_loss: 0.0016\n",
            "Epoch 555/700\n",
            "6/6 [==============================] - 26s 1s/step - loss: 0.0016 - val_loss: 0.0014\n",
            "Epoch 556/700\n",
            "6/6 [==============================] - 25s 1s/step - loss: 0.0017 - val_loss: 0.0017\n",
            "Epoch 557/700\n",
            "6/6 [==============================] - 25s 1s/step - loss: 0.0017 - val_loss: 0.0017\n",
            "Epoch 558/700\n",
            "6/6 [==============================] - 25s 2s/step - loss: 0.0017 - val_loss: 0.0016\n",
            "Epoch 559/700\n",
            "6/6 [==============================] - 25s 1s/step - loss: 0.0016 - val_loss: 0.0016\n",
            "Epoch 560/700\n",
            "6/6 [==============================] - 25s 1s/step - loss: 0.0017 - val_loss: 0.0016\n",
            "Epoch 561/700\n",
            "6/6 [==============================] - 25s 2s/step - loss: 0.0017 - val_loss: 0.0016\n",
            "Epoch 562/700\n",
            "6/6 [==============================] - 25s 1s/step - loss: 0.0016 - val_loss: 0.0016\n",
            "Epoch 563/700\n",
            "6/6 [==============================] - 25s 1s/step - loss: 0.0016 - val_loss: 0.0015\n",
            "Epoch 564/700\n",
            "6/6 [==============================] - 25s 1s/step - loss: 0.0016 - val_loss: 0.0016\n",
            "Epoch 565/700\n",
            "6/6 [==============================] - 26s 1s/step - loss: 0.0016 - val_loss: 0.0016\n",
            "Epoch 566/700\n",
            "6/6 [==============================] - 25s 1s/step - loss: 0.0016 - val_loss: 0.0016\n",
            "Epoch 567/700\n",
            "6/6 [==============================] - 26s 1s/step - loss: 0.0016 - val_loss: 0.0017\n",
            "Epoch 568/700\n",
            "6/6 [==============================] - 26s 1s/step - loss: 0.0017 - val_loss: 0.0017\n",
            "Epoch 569/700\n",
            "6/6 [==============================] - 25s 1s/step - loss: 0.0016 - val_loss: 0.0014\n",
            "Epoch 570/700\n",
            "6/6 [==============================] - 26s 1s/step - loss: 0.0016 - val_loss: 0.0015\n",
            "Epoch 571/700\n",
            "6/6 [==============================] - 26s 1s/step - loss: 0.0016 - val_loss: 0.0017\n",
            "Epoch 572/700\n",
            "6/6 [==============================] - 25s 1s/step - loss: 0.0016 - val_loss: 0.0014\n",
            "Epoch 573/700\n",
            "6/6 [==============================] - 25s 1s/step - loss: 0.0017 - val_loss: 0.0015\n",
            "Epoch 574/700\n",
            "6/6 [==============================] - 26s 1s/step - loss: 0.0016 - val_loss: 0.0016\n",
            "Epoch 575/700\n",
            "6/6 [==============================] - 26s 1s/step - loss: 0.0017 - val_loss: 0.0015\n",
            "Epoch 576/700\n",
            "6/6 [==============================] - 26s 1s/step - loss: 0.0017 - val_loss: 0.0016\n",
            "Epoch 577/700\n",
            "6/6 [==============================] - 25s 1s/step - loss: 0.0016 - val_loss: 0.0015\n",
            "Epoch 578/700\n",
            "6/6 [==============================] - 26s 1s/step - loss: 0.0017 - val_loss: 0.0017\n",
            "Epoch 579/700\n",
            "6/6 [==============================] - 26s 1s/step - loss: 0.0017 - val_loss: 0.0017\n",
            "Epoch 580/700\n",
            "6/6 [==============================] - 26s 1s/step - loss: 0.0017 - val_loss: 0.0018\n",
            "Epoch 581/700\n",
            "6/6 [==============================] - 26s 1s/step - loss: 0.0017 - val_loss: 0.0016\n",
            "Epoch 582/700\n",
            "6/6 [==============================] - 25s 1s/step - loss: 0.0017 - val_loss: 0.0017\n",
            "Epoch 583/700\n",
            "6/6 [==============================] - 26s 1s/step - loss: 0.0016 - val_loss: 0.0018\n",
            "Epoch 584/700\n",
            "6/6 [==============================] - 26s 1s/step - loss: 0.0016 - val_loss: 0.0016\n",
            "Epoch 585/700\n",
            "6/6 [==============================] - 25s 1s/step - loss: 0.0016 - val_loss: 0.0015\n",
            "Epoch 586/700\n",
            "6/6 [==============================] - 26s 1s/step - loss: 0.0017 - val_loss: 0.0015\n",
            "Epoch 587/700\n",
            "6/6 [==============================] - 26s 1s/step - loss: 0.0017 - val_loss: 0.0016\n",
            "Epoch 588/700\n",
            "6/6 [==============================] - 25s 1s/step - loss: 0.0016 - val_loss: 0.0016\n",
            "Epoch 589/700\n",
            "6/6 [==============================] - 25s 1s/step - loss: 0.0016 - val_loss: 0.0014\n",
            "Epoch 590/700\n",
            "6/6 [==============================] - 26s 1s/step - loss: 0.0017 - val_loss: 0.0017\n",
            "Epoch 591/700\n",
            "6/6 [==============================] - 26s 2s/step - loss: 0.0017 - val_loss: 0.0016\n",
            "Epoch 592/700\n",
            "6/6 [==============================] - 25s 1s/step - loss: 0.0017 - val_loss: 0.0017\n",
            "Epoch 593/700\n",
            "6/6 [==============================] - 25s 1s/step - loss: 0.0016 - val_loss: 0.0017\n",
            "Epoch 594/700\n",
            "6/6 [==============================] - 25s 1s/step - loss: 0.0016 - val_loss: 0.0017\n",
            "Epoch 595/700\n",
            "6/6 [==============================] - 25s 2s/step - loss: 0.0016 - val_loss: 0.0016\n",
            "Epoch 596/700\n",
            "6/6 [==============================] - 25s 2s/step - loss: 0.0016 - val_loss: 0.0017\n",
            "Epoch 597/700\n",
            "6/6 [==============================] - 26s 1s/step - loss: 0.0016 - val_loss: 0.0017\n",
            "Epoch 598/700\n",
            "6/6 [==============================] - 25s 1s/step - loss: 0.0017 - val_loss: 0.0015\n",
            "Epoch 599/700\n",
            "6/6 [==============================] - 26s 1s/step - loss: 0.0016 - val_loss: 0.0016\n",
            "Epoch 600/700\n",
            "6/6 [==============================] - 26s 2s/step - loss: 0.0017 - val_loss: 0.0015\n",
            "Epoch 601/700\n",
            "6/6 [==============================] - 25s 1s/step - loss: 0.0016 - val_loss: 0.0015\n",
            "Epoch 602/700\n",
            "6/6 [==============================] - 25s 1s/step - loss: 0.0017 - val_loss: 0.0015\n",
            "Epoch 603/700\n",
            "6/6 [==============================] - 26s 2s/step - loss: 0.0016 - val_loss: 0.0014\n",
            "Epoch 604/700\n",
            "6/6 [==============================] - 26s 1s/step - loss: 0.0017 - val_loss: 0.0015\n",
            "Epoch 605/700\n",
            "6/6 [==============================] - 26s 1s/step - loss: 0.0016 - val_loss: 0.0016\n",
            "Epoch 606/700\n",
            "6/6 [==============================] - 26s 2s/step - loss: 0.0016 - val_loss: 0.0016\n",
            "Epoch 607/700\n",
            "6/6 [==============================] - 25s 1s/step - loss: 0.0016 - val_loss: 0.0016\n",
            "Epoch 608/700\n",
            "6/6 [==============================] - 26s 1s/step - loss: 0.0016 - val_loss: 0.0016\n",
            "Epoch 609/700\n",
            "6/6 [==============================] - 26s 1s/step - loss: 0.0016 - val_loss: 0.0014\n",
            "Epoch 610/700\n",
            "6/6 [==============================] - 25s 1s/step - loss: 0.0017 - val_loss: 0.0017\n",
            "Epoch 611/700\n",
            "6/6 [==============================] - 26s 2s/step - loss: 0.0017 - val_loss: 0.0016\n",
            "Epoch 612/700\n",
            "6/6 [==============================] - 26s 1s/step - loss: 0.0016 - val_loss: 0.0017\n",
            "Epoch 613/700\n",
            "6/6 [==============================] - 26s 1s/step - loss: 0.0016 - val_loss: 0.0017\n",
            "Epoch 614/700\n",
            "6/6 [==============================] - 25s 1s/step - loss: 0.0016 - val_loss: 0.0016\n",
            "Epoch 615/700\n",
            "6/6 [==============================] - 25s 1s/step - loss: 0.0016 - val_loss: 0.0016\n",
            "Epoch 616/700\n",
            "6/6 [==============================] - 26s 1s/step - loss: 0.0016 - val_loss: 0.0015\n",
            "Epoch 617/700\n",
            "6/6 [==============================] - 25s 1s/step - loss: 0.0016 - val_loss: 0.0017\n",
            "Epoch 618/700\n",
            "6/6 [==============================] - 25s 1s/step - loss: 0.0017 - val_loss: 0.0015\n",
            "Epoch 619/700\n",
            "6/6 [==============================] - 26s 1s/step - loss: 0.0016 - val_loss: 0.0018\n",
            "Epoch 620/700\n",
            "6/6 [==============================] - 25s 1s/step - loss: 0.0017 - val_loss: 0.0016\n",
            "Epoch 621/700\n",
            "6/6 [==============================] - 25s 1s/step - loss: 0.0015 - val_loss: 0.0016\n",
            "Epoch 622/700\n",
            "6/6 [==============================] - 26s 2s/step - loss: 0.0017 - val_loss: 0.0017\n",
            "Epoch 623/700\n",
            "6/6 [==============================] - 25s 1s/step - loss: 0.0016 - val_loss: 0.0016\n",
            "Epoch 624/700\n",
            "6/6 [==============================] - 25s 1s/step - loss: 0.0016 - val_loss: 0.0016\n",
            "Epoch 625/700\n",
            "6/6 [==============================] - 26s 1s/step - loss: 0.0017 - val_loss: 0.0017\n",
            "Epoch 626/700\n",
            "6/6 [==============================] - 25s 1s/step - loss: 0.0016 - val_loss: 0.0017\n",
            "Epoch 627/700\n",
            "6/6 [==============================] - 26s 1s/step - loss: 0.0016 - val_loss: 0.0016\n",
            "Epoch 628/700\n",
            "6/6 [==============================] - 26s 1s/step - loss: 0.0017 - val_loss: 0.0015\n",
            "Epoch 629/700\n",
            "6/6 [==============================] - 25s 1s/step - loss: 0.0017 - val_loss: 0.0016\n",
            "Epoch 630/700\n",
            "6/6 [==============================] - 25s 1s/step - loss: 0.0016 - val_loss: 0.0016\n",
            "Epoch 631/700\n",
            "6/6 [==============================] - 26s 1s/step - loss: 0.0016 - val_loss: 0.0016\n",
            "Epoch 632/700\n",
            "6/6 [==============================] - 25s 1s/step - loss: 0.0015 - val_loss: 0.0015\n",
            "Epoch 633/700\n",
            "6/6 [==============================] - 25s 1s/step - loss: 0.0016 - val_loss: 0.0015\n",
            "Epoch 634/700\n",
            "6/6 [==============================] - 26s 2s/step - loss: 0.0016 - val_loss: 0.0015\n",
            "Epoch 635/700\n",
            "6/6 [==============================] - 26s 1s/step - loss: 0.0016 - val_loss: 0.0016\n",
            "Epoch 636/700\n",
            "6/6 [==============================] - 25s 1s/step - loss: 0.0017 - val_loss: 0.0015\n",
            "Epoch 637/700\n",
            "6/6 [==============================] - 26s 1s/step - loss: 0.0017 - val_loss: 0.0015\n",
            "Epoch 638/700\n",
            "6/6 [==============================] - 26s 2s/step - loss: 0.0016 - val_loss: 0.0015\n",
            "Epoch 639/700\n",
            "6/6 [==============================] - 25s 1s/step - loss: 0.0017 - val_loss: 0.0015\n",
            "Epoch 640/700\n",
            "6/6 [==============================] - 26s 1s/step - loss: 0.0017 - val_loss: 0.0017\n",
            "Epoch 641/700\n",
            "6/6 [==============================] - 26s 1s/step - loss: 0.0017 - val_loss: 0.0015\n",
            "Epoch 642/700\n",
            "6/6 [==============================] - 25s 2s/step - loss: 0.0016 - val_loss: 0.0017\n",
            "Epoch 643/700\n",
            "6/6 [==============================] - 25s 1s/step - loss: 0.0015 - val_loss: 0.0017\n",
            "Epoch 644/700\n",
            "6/6 [==============================] - 25s 1s/step - loss: 0.0016 - val_loss: 0.0017\n",
            "Epoch 645/700\n",
            "6/6 [==============================] - 26s 2s/step - loss: 0.0016 - val_loss: 0.0016\n",
            "Epoch 646/700\n",
            "6/6 [==============================] - 25s 1s/step - loss: 0.0016 - val_loss: 0.0016\n",
            "Epoch 647/700\n",
            "6/6 [==============================] - 26s 1s/step - loss: 0.0016 - val_loss: 0.0015\n",
            "Epoch 648/700\n",
            "6/6 [==============================] - 26s 1s/step - loss: 0.0016 - val_loss: 0.0016\n",
            "Epoch 649/700\n",
            "6/6 [==============================] - 25s 1s/step - loss: 0.0016 - val_loss: 0.0016\n",
            "Epoch 650/700\n",
            "6/6 [==============================] - 26s 1s/step - loss: 0.0017 - val_loss: 0.0016\n",
            "Epoch 651/700\n",
            "6/6 [==============================] - 26s 1s/step - loss: 0.0016 - val_loss: 0.0017\n",
            "Epoch 652/700\n",
            "6/6 [==============================] - 26s 1s/step - loss: 0.0016 - val_loss: 0.0017\n",
            "Epoch 653/700\n",
            "6/6 [==============================] - 26s 1s/step - loss: 0.0017 - val_loss: 0.0016\n",
            "Epoch 654/700\n",
            "6/6 [==============================] - 26s 1s/step - loss: 0.0016 - val_loss: 0.0017\n",
            "Epoch 655/700\n",
            "6/6 [==============================] - 25s 1s/step - loss: 0.0016 - val_loss: 0.0015\n",
            "Epoch 656/700\n",
            "6/6 [==============================] - 25s 1s/step - loss: 0.0016 - val_loss: 0.0016\n",
            "Epoch 657/700\n",
            "6/6 [==============================] - 26s 1s/step - loss: 0.0017 - val_loss: 0.0017\n",
            "Epoch 658/700\n",
            "6/6 [==============================] - 25s 2s/step - loss: 0.0016 - val_loss: 0.0016\n",
            "Epoch 659/700\n",
            "6/6 [==============================] - 25s 1s/step - loss: 0.0016 - val_loss: 0.0015\n",
            "Epoch 660/700\n",
            "6/6 [==============================] - 26s 1s/step - loss: 0.0017 - val_loss: 0.0014\n",
            "Epoch 661/700\n",
            "6/6 [==============================] - 25s 1s/step - loss: 0.0016 - val_loss: 0.0015\n",
            "Epoch 662/700\n",
            "6/6 [==============================] - 26s 1s/step - loss: 0.0016 - val_loss: 0.0016\n",
            "Epoch 663/700\n",
            "6/6 [==============================] - 26s 2s/step - loss: 0.0016 - val_loss: 0.0015\n",
            "Epoch 664/700\n",
            "6/6 [==============================] - 26s 1s/step - loss: 0.0016 - val_loss: 0.0016\n",
            "Epoch 665/700\n",
            "6/6 [==============================] - 25s 1s/step - loss: 0.0016 - val_loss: 0.0016\n",
            "Epoch 666/700\n",
            "6/6 [==============================] - 26s 1s/step - loss: 0.0016 - val_loss: 0.0017\n",
            "Epoch 667/700\n",
            "6/6 [==============================] - 26s 1s/step - loss: 0.0016 - val_loss: 0.0014\n",
            "Epoch 668/700\n",
            "6/6 [==============================] - 26s 1s/step - loss: 0.0016 - val_loss: 0.0015\n",
            "Epoch 669/700\n",
            "6/6 [==============================] - 26s 2s/step - loss: 0.0017 - val_loss: 0.0015\n",
            "Epoch 670/700\n",
            "6/6 [==============================] - 26s 1s/step - loss: 0.0016 - val_loss: 0.0015\n",
            "Epoch 671/700\n",
            "6/6 [==============================] - 26s 1s/step - loss: 0.0016 - val_loss: 0.0017\n",
            "Epoch 672/700\n",
            "6/6 [==============================] - 26s 1s/step - loss: 0.0017 - val_loss: 0.0015\n",
            "Epoch 673/700\n",
            "6/6 [==============================] - 26s 1s/step - loss: 0.0016 - val_loss: 0.0014\n",
            "Epoch 674/700\n",
            "6/6 [==============================] - 26s 1s/step - loss: 0.0016 - val_loss: 0.0015\n",
            "Epoch 675/700\n",
            "6/6 [==============================] - 26s 1s/step - loss: 0.0016 - val_loss: 0.0015\n",
            "Epoch 676/700\n",
            "6/6 [==============================] - 26s 1s/step - loss: 0.0016 - val_loss: 0.0015\n",
            "Epoch 677/700\n",
            "6/6 [==============================] - 26s 1s/step - loss: 0.0016 - val_loss: 0.0015\n",
            "Epoch 678/700\n",
            "6/6 [==============================] - 26s 2s/step - loss: 0.0016 - val_loss: 0.0014\n",
            "Epoch 679/700\n",
            "6/6 [==============================] - 26s 1s/step - loss: 0.0016 - val_loss: 0.0015\n",
            "Epoch 680/700\n",
            "6/6 [==============================] - 26s 1s/step - loss: 0.0015 - val_loss: 0.0014\n",
            "Epoch 681/700\n",
            "6/6 [==============================] - 26s 2s/step - loss: 0.0017 - val_loss: 0.0015\n",
            "Epoch 682/700\n",
            "6/6 [==============================] - 26s 2s/step - loss: 0.0016 - val_loss: 0.0015\n",
            "Epoch 683/700\n",
            "6/6 [==============================] - 26s 1s/step - loss: 0.0016 - val_loss: 0.0016\n",
            "Epoch 684/700\n",
            "6/6 [==============================] - 26s 1s/step - loss: 0.0016 - val_loss: 0.0016\n",
            "Epoch 685/700\n",
            "6/6 [==============================] - 26s 1s/step - loss: 0.0016 - val_loss: 0.0015\n",
            "Epoch 686/700\n",
            "6/6 [==============================] - 26s 1s/step - loss: 0.0016 - val_loss: 0.0017\n",
            "Epoch 687/700\n",
            "6/6 [==============================] - 26s 1s/step - loss: 0.0016 - val_loss: 0.0014\n",
            "Epoch 688/700\n",
            "6/6 [==============================] - 26s 1s/step - loss: 0.0017 - val_loss: 0.0015\n",
            "Epoch 689/700\n",
            "6/6 [==============================] - 26s 2s/step - loss: 0.0016 - val_loss: 0.0016\n",
            "Epoch 690/700\n",
            "6/6 [==============================] - 26s 1s/step - loss: 0.0017 - val_loss: 0.0015\n",
            "Epoch 691/700\n",
            "6/6 [==============================] - 26s 1s/step - loss: 0.0016 - val_loss: 0.0017\n",
            "Epoch 692/700\n",
            "6/6 [==============================] - 26s 1s/step - loss: 0.0016 - val_loss: 0.0015\n",
            "Epoch 693/700\n",
            "6/6 [==============================] - 26s 2s/step - loss: 0.0016 - val_loss: 0.0016\n",
            "Epoch 694/700\n",
            "6/6 [==============================] - 26s 1s/step - loss: 0.0016 - val_loss: 0.0016\n",
            "Epoch 695/700\n",
            "6/6 [==============================] - 26s 1s/step - loss: 0.0016 - val_loss: 0.0017\n",
            "Epoch 696/700\n",
            "6/6 [==============================] - 26s 1s/step - loss: 0.0017 - val_loss: 0.0016\n",
            "Epoch 697/700\n",
            "6/6 [==============================] - 26s 1s/step - loss: 0.0016 - val_loss: 0.0014\n",
            "Epoch 698/700\n",
            "6/6 [==============================] - 26s 1s/step - loss: 0.0016 - val_loss: 0.0016\n",
            "Epoch 699/700\n",
            "6/6 [==============================] - 25s 1s/step - loss: 0.0017 - val_loss: 0.0017\n",
            "Epoch 700/700\n",
            "6/6 [==============================] - 26s 2s/step - loss: 0.0016 - val_loss: 0.0016\n",
            "INFO:tensorflow:Assets written to: export_ep700/assets\n"
          ],
          "name": "stdout"
        }
      ]
    },
    {
      "cell_type": "markdown",
      "metadata": {
        "id": "XFUYtATUamEB"
      },
      "source": [
        "## Super resolve a test low resolution image using TensorFlow Lite."
      ]
    },
    {
      "cell_type": "code",
      "metadata": {
        "id": "MYTx9188amEC"
      },
      "source": [
        "def load_test_image(img_path):\n",
        "    hr = cv2.imread(img_path)\n",
        "    hr = cv2.cvtColor(hr, cv2.COLOR_BGR2YCrCb)\n",
        "    hr = tf.image.crop_to_bounding_box(hr, 0, 300, IMG_SIZE, IMG_SIZE)\n",
        "    # lr = tf.image.resize(hr, [HR_SIZE//SCALE, HR_SIZE//SCALE])\n",
        "    lr = hr\n",
        "    lr = tf.cast(lr, tf.uint8)\n",
        "    return lr, hr\n",
        "\n",
        "def super_resolve(original_img_path):\n",
        "    # lr - low resolution image\n",
        "    # hr - high resolution image (cropped from original)\n",
        "    # sr - super resolved image from lr\n",
        "    lr, hr = load_test_image(original_img_path)\n",
        "    lr_ycrcb = lr.numpy().copy()    \n",
        "    lr = cv2.cvtColor(lr.numpy(), cv2.COLOR_YCrCb2RGB)\n",
        "    hr = cv2.cvtColor(hr.numpy(), cv2.COLOR_YCrCb2RGB)   \n",
        "    lr_ycrcb = tf.cast(lr_ycrcb, tf.float32)\n",
        "    lr_y = lr_ycrcb[:, :, 0:1] / 255.\n",
        "    lr_cr = lr_ycrcb[:, :, 1:2]\n",
        "    lr_cb = lr_ycrcb[:, :, 2:3]\n",
        "    lr_y = tf.expand_dims(lr_y, axis=0)\n",
        "    \n",
        "    # Use TFLite to super resolve luminance\n",
        "    converter = tf.lite.TFLiteConverter.from_keras_model(model)\n",
        "    tflite_model = converter.convert()\n",
        "    interpreter = tf.lite.Interpreter(model_content=tflite_model)\n",
        "    interpreter.allocate_tensors()\n",
        "    input_details = interpreter.get_input_details()\n",
        "    output_details = interpreter.get_output_details()\n",
        "    interpreter.set_tensor(input_details[0]['index'], lr_y)\n",
        "    interpreter.invoke()\n",
        "    sr_y = interpreter.get_tensor(output_details[0]['index'])\n",
        "    open(\"ESPCN.tflite\", 'wb').write(tflite_model)\n",
        "    \n",
        "    # Transform super resolved image back into RGB color space\n",
        "    sr_y = sr_y * 255\n",
        "    sr_cr = tf.image.resize(lr_cr, [IMG_SIZE*SCALE, IMG_SIZE*SCALE], tf.image.ResizeMethod.BICUBIC)\n",
        "    sr_cb = tf.image.resize(lr_cb, [IMG_SIZE*SCALE, IMG_SIZE*SCALE], tf.image.ResizeMethod.BICUBIC)\n",
        "    sr = tf.concat([sr_y[0], sr_cr, sr_cb], axis=2)\n",
        "    sr = tf.clip_by_value(sr, 0, 255)\n",
        "    sr = tf.round(sr)\n",
        "    sr = tf.cast(sr, tf.uint8)\n",
        "    sr = cv2.cvtColor(sr.numpy(), cv2.COLOR_YCrCb2RGB)\n",
        "    return lr, sr, hr\n",
        "\n"
      ],
      "execution_count": null,
      "outputs": []
    },
    {
      "cell_type": "code",
      "metadata": {
        "colab": {
          "base_uri": "https://localhost:8080/"
        },
        "id": "LQ0DCi9GpHUq",
        "outputId": "8dc7915d-cb7f-4693-fb6f-4735576e44a6"
      },
      "source": [
        "# test_img_path = \"dataset/BSDS300/images/test/170057.jpg\"\n",
        "# test_img_path = \"dataset/BSDS300/images/test/recycle1.jpg\"\n",
        "test_img_path = \"./frame folder/\"\n",
        "test_img_name = \"image\"\n",
        "\n",
        "current_directory = os.getcwd()\n",
        "lrimage = os.path.join(current_directory, r'frame folder_lr')\n",
        "if not os.path.exists(lrimage):\n",
        "  os.makedirs(lrimage)\n",
        "srimage = os.path.join(current_directory, r\"frame folder_sr\")\n",
        "if not os.path.exists(srimage):\n",
        "  os.makedirs(srimage)\n",
        "\n",
        "from PIL import Image\n",
        "from tensorflow import keras \n",
        "model = keras.models.load_model('./export')\n",
        "\n",
        "count = 0\n",
        "for path in os.listdir(test_img_path):\n",
        "    if os.path.isfile(os.path.join(test_img_path, path)):\n",
        "        count += 1\n",
        "\n",
        "for i in range(count):\n",
        "  lr, sr, hr = super_resolve(test_img_path+\"image\"+str(i+1)+\".jpg\")\n",
        "\n",
        "  # psnr = tf.image.psnr(sr, hr, 255).numpy()\n",
        "  # print('PSNR:', psnr)\n",
        "\n",
        "  im = Image.fromarray(lr)\n",
        "  im.save(\"./frame folder_lr/lrimage\"+str(i+1)+\".jpg\")\n",
        "\n",
        "  im = Image.fromarray(sr)\n",
        "  im.save(\"./frame folder_sr/srimage\"+str(i+1)+\".jpg\")"
      ],
      "execution_count": null,
      "outputs": [
        {
          "output_type": "stream",
          "text": [
            "INFO:tensorflow:Assets written to: /tmp/tmp37w2o36z/assets\n",
            "INFO:tensorflow:Assets written to: /tmp/tmprm6gluwp/assets\n"
          ],
          "name": "stdout"
        },
        {
          "output_type": "stream",
          "text": [
            "INFO:tensorflow:Assets written to: /tmp/tmprm6gluwp/assets\n"
          ],
          "name": "stderr"
        },
        {
          "output_type": "stream",
          "text": [
            "INFO:tensorflow:Assets written to: /tmp/tmp6jcoyvaa/assets\n"
          ],
          "name": "stdout"
        },
        {
          "output_type": "stream",
          "text": [
            "INFO:tensorflow:Assets written to: /tmp/tmp6jcoyvaa/assets\n"
          ],
          "name": "stderr"
        },
        {
          "output_type": "stream",
          "text": [
            "INFO:tensorflow:Assets written to: /tmp/tmpd511k8mx/assets\n"
          ],
          "name": "stdout"
        },
        {
          "output_type": "stream",
          "text": [
            "INFO:tensorflow:Assets written to: /tmp/tmpd511k8mx/assets\n"
          ],
          "name": "stderr"
        },
        {
          "output_type": "stream",
          "text": [
            "INFO:tensorflow:Assets written to: /tmp/tmpn1fr2pr2/assets\n"
          ],
          "name": "stdout"
        },
        {
          "output_type": "stream",
          "text": [
            "INFO:tensorflow:Assets written to: /tmp/tmpn1fr2pr2/assets\n"
          ],
          "name": "stderr"
        },
        {
          "output_type": "stream",
          "text": [
            "INFO:tensorflow:Assets written to: /tmp/tmprvnuccf3/assets\n"
          ],
          "name": "stdout"
        },
        {
          "output_type": "stream",
          "text": [
            "INFO:tensorflow:Assets written to: /tmp/tmprvnuccf3/assets\n"
          ],
          "name": "stderr"
        },
        {
          "output_type": "stream",
          "text": [
            "INFO:tensorflow:Assets written to: /tmp/tmpu2gwoled/assets\n"
          ],
          "name": "stdout"
        },
        {
          "output_type": "stream",
          "text": [
            "INFO:tensorflow:Assets written to: /tmp/tmpu2gwoled/assets\n"
          ],
          "name": "stderr"
        },
        {
          "output_type": "stream",
          "text": [
            "INFO:tensorflow:Assets written to: /tmp/tmpc7q9jn5l/assets\n"
          ],
          "name": "stdout"
        },
        {
          "output_type": "stream",
          "text": [
            "INFO:tensorflow:Assets written to: /tmp/tmpc7q9jn5l/assets\n"
          ],
          "name": "stderr"
        },
        {
          "output_type": "stream",
          "text": [
            "INFO:tensorflow:Assets written to: /tmp/tmp8dxtctmg/assets\n"
          ],
          "name": "stdout"
        },
        {
          "output_type": "stream",
          "text": [
            "INFO:tensorflow:Assets written to: /tmp/tmp8dxtctmg/assets\n"
          ],
          "name": "stderr"
        },
        {
          "output_type": "stream",
          "text": [
            "INFO:tensorflow:Assets written to: /tmp/tmpbkaict4t/assets\n"
          ],
          "name": "stdout"
        },
        {
          "output_type": "stream",
          "text": [
            "INFO:tensorflow:Assets written to: /tmp/tmpbkaict4t/assets\n"
          ],
          "name": "stderr"
        },
        {
          "output_type": "stream",
          "text": [
            "INFO:tensorflow:Assets written to: /tmp/tmpjirgvv0g/assets\n"
          ],
          "name": "stdout"
        },
        {
          "output_type": "stream",
          "text": [
            "INFO:tensorflow:Assets written to: /tmp/tmpjirgvv0g/assets\n"
          ],
          "name": "stderr"
        },
        {
          "output_type": "stream",
          "text": [
            "INFO:tensorflow:Assets written to: /tmp/tmphk7mslw4/assets\n"
          ],
          "name": "stdout"
        },
        {
          "output_type": "stream",
          "text": [
            "INFO:tensorflow:Assets written to: /tmp/tmphk7mslw4/assets\n"
          ],
          "name": "stderr"
        },
        {
          "output_type": "stream",
          "text": [
            "INFO:tensorflow:Assets written to: /tmp/tmp15231qmg/assets\n"
          ],
          "name": "stdout"
        },
        {
          "output_type": "stream",
          "text": [
            "INFO:tensorflow:Assets written to: /tmp/tmp15231qmg/assets\n"
          ],
          "name": "stderr"
        },
        {
          "output_type": "stream",
          "text": [
            "INFO:tensorflow:Assets written to: /tmp/tmp2eif9qy0/assets\n"
          ],
          "name": "stdout"
        },
        {
          "output_type": "stream",
          "text": [
            "INFO:tensorflow:Assets written to: /tmp/tmp2eif9qy0/assets\n"
          ],
          "name": "stderr"
        },
        {
          "output_type": "stream",
          "text": [
            "INFO:tensorflow:Assets written to: /tmp/tmpo_zh2rar/assets\n"
          ],
          "name": "stdout"
        },
        {
          "output_type": "stream",
          "text": [
            "INFO:tensorflow:Assets written to: /tmp/tmpo_zh2rar/assets\n"
          ],
          "name": "stderr"
        },
        {
          "output_type": "stream",
          "text": [
            "INFO:tensorflow:Assets written to: /tmp/tmp2m09yy50/assets\n"
          ],
          "name": "stdout"
        },
        {
          "output_type": "stream",
          "text": [
            "INFO:tensorflow:Assets written to: /tmp/tmp2m09yy50/assets\n"
          ],
          "name": "stderr"
        },
        {
          "output_type": "stream",
          "text": [
            "INFO:tensorflow:Assets written to: /tmp/tmph3rsg25w/assets\n"
          ],
          "name": "stdout"
        },
        {
          "output_type": "stream",
          "text": [
            "INFO:tensorflow:Assets written to: /tmp/tmph3rsg25w/assets\n"
          ],
          "name": "stderr"
        },
        {
          "output_type": "stream",
          "text": [
            "INFO:tensorflow:Assets written to: /tmp/tmpwnrvpbrg/assets\n"
          ],
          "name": "stdout"
        },
        {
          "output_type": "stream",
          "text": [
            "INFO:tensorflow:Assets written to: /tmp/tmpwnrvpbrg/assets\n"
          ],
          "name": "stderr"
        },
        {
          "output_type": "stream",
          "text": [
            "INFO:tensorflow:Assets written to: /tmp/tmp0bzeq_qi/assets\n"
          ],
          "name": "stdout"
        },
        {
          "output_type": "stream",
          "text": [
            "INFO:tensorflow:Assets written to: /tmp/tmp0bzeq_qi/assets\n"
          ],
          "name": "stderr"
        },
        {
          "output_type": "stream",
          "text": [
            "INFO:tensorflow:Assets written to: /tmp/tmprl15u6vi/assets\n"
          ],
          "name": "stdout"
        },
        {
          "output_type": "stream",
          "text": [
            "INFO:tensorflow:Assets written to: /tmp/tmprl15u6vi/assets\n"
          ],
          "name": "stderr"
        },
        {
          "output_type": "stream",
          "text": [
            "INFO:tensorflow:Assets written to: /tmp/tmpl8ct0m4o/assets\n"
          ],
          "name": "stdout"
        },
        {
          "output_type": "stream",
          "text": [
            "INFO:tensorflow:Assets written to: /tmp/tmpl8ct0m4o/assets\n"
          ],
          "name": "stderr"
        },
        {
          "output_type": "stream",
          "text": [
            "INFO:tensorflow:Assets written to: /tmp/tmpmuu74onq/assets\n"
          ],
          "name": "stdout"
        },
        {
          "output_type": "stream",
          "text": [
            "INFO:tensorflow:Assets written to: /tmp/tmpmuu74onq/assets\n"
          ],
          "name": "stderr"
        },
        {
          "output_type": "stream",
          "text": [
            "INFO:tensorflow:Assets written to: /tmp/tmp_q277l0k/assets\n"
          ],
          "name": "stdout"
        },
        {
          "output_type": "stream",
          "text": [
            "INFO:tensorflow:Assets written to: /tmp/tmp_q277l0k/assets\n"
          ],
          "name": "stderr"
        },
        {
          "output_type": "stream",
          "text": [
            "INFO:tensorflow:Assets written to: /tmp/tmpobuy2j4_/assets\n"
          ],
          "name": "stdout"
        },
        {
          "output_type": "stream",
          "text": [
            "INFO:tensorflow:Assets written to: /tmp/tmpobuy2j4_/assets\n"
          ],
          "name": "stderr"
        },
        {
          "output_type": "stream",
          "text": [
            "INFO:tensorflow:Assets written to: /tmp/tmp5kefcw2_/assets\n"
          ],
          "name": "stdout"
        },
        {
          "output_type": "stream",
          "text": [
            "INFO:tensorflow:Assets written to: /tmp/tmp5kefcw2_/assets\n"
          ],
          "name": "stderr"
        },
        {
          "output_type": "stream",
          "text": [
            "INFO:tensorflow:Assets written to: /tmp/tmp68z_avrx/assets\n"
          ],
          "name": "stdout"
        },
        {
          "output_type": "stream",
          "text": [
            "INFO:tensorflow:Assets written to: /tmp/tmp68z_avrx/assets\n"
          ],
          "name": "stderr"
        },
        {
          "output_type": "stream",
          "text": [
            "INFO:tensorflow:Assets written to: /tmp/tmp6t6ae2rd/assets\n"
          ],
          "name": "stdout"
        },
        {
          "output_type": "stream",
          "text": [
            "INFO:tensorflow:Assets written to: /tmp/tmp6t6ae2rd/assets\n"
          ],
          "name": "stderr"
        },
        {
          "output_type": "stream",
          "text": [
            "INFO:tensorflow:Assets written to: /tmp/tmphlv3dyb2/assets\n"
          ],
          "name": "stdout"
        },
        {
          "output_type": "stream",
          "text": [
            "INFO:tensorflow:Assets written to: /tmp/tmphlv3dyb2/assets\n"
          ],
          "name": "stderr"
        },
        {
          "output_type": "stream",
          "text": [
            "INFO:tensorflow:Assets written to: /tmp/tmplkxp28s6/assets\n"
          ],
          "name": "stdout"
        },
        {
          "output_type": "stream",
          "text": [
            "INFO:tensorflow:Assets written to: /tmp/tmplkxp28s6/assets\n"
          ],
          "name": "stderr"
        },
        {
          "output_type": "stream",
          "text": [
            "INFO:tensorflow:Assets written to: /tmp/tmpf4feta1j/assets\n"
          ],
          "name": "stdout"
        },
        {
          "output_type": "stream",
          "text": [
            "INFO:tensorflow:Assets written to: /tmp/tmpf4feta1j/assets\n"
          ],
          "name": "stderr"
        },
        {
          "output_type": "stream",
          "text": [
            "INFO:tensorflow:Assets written to: /tmp/tmpgkp5i5pr/assets\n"
          ],
          "name": "stdout"
        },
        {
          "output_type": "stream",
          "text": [
            "INFO:tensorflow:Assets written to: /tmp/tmpgkp5i5pr/assets\n"
          ],
          "name": "stderr"
        },
        {
          "output_type": "stream",
          "text": [
            "INFO:tensorflow:Assets written to: /tmp/tmpr38r1_3q/assets\n"
          ],
          "name": "stdout"
        },
        {
          "output_type": "stream",
          "text": [
            "INFO:tensorflow:Assets written to: /tmp/tmpr38r1_3q/assets\n"
          ],
          "name": "stderr"
        },
        {
          "output_type": "stream",
          "text": [
            "INFO:tensorflow:Assets written to: /tmp/tmp16x8e2sb/assets\n"
          ],
          "name": "stdout"
        },
        {
          "output_type": "stream",
          "text": [
            "INFO:tensorflow:Assets written to: /tmp/tmp16x8e2sb/assets\n"
          ],
          "name": "stderr"
        },
        {
          "output_type": "stream",
          "text": [
            "INFO:tensorflow:Assets written to: /tmp/tmpofroinz6/assets\n"
          ],
          "name": "stdout"
        },
        {
          "output_type": "stream",
          "text": [
            "INFO:tensorflow:Assets written to: /tmp/tmpofroinz6/assets\n"
          ],
          "name": "stderr"
        },
        {
          "output_type": "stream",
          "text": [
            "INFO:tensorflow:Assets written to: /tmp/tmpz7wa8d30/assets\n"
          ],
          "name": "stdout"
        },
        {
          "output_type": "stream",
          "text": [
            "INFO:tensorflow:Assets written to: /tmp/tmpz7wa8d30/assets\n"
          ],
          "name": "stderr"
        },
        {
          "output_type": "stream",
          "text": [
            "INFO:tensorflow:Assets written to: /tmp/tmpa65zpuvf/assets\n"
          ],
          "name": "stdout"
        },
        {
          "output_type": "stream",
          "text": [
            "INFO:tensorflow:Assets written to: /tmp/tmpa65zpuvf/assets\n"
          ],
          "name": "stderr"
        },
        {
          "output_type": "stream",
          "text": [
            "INFO:tensorflow:Assets written to: /tmp/tmpp1a53c50/assets\n"
          ],
          "name": "stdout"
        },
        {
          "output_type": "stream",
          "text": [
            "INFO:tensorflow:Assets written to: /tmp/tmpp1a53c50/assets\n"
          ],
          "name": "stderr"
        },
        {
          "output_type": "stream",
          "text": [
            "INFO:tensorflow:Assets written to: /tmp/tmpmx0x8q9i/assets\n"
          ],
          "name": "stdout"
        },
        {
          "output_type": "stream",
          "text": [
            "INFO:tensorflow:Assets written to: /tmp/tmpmx0x8q9i/assets\n"
          ],
          "name": "stderr"
        },
        {
          "output_type": "stream",
          "text": [
            "INFO:tensorflow:Assets written to: /tmp/tmptbjv281w/assets\n"
          ],
          "name": "stdout"
        },
        {
          "output_type": "stream",
          "text": [
            "INFO:tensorflow:Assets written to: /tmp/tmptbjv281w/assets\n"
          ],
          "name": "stderr"
        },
        {
          "output_type": "stream",
          "text": [
            "INFO:tensorflow:Assets written to: /tmp/tmp4pc_9p5p/assets\n"
          ],
          "name": "stdout"
        },
        {
          "output_type": "stream",
          "text": [
            "INFO:tensorflow:Assets written to: /tmp/tmp4pc_9p5p/assets\n"
          ],
          "name": "stderr"
        },
        {
          "output_type": "stream",
          "text": [
            "INFO:tensorflow:Assets written to: /tmp/tmpwdflh0yn/assets\n"
          ],
          "name": "stdout"
        },
        {
          "output_type": "stream",
          "text": [
            "INFO:tensorflow:Assets written to: /tmp/tmpwdflh0yn/assets\n"
          ],
          "name": "stderr"
        },
        {
          "output_type": "stream",
          "text": [
            "INFO:tensorflow:Assets written to: /tmp/tmpv4944r18/assets\n"
          ],
          "name": "stdout"
        },
        {
          "output_type": "stream",
          "text": [
            "INFO:tensorflow:Assets written to: /tmp/tmpv4944r18/assets\n"
          ],
          "name": "stderr"
        },
        {
          "output_type": "stream",
          "text": [
            "INFO:tensorflow:Assets written to: /tmp/tmphbe3vlzz/assets\n"
          ],
          "name": "stdout"
        },
        {
          "output_type": "stream",
          "text": [
            "INFO:tensorflow:Assets written to: /tmp/tmphbe3vlzz/assets\n"
          ],
          "name": "stderr"
        },
        {
          "output_type": "stream",
          "text": [
            "INFO:tensorflow:Assets written to: /tmp/tmpnc_fb__z/assets\n"
          ],
          "name": "stdout"
        },
        {
          "output_type": "stream",
          "text": [
            "INFO:tensorflow:Assets written to: /tmp/tmpnc_fb__z/assets\n"
          ],
          "name": "stderr"
        },
        {
          "output_type": "stream",
          "text": [
            "INFO:tensorflow:Assets written to: /tmp/tmpn1f9qc4z/assets\n"
          ],
          "name": "stdout"
        },
        {
          "output_type": "stream",
          "text": [
            "INFO:tensorflow:Assets written to: /tmp/tmpn1f9qc4z/assets\n"
          ],
          "name": "stderr"
        },
        {
          "output_type": "stream",
          "text": [
            "INFO:tensorflow:Assets written to: /tmp/tmpmcefrgyi/assets\n"
          ],
          "name": "stdout"
        },
        {
          "output_type": "stream",
          "text": [
            "INFO:tensorflow:Assets written to: /tmp/tmpmcefrgyi/assets\n"
          ],
          "name": "stderr"
        },
        {
          "output_type": "stream",
          "text": [
            "INFO:tensorflow:Assets written to: /tmp/tmpqszebxaq/assets\n"
          ],
          "name": "stdout"
        },
        {
          "output_type": "stream",
          "text": [
            "INFO:tensorflow:Assets written to: /tmp/tmpqszebxaq/assets\n"
          ],
          "name": "stderr"
        },
        {
          "output_type": "stream",
          "text": [
            "INFO:tensorflow:Assets written to: /tmp/tmp975vtka1/assets\n"
          ],
          "name": "stdout"
        },
        {
          "output_type": "stream",
          "text": [
            "INFO:tensorflow:Assets written to: /tmp/tmp975vtka1/assets\n"
          ],
          "name": "stderr"
        },
        {
          "output_type": "stream",
          "text": [
            "INFO:tensorflow:Assets written to: /tmp/tmpwkhnd9g3/assets\n"
          ],
          "name": "stdout"
        },
        {
          "output_type": "stream",
          "text": [
            "INFO:tensorflow:Assets written to: /tmp/tmpwkhnd9g3/assets\n"
          ],
          "name": "stderr"
        },
        {
          "output_type": "stream",
          "text": [
            "INFO:tensorflow:Assets written to: /tmp/tmpjjp9hl8j/assets\n"
          ],
          "name": "stdout"
        },
        {
          "output_type": "stream",
          "text": [
            "INFO:tensorflow:Assets written to: /tmp/tmpjjp9hl8j/assets\n"
          ],
          "name": "stderr"
        },
        {
          "output_type": "stream",
          "text": [
            "INFO:tensorflow:Assets written to: /tmp/tmph3yonz84/assets\n"
          ],
          "name": "stdout"
        },
        {
          "output_type": "stream",
          "text": [
            "INFO:tensorflow:Assets written to: /tmp/tmph3yonz84/assets\n"
          ],
          "name": "stderr"
        },
        {
          "output_type": "stream",
          "text": [
            "INFO:tensorflow:Assets written to: /tmp/tmpaky6ja_h/assets\n"
          ],
          "name": "stdout"
        },
        {
          "output_type": "stream",
          "text": [
            "INFO:tensorflow:Assets written to: /tmp/tmpaky6ja_h/assets\n"
          ],
          "name": "stderr"
        },
        {
          "output_type": "stream",
          "text": [
            "INFO:tensorflow:Assets written to: /tmp/tmpi9oemblf/assets\n"
          ],
          "name": "stdout"
        },
        {
          "output_type": "stream",
          "text": [
            "INFO:tensorflow:Assets written to: /tmp/tmpi9oemblf/assets\n"
          ],
          "name": "stderr"
        },
        {
          "output_type": "stream",
          "text": [
            "INFO:tensorflow:Assets written to: /tmp/tmp5yevbhre/assets\n"
          ],
          "name": "stdout"
        },
        {
          "output_type": "stream",
          "text": [
            "INFO:tensorflow:Assets written to: /tmp/tmp5yevbhre/assets\n"
          ],
          "name": "stderr"
        },
        {
          "output_type": "stream",
          "text": [
            "INFO:tensorflow:Assets written to: /tmp/tmpqhqq5iyt/assets\n"
          ],
          "name": "stdout"
        },
        {
          "output_type": "stream",
          "text": [
            "INFO:tensorflow:Assets written to: /tmp/tmpqhqq5iyt/assets\n"
          ],
          "name": "stderr"
        },
        {
          "output_type": "stream",
          "text": [
            "INFO:tensorflow:Assets written to: /tmp/tmpclgud_y2/assets\n"
          ],
          "name": "stdout"
        },
        {
          "output_type": "stream",
          "text": [
            "INFO:tensorflow:Assets written to: /tmp/tmpclgud_y2/assets\n"
          ],
          "name": "stderr"
        },
        {
          "output_type": "stream",
          "text": [
            "INFO:tensorflow:Assets written to: /tmp/tmp_im9t65i/assets\n"
          ],
          "name": "stdout"
        },
        {
          "output_type": "stream",
          "text": [
            "INFO:tensorflow:Assets written to: /tmp/tmp_im9t65i/assets\n"
          ],
          "name": "stderr"
        },
        {
          "output_type": "stream",
          "text": [
            "INFO:tensorflow:Assets written to: /tmp/tmpd_3xr19o/assets\n"
          ],
          "name": "stdout"
        },
        {
          "output_type": "stream",
          "text": [
            "INFO:tensorflow:Assets written to: /tmp/tmpd_3xr19o/assets\n"
          ],
          "name": "stderr"
        }
      ]
    },
    {
      "cell_type": "markdown",
      "metadata": {
        "id": "u-79UQNEamEC"
      },
      "source": [
        "## Visualize the result"
      ]
    },
    {
      "cell_type": "markdown",
      "metadata": {
        "id": "i3KzkzCmamEC"
      },
      "source": [
        "PSNR ([Peak Signal-to-Noise Ratio](https://en.wikipedia.org/wiki/Peak_signal-to-noise_ratio)) is a commonly used metric to measure the image recovery quality."
      ]
    },
    {
      "cell_type": "code",
      "metadata": {
        "scrolled": true,
        "id": "sj7_UwoeamED",
        "colab": {
          "base_uri": "https://localhost:8080/",
          "height": 382
        },
        "outputId": "0ad4a569-2775-4d77-9efe-5844526676ea"
      },
      "source": [
        "# print(\"PSNR of super resolved image: %f\", tf.image.psnr(sr, hr, 255).numpy())  \n",
        "\n",
        "plt.figure(figsize = (1, 1))\n",
        "plt.title('LR')\n",
        "plt.imshow(lr);\n",
        "\n",
        "\n",
        "plt.figure(figsize=(10, 4))\n",
        "plt.subplot(1, 2, 1)        \n",
        "plt.title(f'SR (x{SCALE})')\n",
        "plt.imshow(sr);\n",
        "\n",
        "\n",
        "plt.subplot(1, 2, 2)   \n",
        "plt.title('ORIGINAL(CROPPED)')\n",
        "plt.imshow(hr);"
      ],
      "execution_count": null,
      "outputs": [
        {
          "output_type": "display_data",
          "data": {
            "image/png": "[encoded data removed]",
            "text/plain": [
              "<Figure size 72x72 with 1 Axes>"
            ]
          },
          "metadata": {
            "tags": [],
            "needs_background": "light"
          }
        },
        {
          "output_type": "display_data",
          "data": {
            "image/png": "[encoded data removed]",
            "text/plain": [
              "<Figure size 720x288 with 2 Axes>"
            ]
          },
          "metadata": {
            "tags": [],
            "needs_background": "light"
          }
        }
      ]
    },
    {
      "cell_type": "markdown",
      "metadata": {
        "id": "bi_MBUNDWHDd"
      },
      "source": [
        "## Frame -> Video"
      ]
    },
    {
      "cell_type": "code",
      "metadata": {
        "id": "7qM2LFxZGh_w"
      },
      "source": [
        "import cv2\n",
        "import numpy as np\n",
        "import os\n",
        "from os.path import isfile, join\n",
        "pathIn= './frame folder_sr/'\n",
        "pathOut = 'video_0.05s.avi'\n",
        "fps = 20\n",
        "frame_array = []\n",
        "files = [f for f in os.listdir(pathIn) if isfile(join(pathIn, f))]\n",
        "#for sorting the file names properly\n",
        "\n",
        "from natsort import natsorted\n",
        "#files.sort(key = lambda x: x[5:-4])\n",
        "#files.sort()\n",
        "files = natsorted(files)\n",
        "\n",
        "frame_array = []\n",
        "files = [f for f in os.listdir(pathIn) if isfile(join(pathIn, f))]\n",
        "#for sorting the file names properly\n",
        "\n",
        "#files.sort(key = lambda x: x[5:-4])\n",
        "files = natsorted(files)\n",
        "\n",
        "for i in range(len(files)):\n",
        "    filename=pathIn + files[i]\n",
        "    #reading each files\n",
        "    img = cv2.imread(filename)\n",
        "    height, width, layers = img.shape\n",
        "    size = (width,height)\n",
        "    \n",
        "    #inserting the frames into an image array\n",
        "    frame_array.append(img)\n",
        "\n",
        "out = cv2.VideoWriter(pathOut,cv2.VideoWriter_fourcc(*'DIVX'), fps, size)\n",
        "\n",
        "for i in range(len(frame_array)):\n",
        "    # writing to a image array\n",
        "    out.write(frame_array[i])\n",
        "out.release()"
      ],
      "execution_count": null,
      "outputs": []
    },
    {
      "cell_type": "code",
      "metadata": {
        "id": "xA2_0JIBWNn9"
      },
      "source": [
        ""
      ],
      "execution_count": null,
      "outputs": []
    }
  ]
}