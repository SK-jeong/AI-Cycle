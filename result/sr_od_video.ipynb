{
  "nbformat": 4,
  "nbformat_minor": 0,
  "metadata": {
    "colab": {
      "name": "sr_od_video.ipynb",
      "provenance": [],
      "collapsed_sections": [],
      "toc_visible": true,
      "include_colab_link": true
    },
    "kernelspec": {
      "name": "python3",
      "display_name": "Python 3"
    },
    "accelerator": "GPU"
  },
  "cells": [
    {
      "cell_type": "markdown",
      "metadata": {
        "id": "view-in-github",
        "colab_type": "text"
      },
      "source": [
        "<a href=\"https://colab.research.google.com/github/Taehee-K/AI-Cycle/blob/master/result/sr_od_video.ipynb\" target=\"_parent\"><img src=\"https://colab.research.google.com/assets/colab-badge.svg\" alt=\"Open In Colab\"/></a>"
      ]
    },
    {
      "cell_type": "markdown",
      "metadata": {
        "id": "CTqTBmNwtj7F"
      },
      "source": [
        "## Mount with your Google Drive"
      ]
    },
    {
      "cell_type": "code",
      "metadata": {
        "id": "6ZBqlVeQtY0O",
        "colab": {
          "base_uri": "https://localhost:8080/"
        },
        "outputId": "72b67834-a692-4bff-d15a-b3f936b166a0"
      },
      "source": [
        "from google.colab import drive\n",
        "drive.mount('/content/drive')"
      ],
      "execution_count": null,
      "outputs": [
        {
          "output_type": "stream",
          "text": [
            "Mounted at /content/drive\n"
          ],
          "name": "stdout"
        }
      ]
    },
    {
      "cell_type": "markdown",
      "metadata": {
        "id": "HalkELEPW0Xk"
      },
      "source": [
        "## Setup darknet environment\n",
        "(need CUDA 10.0 for darknet for colab)"
      ]
    },
    {
      "cell_type": "markdown",
      "metadata": {
        "id": "xtkijK24z-Ci"
      },
      "source": [
        "### Uninstall & Reinstall CUDA"
      ]
    },
    {
      "cell_type": "code",
      "metadata": {
        "id": "ksJTjAwkY5TT",
        "colab": {
          "base_uri": "https://localhost:8080/"
        },
        "outputId": "681e71cd-bdc9-42b6-bce7-9dc9dfb259b8"
      },
      "source": [
        "#Uninstall the current CUDA version\n",
        "!apt-get --purge remove cuda nvidia* libnvidia-*\n",
        "!dpkg -l | grep cuda- | awk '{print $2}' | xargs -n1 dpkg --purge\n",
        "!apt-get remove cuda-*\n",
        "!apt autoremove\n",
        "!apt-get update"
      ],
      "execution_count": null,
      "outputs": [
        {
          "output_type": "stream",
          "text": [
            "Reading package lists... Done\n",
            "Building dependency tree       \n",
            "Reading state information... Done\n",
            "Note, selecting 'nvidia-kernel-common-418-server' for glob 'nvidia*'\n",
            "Note, selecting 'nvidia-325-updates' for glob 'nvidia*'\n",
            "Note, selecting 'nvidia-346-updates' for glob 'nvidia*'\n",
            "Note, selecting 'nvidia-driver-binary' for glob 'nvidia*'\n",
            "Note, selecting 'nvidia-331-dev' for glob 'nvidia*'\n",
            "Note, selecting 'nvidia-304-updates-dev' for glob 'nvidia*'\n",
            "Note, selecting 'nvidia-compute-utils-418-server' for glob 'nvidia*'\n",
            "Note, selecting 'nvidia-384-dev' for glob 'nvidia*'\n",
            "Note, selecting 'nvidia-libopencl1-346-updates' for glob 'nvidia*'\n",
            "Note, selecting 'nvidia-driver-440-server' for glob 'nvidia*'\n",
            "Note, selecting 'nvidia-340-updates-uvm' for glob 'nvidia*'\n",
            "Note, selecting 'nvidia-dkms-450-server' for glob 'nvidia*'\n",
            "Note, selecting 'nvidia-kernel-common' for glob 'nvidia*'\n",
            "Note, selecting 'nvidia-kernel-source-440-server' for glob 'nvidia*'\n",
            "Note, selecting 'nvidia-331-updates-uvm' for glob 'nvidia*'\n",
            "Note, selecting 'nvidia-cg-toolkit' for glob 'nvidia*'\n",
            "Note, selecting 'nvidia-dkms-440-server' for glob 'nvidia*'\n",
            "Note, selecting 'nvidia-kernel-common-390' for glob 'nvidia*'\n",
            "Note, selecting 'nvidia-kernel-common-410' for glob 'nvidia*'\n",
            "Note, selecting 'nvidia-kernel-common-418' for glob 'nvidia*'\n",
            "Note, selecting 'nvidia-kernel-common-430' for glob 'nvidia*'\n",
            "Note, selecting 'nvidia-kernel-common-435' for glob 'nvidia*'\n",
            "Note, selecting 'nvidia-kernel-common-440' for glob 'nvidia*'\n",
            "Note, selecting 'nvidia-kernel-common-450' for glob 'nvidia*'\n",
            "Note, selecting 'nvidia-kernel-common-455' for glob 'nvidia*'\n",
            "Note, selecting 'nvidia-kernel-common-460' for glob 'nvidia*'\n",
            "Note, selecting 'nvidia-kernel-common-465' for glob 'nvidia*'\n",
            "Note, selecting 'nvidia-opencl-icd-340-updates' for glob 'nvidia*'\n",
            "Note, selecting 'nvidia-driver-460-server' for glob 'nvidia*'\n",
            "Note, selecting 'nvidia-384-updates' for glob 'nvidia*'\n",
            "Note, selecting 'nvidia-utils-440-server' for glob 'nvidia*'\n",
            "Note, selecting 'nvidia' for glob 'nvidia*'\n",
            "Note, selecting 'nvidia-driver' for glob 'nvidia*'\n",
            "Note, selecting 'nvidia-367-updates' for glob 'nvidia*'\n",
            "Note, selecting 'nvidia-kernel-source-460-server' for glob 'nvidia*'\n",
            "Note, selecting 'nvidia-modprobe' for glob 'nvidia*'\n",
            "Note, selecting 'nvidia-kernel-common-440-server' for glob 'nvidia*'\n",
            "Note, selecting 'nvidia-driver-450-server' for glob 'nvidia*'\n",
            "Note, selecting 'nvidia-dkms-460-server' for glob 'nvidia*'\n",
            "Note, selecting 'nvidia-texture-tools' for glob 'nvidia*'\n",
            "Note, selecting 'nvidia-utils' for glob 'nvidia*'\n",
            "Note, selecting 'nvidia-compute-utils-440-server' for glob 'nvidia*'\n",
            "Note, selecting 'nvidia-387-updates' for glob 'nvidia*'\n",
            "Note, selecting 'nvidia-kernel-source-450-server' for glob 'nvidia*'\n",
            "Note, selecting 'nvidia-current-diagnostic' for glob 'nvidia*'\n",
            "Note, selecting 'nvidia-legacy-340xx-vdpau-driver' for glob 'nvidia*'\n",
            "Note, selecting 'nvidia-349-updates' for glob 'nvidia*'\n",
            "Note, selecting 'nvidia-utils-460-server' for glob 'nvidia*'\n",
            "Note, selecting 'nvidia-opencl-icd-304-updates' for glob 'nvidia*'\n",
            "Note, selecting 'nvidia-310-updates' for glob 'nvidia*'\n",
            "Note, selecting 'nvidia-331-updates' for glob 'nvidia*'\n",
            "Note, selecting 'nvidia-352-dev' for glob 'nvidia*'\n",
            "Note, selecting 'nvidia-prebuilt-kernel' for glob 'nvidia*'\n",
            "Note, selecting 'nvidia-legacy-304xx-vdpau-driver' for glob 'nvidia*'\n",
            "Note, selecting 'nvidia-vdpau-driver' for glob 'nvidia*'\n",
            "Note, selecting 'nvidia-headless-no-dkms-418-server' for glob 'nvidia*'\n",
            "Note, selecting 'nvidia-kernel-common-460-server' for glob 'nvidia*'\n",
            "Note, selecting 'nvidia-fabricmanager-450' for glob 'nvidia*'\n",
            "Note, selecting 'nvidia-fabricmanager-455' for glob 'nvidia*'\n",
            "Note, selecting 'nvidia-fabricmanager-460' for glob 'nvidia*'\n",
            "Note, selecting 'nvidia-fabricmanager-465' for glob 'nvidia*'\n",
            "Note, selecting 'nvidia-346-dev' for glob 'nvidia*'\n",
            "Note, selecting 'nvidia-compute-utils' for glob 'nvidia*'\n",
            "Note, selecting 'nvidia-utils-450-server' for glob 'nvidia*'\n",
            "Note, selecting 'nvidia-libopencl1-331-updates' for glob 'nvidia*'\n",
            "Note, selecting 'nvidia-compute-utils-460-server' for glob 'nvidia*'\n",
            "Note, selecting 'nvidia-utils-390' for glob 'nvidia*'\n",
            "Note, selecting 'nvidia-smi' for glob 'nvidia*'\n",
            "Note, selecting 'nvidia-kernel-common-450-server' for glob 'nvidia*'\n",
            "Note, selecting 'nvidia-opencl-icd-361-updates' for glob 'nvidia*'\n",
            "Note, selecting 'nvidia-313-updates' for glob 'nvidia*'\n",
            "Note, selecting 'nvidia-legacy-340xx-kernel-dkms' for glob 'nvidia*'\n",
            "Note, selecting 'nvidia-334-updates' for glob 'nvidia*'\n",
            "Note, selecting 'nvidia-utils-410' for glob 'nvidia*'\n",
            "Note, selecting 'nvidia-utils-418' for glob 'nvidia*'\n",
            "Note, selecting 'nvidia-utils-430' for glob 'nvidia*'\n",
            "Note, selecting 'nvidia-utils-435' for glob 'nvidia*'\n",
            "Note, selecting 'nvidia-utils-440' for glob 'nvidia*'\n",
            "Note, selecting 'nvidia-utils-450' for glob 'nvidia*'\n",
            "Note, selecting 'nvidia-utils-455' for glob 'nvidia*'\n",
            "Note, selecting 'nvidia-utils-460' for glob 'nvidia*'\n",
            "Note, selecting 'nvidia-utils-465' for glob 'nvidia*'\n",
            "Note, selecting 'nvidia-331-uvm' for glob 'nvidia*'\n",
            "Note, selecting 'nvidia-compute-utils-450-server' for glob 'nvidia*'\n",
            "Note, selecting 'nvidia-fabricmanager-dev' for glob 'nvidia*'\n",
            "Note, selecting 'nvidia-prime' for glob 'nvidia*'\n",
            "Note, selecting 'nvidia-dkms-390' for glob 'nvidia*'\n",
            "Note, selecting 'nvidia-kernel-dkms' for glob 'nvidia*'\n",
            "Note, selecting 'nvidia-dkms-410' for glob 'nvidia*'\n",
            "Note, selecting 'nvidia-dkms-418' for glob 'nvidia*'\n",
            "Note, selecting 'nvidia-dkms-430' for glob 'nvidia*'\n",
            "Note, selecting 'nvidia-dkms-435' for glob 'nvidia*'\n",
            "Note, selecting 'nvidia-dkms-440' for glob 'nvidia*'\n",
            "Note, selecting 'nvidia-dkms-450' for glob 'nvidia*'\n",
            "Note, selecting 'nvidia-dkms-455' for glob 'nvidia*'\n",
            "Note, selecting 'nvidia-dkms-460' for glob 'nvidia*'\n",
            "Note, selecting 'nvidia-dkms-465' for glob 'nvidia*'\n",
            "Note, selecting 'nvidia-current-updates' for glob 'nvidia*'\n",
            "Note, selecting 'nvidia-340-dev' for glob 'nvidia*'\n",
            "Note, selecting 'nvidia-fabricmanager' for glob 'nvidia*'\n",
            "Note, selecting 'nvidia-nsight' for glob 'nvidia*'\n",
            "Note, selecting 'nvidia-common' for glob 'nvidia*'\n",
            "Note, selecting 'nvidia-headless-no-dkms-450-server' for glob 'nvidia*'\n",
            "Note, selecting 'nvidia-opencl-icd-346-updates' for glob 'nvidia*'\n",
            "Note, selecting 'nvidia-352-updates' for glob 'nvidia*'\n",
            "Note, selecting 'nvidia-headless-no-dkms-390' for glob 'nvidia*'\n",
            "Note, selecting 'nvidia-headless-418-server' for glob 'nvidia*'\n",
            "Note, selecting 'nvidia-headless-no-dkms-410' for glob 'nvidia*'\n",
            "Note, selecting 'nvidia-headless-no-dkms-418' for glob 'nvidia*'\n",
            "Note, selecting 'nvidia-headless-no-dkms-430' for glob 'nvidia*'\n",
            "Note, selecting 'nvidia-headless-no-dkms-435' for glob 'nvidia*'\n",
            "Note, selecting 'nvidia-headless-no-dkms-440' for glob 'nvidia*'\n",
            "Note, selecting 'nvidia-headless-no-dkms-450' for glob 'nvidia*'\n",
            "Note, selecting 'nvidia-headless-no-dkms-455' for glob 'nvidia*'\n",
            "Note, selecting 'nvidia-headless-no-dkms-460' for glob 'nvidia*'\n",
            "Note, selecting 'nvidia-headless-no-dkms-465' for glob 'nvidia*'\n",
            "Note, selecting 'nvidia-current-dev' for glob 'nvidia*'\n",
            "Note, selecting 'nvidia-libopencl1-352-updates' for glob 'nvidia*'\n",
            "Note, selecting 'nvidia-compute-utils-390' for glob 'nvidia*'\n",
            "Note, selecting 'nvidia-headless-no-dkms-440-server' for glob 'nvidia*'\n",
            "Note, selecting 'nvidia-compute-utils-410' for glob 'nvidia*'\n",
            "Note, selecting 'nvidia-compute-utils-418' for glob 'nvidia*'\n",
            "Note, selecting 'nvidia-compute-utils-430' for glob 'nvidia*'\n",
            "Note, selecting 'nvidia-compute-utils-435' for glob 'nvidia*'\n",
            "Note, selecting 'nvidia-compute-utils-440' for glob 'nvidia*'\n",
            "Note, selecting 'nvidia-compute-utils-450' for glob 'nvidia*'\n",
            "Note, selecting 'nvidia-compute-utils-455' for glob 'nvidia*'\n",
            "Note, selecting 'nvidia-compute-utils-460' for glob 'nvidia*'\n",
            "Note, selecting 'nvidia-compute-utils-465' for glob 'nvidia*'\n",
            "Note, selecting 'nvidia-355-updates' for glob 'nvidia*'\n",
            "Note, selecting 'nvidia-driver-libs-nonglvnd' for glob 'nvidia*'\n",
            "Note, selecting 'nvidia-375-dev' for glob 'nvidia*'\n",
            "Note, selecting 'nvidia-current' for glob 'nvidia*'\n",
            "Note, selecting 'nvidia-profiler' for glob 'nvidia*'\n",
            "Note, selecting 'nvidia-375-updates' for glob 'nvidia*'\n",
            "Note, selecting 'nvidia-driver-390' for glob 'nvidia*'\n",
            "Note, selecting 'nvidia-337-updates' for glob 'nvidia*'\n",
            "Note, selecting 'nvidia-358-updates' for glob 'nvidia*'\n",
            "Note, selecting 'nvidia-367-dev' for glob 'nvidia*'\n",
            "Note, selecting 'nvidia-driver-410' for glob 'nvidia*'\n",
            "Note, selecting 'nvidia-driver-418' for glob 'nvidia*'\n",
            "Note, selecting 'nvidia-driver-430' for glob 'nvidia*'\n",
            "Note, selecting 'nvidia-driver-435' for glob 'nvidia*'\n",
            "Note, selecting 'nvidia-driver-440' for glob 'nvidia*'\n",
            "Note, selecting 'nvidia-driver-450' for glob 'nvidia*'\n",
            "Note, selecting 'nvidia-driver-455' for glob 'nvidia*'\n",
            "Note, selecting 'nvidia-driver-460' for glob 'nvidia*'\n",
            "Note, selecting 'nvidia-driver-465' for glob 'nvidia*'\n",
            "Note, selecting 'nvidia-cuda-toolkit' for glob 'nvidia*'\n",
            "Note, selecting 'nvidia-headless-no-dkms-460-server' for glob 'nvidia*'\n",
            "Note, selecting 'nvidia-legacy-304xx-driver' for glob 'nvidia*'\n",
            "Note, selecting 'nvidia-driver-libs' for glob 'nvidia*'\n",
            "Note, selecting 'nvidia-kernel-source' for glob 'nvidia*'\n",
            "Note, selecting 'nvidia-378-updates' for glob 'nvidia*'\n",
            "Note, selecting 'nvidia-headless-450-server' for glob 'nvidia*'\n",
            "Note, selecting 'nvidia-headless' for glob 'nvidia*'\n",
            "Note, selecting 'nvidia-340-updates-dev' for glob 'nvidia*'\n",
            "Note, selecting 'nvidia-319-updates' for glob 'nvidia*'\n",
            "Note, selecting 'nvidia-fabricmanager-dev-450' for glob 'nvidia*'\n",
            "Note, selecting 'nvidia-fabricmanager-dev-455' for glob 'nvidia*'\n",
            "Note, selecting 'nvidia-fabricmanager-dev-460' for glob 'nvidia*'\n",
            "Note, selecting 'nvidia-fabricmanager-dev-465' for glob 'nvidia*'\n",
            "Note, selecting 'nvidia-304-dev' for glob 'nvidia*'\n",
            "Note, selecting 'nvidia-331-updates-dev' for glob 'nvidia*'\n",
            "Note, selecting 'nvidia-headless-440-server' for glob 'nvidia*'\n",
            "Note, selecting 'nvidia-visual-profiler' for glob 'nvidia*'\n",
            "Note, selecting 'nvidia-persistenced' for glob 'nvidia*'\n",
            "Note, selecting 'nvidia-361-dev' for glob 'nvidia*'\n",
            "Note, selecting 'nvidia-settings-binary' for glob 'nvidia*'\n",
            "Note, selecting 'nvidia-361-updates-dev' for glob 'nvidia*'\n",
            "Note, selecting 'nvidia-libopencl1-304' for glob 'nvidia*'\n",
            "Note, selecting 'nvidia-libopencl1-331' for glob 'nvidia*'\n",
            "Note, selecting 'nvidia-libopencl1-340' for glob 'nvidia*'\n",
            "Note, selecting 'nvidia-libopencl1-346' for glob 'nvidia*'\n",
            "Note, selecting 'nvidia-libopencl1-352' for glob 'nvidia*'\n",
            "Note, selecting 'nvidia-libopencl1-361' for glob 'nvidia*'\n",
            "Note, selecting 'nvidia-libopencl1-367' for glob 'nvidia*'\n",
            "Note, selecting 'nvidia-libopencl1-375' for glob 'nvidia*'\n",
            "Note, selecting 'nvidia-libopencl1-384' for glob 'nvidia*'\n",
            "Note, selecting 'nvidia-352-updates-dev' for glob 'nvidia*'\n",
            "Note, selecting 'nvidia-opencl-icd-331-updates' for glob 'nvidia*'\n",
            "Note, selecting 'nvidia-opencl-icd-352-updates' for glob 'nvidia*'\n",
            "Note, selecting 'nvidia-304-updates' for glob 'nvidia*'\n",
            "Note, selecting 'nvidia-340-uvm' for glob 'nvidia*'\n",
            "Note, selecting 'nvidia-machine-learning-repo-ubuntu1804' for glob 'nvidia*'\n",
            "Note, selecting 'nvidia-headless-390' for glob 'nvidia*'\n",
            "Note, selecting 'nvidia-legacy-340xx-driver' for glob 'nvidia*'\n",
            "Note, selecting 'nvidia-headless-460-server' for glob 'nvidia*'\n",
            "Note, selecting 'nvidia-driver-418-server' for glob 'nvidia*'\n",
            "Note, selecting 'nvidia-libopencl1-304-updates' for glob 'nvidia*'\n",
            "Note, selecting 'nvidia-headless-410' for glob 'nvidia*'\n",
            "Note, selecting 'nvidia-headless-418' for glob 'nvidia*'\n",
            "Note, selecting 'nvidia-headless-430' for glob 'nvidia*'\n",
            "Note, selecting 'nvidia-headless-435' for glob 'nvidia*'\n",
            "Note, selecting 'nvidia-headless-440' for glob 'nvidia*'\n",
            "Note, selecting 'nvidia-headless-450' for glob 'nvidia*'\n",
            "Note, selecting 'nvidia-headless-455' for glob 'nvidia*'\n",
            "Note, selecting 'nvidia-headless-460' for glob 'nvidia*'\n",
            "Note, selecting 'nvidia-headless-465' for glob 'nvidia*'\n",
            "Note, selecting 'nvidia-cuda-dev' for glob 'nvidia*'\n",
            "Note, selecting 'nvidia-cuda-doc' for glob 'nvidia*'\n",
            "Note, selecting 'nvidia-340-updates' for glob 'nvidia*'\n",
            "Note, selecting 'nvidia-kernel-source-418-server' for glob 'nvidia*'\n",
            "Note, selecting 'nvidia-361-updates' for glob 'nvidia*'\n",
            "Note, selecting 'nvidia-libopencl1-dev' for glob 'nvidia*'\n",
            "Note, selecting 'nvidia-opencl-dev' for glob 'nvidia*'\n",
            "Note, selecting 'nvidia-legacy-304xx-kernel-dkms' for glob 'nvidia*'\n",
            "Note, selecting 'nvidia-cg-dev' for glob 'nvidia*'\n",
            "Note, selecting 'nvidia-dkms-418-server' for glob 'nvidia*'\n",
            "Note, selecting 'nvidia-cg-doc' for glob 'nvidia*'\n",
            "Note, selecting 'nvidia-libopencl1' for glob 'nvidia*'\n",
            "Note, selecting 'nvidia-libopencl1-340-updates' for glob 'nvidia*'\n",
            "Note, selecting 'nvidia-libopencl1-361-updates' for glob 'nvidia*'\n",
            "Note, selecting 'nvidia-381-updates' for glob 'nvidia*'\n",
            "Note, selecting 'nvidia-opencl-icd-304' for glob 'nvidia*'\n",
            "Note, selecting 'nvidia-opencl-icd-331' for glob 'nvidia*'\n",
            "Note, selecting 'nvidia-opencl-icd-340' for glob 'nvidia*'\n",
            "Note, selecting 'nvidia-opencl-icd-346' for glob 'nvidia*'\n",
            "Note, selecting 'nvidia-opencl-icd-352' for glob 'nvidia*'\n",
            "Note, selecting 'nvidia-opencl-icd-361' for glob 'nvidia*'\n",
            "Note, selecting 'nvidia-opencl-icd-367' for glob 'nvidia*'\n",
            "Note, selecting 'nvidia-opencl-icd-375' for glob 'nvidia*'\n",
            "Note, selecting 'nvidia-cuda-gdb' for glob 'nvidia*'\n",
            "Note, selecting 'nvidia-experimental-304' for glob 'nvidia*'\n",
            "Note, selecting 'nvidia-opencl-icd-384' for glob 'nvidia*'\n",
            "Note, selecting 'nvidia-experimental-310' for glob 'nvidia*'\n",
            "Note, selecting 'nvidia-experimental-313' for glob 'nvidia*'\n",
            "Note, selecting 'nvidia-experimental-319' for glob 'nvidia*'\n",
            "Note, selecting 'nvidia-experimental-325' for glob 'nvidia*'\n",
            "Note, selecting 'nvidia-experimental-331' for glob 'nvidia*'\n",
            "Note, selecting 'nvidia-experimental-334' for glob 'nvidia*'\n",
            "Note, selecting 'nvidia-experimental-337' for glob 'nvidia*'\n",
            "Note, selecting 'nvidia-experimental-340' for glob 'nvidia*'\n",
            "Note, selecting 'nvidia-experimental-343' for glob 'nvidia*'\n",
            "Note, selecting 'nvidia-experimental-346' for glob 'nvidia*'\n",
            "Note, selecting 'nvidia-experimental-349' for glob 'nvidia*'\n",
            "Note, selecting 'nvidia-experimental-352' for glob 'nvidia*'\n",
            "Note, selecting 'nvidia-experimental-355' for glob 'nvidia*'\n",
            "Note, selecting 'nvidia-experimental-358' for glob 'nvidia*'\n",
            "Note, selecting 'nvidia-experimental-361' for glob 'nvidia*'\n",
            "Note, selecting 'nvidia-experimental-364' for glob 'nvidia*'\n",
            "Note, selecting 'nvidia-experimental-367' for glob 'nvidia*'\n",
            "Note, selecting 'nvidia-experimental-375' for glob 'nvidia*'\n",
            "Note, selecting 'nvidia-experimental-378' for glob 'nvidia*'\n",
            "Note, selecting 'nvidia-experimental-381' for glob 'nvidia*'\n",
            "Note, selecting 'nvidia-experimental-384' for glob 'nvidia*'\n",
            "Note, selecting 'nvidia-experimental-387' for glob 'nvidia*'\n",
            "Note, selecting 'nvidia-343-updates' for glob 'nvidia*'\n",
            "Note, selecting 'nvidia-364-updates' for glob 'nvidia*'\n",
            "Note, selecting 'nvidia-304' for glob 'nvidia*'\n",
            "Note, selecting 'nvidia-310' for glob 'nvidia*'\n",
            "Note, selecting 'nvidia-313' for glob 'nvidia*'\n",
            "Note, selecting 'nvidia-319' for glob 'nvidia*'\n",
            "Note, selecting 'nvidia-325' for glob 'nvidia*'\n",
            "Note, selecting 'nvidia-331' for glob 'nvidia*'\n",
            "Note, selecting 'nvidia-334' for glob 'nvidia*'\n",
            "Note, selecting 'nvidia-337' for glob 'nvidia*'\n",
            "Note, selecting 'nvidia-340' for glob 'nvidia*'\n",
            "Note, selecting 'nvidia-343' for glob 'nvidia*'\n",
            "Note, selecting 'nvidia-346' for glob 'nvidia*'\n",
            "Note, selecting 'nvidia-349' for glob 'nvidia*'\n",
            "Note, selecting 'nvidia-352' for glob 'nvidia*'\n",
            "Note, selecting 'nvidia-355' for glob 'nvidia*'\n",
            "Note, selecting 'nvidia-358' for glob 'nvidia*'\n",
            "Note, selecting 'nvidia-kernel-source-390' for glob 'nvidia*'\n",
            "Note, selecting 'nvidia-361' for glob 'nvidia*'\n",
            "Note, selecting 'nvidia-364' for glob 'nvidia*'\n",
            "Note, selecting 'nvidia-367' for glob 'nvidia*'\n",
            "Note, selecting 'nvidia-375' for glob 'nvidia*'\n",
            "Note, selecting 'nvidia-378' for glob 'nvidia*'\n",
            "Note, selecting 'nvidia-381' for glob 'nvidia*'\n",
            "Note, selecting 'nvidia-384' for glob 'nvidia*'\n",
            "Note, selecting 'nvidia-387' for glob 'nvidia*'\n",
            "Note, selecting 'nvidia-dkms-kernel' for glob 'nvidia*'\n",
            "Note, selecting 'nvidia-390' for glob 'nvidia*'\n",
            "Note, selecting 'nvidia-kernel-source-410' for glob 'nvidia*'\n",
            "Note, selecting 'nvidia-kernel-source-418' for glob 'nvidia*'\n",
            "Note, selecting 'nvidia-utils-418-server' for glob 'nvidia*'\n",
            "Note, selecting 'nvidia-346-updates-dev' for glob 'nvidia*'\n",
            "Note, selecting 'nvidia-kernel-source-430' for glob 'nvidia*'\n",
            "Note, selecting 'nvidia-kernel-source-435' for glob 'nvidia*'\n",
            "Note, selecting 'nvidia-kernel-source-440' for glob 'nvidia*'\n",
            "Note, selecting 'nvidia-kernel-source-450' for glob 'nvidia*'\n",
            "Note, selecting 'nvidia-kernel-source-455' for glob 'nvidia*'\n",
            "Note, selecting 'nvidia-kernel-source-460' for glob 'nvidia*'\n",
            "Note, selecting 'nvidia-kernel-source-465' for glob 'nvidia*'\n",
            "Note, selecting 'nvidia-settings' for glob 'nvidia*'\n",
            "Note, selecting 'nvidia-opencl-icd' for glob 'nvidia*'\n",
            "Note, selecting 'nvidia-settings' instead of 'nvidia-settings-binary'\n",
            "Package 'nvidia-libopencl1-dev' is not installed, so not removed\n",
            "Package 'nvidia-libopencl1' is not installed, so not removed\n",
            "Package 'nvidia-vdpau-driver' is not installed, so not removed\n",
            "Package 'nvidia-legacy-340xx-vdpau-driver' is not installed, so not removed\n",
            "Package 'nvidia-390' is not installed, so not removed\n",
            "Package 'nvidia-driver' is not installed, so not removed\n",
            "Package 'nvidia-legacy-340xx-driver' is not installed, so not removed\n",
            "Package 'nvidia-legacy-304xx-driver' is not installed, so not removed\n",
            "Package 'nvidia-kernel-dkms' is not installed, so not removed\n",
            "Package 'nvidia-legacy-340xx-kernel-dkms' is not installed, so not removed\n",
            "Package 'nvidia-legacy-304xx-kernel-dkms' is not installed, so not removed\n",
            "Package 'nvidia' is not installed, so not removed\n",
            "Package 'nvidia-current-updates' is not installed, so not removed\n",
            "Package 'nvidia-experimental-304' is not installed, so not removed\n",
            "Package 'nvidia-310' is not installed, so not removed\n",
            "Package 'nvidia-310-updates' is not installed, so not removed\n",
            "Package 'nvidia-experimental-310' is not installed, so not removed\n",
            "Package 'nvidia-313' is not installed, so not removed\n",
            "Package 'nvidia-313-updates' is not installed, so not removed\n",
            "Package 'nvidia-experimental-313' is not installed, so not removed\n",
            "Package 'nvidia-319' is not installed, so not removed\n",
            "Package 'nvidia-319-updates' is not installed, so not removed\n",
            "Package 'nvidia-experimental-319' is not installed, so not removed\n",
            "Package 'nvidia-325' is not installed, so not removed\n",
            "Package 'nvidia-325-updates' is not installed, so not removed\n",
            "Package 'nvidia-experimental-325' is not installed, so not removed\n",
            "Package 'nvidia-experimental-331' is not installed, so not removed\n",
            "Package 'nvidia-334' is not installed, so not removed\n",
            "Package 'nvidia-334-updates' is not installed, so not removed\n",
            "Package 'nvidia-experimental-334' is not installed, so not removed\n",
            "Package 'nvidia-337' is not installed, so not removed\n",
            "Package 'nvidia-337-updates' is not installed, so not removed\n",
            "Package 'nvidia-experimental-337' is not installed, so not removed\n",
            "Package 'nvidia-experimental-340' is not installed, so not removed\n",
            "Package 'nvidia-343' is not installed, so not removed\n",
            "Package 'nvidia-343-updates' is not installed, so not removed\n",
            "Package 'nvidia-experimental-343' is not installed, so not removed\n",
            "Package 'nvidia-experimental-346' is not installed, so not removed\n",
            "Package 'nvidia-349' is not installed, so not removed\n",
            "Package 'nvidia-349-updates' is not installed, so not removed\n",
            "Package 'nvidia-experimental-349' is not installed, so not removed\n",
            "Package 'nvidia-experimental-352' is not installed, so not removed\n",
            "Package 'nvidia-355' is not installed, so not removed\n",
            "Package 'nvidia-355-updates' is not installed, so not removed\n",
            "Package 'nvidia-experimental-355' is not installed, so not removed\n",
            "Package 'nvidia-358' is not installed, so not removed\n",
            "Package 'nvidia-358-updates' is not installed, so not removed\n",
            "Package 'nvidia-experimental-358' is not installed, so not removed\n",
            "Package 'nvidia-experimental-361' is not installed, so not removed\n",
            "Package 'nvidia-364' is not installed, so not removed\n",
            "Package 'nvidia-364-updates' is not installed, so not removed\n",
            "Package 'nvidia-experimental-364' is not installed, so not removed\n",
            "Package 'nvidia-367-updates' is not installed, so not removed\n",
            "Package 'nvidia-experimental-367' is not installed, so not removed\n",
            "Package 'nvidia-375-updates' is not installed, so not removed\n",
            "Package 'nvidia-experimental-375' is not installed, so not removed\n",
            "Package 'nvidia-378' is not installed, so not removed\n",
            "Package 'nvidia-378-updates' is not installed, so not removed\n",
            "Package 'nvidia-experimental-378' is not installed, so not removed\n",
            "Package 'nvidia-381' is not installed, so not removed\n",
            "Package 'nvidia-381-updates' is not installed, so not removed\n",
            "Package 'nvidia-experimental-381' is not installed, so not removed\n",
            "Package 'nvidia-384-updates' is not installed, so not removed\n",
            "Package 'nvidia-experimental-384' is not installed, so not removed\n",
            "Package 'nvidia-387' is not installed, so not removed\n",
            "Package 'nvidia-387-updates' is not installed, so not removed\n",
            "Package 'nvidia-experimental-387' is not installed, so not removed\n",
            "Note, selecting 'libnvtt-bin' instead of 'nvidia-texture-tools'\n",
            "Package 'nvidia-driver-libs' is not installed, so not removed\n",
            "Package 'nvidia-driver-libs-nonglvnd' is not installed, so not removed\n",
            "Package 'nvidia-legacy-304xx-vdpau-driver' is not installed, so not removed\n",
            "Note, selecting 'libnvidia-encode-418-server' for glob 'libnvidia-*'\n",
            "Note, selecting 'libnvidia-compute-450-server' for glob 'libnvidia-*'\n",
            "Note, selecting 'libnvidia-gl-460-server' for glob 'libnvidia-*'\n",
            "Note, selecting 'libnvidia-encode' for glob 'libnvidia-*'\n",
            "Note, selecting 'libnvidia-fbc1-450-server' for glob 'libnvidia-*'\n",
            "Note, selecting 'libnvidia-compute-440-server' for glob 'libnvidia-*'\n",
            "Note, selecting 'libnvidia-gl-450-server' for glob 'libnvidia-*'\n",
            "Note, selecting 'libnvidia-compute-390' for glob 'libnvidia-*'\n",
            "Note, selecting 'libnvidia-ifr1-418-server' for glob 'libnvidia-*'\n",
            "Note, selecting 'libnvidia-fbc1-440-server' for glob 'libnvidia-*'\n",
            "Note, selecting 'libnvidia-compute-410' for glob 'libnvidia-*'\n",
            "Note, selecting 'libnvidia-compute-418' for glob 'libnvidia-*'\n",
            "Note, selecting 'libnvidia-compute-430' for glob 'libnvidia-*'\n",
            "Note, selecting 'libnvidia-compute-435' for glob 'libnvidia-*'\n",
            "Note, selecting 'libnvidia-compute-440' for glob 'libnvidia-*'\n",
            "Note, selecting 'libnvidia-common-418-server' for glob 'libnvidia-*'\n",
            "Note, selecting 'libnvidia-compute-450' for glob 'libnvidia-*'\n",
            "Note, selecting 'libnvidia-compute-455' for glob 'libnvidia-*'\n",
            "Note, selecting 'libnvidia-compute-460' for glob 'libnvidia-*'\n",
            "Note, selecting 'libnvidia-compute-465' for glob 'libnvidia-*'\n",
            "Note, selecting 'libnvidia-ml1' for glob 'libnvidia-*'\n",
            "Note, selecting 'libnvidia-encode-390' for glob 'libnvidia-*'\n",
            "Note, selecting 'libnvidia-encode-410' for glob 'libnvidia-*'\n",
            "Note, selecting 'libnvidia-encode-418' for glob 'libnvidia-*'\n",
            "Note, selecting 'libnvidia-encode-430' for glob 'libnvidia-*'\n",
            "Note, selecting 'libnvidia-encode-435' for glob 'libnvidia-*'\n",
            "Note, selecting 'libnvidia-encode-440' for glob 'libnvidia-*'\n",
            "Note, selecting 'libnvidia-encode-450' for glob 'libnvidia-*'\n",
            "Note, selecting 'libnvidia-encode-455' for glob 'libnvidia-*'\n",
            "Note, selecting 'libnvidia-encode-460' for glob 'libnvidia-*'\n",
            "Note, selecting 'libnvidia-encode-465' for glob 'libnvidia-*'\n",
            "Note, selecting 'libnvidia-decode-450-server' for glob 'libnvidia-*'\n",
            "Note, selecting 'libnvidia-gl-390' for glob 'libnvidia-*'\n",
            "Note, selecting 'libnvidia-gl-410' for glob 'libnvidia-*'\n",
            "Note, selecting 'libnvidia-gl-418' for glob 'libnvidia-*'\n",
            "Note, selecting 'libnvidia-gl-430' for glob 'libnvidia-*'\n",
            "Note, selecting 'libnvidia-gl-435' for glob 'libnvidia-*'\n",
            "Note, selecting 'libnvidia-gl-440' for glob 'libnvidia-*'\n",
            "Note, selecting 'libnvidia-gl-450' for glob 'libnvidia-*'\n",
            "Note, selecting 'libnvidia-gl-455' for glob 'libnvidia-*'\n",
            "Note, selecting 'libnvidia-gl-460' for glob 'libnvidia-*'\n",
            "Note, selecting 'libnvidia-gl-465' for glob 'libnvidia-*'\n",
            "Note, selecting 'libnvidia-fbc1-390' for glob 'libnvidia-*'\n",
            "Note, selecting 'libnvidia-decode-440-server' for glob 'libnvidia-*'\n",
            "Note, selecting 'libnvidia-encode-450-server' for glob 'libnvidia-*'\n",
            "Note, selecting 'libnvidia-decode-390' for glob 'libnvidia-*'\n",
            "Note, selecting 'libnvidia-fbc1-410' for glob 'libnvidia-*'\n",
            "Note, selecting 'libnvidia-fbc1-418' for glob 'libnvidia-*'\n",
            "Note, selecting 'libnvidia-fbc1-430' for glob 'libnvidia-*'\n",
            "Note, selecting 'libnvidia-fbc1-435' for glob 'libnvidia-*'\n",
            "Note, selecting 'libnvidia-fbc1-460-server' for glob 'libnvidia-*'\n",
            "Note, selecting 'libnvidia-fbc1-440' for glob 'libnvidia-*'\n",
            "Note, selecting 'libnvidia-fbc1-450' for glob 'libnvidia-*'\n",
            "Note, selecting 'libnvidia-fbc1-455' for glob 'libnvidia-*'\n",
            "Note, selecting 'libnvidia-fbc1-460' for glob 'libnvidia-*'\n",
            "Note, selecting 'libnvidia-fbc1-465' for glob 'libnvidia-*'\n",
            "Note, selecting 'libnvidia-decode-410' for glob 'libnvidia-*'\n",
            "Note, selecting 'libnvidia-decode-418' for glob 'libnvidia-*'\n",
            "Note, selecting 'libnvidia-decode-430' for glob 'libnvidia-*'\n",
            "Note, selecting 'libnvidia-decode-435' for glob 'libnvidia-*'\n",
            "Note, selecting 'libnvidia-decode-440' for glob 'libnvidia-*'\n",
            "Note, selecting 'libnvidia-decode-450' for glob 'libnvidia-*'\n",
            "Note, selecting 'libnvidia-decode-455' for glob 'libnvidia-*'\n",
            "Note, selecting 'libnvidia-decode-460' for glob 'libnvidia-*'\n",
            "Note, selecting 'libnvidia-decode-465' for glob 'libnvidia-*'\n",
            "Note, selecting 'libnvidia-cfg1-418-server' for glob 'libnvidia-*'\n",
            "Note, selecting 'libnvidia-encode-440-server' for glob 'libnvidia-*'\n",
            "Note, selecting 'libnvidia-common-450-server' for glob 'libnvidia-*'\n",
            "Note, selecting 'libnvidia-extra' for glob 'libnvidia-*'\n",
            "Note, selecting 'libnvidia-decode-460-server' for glob 'libnvidia-*'\n",
            "Note, selecting 'libnvidia-cfg1-390' for glob 'libnvidia-*'\n",
            "Note, selecting 'libnvidia-ifr1-440-server' for glob 'libnvidia-*'\n",
            "Note, selecting 'libnvidia-cfg1-410' for glob 'libnvidia-*'\n",
            "Note, selecting 'libnvidia-cfg1-418' for glob 'libnvidia-*'\n",
            "Note, selecting 'libnvidia-cfg1-430' for glob 'libnvidia-*'\n",
            "Note, selecting 'libnvidia-cfg1-435' for glob 'libnvidia-*'\n",
            "Note, selecting 'libnvidia-cfg1-440' for glob 'libnvidia-*'\n",
            "Note, selecting 'libnvidia-cfg1-450' for glob 'libnvidia-*'\n",
            "Note, selecting 'libnvidia-cfg1-455' for glob 'libnvidia-*'\n",
            "Note, selecting 'libnvidia-cfg1-460' for glob 'libnvidia-*'\n",
            "Note, selecting 'libnvidia-cfg1-465' for glob 'libnvidia-*'\n",
            "Note, selecting 'libnvidia-common-440-server' for glob 'libnvidia-*'\n",
            "Note, selecting 'libnvidia-cfg1-any' for glob 'libnvidia-*'\n",
            "Note, selecting 'libnvidia-encode-460-server' for glob 'libnvidia-*'\n",
            "Note, selecting 'libnvidia-diagnostic-410' for glob 'libnvidia-*'\n",
            "Note, selecting 'libnvidia-diagnostic-418' for glob 'libnvidia-*'\n",
            "Note, selecting 'libnvidia-ifr1-460-server' for glob 'libnvidia-*'\n",
            "Note, selecting 'libnvidia-gl' for glob 'libnvidia-*'\n",
            "Note, selecting 'libnvidia-diagnostic' for glob 'libnvidia-*'\n",
            "Note, selecting 'libnvidia-common-460-server' for glob 'libnvidia-*'\n",
            "Note, selecting 'libnvidia-cfg1-440-server' for glob 'libnvidia-*'\n",
            "Note, selecting 'libnvidia-ifr1-450-server' for glob 'libnvidia-*'\n",
            "Note, selecting 'libnvidia-fbc1' for glob 'libnvidia-*'\n",
            "Note, selecting 'libnvidia-cfg1-460-server' for glob 'libnvidia-*'\n",
            "Note, selecting 'libnvidia-cfg1-450-server' for glob 'libnvidia-*'\n",
            "Note, selecting 'libnvidia-nscq' for glob 'libnvidia-*'\n",
            "Note, selecting 'libnvidia-ifr1-390' for glob 'libnvidia-*'\n",
            "Note, selecting 'libnvidia-ifr1-410' for glob 'libnvidia-*'\n",
            "Note, selecting 'libnvidia-ifr1-418' for glob 'libnvidia-*'\n",
            "Note, selecting 'libnvidia-ifr1-430' for glob 'libnvidia-*'\n",
            "Note, selecting 'libnvidia-ifr1-435' for glob 'libnvidia-*'\n",
            "Note, selecting 'libnvidia-ifr1-440' for glob 'libnvidia-*'\n",
            "Note, selecting 'libnvidia-ifr1-450' for glob 'libnvidia-*'\n",
            "Note, selecting 'libnvidia-ifr1-455' for glob 'libnvidia-*'\n",
            "Note, selecting 'libnvidia-ifr1-460' for glob 'libnvidia-*'\n",
            "Note, selecting 'libnvidia-ifr1-465' for glob 'libnvidia-*'\n",
            "Note, selecting 'libnvidia-nscq-450' for glob 'libnvidia-*'\n",
            "Note, selecting 'libnvidia-nscq-455' for glob 'libnvidia-*'\n",
            "Note, selecting 'libnvidia-nscq-460' for glob 'libnvidia-*'\n",
            "Note, selecting 'libnvidia-nscq-465' for glob 'libnvidia-*'\n",
            "Note, selecting 'libnvidia-extra-450-server' for glob 'libnvidia-*'\n",
            "Note, selecting 'libnvidia-gl-418-server' for glob 'libnvidia-*'\n",
            "Note, selecting 'libnvidia-extra-440-server' for glob 'libnvidia-*'\n",
            "Note, selecting 'libnvidia-common' for glob 'libnvidia-*'\n",
            "Note, selecting 'libnvidia-ifr1' for glob 'libnvidia-*'\n",
            "Note, selecting 'libnvidia-decode' for glob 'libnvidia-*'\n",
            "Note, selecting 'libnvidia-common-390' for glob 'libnvidia-*'\n",
            "Note, selecting 'libnvidia-common-410' for glob 'libnvidia-*'\n",
            "Note, selecting 'libnvidia-common-418' for glob 'libnvidia-*'\n",
            "Note, selecting 'libnvidia-common-430' for glob 'libnvidia-*'\n",
            "Note, selecting 'libnvidia-common-435' for glob 'libnvidia-*'\n",
            "Note, selecting 'libnvidia-common-440' for glob 'libnvidia-*'\n",
            "Note, selecting 'libnvidia-common-450' for glob 'libnvidia-*'\n",
            "Note, selecting 'libnvidia-common-455' for glob 'libnvidia-*'\n",
            "Note, selecting 'libnvidia-common-460' for glob 'libnvidia-*'\n",
            "Note, selecting 'libnvidia-common-465' for glob 'libnvidia-*'\n",
            "Note, selecting 'libnvidia-compute-418-server' for glob 'libnvidia-*'\n",
            "Note, selecting 'libnvidia-extra-460-server' for glob 'libnvidia-*'\n",
            "Note, selecting 'libnvidia-fbc1-418-server' for glob 'libnvidia-*'\n",
            "Note, selecting 'libnvidia-extra-440' for glob 'libnvidia-*'\n",
            "Note, selecting 'libnvidia-extra-450' for glob 'libnvidia-*'\n",
            "Note, selecting 'libnvidia-extra-455' for glob 'libnvidia-*'\n",
            "Note, selecting 'libnvidia-extra-460' for glob 'libnvidia-*'\n",
            "Note, selecting 'libnvidia-extra-465' for glob 'libnvidia-*'\n",
            "Note, selecting 'libnvidia-compute' for glob 'libnvidia-*'\n",
            "Note, selecting 'libnvidia-gl-440-server' for glob 'libnvidia-*'\n",
            "Note, selecting 'libnvidia-decode-418-server' for glob 'libnvidia-*'\n",
            "Note, selecting 'libnvidia-compute-460-server' for glob 'libnvidia-*'\n",
            "Package 'nvidia-340-updates-uvm' is not installed, so not removed\n",
            "Package 'nvidia-346' is not installed, so not removed\n",
            "Package 'nvidia-346-dev' is not installed, so not removed\n",
            "Package 'nvidia-346-updates' is not installed, so not removed\n",
            "Package 'nvidia-346-updates-dev' is not installed, so not removed\n",
            "Package 'nvidia-352' is not installed, so not removed\n",
            "Package 'nvidia-352-dev' is not installed, so not removed\n",
            "Package 'nvidia-352-updates' is not installed, so not removed\n",
            "Package 'nvidia-352-updates-dev' is not installed, so not removed\n",
            "Package 'nvidia-361' is not installed, so not removed\n",
            "Package 'nvidia-361-dev' is not installed, so not removed\n",
            "Package 'nvidia-361-updates' is not installed, so not removed\n",
            "Package 'nvidia-361-updates-dev' is not installed, so not removed\n",
            "Package 'nvidia-367' is not installed, so not removed\n",
            "Package 'nvidia-367-dev' is not installed, so not removed\n",
            "Package 'nvidia-375' is not installed, so not removed\n",
            "Package 'nvidia-375-dev' is not installed, so not removed\n",
            "Package 'nvidia-cg-dev' is not installed, so not removed\n",
            "Package 'nvidia-cg-doc' is not installed, so not removed\n",
            "Package 'nvidia-cg-toolkit' is not installed, so not removed\n",
            "Package 'nvidia-cuda-dev' is not installed, so not removed\n",
            "Package 'nvidia-cuda-doc' is not installed, so not removed\n",
            "Package 'nvidia-cuda-gdb' is not installed, so not removed\n",
            "Package 'nvidia-cuda-toolkit' is not installed, so not removed\n",
            "Package 'nvidia-libopencl1-346' is not installed, so not removed\n",
            "Package 'nvidia-libopencl1-346-updates' is not installed, so not removed\n",
            "Package 'nvidia-libopencl1-352' is not installed, so not removed\n",
            "Package 'nvidia-libopencl1-352-updates' is not installed, so not removed\n",
            "Package 'nvidia-libopencl1-361' is not installed, so not removed\n",
            "Package 'nvidia-libopencl1-361-updates' is not installed, so not removed\n",
            "Package 'nvidia-libopencl1-367' is not installed, so not removed\n",
            "Package 'nvidia-libopencl1-375' is not installed, so not removed\n",
            "Package 'nvidia-nsight' is not installed, so not removed\n",
            "Package 'nvidia-opencl-icd-346' is not installed, so not removed\n",
            "Package 'nvidia-opencl-icd-346-updates' is not installed, so not removed\n",
            "Package 'nvidia-opencl-icd-352' is not installed, so not removed\n",
            "Package 'nvidia-opencl-icd-352-updates' is not installed, so not removed\n",
            "Package 'nvidia-opencl-icd-361' is not installed, so not removed\n",
            "Package 'nvidia-opencl-icd-361-updates' is not installed, so not removed\n",
            "Package 'nvidia-opencl-icd-367' is not installed, so not removed\n",
            "Package 'nvidia-opencl-icd-375' is not installed, so not removed\n",
            "Package 'nvidia-profiler' is not installed, so not removed\n",
            "Package 'nvidia-visual-profiler' is not installed, so not removed\n",
            "Package 'nvidia-prime' is not installed, so not removed\n",
            "Package 'libnvidia-cfg1-390' is not installed, so not removed\n",
            "Package 'libnvidia-cfg1-418' is not installed, so not removed\n",
            "Package 'libnvidia-cfg1-418-server' is not installed, so not removed\n",
            "Package 'libnvidia-cfg1-435' is not installed, so not removed\n",
            "Package 'libnvidia-cfg1-440' is not installed, so not removed\n",
            "Package 'libnvidia-cfg1-440-server' is not installed, so not removed\n",
            "Package 'libnvidia-cfg1-450-server' is not installed, so not removed\n",
            "Package 'libnvidia-common-390' is not installed, so not removed\n",
            "Package 'libnvidia-common-418' is not installed, so not removed\n",
            "Package 'libnvidia-common-418-server' is not installed, so not removed\n",
            "Package 'libnvidia-common-435' is not installed, so not removed\n",
            "Package 'libnvidia-common-440' is not installed, so not removed\n",
            "Package 'libnvidia-common-440-server' is not installed, so not removed\n",
            "Package 'libnvidia-common-450-server' is not installed, so not removed\n",
            "Package 'libnvidia-compute-390' is not installed, so not removed\n",
            "Package 'libnvidia-compute-418' is not installed, so not removed\n",
            "Package 'libnvidia-compute-418-server' is not installed, so not removed\n",
            "Package 'libnvidia-compute-435' is not installed, so not removed\n",
            "Package 'libnvidia-compute-440' is not installed, so not removed\n",
            "Package 'libnvidia-compute-440-server' is not installed, so not removed\n",
            "Package 'libnvidia-compute-450-server' is not installed, so not removed\n",
            "Package 'libnvidia-decode-390' is not installed, so not removed\n",
            "Package 'libnvidia-decode-418' is not installed, so not removed\n",
            "Package 'libnvidia-decode-418-server' is not installed, so not removed\n",
            "Package 'libnvidia-decode-435' is not installed, so not removed\n",
            "Package 'libnvidia-decode-440' is not installed, so not removed\n",
            "Package 'libnvidia-decode-440-server' is not installed, so not removed\n",
            "Package 'libnvidia-decode-450-server' is not installed, so not removed\n",
            "Package 'libnvidia-encode-390' is not installed, so not removed\n",
            "Package 'libnvidia-encode-418' is not installed, so not removed\n",
            "Package 'libnvidia-encode-418-server' is not installed, so not removed\n",
            "Package 'libnvidia-encode-435' is not installed, so not removed\n",
            "Package 'libnvidia-encode-440' is not installed, so not removed\n",
            "Package 'libnvidia-encode-440-server' is not installed, so not removed\n",
            "Package 'libnvidia-encode-450-server' is not installed, so not removed\n",
            "Package 'libnvidia-extra-440' is not installed, so not removed\n",
            "Package 'libnvidia-extra-440-server' is not installed, so not removed\n",
            "Package 'libnvidia-extra-450-server' is not installed, so not removed\n",
            "Package 'libnvidia-fbc1-390' is not installed, so not removed\n",
            "Package 'libnvidia-fbc1-418' is not installed, so not removed\n",
            "Package 'libnvidia-fbc1-418-server' is not installed, so not removed\n",
            "Package 'libnvidia-fbc1-435' is not installed, so not removed\n",
            "Package 'libnvidia-fbc1-440' is not installed, so not removed\n",
            "Package 'libnvidia-fbc1-440-server' is not installed, so not removed\n",
            "Package 'libnvidia-fbc1-450-server' is not installed, so not removed\n",
            "Package 'libnvidia-gl-390' is not installed, so not removed\n",
            "Package 'libnvidia-gl-418' is not installed, so not removed\n",
            "Package 'libnvidia-gl-418-server' is not installed, so not removed\n",
            "Package 'libnvidia-gl-435' is not installed, so not removed\n",
            "Package 'libnvidia-gl-440' is not installed, so not removed\n",
            "Package 'libnvidia-gl-440-server' is not installed, so not removed\n",
            "Package 'libnvidia-gl-450-server' is not installed, so not removed\n",
            "Package 'libnvidia-ifr1-390' is not installed, so not removed\n",
            "Package 'libnvidia-ifr1-418' is not installed, so not removed\n",
            "Package 'libnvidia-ifr1-418-server' is not installed, so not removed\n",
            "Package 'libnvidia-ifr1-435' is not installed, so not removed\n",
            "Package 'libnvidia-ifr1-440' is not installed, so not removed\n",
            "Package 'libnvidia-ifr1-440-server' is not installed, so not removed\n",
            "Package 'libnvidia-ifr1-450-server' is not installed, so not removed\n",
            "Package 'nvidia-331' is not installed, so not removed\n",
            "Package 'nvidia-331-dev' is not installed, so not removed\n",
            "Package 'nvidia-331-updates' is not installed, so not removed\n",
            "Package 'nvidia-331-updates-dev' is not installed, so not removed\n",
            "Package 'nvidia-331-updates-uvm' is not installed, so not removed\n",
            "Package 'nvidia-331-uvm' is not installed, so not removed\n",
            "Package 'nvidia-340' is not installed, so not removed\n",
            "Package 'nvidia-340-dev' is not installed, so not removed\n",
            "Package 'nvidia-340-updates' is not installed, so not removed\n",
            "Package 'nvidia-340-updates-dev' is not installed, so not removed\n",
            "Package 'nvidia-340-uvm' is not installed, so not removed\n",
            "Package 'nvidia-compute-utils-390' is not installed, so not removed\n",
            "Package 'nvidia-compute-utils-418' is not installed, so not removed\n",
            "Package 'nvidia-compute-utils-418-server' is not installed, so not removed\n",
            "Package 'nvidia-compute-utils-435' is not installed, so not removed\n",
            "Package 'nvidia-compute-utils-440' is not installed, so not removed\n",
            "Package 'nvidia-compute-utils-440-server' is not installed, so not removed\n",
            "Package 'nvidia-compute-utils-450-server' is not installed, so not removed\n",
            "Package 'nvidia-dkms-390' is not installed, so not removed\n",
            "Package 'nvidia-dkms-418' is not installed, so not removed\n",
            "Package 'nvidia-dkms-418-server' is not installed, so not removed\n",
            "Package 'nvidia-dkms-435' is not installed, so not removed\n",
            "Package 'nvidia-dkms-440' is not installed, so not removed\n",
            "Package 'nvidia-dkms-440-server' is not installed, so not removed\n",
            "Package 'nvidia-dkms-450-server' is not installed, so not removed\n",
            "Package 'nvidia-driver-390' is not installed, so not removed\n",
            "Package 'nvidia-driver-418' is not installed, so not removed\n",
            "Package 'nvidia-driver-418-server' is not installed, so not removed\n",
            "Package 'nvidia-driver-435' is not installed, so not removed\n",
            "Package 'nvidia-driver-440' is not installed, so not removed\n",
            "Package 'nvidia-driver-440-server' is not installed, so not removed\n",
            "Package 'nvidia-driver-450-server' is not installed, so not removed\n",
            "Package 'nvidia-headless-390' is not installed, so not removed\n",
            "Package 'nvidia-headless-418' is not installed, so not removed\n",
            "Package 'nvidia-headless-418-server' is not installed, so not removed\n",
            "Package 'nvidia-headless-435' is not installed, so not removed\n",
            "Package 'nvidia-headless-440' is not installed, so not removed\n",
            "Package 'nvidia-headless-440-server' is not installed, so not removed\n",
            "Package 'nvidia-headless-450-server' is not installed, so not removed\n",
            "Package 'nvidia-headless-465' is not installed, so not removed\n",
            "Package 'nvidia-headless-no-dkms-390' is not installed, so not removed\n",
            "Package 'nvidia-headless-no-dkms-418' is not installed, so not removed\n",
            "Package 'nvidia-headless-no-dkms-418-server' is not installed, so not removed\n",
            "Package 'nvidia-headless-no-dkms-435' is not installed, so not removed\n",
            "Package 'nvidia-headless-no-dkms-440' is not installed, so not removed\n",
            "Package 'nvidia-headless-no-dkms-440-server' is not installed, so not removed\n",
            "Package 'nvidia-headless-no-dkms-450-server' is not installed, so not removed\n",
            "Package 'nvidia-headless-no-dkms-465' is not installed, so not removed\n",
            "Package 'nvidia-kernel-common-390' is not installed, so not removed\n",
            "Package 'nvidia-kernel-common-418' is not installed, so not removed\n",
            "Package 'nvidia-kernel-common-418-server' is not installed, so not removed\n",
            "Package 'nvidia-kernel-common-435' is not installed, so not removed\n",
            "Package 'nvidia-kernel-common-440' is not installed, so not removed\n",
            "Package 'nvidia-kernel-common-440-server' is not installed, so not removed\n",
            "Package 'nvidia-kernel-common-450-server' is not installed, so not removed\n",
            "Package 'nvidia-kernel-source-390' is not installed, so not removed\n",
            "Package 'nvidia-kernel-source-418' is not installed, so not removed\n",
            "Package 'nvidia-kernel-source-418-server' is not installed, so not removed\n",
            "Package 'nvidia-kernel-source-435' is not installed, so not removed\n",
            "Package 'nvidia-kernel-source-440' is not installed, so not removed\n",
            "Package 'nvidia-kernel-source-440-server' is not installed, so not removed\n",
            "Package 'nvidia-kernel-source-450-server' is not installed, so not removed\n",
            "Package 'nvidia-opencl-icd-340' is not installed, so not removed\n",
            "Package 'nvidia-utils-390' is not installed, so not removed\n",
            "Package 'nvidia-utils-418' is not installed, so not removed\n",
            "Package 'nvidia-utils-418-server' is not installed, so not removed\n",
            "Package 'nvidia-utils-435' is not installed, so not removed\n",
            "Package 'nvidia-utils-440' is not installed, so not removed\n",
            "Package 'nvidia-utils-440-server' is not installed, so not removed\n",
            "Package 'nvidia-utils-450-server' is not installed, so not removed\n",
            "Package 'nvidia-common' is not installed, so not removed\n",
            "Package 'libnvidia-cfg1-460-server' is not installed, so not removed\n",
            "Package 'libnvidia-common-460-server' is not installed, so not removed\n",
            "Package 'libnvidia-compute-460-server' is not installed, so not removed\n",
            "Package 'libnvidia-decode-460-server' is not installed, so not removed\n",
            "Package 'libnvidia-encode-460-server' is not installed, so not removed\n",
            "Package 'libnvidia-extra-460-server' is not installed, so not removed\n",
            "Package 'libnvidia-fbc1-460-server' is not installed, so not removed\n",
            "Package 'libnvidia-gl-460-server' is not installed, so not removed\n",
            "Package 'libnvidia-ifr1-460-server' is not installed, so not removed\n",
            "Package 'nvidia-compute-utils-460-server' is not installed, so not removed\n",
            "Package 'nvidia-dkms-460-server' is not installed, so not removed\n",
            "Package 'nvidia-driver-460-server' is not installed, so not removed\n",
            "Package 'nvidia-headless-460-server' is not installed, so not removed\n",
            "Package 'nvidia-headless-no-dkms-460-server' is not installed, so not removed\n",
            "Package 'nvidia-kernel-common-460-server' is not installed, so not removed\n",
            "Package 'nvidia-kernel-source-460-server' is not installed, so not removed\n",
            "Package 'nvidia-libopencl1-331' is not installed, so not removed\n",
            "Package 'nvidia-libopencl1-331-updates' is not installed, so not removed\n",
            "Package 'nvidia-libopencl1-340' is not installed, so not removed\n",
            "Package 'nvidia-libopencl1-340-updates' is not installed, so not removed\n",
            "Package 'nvidia-opencl-icd-331' is not installed, so not removed\n",
            "Package 'nvidia-opencl-icd-331-updates' is not installed, so not removed\n",
            "Package 'nvidia-opencl-icd-340-updates' is not installed, so not removed\n",
            "Package 'nvidia-utils-460-server' is not installed, so not removed\n",
            "Package 'libnvidia-cfg1-410' is not installed, so not removed\n",
            "Package 'libnvidia-common-410' is not installed, so not removed\n",
            "Package 'libnvidia-compute-410' is not installed, so not removed\n",
            "Package 'libnvidia-decode-410' is not installed, so not removed\n",
            "Package 'libnvidia-diagnostic-410' is not installed, so not removed\n",
            "Package 'libnvidia-diagnostic-418' is not installed, so not removed\n",
            "Package 'libnvidia-encode-410' is not installed, so not removed\n",
            "Package 'libnvidia-fbc1-410' is not installed, so not removed\n",
            "Package 'libnvidia-gl-410' is not installed, so not removed\n",
            "Package 'libnvidia-ifr1-410' is not installed, so not removed\n",
            "Package 'nvidia-compute-utils-410' is not installed, so not removed\n",
            "Package 'nvidia-dkms-410' is not installed, so not removed\n",
            "Package 'nvidia-driver-410' is not installed, so not removed\n",
            "Package 'nvidia-headless-410' is not installed, so not removed\n",
            "Package 'nvidia-headless-no-dkms-410' is not installed, so not removed\n",
            "Package 'nvidia-kernel-common-410' is not installed, so not removed\n",
            "Package 'nvidia-kernel-source-410' is not installed, so not removed\n",
            "Package 'nvidia-utils-410' is not installed, so not removed\n",
            "Package 'libnvidia-nscq-455' is not installed, so not removed\n",
            "Package 'nvidia-fabricmanager-455' is not installed, so not removed\n",
            "Package 'nvidia-fabricmanager-dev-455' is not installed, so not removed\n",
            "Package 'libnvidia-cfg1-430' is not installed, so not removed\n",
            "Package 'libnvidia-common-430' is not installed, so not removed\n",
            "Package 'libnvidia-compute-430' is not installed, so not removed\n",
            "Package 'libnvidia-decode-430' is not installed, so not removed\n",
            "Package 'libnvidia-encode-430' is not installed, so not removed\n",
            "Package 'libnvidia-fbc1-430' is not installed, so not removed\n",
            "Package 'libnvidia-gl-430' is not installed, so not removed\n",
            "Package 'libnvidia-ifr1-430' is not installed, so not removed\n",
            "Package 'libnvidia-nscq-465' is not installed, so not removed\n",
            "Package 'nvidia-compute-utils-430' is not installed, so not removed\n",
            "Package 'nvidia-dkms-430' is not installed, so not removed\n",
            "Package 'nvidia-driver-430' is not installed, so not removed\n",
            "Package 'nvidia-fabricmanager-465' is not installed, so not removed\n",
            "Package 'nvidia-fabricmanager-dev-465' is not installed, so not removed\n",
            "Package 'nvidia-headless-430' is not installed, so not removed\n",
            "Package 'nvidia-headless-no-dkms-430' is not installed, so not removed\n",
            "Package 'nvidia-kernel-common-430' is not installed, so not removed\n",
            "Package 'nvidia-kernel-source-430' is not installed, so not removed\n",
            "Package 'nvidia-utils-430' is not installed, so not removed\n",
            "Package 'libnvidia-nscq-460' is not installed, so not removed\n",
            "Package 'nvidia-384' is not installed, so not removed\n",
            "Package 'nvidia-384-dev' is not installed, so not removed\n",
            "Package 'nvidia-fabricmanager-460' is not installed, so not removed\n",
            "Package 'nvidia-fabricmanager-dev-460' is not installed, so not removed\n",
            "Package 'nvidia-libopencl1-384' is not installed, so not removed\n",
            "Package 'nvidia-opencl-icd-384' is not installed, so not removed\n",
            "Package 'libnvidia-nscq-450' is not installed, so not removed\n",
            "Package 'nvidia-fabricmanager-450' is not installed, so not removed\n",
            "Package 'nvidia-fabricmanager-dev-450' is not installed, so not removed\n",
            "Package 'cuda' is not installed, so not removed\n",
            "Package 'libnvidia-cfg1-450' is not installed, so not removed\n",
            "Package 'libnvidia-cfg1-455' is not installed, so not removed\n",
            "Package 'libnvidia-cfg1-460' is not installed, so not removed\n",
            "Package 'libnvidia-common-450' is not installed, so not removed\n",
            "Package 'libnvidia-common-455' is not installed, so not removed\n",
            "Package 'libnvidia-common-460' is not installed, so not removed\n",
            "Package 'libnvidia-compute-450' is not installed, so not removed\n",
            "Package 'libnvidia-compute-455' is not installed, so not removed\n",
            "Package 'libnvidia-decode-450' is not installed, so not removed\n",
            "Package 'libnvidia-decode-455' is not installed, so not removed\n",
            "Package 'libnvidia-decode-460' is not installed, so not removed\n",
            "Package 'libnvidia-encode-450' is not installed, so not removed\n",
            "Package 'libnvidia-encode-455' is not installed, so not removed\n",
            "Package 'libnvidia-encode-460' is not installed, so not removed\n",
            "Package 'libnvidia-extra-450' is not installed, so not removed\n",
            "Package 'libnvidia-extra-455' is not installed, so not removed\n",
            "Package 'libnvidia-extra-460' is not installed, so not removed\n",
            "Package 'libnvidia-fbc1-450' is not installed, so not removed\n",
            "Package 'libnvidia-fbc1-455' is not installed, so not removed\n",
            "Package 'libnvidia-fbc1-460' is not installed, so not removed\n",
            "Package 'libnvidia-gl-450' is not installed, so not removed\n",
            "Package 'libnvidia-gl-455' is not installed, so not removed\n",
            "Package 'libnvidia-gl-460' is not installed, so not removed\n",
            "Package 'libnvidia-ifr1-450' is not installed, so not removed\n",
            "Package 'libnvidia-ifr1-455' is not installed, so not removed\n",
            "Package 'libnvidia-ifr1-460' is not installed, so not removed\n",
            "Package 'nvidia-304' is not installed, so not removed\n",
            "Package 'nvidia-304-dev' is not installed, so not removed\n",
            "Package 'nvidia-304-updates' is not installed, so not removed\n",
            "Package 'nvidia-304-updates-dev' is not installed, so not removed\n",
            "Package 'nvidia-compute-utils-450' is not installed, so not removed\n",
            "Package 'nvidia-compute-utils-455' is not installed, so not removed\n",
            "Package 'nvidia-compute-utils-460' is not installed, so not removed\n",
            "Package 'nvidia-current' is not installed, so not removed\n",
            "Package 'nvidia-current-dev' is not installed, so not removed\n",
            "Package 'nvidia-dkms-450' is not installed, so not removed\n",
            "Package 'nvidia-dkms-455' is not installed, so not removed\n",
            "Package 'nvidia-dkms-460' is not installed, so not removed\n",
            "Package 'nvidia-driver-450' is not installed, so not removed\n",
            "Package 'nvidia-driver-455' is not installed, so not removed\n",
            "Package 'nvidia-driver-460' is not installed, so not removed\n",
            "Package 'nvidia-headless-450' is not installed, so not removed\n",
            "Package 'nvidia-headless-455' is not installed, so not removed\n",
            "Package 'nvidia-headless-460' is not installed, so not removed\n",
            "Package 'nvidia-headless-no-dkms-450' is not installed, so not removed\n",
            "Package 'nvidia-headless-no-dkms-455' is not installed, so not removed\n",
            "Package 'nvidia-headless-no-dkms-460' is not installed, so not removed\n",
            "Package 'nvidia-kernel-common-450' is not installed, so not removed\n",
            "Package 'nvidia-kernel-common-455' is not installed, so not removed\n",
            "Package 'nvidia-kernel-common-460' is not installed, so not removed\n",
            "Package 'nvidia-kernel-source-450' is not installed, so not removed\n",
            "Package 'nvidia-kernel-source-455' is not installed, so not removed\n",
            "Package 'nvidia-kernel-source-460' is not installed, so not removed\n",
            "Package 'nvidia-libopencl1-304' is not installed, so not removed\n",
            "Package 'nvidia-libopencl1-304-updates' is not installed, so not removed\n",
            "Package 'nvidia-opencl-icd-304' is not installed, so not removed\n",
            "Package 'nvidia-opencl-icd-304-updates' is not installed, so not removed\n",
            "Package 'nvidia-utils-450' is not installed, so not removed\n",
            "Package 'nvidia-utils-455' is not installed, so not removed\n",
            "Package 'nvidia-utils-460' is not installed, so not removed\n",
            "Package 'nvidia-machine-learning-repo-ubuntu1804' is not installed, so not removed\n",
            "The following packages were automatically installed and are no longer required:\n",
            "  cuda-command-line-tools-10-0 cuda-command-line-tools-10-1 cuda-compiler-10-0\n",
            "  cuda-compiler-10-1 cuda-cuobjdump-10-0 cuda-cuobjdump-10-1 cuda-cupti-10-0\n",
            "  cuda-cupti-10-1 cuda-documentation-10-0 cuda-documentation-10-1\n",
            "  cuda-documentation-11-0 cuda-gdb-10-0 cuda-gdb-10-1\n",
            "  cuda-gpu-library-advisor-10-0 cuda-gpu-library-advisor-10-1\n",
            "  cuda-libraries-10-0 cuda-libraries-10-1 cuda-memcheck-10-0\n",
            "  cuda-memcheck-10-1 cuda-nsight-10-0 cuda-nsight-10-1 cuda-nsight-11-0\n",
            "  cuda-nsight-compute-10-0 cuda-nsight-compute-10-1 cuda-nsight-compute-11-0\n",
            "  cuda-nsight-systems-10-1 cuda-nsight-systems-11-0 cuda-nvcc-10-0\n",
            "  cuda-nvcc-10-1 cuda-nvdisasm-10-0 cuda-nvdisasm-10-1 cuda-nvml-dev-10-0\n",
            "  cuda-nvml-dev-10-1 cuda-nvprof-10-0 cuda-nvprof-10-1 cuda-nvprune-10-0\n",
            "  cuda-nvprune-10-1 cuda-nvtx-10-0 cuda-nvtx-10-1 cuda-nvvp-10-0\n",
            "  cuda-nvvp-10-1 cuda-nvvp-11-0 cuda-samples-10-0 cuda-samples-10-1\n",
            "  cuda-samples-11-0 cuda-sanitizer-api-10-1 cuda-toolkit-10-0\n",
            "  cuda-toolkit-10-1 cuda-toolkit-11-0 cuda-tools-10-0 cuda-tools-10-1\n",
            "  cuda-tools-11-0 cuda-visual-tools-10-0 cuda-visual-tools-10-1\n",
            "  cuda-visual-tools-11-0 default-jre dkms freeglut3 freeglut3-dev\n",
            "  keyboard-configuration libargon2-0 libcap2 libcryptsetup12\n",
            "  libdevmapper1.02.1 libfontenc1 libidn11 libip4tc0 libjansson4 libpam-systemd\n",
            "  libpolkit-agent-1-0 libpolkit-backend-1-0 libpolkit-gobject-1-0 libxfont2\n",
            "  libxi-dev libxkbfile1 libxmu-dev libxmu-headers libxnvctrl0 libxtst6\n",
            "  nsight-compute-2021.1.1 nsight-systems-2020.3.2 nsight-systems-2021.1.3\n",
            "  ocl-icd-opencl-dev opencl-c-headers openjdk-11-jre policykit-1\n",
            "  policykit-1-gnome python3-xkit screen-resolution-extra systemd systemd-sysv\n",
            "  udev x11-xkb-utils xserver-common xserver-xorg-core-hwe-18.04\n",
            "Use 'apt autoremove' to remove them.\n",
            "The following packages will be REMOVED:\n",
            "  cuda-10-0* cuda-10-1* cuda-11-0* cuda-demo-suite-10-0* cuda-demo-suite-10-1*\n",
            "  cuda-demo-suite-11-0* cuda-drivers* cuda-drivers-465* cuda-runtime-10-0*\n",
            "  cuda-runtime-10-1* cuda-runtime-11-0* libnvidia-cfg1-465*\n",
            "  libnvidia-common-465* libnvidia-compute-460* libnvidia-compute-465*\n",
            "  libnvidia-decode-465* libnvidia-encode-465* libnvidia-extra-465*\n",
            "  libnvidia-fbc1-465* libnvidia-gl-465* libnvidia-ifr1-465*\n",
            "  nvidia-compute-utils-465* nvidia-dkms-465* nvidia-driver-465*\n",
            "  nvidia-kernel-common-465* nvidia-kernel-source-465* nvidia-modprobe*\n",
            "  nvidia-opencl-dev* nvidia-settings* nvidia-utils-465*\n",
            "  xserver-xorg-video-nvidia-465*\n",
            "0 upgraded, 0 newly installed, 31 to remove and 39 not upgraded.\n",
            "After this operation, 577 MB disk space will be freed.\n",
            "(Reading database ... 160772 files and directories currently installed.)\n",
            "Removing cuda-10-0 (10.0.130-1) ...\n",
            "Removing cuda-10-1 (10.1.243-1) ...\n",
            "Removing cuda-11-0 (11.0.3-1) ...\n",
            "Removing cuda-demo-suite-10-0 (10.0.130-1) ...\n",
            "Removing cuda-demo-suite-10-1 (10.1.243-1) ...\n",
            "Removing cuda-demo-suite-11-0 (11.0.167-1) ...\n",
            "Removing cuda-runtime-11-0 (11.0.3-1) ...\n",
            "Removing cuda-runtime-10-1 (10.1.243-1) ...\n",
            "Removing cuda-runtime-10-0 (10.0.130-1) ...\n",
            "Removing nvidia-opencl-dev:amd64 (9.1.85-3ubuntu1) ...\n",
            "Removing cuda-drivers (465.19.01-1) ...\n",
            "Removing cuda-drivers-465 (465.19.01-1) ...\n",
            "Removing nvidia-driver-465 (465.27-0ubuntu0.18.04.2) ...\n",
            "Removing xserver-xorg-video-nvidia-465 (465.27-0ubuntu0.18.04.2) ...\n",
            "Removing libnvidia-cfg1-465:amd64 (465.27-0ubuntu0.18.04.2) ...\n",
            "Removing libnvidia-ifr1-465:amd64 (465.27-0ubuntu0.18.04.2) ...\n",
            "Removing libnvidia-gl-465:amd64 (465.27-0ubuntu0.18.04.2) ...\n",
            "Removing libnvidia-common-465 (465.27-0ubuntu0.18.04.2) ...\n",
            "Removing libnvidia-encode-465:amd64 (465.27-0ubuntu0.18.04.2) ...\n",
            "Removing libnvidia-decode-465:amd64 (465.27-0ubuntu0.18.04.2) ...\n",
            "Removing nvidia-utils-465 (465.27-0ubuntu0.18.04.2) ...\n",
            "Removing libnvidia-extra-465:amd64 (465.27-0ubuntu0.18.04.2) ...\n",
            "Removing libnvidia-fbc1-465:amd64 (465.27-0ubuntu0.18.04.2) ...\n",
            "Removing nvidia-compute-utils-465 (465.27-0ubuntu0.18.04.2) ...\n",
            "System has not been booted with systemd as init system (PID 1). Can't operate.\n",
            "Removing nvidia-dkms-465 (465.27-0ubuntu0.18.04.2) ...\n",
            "Removing all DKMS Modules\n",
            "Done.\n",
            "Removing nvidia-kernel-common-465 (465.27-0ubuntu0.18.04.2) ...\n",
            "Removing nvidia-kernel-source-465 (465.27-0ubuntu0.18.04.2) ...\n",
            "Removing nvidia-modprobe (465.19.01-0ubuntu1) ...\n",
            "Removing nvidia-settings (465.19.01-0ubuntu1) ...\n",
            "Removing libnvidia-compute-465:amd64 (465.27-0ubuntu0.18.04.2) ...\n",
            "Processing triggers for libc-bin (2.27-3ubuntu1.2) ...\n",
            "/sbin/ldconfig.real: /usr/local/lib/python3.7/dist-packages/ideep4py/lib/libmkldnn.so.0 is not a symbolic link\n",
            "\n",
            "Processing triggers for man-db (2.8.3-2ubuntu0.1) ...\n",
            "Processing triggers for mime-support (3.60ubuntu1) ...\n",
            "(Reading database ... 160050 files and directories currently installed.)\n",
            "Purging configuration files for nvidia-dkms-465 (465.27-0ubuntu0.18.04.2) ...\n",
            "Purging configuration files for nvidia-kernel-common-465 (465.27-0ubuntu0.18.04.2) ...\n",
            "Purging configuration files for nvidia-settings (465.19.01-0ubuntu1) ...\n",
            "Purging configuration files for nvidia-compute-utils-465 (465.27-0ubuntu0.18.04.2) ...\n",
            "Purging configuration files for libnvidia-compute-460:amd64 (460.84-0ubuntu0~0.18.04.1) ...\n",
            "Purging configuration files for libnvidia-compute-465:amd64 (465.27-0ubuntu0.18.04.2) ...\n",
            "\u001b[1mdpkg:\u001b[0m dependency problems prevent removal of cuda-command-line-tools-10-0:\n",
            " cuda-tools-10-0 depends on cuda-command-line-tools-10-0 (>= 10.0.130).\n",
            "\n",
            "\u001b[1mdpkg:\u001b[0m error processing package cuda-command-line-tools-10-0 (--purge):\n",
            " dependency problems - not removing\n",
            "Errors were encountered while processing:\n",
            " cuda-command-line-tools-10-0\n",
            "\u001b[1mdpkg:\u001b[0m dependency problems prevent removal of cuda-command-line-tools-10-1:\n",
            " cuda-tools-10-1 depends on cuda-command-line-tools-10-1 (>= 10.1.243).\n",
            "\n",
            "\u001b[1mdpkg:\u001b[0m error processing package cuda-command-line-tools-10-1 (--purge):\n",
            " dependency problems - not removing\n",
            "Errors were encountered while processing:\n",
            " cuda-command-line-tools-10-1\n",
            "\u001b[1mdpkg:\u001b[0m dependency problems prevent removal of cuda-command-line-tools-11-0:\n",
            " cuda-tools-11-0 depends on cuda-command-line-tools-11-0 (>= 11.0.3).\n",
            "\n",
            "\u001b[1mdpkg:\u001b[0m error processing package cuda-command-line-tools-11-0 (--purge):\n",
            " dependency problems - not removing\n",
            "Errors were encountered while processing:\n",
            " cuda-command-line-tools-11-0\n",
            "(Reading database ... 160046 files and directories currently installed.)\n",
            "Removing cuda-compat-11-0 (450.80.02-1) ...\n",
            "Processing triggers for libc-bin (2.27-3ubuntu1.2) ...\n",
            "/sbin/ldconfig.real: /usr/local/lib/python3.7/dist-packages/ideep4py/lib/libmkldnn.so.0 is not a symbolic link\n",
            "\n",
            "\u001b[1mdpkg:\u001b[0m dependency problems prevent removal of cuda-compiler-10-0:\n",
            " cuda-toolkit-10-0 depends on cuda-compiler-10-0 (>= 10.0.130).\n",
            "\n",
            "\u001b[1mdpkg:\u001b[0m error processing package cuda-compiler-10-0 (--purge):\n",
            " dependency problems - not removing\n",
            "Errors were encountered while processing:\n",
            " cuda-compiler-10-0\n",
            "\u001b[1mdpkg:\u001b[0m dependency problems prevent removal of cuda-compiler-10-1:\n",
            " cuda-toolkit-10-1 depends on cuda-compiler-10-1 (>= 10.1.243).\n",
            "\n",
            "\u001b[1mdpkg:\u001b[0m error processing package cuda-compiler-10-1 (--purge):\n",
            " dependency problems - not removing\n",
            "Errors were encountered while processing:\n",
            " cuda-compiler-10-1\n",
            "\u001b[1mdpkg:\u001b[0m dependency problems prevent removal of cuda-compiler-11-0:\n",
            " cuda-toolkit-11-0 depends on cuda-compiler-11-0 (>= 11.0.3).\n",
            " cuda-minimal-build-11-0 depends on cuda-compiler-11-0 (>= 11.0.3).\n",
            "\n",
            "\u001b[1mdpkg:\u001b[0m error processing package cuda-compiler-11-0 (--purge):\n",
            " dependency problems - not removing\n",
            "Errors were encountered while processing:\n",
            " cuda-compiler-11-0\n",
            "\u001b[1mdpkg:\u001b[0m dependency problems prevent removal of cuda-cublas-10-0:\n",
            " cuda-libraries-10-0 depends on cuda-cublas-10-0 (>= 10.0.130).\n",
            " cuda-cublas-dev-10-0 depends on cuda-cublas-10-0 (>= 10.0.130).\n",
            "\n",
            "\u001b[1mdpkg:\u001b[0m error processing package cuda-cublas-10-0 (--purge):\n",
            " dependency problems - not removing\n",
            "Errors were encountered while processing:\n",
            " cuda-cublas-10-0\n",
            "\u001b[1mdpkg:\u001b[0m dependency problems prevent removal of cuda-cublas-dev-10-0:\n",
            " cuda-visual-tools-10-0 depends on cuda-cublas-dev-10-0 (>= 10.0.130).\n",
            " cuda-samples-10-0 depends on cuda-cublas-dev-10-0.\n",
            " cuda-libraries-dev-10-0 depends on cuda-cublas-dev-10-0 (>= 10.0.130).\n",
            "\n",
            "\u001b[1mdpkg:\u001b[0m error processing package cuda-cublas-dev-10-0 (--purge):\n",
            " dependency problems - not removing\n",
            "Errors were encountered while processing:\n",
            " cuda-cublas-dev-10-0\n",
            "\u001b[1mdpkg:\u001b[0m dependency problems prevent removal of cuda-cudart-10-0:\n",
            " cuda-cudart-dev-10-0 depends on cuda-cudart-10-0 (>= 10.0.130).\n",
            " cuda-libraries-10-0 depends on cuda-cudart-10-0 (>= 10.0.130).\n",
            "\n",
            "\u001b[1mdpkg:\u001b[0m error processing package cuda-cudart-10-0 (--purge):\n",
            " dependency problems - not removing\n",
            "Errors were encountered while processing:\n",
            " cuda-cudart-10-0\n",
            "\u001b[1mdpkg:\u001b[0m dependency problems prevent removal of cuda-cudart-10-1:\n",
            " cuda-cudart-dev-10-1 depends on cuda-cudart-10-1 (>= 10.1.243).\n",
            " cuda-libraries-10-1 depends on cuda-cudart-10-1 (>= 10.1.243).\n",
            "\n",
            "\u001b[1mdpkg:\u001b[0m error processing package cuda-cudart-10-1 (--purge):\n",
            " dependency problems - not removing\n",
            "Errors were encountered while processing:\n",
            " cuda-cudart-10-1\n",
            "\u001b[1mdpkg:\u001b[0m dependency problems prevent removal of cuda-cudart-11-0:\n",
            " cuda-libraries-11-0 depends on cuda-cudart-11-0 (>= 11.0.221).\n",
            " cuda-cudart-dev-11-0 depends on cuda-cudart-11-0 (>= 11.0.221).\n",
            "\n",
            "\u001b[1mdpkg:\u001b[0m error processing package cuda-cudart-11-0 (--purge):\n",
            " dependency problems - not removing\n",
            "Errors were encountered while processing:\n",
            " cuda-cudart-11-0\n",
            "\u001b[1mdpkg:\u001b[0m dependency problems prevent removal of cuda-cudart-dev-10-0:\n",
            " cuda-visual-tools-10-0 depends on cuda-cudart-dev-10-0 (>= 10.0.130).\n",
            " cuda-cupti-10-0 depends on cuda-cudart-dev-10-0 (>= 10.0.130).\n",
            " cuda-samples-10-0 depends on cuda-cudart-dev-10-0.\n",
            " cuda-libraries-dev-10-0 depends on cuda-cudart-dev-10-0 (>= 10.0.130).\n",
            "\n",
            "\u001b[1mdpkg:\u001b[0m error processing package cuda-cudart-dev-10-0 (--purge):\n",
            " dependency problems - not removing\n",
            "Errors were encountered while processing:\n",
            " cuda-cudart-dev-10-0\n",
            "\u001b[1mdpkg:\u001b[0m dependency problems prevent removal of cuda-cudart-dev-10-1:\n",
            " cuda-samples-10-1 depends on cuda-cudart-dev-10-1.\n",
            " cuda-libraries-dev-10-1 depends on cuda-cudart-dev-10-1 (>= 10.1.243).\n",
            " cuda-visual-tools-10-1 depends on cuda-cudart-dev-10-1 (>= 10.1.243).\n",
            " cuda-cupti-10-1 depends on cuda-cudart-dev-10-1 (>= 10.1.243).\n",
            "\n",
            "\u001b[1mdpkg:\u001b[0m error processing package cuda-cudart-dev-10-1 (--purge):\n",
            " dependency problems - not removing\n",
            "Errors were encountered while processing:\n",
            " cuda-cudart-dev-10-1\n",
            "\u001b[1mdpkg:\u001b[0m dependency problems prevent removal of cuda-cudart-dev-11-0:\n",
            " cuda-cupti-11-0 depends on cuda-cudart-dev-11-0.\n",
            " cuda-visual-tools-11-0 depends on cuda-cudart-dev-11-0 (>= 11.0.221).\n",
            " cuda-minimal-build-11-0 depends on cuda-cudart-dev-11-0 (>= 11.0.221).\n",
            " cuda-samples-11-0 depends on cuda-cudart-dev-11-0.\n",
            " cuda-nvcc-11-0 depends on cuda-cudart-dev-11-0.\n",
            " cuda-libraries-dev-11-0 depends on cuda-cudart-dev-11-0 (>= 11.0.221).\n",
            "\n",
            "\u001b[1mdpkg:\u001b[0m error processing package cuda-cudart-dev-11-0 (--purge):\n",
            " dependency problems - not removing\n",
            "Errors were encountered while processing:\n",
            " cuda-cudart-dev-11-0\n",
            "\u001b[1mdpkg:\u001b[0m dependency problems prevent removal of cuda-cufft-10-0:\n",
            " cuda-libraries-10-0 depends on cuda-cufft-10-0 (>= 10.0.130).\n",
            " cuda-cufft-dev-10-0 depends on cuda-cufft-10-0 (>= 10.0.130).\n",
            "\n",
            "\u001b[1mdpkg:\u001b[0m error processing package cuda-cufft-10-0 (--purge):\n",
            " dependency problems - not removing\n",
            "Errors were encountered while processing:\n",
            " cuda-cufft-10-0\n",
            "\u001b[1mdpkg:\u001b[0m dependency problems prevent removal of cuda-cufft-10-1:\n",
            " cuda-cufft-dev-10-1 depends on cuda-cufft-10-1 (>= 10.1.243).\n",
            " cuda-libraries-10-1 depends on cuda-cufft-10-1 (>= 10.1.243).\n",
            "\n",
            "\u001b[1mdpkg:\u001b[0m error processing package cuda-cufft-10-1 (--purge):\n",
            " dependency problems - not removing\n",
            "Errors were encountered while processing:\n",
            " cuda-cufft-10-1\n",
            "\u001b[1mdpkg:\u001b[0m dependency problems prevent removal of cuda-cufft-dev-10-0:\n",
            " cuda-visual-tools-10-0 depends on cuda-cufft-dev-10-0 (>= 10.0.130).\n",
            " cuda-samples-10-0 depends on cuda-cufft-dev-10-0.\n",
            " cuda-libraries-dev-10-0 depends on cuda-cufft-dev-10-0 (>= 10.0.130).\n",
            "\n",
            "\u001b[1mdpkg:\u001b[0m error processing package cuda-cufft-dev-10-0 (--purge):\n",
            " dependency problems - not removing\n",
            "Errors were encountered while processing:\n",
            " cuda-cufft-dev-10-0\n",
            "\u001b[1mdpkg:\u001b[0m dependency problems prevent removal of cuda-cufft-dev-10-1:\n",
            " cuda-samples-10-1 depends on cuda-cufft-dev-10-1.\n",
            " cuda-libraries-dev-10-1 depends on cuda-cufft-dev-10-1 (>= 10.1.243).\n",
            " cuda-visual-tools-10-1 depends on cuda-cufft-dev-10-1 (>= 10.1.243).\n",
            "\n",
            "\u001b[1mdpkg:\u001b[0m error processing package cuda-cufft-dev-10-1 (--purge):\n",
            " dependency problems - not removing\n",
            "Errors were encountered while processing:\n",
            " cuda-cufft-dev-10-1\n",
            "\u001b[1mdpkg:\u001b[0m dependency problems prevent removal of cuda-cuobjdump-10-0:\n",
            " cuda-compiler-10-0 depends on cuda-cuobjdump-10-0 (>= 10.0.130).\n",
            " cuda-gdb-10-0 depends on cuda-cuobjdump-10-0 (>= 10.0.130).\n",
            "\n",
            "\u001b[1mdpkg:\u001b[0m error processing package cuda-cuobjdump-10-0 (--purge):\n",
            " dependency problems - not removing\n",
            "Errors were encountered while processing:\n",
            " cuda-cuobjdump-10-0\n",
            "\u001b[1mdpkg:\u001b[0m dependency problems prevent removal of cuda-cuobjdump-10-1:\n",
            " cuda-gdb-10-1 depends on cuda-cuobjdump-10-1 (>= 10.1.243).\n",
            " cuda-compiler-10-1 depends on cuda-cuobjdump-10-1 (>= 10.1.243).\n",
            "\n",
            "\u001b[1mdpkg:\u001b[0m error processing package cuda-cuobjdump-10-1 (--purge):\n",
            " dependency problems - not removing\n",
            "Errors were encountered while processing:\n",
            " cuda-cuobjdump-10-1\n",
            "\u001b[1mdpkg:\u001b[0m dependency problems prevent removal of cuda-cuobjdump-11-0:\n",
            " cuda-compiler-11-0 depends on cuda-cuobjdump-11-0 (>= 11.0.221).\n",
            " cuda-gdb-11-0 depends on cuda-cuobjdump-11-0.\n",
            "\n",
            "\u001b[1mdpkg:\u001b[0m error processing package cuda-cuobjdump-11-0 (--purge):\n",
            " dependency problems - not removing\n",
            "Errors were encountered while processing:\n",
            " cuda-cuobjdump-11-0\n",
            "\u001b[1mdpkg:\u001b[0m dependency problems prevent removal of cuda-cupti-10-0:\n",
            " cuda-command-line-tools-10-0 depends on cuda-cupti-10-0 (>= 10.0.130).\n",
            "\n",
            "\u001b[1mdpkg:\u001b[0m error processing package cuda-cupti-10-0 (--purge):\n",
            " dependency problems - not removing\n",
            "Errors were encountered while processing:\n",
            " cuda-cupti-10-0\n",
            "\u001b[1mdpkg:\u001b[0m dependency problems prevent removal of cuda-cupti-10-1:\n",
            " cuda-command-line-tools-10-1 depends on cuda-cupti-10-1 (>= 10.1.243).\n",
            "\n",
            "\u001b[1mdpkg:\u001b[0m error processing package cuda-cupti-10-1 (--purge):\n",
            " dependency problems - not removing\n",
            "Errors were encountered while processing:\n",
            " cuda-cupti-10-1\n",
            "\u001b[1mdpkg:\u001b[0m dependency problems prevent removal of cuda-cupti-11-0:\n",
            " cuda-cupti-dev-11-0 depends on cuda-cupti-11-0 (>= 11.0.221).\n",
            "\n",
            "\u001b[1mdpkg:\u001b[0m error processing package cuda-cupti-11-0 (--purge):\n",
            " dependency problems - not removing\n",
            "Errors were encountered while processing:\n",
            " cuda-cupti-11-0\n",
            "\u001b[1mdpkg:\u001b[0m dependency problems prevent removal of cuda-cupti-dev-11-0:\n",
            " cuda-command-line-tools-11-0 depends on cuda-cupti-dev-11-0 (>= 11.0.221).\n",
            "\n",
            "\u001b[1mdpkg:\u001b[0m error processing package cuda-cupti-dev-11-0 (--purge):\n",
            " dependency problems - not removing\n",
            "Errors were encountered while processing:\n",
            " cuda-cupti-dev-11-0\n",
            "\u001b[1mdpkg:\u001b[0m dependency problems prevent removal of cuda-curand-10-0:\n",
            " cuda-curand-dev-10-0 depends on cuda-curand-10-0 (>= 10.0.130).\n",
            " cuda-libraries-10-0 depends on cuda-curand-10-0 (>= 10.0.130).\n",
            "\n",
            "\u001b[1mdpkg:\u001b[0m error processing package cuda-curand-10-0 (--purge):\n",
            " dependency problems - not removing\n",
            "Errors were encountered while processing:\n",
            " cuda-curand-10-0\n",
            "\u001b[1mdpkg:\u001b[0m dependency problems prevent removal of cuda-curand-10-1:\n",
            " cuda-curand-dev-10-1 depends on cuda-curand-10-1 (>= 10.1.243).\n",
            " cuda-libraries-10-1 depends on cuda-curand-10-1 (>= 10.1.243).\n",
            "\n",
            "\u001b[1mdpkg:\u001b[0m error processing package cuda-curand-10-1 (--purge):\n",
            " dependency problems - not removing\n",
            "Errors were encountered while processing:\n",
            " cuda-curand-10-1\n",
            "\u001b[1mdpkg:\u001b[0m dependency problems prevent removal of cuda-curand-dev-10-0:\n",
            " cuda-visual-tools-10-0 depends on cuda-curand-dev-10-0 (>= 10.0.130).\n",
            " cuda-samples-10-0 depends on cuda-curand-dev-10-0.\n",
            " cuda-libraries-dev-10-0 depends on cuda-curand-dev-10-0 (>= 10.0.130).\n",
            "\n",
            "\u001b[1mdpkg:\u001b[0m error processing package cuda-curand-dev-10-0 (--purge):\n",
            " dependency problems - not removing\n",
            "Errors were encountered while processing:\n",
            " cuda-curand-dev-10-0\n",
            "\u001b[1mdpkg:\u001b[0m dependency problems prevent removal of cuda-curand-dev-10-1:\n",
            " cuda-samples-10-1 depends on cuda-curand-dev-10-1.\n",
            " cuda-libraries-dev-10-1 depends on cuda-curand-dev-10-1 (>= 10.1.243).\n",
            " cuda-visual-tools-10-1 depends on cuda-curand-dev-10-1 (>= 10.1.243).\n",
            "\n",
            "\u001b[1mdpkg:\u001b[0m error processing package cuda-curand-dev-10-1 (--purge):\n",
            " dependency problems - not removing\n",
            "Errors were encountered while processing:\n",
            " cuda-curand-dev-10-1\n",
            "\u001b[1mdpkg:\u001b[0m dependency problems prevent removal of cuda-cusolver-10-0:\n",
            " cuda-cusolver-dev-10-0 depends on cuda-cusolver-10-0 (>= 10.0.130).\n",
            " cuda-libraries-10-0 depends on cuda-cusolver-10-0 (>= 10.0.130).\n",
            "\n",
            "\u001b[1mdpkg:\u001b[0m error processing package cuda-cusolver-10-0 (--purge):\n",
            " dependency problems - not removing\n",
            "Errors were encountered while processing:\n",
            " cuda-cusolver-10-0\n",
            "\u001b[1mdpkg:\u001b[0m dependency problems prevent removal of cuda-cusolver-10-1:\n",
            " cuda-cusolver-dev-10-1 depends on cuda-cusolver-10-1 (>= 10.1.243).\n",
            " cuda-libraries-10-1 depends on cuda-cusolver-10-1 (>= 10.1.243).\n",
            "\n",
            "\u001b[1mdpkg:\u001b[0m error processing package cuda-cusolver-10-1 (--purge):\n",
            " dependency problems - not removing\n",
            "Errors were encountered while processing:\n",
            " cuda-cusolver-10-1\n",
            "\u001b[1mdpkg:\u001b[0m dependency problems prevent removal of cuda-cusolver-dev-10-0:\n",
            " cuda-visual-tools-10-0 depends on cuda-cusolver-dev-10-0 (>= 10.0.130).\n",
            " cuda-samples-10-0 depends on cuda-cusolver-dev-10-0.\n",
            " cuda-libraries-dev-10-0 depends on cuda-cusolver-dev-10-0 (>= 10.0.130).\n",
            "\n",
            "\u001b[1mdpkg:\u001b[0m error processing package cuda-cusolver-dev-10-0 (--purge):\n",
            " dependency problems - not removing\n",
            "Errors were encountered while processing:\n",
            " cuda-cusolver-dev-10-0\n",
            "\u001b[1mdpkg:\u001b[0m dependency problems prevent removal of cuda-cusolver-dev-10-1:\n",
            " cuda-samples-10-1 depends on cuda-cusolver-dev-10-1.\n",
            " cuda-libraries-dev-10-1 depends on cuda-cusolver-dev-10-1 (>= 10.1.243).\n",
            " cuda-visual-tools-10-1 depends on cuda-cusolver-dev-10-1 (>= 10.1.243).\n",
            "\n",
            "\u001b[1mdpkg:\u001b[0m error processing package cuda-cusolver-dev-10-1 (--purge):\n",
            " dependency problems - not removing\n",
            "Errors were encountered while processing:\n",
            " cuda-cusolver-dev-10-1\n",
            "\u001b[1mdpkg:\u001b[0m dependency problems prevent removal of cuda-cusparse-10-0:\n",
            " cuda-cusparse-dev-10-0 depends on cuda-cusparse-10-0 (>= 10.0.130).\n",
            " cuda-libraries-10-0 depends on cuda-cusparse-10-0 (>= 10.0.130).\n",
            "\n",
            "\u001b[1mdpkg:\u001b[0m error processing package cuda-cusparse-10-0 (--purge):\n",
            " dependency problems - not removing\n",
            "Errors were encountered while processing:\n",
            " cuda-cusparse-10-0\n",
            "\u001b[1mdpkg:\u001b[0m dependency problems prevent removal of cuda-cusparse-10-1:\n",
            " cuda-cusparse-dev-10-1 depends on cuda-cusparse-10-1 (>= 10.1.243).\n",
            " cuda-libraries-10-1 depends on cuda-cusparse-10-1 (>= 10.1.243).\n",
            "\n",
            "\u001b[1mdpkg:\u001b[0m error processing package cuda-cusparse-10-1 (--purge):\n",
            " dependency problems - not removing\n",
            "Errors were encountered while processing:\n",
            " cuda-cusparse-10-1\n",
            "\u001b[1mdpkg:\u001b[0m dependency problems prevent removal of cuda-cusparse-dev-10-0:\n",
            " cuda-visual-tools-10-0 depends on cuda-cusparse-dev-10-0 (>= 10.0.130).\n",
            " cuda-samples-10-0 depends on cuda-cusparse-dev-10-0.\n",
            " cuda-libraries-dev-10-0 depends on cuda-cusparse-dev-10-0 (>= 10.0.130).\n",
            "\n",
            "\u001b[1mdpkg:\u001b[0m error processing package cuda-cusparse-dev-10-0 (--purge):\n",
            " dependency problems - not removing\n",
            "Errors were encountered while processing:\n",
            " cuda-cusparse-dev-10-0\n",
            "\u001b[1mdpkg:\u001b[0m dependency problems prevent removal of cuda-cusparse-dev-10-1:\n",
            " cuda-samples-10-1 depends on cuda-cusparse-dev-10-1.\n",
            " cuda-libraries-dev-10-1 depends on cuda-cusparse-dev-10-1 (>= 10.1.243).\n",
            " cuda-visual-tools-10-1 depends on cuda-cusparse-dev-10-1 (>= 10.1.243).\n",
            "\n",
            "\u001b[1mdpkg:\u001b[0m error processing package cuda-cusparse-dev-10-1 (--purge):\n",
            " dependency problems - not removing\n",
            "Errors were encountered while processing:\n",
            " cuda-cusparse-dev-10-1\n",
            "\u001b[1mdpkg:\u001b[0m dependency problems prevent removal of cuda-documentation-10-0:\n",
            " cuda-toolkit-10-0 depends on cuda-documentation-10-0 (>= 10.0.130).\n",
            "\n",
            "\u001b[1mdpkg:\u001b[0m error processing package cuda-documentation-10-0 (--purge):\n",
            " dependency problems - not removing\n",
            "Errors were encountered while processing:\n",
            " cuda-documentation-10-0\n",
            "\u001b[1mdpkg:\u001b[0m dependency problems prevent removal of cuda-documentation-10-1:\n",
            " cuda-toolkit-10-1 depends on cuda-documentation-10-1 (>= 10.1.243).\n",
            "\n",
            "\u001b[1mdpkg:\u001b[0m error processing package cuda-documentation-10-1 (--purge):\n",
            " dependency problems - not removing\n",
            "Errors were encountered while processing:\n",
            " cuda-documentation-10-1\n",
            "\u001b[1mdpkg:\u001b[0m dependency problems prevent removal of cuda-documentation-11-0:\n",
            " cuda-toolkit-11-0 depends on cuda-documentation-11-0 (>= 11.0.228).\n",
            "\n",
            "\u001b[1mdpkg:\u001b[0m error processing package cuda-documentation-11-0 (--purge):\n",
            " dependency problems - not removing\n",
            "Errors were encountered while processing:\n",
            " cuda-documentation-11-0\n",
            "\u001b[1mdpkg:\u001b[0m dependency problems prevent removal of cuda-driver-dev-10-0:\n",
            " cuda-cudart-dev-10-0 depends on cuda-driver-dev-10-0 (>= 10.0.130).\n",
            " cuda-visual-tools-10-0 depends on cuda-driver-dev-10-0 (>= 10.0.130).\n",
            " cuda-samples-10-0 depends on cuda-driver-dev-10-0.\n",
            " cuda-libraries-dev-10-0 depends on cuda-driver-dev-10-0 (>= 10.0.130).\n",
            "\n",
            "\u001b[1mdpkg:\u001b[0m error processing package cuda-driver-dev-10-0 (--purge):\n",
            " dependency problems - not removing\n",
            "Errors were encountered while processing:\n",
            " cuda-driver-dev-10-0\n",
            "\u001b[1mdpkg:\u001b[0m dependency problems prevent removal of cuda-driver-dev-10-1:\n",
            " cuda-samples-10-1 depends on cuda-driver-dev-10-1.\n",
            " cuda-libraries-dev-10-1 depends on cuda-driver-dev-10-1 (>= 10.1.243).\n",
            " cuda-visual-tools-10-1 depends on cuda-driver-dev-10-1 (>= 10.1.243).\n",
            " cuda-cudart-dev-10-1 depends on cuda-driver-dev-10-1 (>= 10.1.243).\n",
            "\n",
            "\u001b[1mdpkg:\u001b[0m error processing package cuda-driver-dev-10-1 (--purge):\n",
            " dependency problems - not removing\n",
            "Errors were encountered while processing:\n",
            " cuda-driver-dev-10-1\n",
            "\u001b[1mdpkg:\u001b[0m dependency problems prevent removal of cuda-driver-dev-11-0:\n",
            " cuda-visual-tools-11-0 depends on cuda-driver-dev-11-0 (>= 11.0.221).\n",
            " cuda-samples-11-0 depends on cuda-driver-dev-11-0.\n",
            " cuda-cudart-dev-11-0 depends on cuda-driver-dev-11-0 (>= 11.0.221).\n",
            " cuda-libraries-dev-11-0 depends on cuda-driver-dev-11-0 (>= 11.0.221).\n",
            "\n",
            "\u001b[1mdpkg:\u001b[0m error processing package cuda-driver-dev-11-0 (--purge):\n",
            " dependency problems - not removing\n",
            "Errors were encountered while processing:\n",
            " cuda-driver-dev-11-0\n",
            "\u001b[1mdpkg:\u001b[0m dependency problems prevent removal of cuda-gdb-10-0:\n",
            " cuda-command-line-tools-10-0 depends on cuda-gdb-10-0 (>= 10.0.130).\n",
            "\n",
            "\u001b[1mdpkg:\u001b[0m error processing package cuda-gdb-10-0 (--purge):\n",
            " dependency problems - not removing\n",
            "Errors were encountered while processing:\n",
            " cuda-gdb-10-0\n",
            "\u001b[1mdpkg:\u001b[0m dependency problems prevent removal of cuda-gdb-10-1:\n",
            " cuda-command-line-tools-10-1 depends on cuda-gdb-10-1 (>= 10.1.243).\n",
            "\n",
            "\u001b[1mdpkg:\u001b[0m error processing package cuda-gdb-10-1 (--purge):\n",
            " dependency problems - not removing\n",
            "Errors were encountered while processing:\n",
            " cuda-gdb-10-1\n",
            "\u001b[1mdpkg:\u001b[0m dependency problems prevent removal of cuda-gdb-11-0:\n",
            " cuda-command-line-tools-11-0 depends on cuda-gdb-11-0 (>= 11.0.221).\n",
            "\n",
            "\u001b[1mdpkg:\u001b[0m error processing package cuda-gdb-11-0 (--purge):\n",
            " dependency problems - not removing\n",
            "Errors were encountered while processing:\n",
            " cuda-gdb-11-0\n",
            "\u001b[1mdpkg:\u001b[0m dependency problems prevent removal of cuda-gpu-library-advisor-10-0:\n",
            " cuda-command-line-tools-10-0 depends on cuda-gpu-library-advisor-10-0 (>= 10.0.130).\n",
            "\n",
            "\u001b[1mdpkg:\u001b[0m error processing package cuda-gpu-library-advisor-10-0 (--purge):\n",
            " dependency problems - not removing\n",
            "Errors were encountered while processing:\n",
            " cuda-gpu-library-advisor-10-0\n",
            "\u001b[1mdpkg:\u001b[0m dependency problems prevent removal of cuda-gpu-library-advisor-10-1:\n",
            " cuda-command-line-tools-10-1 depends on cuda-gpu-library-advisor-10-1 (>= 10.1.243).\n",
            "\n",
            "\u001b[1mdpkg:\u001b[0m error processing package cuda-gpu-library-advisor-10-1 (--purge):\n",
            " dependency problems - not removing\n",
            "Errors were encountered while processing:\n",
            " cuda-gpu-library-advisor-10-1\n",
            "(Reading database ... 160038 files and directories currently installed.)\n",
            "Removing cuda-libraries-10-0 (10.0.130-1) ...\n",
            "(Reading database ... 160035 files and directories currently installed.)\n",
            "Removing cuda-libraries-10-1 (10.1.243-1) ...\n",
            "\u001b[1mdpkg:\u001b[0m dependency problems prevent removal of cuda-libraries-11-0:\n",
            " cuda-toolkit-11-0 depends on cuda-libraries-11-0 (>= 11.0.3).\n",
            "\n",
            "\u001b[1mdpkg:\u001b[0m error processing package cuda-libraries-11-0 (--purge):\n",
            " dependency problems - not removing\n",
            "Errors were encountered while processing:\n",
            " cuda-libraries-11-0\n",
            "\u001b[1mdpkg:\u001b[0m dependency problems prevent removal of cuda-libraries-dev-10-0:\n",
            " cuda-toolkit-10-0 depends on cuda-libraries-dev-10-0 (>= 10.0.130).\n",
            "\n",
            "\u001b[1mdpkg:\u001b[0m error processing package cuda-libraries-dev-10-0 (--purge):\n",
            " dependency problems - not removing\n",
            "Errors were encountered while processing:\n",
            " cuda-libraries-dev-10-0\n",
            "\u001b[1mdpkg:\u001b[0m dependency problems prevent removal of cuda-libraries-dev-10-1:\n",
            " cuda-toolkit-10-1 depends on cuda-libraries-dev-10-1 (>= 10.1.243).\n",
            "\n",
            "\u001b[1mdpkg:\u001b[0m error processing package cuda-libraries-dev-10-1 (--purge):\n",
            " dependency problems - not removing\n",
            "Errors were encountered while processing:\n",
            " cuda-libraries-dev-10-1\n",
            "\u001b[1mdpkg:\u001b[0m dependency problems prevent removal of cuda-libraries-dev-11-0:\n",
            " cuda-toolkit-11-0 depends on cuda-libraries-dev-11-0 (>= 11.0.3).\n",
            "\n",
            "\u001b[1mdpkg:\u001b[0m error processing package cuda-libraries-dev-11-0 (--purge):\n",
            " dependency problems - not removing\n",
            "Errors were encountered while processing:\n",
            " cuda-libraries-dev-11-0\n",
            "\u001b[1mdpkg:\u001b[0m dependency problems prevent removal of cuda-license-10-0:\n",
            " cuda-cusolver-dev-10-0 depends on cuda-license-10-0.\n",
            " cuda-cusparse-dev-10-0 depends on cuda-license-10-0.\n",
            " cuda-curand-dev-10-0 depends on cuda-license-10-0.\n",
            " cuda-nvtx-10-0 depends on cuda-license-10-0.\n",
            " cuda-nvrtc-10-0 depends on cuda-license-10-0.\n",
            " cuda-nvprof-10-0 depends on cuda-license-10-0.\n",
            " cuda-nvcc-10-0 depends on cuda-license-10-0.\n",
            " cuda-nvml-dev-10-0 depends on cuda-license-10-0.\n",
            " cuda-nvdisasm-10-0 depends on cuda-license-10-0.\n",
            " cuda-nsight-10-0 depends on cuda-license-10-0.\n",
            " cuda-compiler-10-0 depends on cuda-license-10-0 (>= 10.0.130).\n",
            " cuda-documentation-10-0 depends on cuda-license-10-0.\n",
            " cuda-npp-dev-10-0 depends on cuda-license-10-0.\n",
            " cuda-nvrtc-dev-10-0 depends on cuda-license-10-0.\n",
            " cuda-memcheck-10-0 depends on cuda-license-10-0.\n",
            " cuda-cudart-dev-10-0 depends on cuda-license-10-0.\n",
            " cuda-toolkit-10-0 depends on cuda-license-10-0 (>= 10.0.130).\n",
            " cuda-nvgraph-dev-10-0 depends on cuda-license-10-0.\n",
            " cuda-cublas-10-0 depends on cuda-license-10-0.\n",
            " cuda-gpu-library-advisor-10-0 depends on cuda-license-10-0.\n",
            " cuda-driver-dev-10-0 depends on cuda-license-10-0.\n",
            " cuda-curand-10-0 depends on cuda-license-10-0.\n",
            " cuda-nvvp-10-0 depends on cuda-license-10-0.\n",
            " cuda-misc-headers-10-0 depends on cuda-license-10-0.\n",
            " cuda-cusolver-10-0 depends on cuda-license-10-0.\n",
            " cuda-cufft-dev-10-0 depends on cuda-license-10-0.\n",
            " cuda-npp-10-0 depends on cuda-license-10-0.\n",
            " cuda-cudart-10-0 depends on cuda-license-10-0.\n",
            " cuda-cupti-10-0 depends on cuda-license-10-0.\n",
            " cuda-nsight-compute-10-0 depends on cuda-license-10-0.\n",
            " cuda-cufft-10-0 depends on cuda-license-10-0.\n",
            " cuda-nvjpeg-dev-10-0 depends on cuda-license-10-0.\n",
            " cuda-gdb-10-0 depends on cuda-license-10-0.\n",
            " cuda-nvjpeg-10-0 depends on cuda-license-10-0.\n",
            " cuda-cuobjdump-10-0 depends on cuda-license-10-0.\n",
            " cuda-cusparse-10-0 depends on cuda-license-10-0.\n",
            " cuda-tools-10-0 depends on cuda-license-10-0 (>= 10.0.130).\n",
            " cuda-libraries-dev-10-0 depends on cuda-license-10-0 (>= 10.0.130).\n",
            " cuda-cublas-dev-10-0 depends on cuda-license-10-0.\n",
            " cuda-nvprune-10-0 depends on cuda-license-10-0.\n",
            " cuda-nvgraph-10-0 depends on cuda-license-10-0.\n",
            "\n",
            "\u001b[1mdpkg:\u001b[0m error processing package cuda-license-10-0 (--purge):\n",
            " dependency problems - not removing\n",
            "Errors were encountered while processing:\n",
            " cuda-license-10-0\n",
            "\u001b[1mdpkg:\u001b[0m dependency problems prevent removal of cuda-license-10-1:\n",
            " cuda-nsight-compute-10-1 depends on cuda-license-10-1; however:\n",
            "  Package cuda-license-10-1 is to be removed.\n",
            " cuda-toolkit-10-1 depends on cuda-license-10-1 (>= 10.1.243).\n",
            " cuda-nvgraph-dev-10-1 depends on cuda-license-10-1.\n",
            " cuda-gdb-10-1 depends on cuda-license-10-1.\n",
            " cuda-nsight-systems-10-1 depends on cuda-license-10-1; however:\n",
            "  Package cuda-license-10-1 is to be removed.\n",
            " cuda-cuobjdump-10-1 depends on cuda-license-10-1.\n",
            " cuda-driver-dev-10-1 depends on cuda-license-10-1.\n",
            " cuda-nvvp-10-1 depends on cuda-license-10-1.\n",
            " cuda-tools-10-1 depends on cuda-license-10-1 (>= 10.1.243).\n",
            " cuda-libraries-dev-10-1 depends on cuda-license-10-1 (>= 10.1.243).\n",
            " cuda-cusolver-dev-10-1 depends on cuda-license-10-1.\n",
            " cuda-cufft-dev-10-1 depends on cuda-license-10-1.\n",
            " cuda-npp-10-1 depends on cuda-license-10-1.\n",
            " libcublas-dev depends on cuda-license-10-1.\n",
            " cuda-curand-dev-10-1 depends on cuda-license-10-1.\n",
            " libcublas10 depends on cuda-license-10-1.\n",
            " cuda-nvrtc-10-1 depends on cuda-license-10-1.\n",
            " cuda-nvprof-10-1 depends on cuda-license-10-1.\n",
            " cuda-cufft-10-1 depends on cuda-license-10-1.\n",
            " cuda-nvjpeg-dev-10-1 depends on cuda-license-10-1.\n",
            " cuda-sanitizer-api-10-1 depends on cuda-license-10-1.\n",
            " cuda-nvml-dev-10-1 depends on cuda-license-10-1.\n",
            " cuda-nvdisasm-10-1 depends on cuda-license-10-1.\n",
            " cuda-nsight-10-1 depends on cuda-license-10-1.\n",
            " cuda-compiler-10-1 depends on cuda-license-10-1 (>= 10.1.243).\n",
            " cuda-nvjpeg-10-1 depends on cuda-license-10-1.\n",
            " cuda-cusparse-10-1 depends on cuda-license-10-1.\n",
            " cuda-nvrtc-dev-10-1 depends on cuda-license-10-1.\n",
            " cuda-cudart-dev-10-1 depends on cuda-license-10-1.\n",
            " cuda-memcheck-10-1 depends on cuda-license-10-1.\n",
            " cuda-nvprune-10-1 depends on cuda-license-10-1.\n",
            " cuda-nvgraph-10-1 depends on cuda-license-10-1.\n",
            " cuda-gpu-library-advisor-10-1 depends on cuda-license-10-1.\n",
            " cuda-cusparse-dev-10-1 depends on cuda-license-10-1.\n",
            " cuda-curand-10-1 depends on cuda-license-10-1.\n",
            " cuda-nvtx-10-1 depends on cuda-license-10-1.\n",
            " cuda-misc-headers-10-1 depends on cuda-license-10-1.\n",
            " cuda-cusolver-10-1 depends on cuda-license-10-1.\n",
            " cuda-nvcc-10-1 depends on cuda-license-10-1.\n",
            " cuda-documentation-10-1 depends on cuda-license-10-1.\n",
            " cuda-npp-dev-10-1 depends on cuda-license-10-1.\n",
            " cuda-cudart-10-1 depends on cuda-license-10-1.\n",
            " cuda-cupti-10-1 depends on cuda-license-10-1.\n",
            "\n",
            "\u001b[1mdpkg:\u001b[0m error processing package cuda-license-10-1 (--purge):\n",
            " dependency problems - not removing\n",
            "Errors were encountered while processing:\n",
            " cuda-license-10-1\n",
            "\u001b[1mdpkg:\u001b[0m dependency problems prevent removal of cuda-memcheck-10-0:\n",
            " cuda-command-line-tools-10-0 depends on cuda-memcheck-10-0 (>= 10.0.130).\n",
            "\n",
            "\u001b[1mdpkg:\u001b[0m error processing package cuda-memcheck-10-0 (--purge):\n",
            " dependency problems - not removing\n",
            "Errors were encountered while processing:\n",
            " cuda-memcheck-10-0\n",
            "\u001b[1mdpkg:\u001b[0m dependency problems prevent removal of cuda-memcheck-10-1:\n",
            " cuda-command-line-tools-10-1 depends on cuda-memcheck-10-1 (>= 10.1.243).\n",
            "\n",
            "\u001b[1mdpkg:\u001b[0m error processing package cuda-memcheck-10-1 (--purge):\n",
            " dependency problems - not removing\n",
            "Errors were encountered while processing:\n",
            " cuda-memcheck-10-1\n",
            "\u001b[1mdpkg:\u001b[0m dependency problems prevent removal of cuda-memcheck-11-0:\n",
            " cuda-command-line-tools-11-0 depends on cuda-memcheck-11-0 (>= 11.0.221).\n",
            "\n",
            "\u001b[1mdpkg:\u001b[0m error processing package cuda-memcheck-11-0 (--purge):\n",
            " dependency problems - not removing\n",
            "Errors were encountered while processing:\n",
            " cuda-memcheck-11-0\n",
            "(Reading database ... 160032 files and directories currently installed.)\n",
            "Removing cuda-minimal-build-11-0 (11.0.3-1) ...\n",
            "\u001b[1mdpkg:\u001b[0m dependency problems prevent removal of cuda-misc-headers-10-0:\n",
            " cuda-nvcc-10-0 depends on cuda-misc-headers-10-0 (>= 10.0.130).\n",
            " cuda-libraries-dev-10-0 depends on cuda-misc-headers-10-0 (>= 10.0.130).\n",
            "\n",
            "\u001b[1mdpkg:\u001b[0m error processing package cuda-misc-headers-10-0 (--purge):\n",
            " dependency problems - not removing\n",
            "Errors were encountered while processing:\n",
            " cuda-misc-headers-10-0\n",
            "\u001b[1mdpkg:\u001b[0m dependency problems prevent removal of cuda-misc-headers-10-1:\n",
            " cuda-libraries-dev-10-1 depends on cuda-misc-headers-10-1 (>= 10.1.243).\n",
            " cuda-nvcc-10-1 depends on cuda-misc-headers-10-1 (>= 10.1.243).\n",
            "\n",
            "\u001b[1mdpkg:\u001b[0m error processing package cuda-misc-headers-10-1 (--purge):\n",
            " dependency problems - not removing\n",
            "Errors were encountered while processing:\n",
            " cuda-misc-headers-10-1\n",
            "\u001b[1mdpkg:\u001b[0m dependency problems prevent removal of cuda-npp-10-0:\n",
            " cuda-npp-dev-10-0 depends on cuda-npp-10-0 (>= 10.0.130).\n",
            "\n",
            "\u001b[1mdpkg:\u001b[0m error processing package cuda-npp-10-0 (--purge):\n",
            " dependency problems - not removing\n",
            "Errors were encountered while processing:\n",
            " cuda-npp-10-0\n",
            "\u001b[1mdpkg:\u001b[0m dependency problems prevent removal of cuda-npp-10-1:\n",
            " cuda-npp-dev-10-1 depends on cuda-npp-10-1 (>= 10.1.243).\n",
            "\n",
            "\u001b[1mdpkg:\u001b[0m error processing package cuda-npp-10-1 (--purge):\n",
            " dependency problems - not removing\n",
            "Errors were encountered while processing:\n",
            " cuda-npp-10-1\n",
            "\u001b[1mdpkg:\u001b[0m dependency problems prevent removal of cuda-npp-dev-10-0:\n",
            " cuda-visual-tools-10-0 depends on cuda-npp-dev-10-0 (>= 10.0.130).\n",
            " cuda-samples-10-0 depends on cuda-npp-dev-10-0.\n",
            " cuda-libraries-dev-10-0 depends on cuda-npp-dev-10-0 (>= 10.0.130).\n",
            "\n",
            "\u001b[1mdpkg:\u001b[0m error processing package cuda-npp-dev-10-0 (--purge):\n",
            " dependency problems - not removing\n",
            "Errors were encountered while processing:\n",
            " cuda-npp-dev-10-0\n",
            "\u001b[1mdpkg:\u001b[0m dependency problems prevent removal of cuda-npp-dev-10-1:\n",
            " cuda-samples-10-1 depends on cuda-npp-dev-10-1.\n",
            " cuda-libraries-dev-10-1 depends on cuda-npp-dev-10-1 (>= 10.1.243).\n",
            " cuda-visual-tools-10-1 depends on cuda-npp-dev-10-1 (>= 10.1.243).\n",
            "\n",
            "\u001b[1mdpkg:\u001b[0m error processing package cuda-npp-dev-10-1 (--purge):\n",
            " dependency problems - not removing\n",
            "Errors were encountered while processing:\n",
            " cuda-npp-dev-10-1\n",
            "\u001b[1mdpkg:\u001b[0m dependency problems prevent removal of cuda-nsight-10-0:\n",
            " cuda-visual-tools-10-0 depends on cuda-nsight-10-0 (>= 10.0.130).\n",
            "\n",
            "\u001b[1mdpkg:\u001b[0m error processing package cuda-nsight-10-0 (--purge):\n",
            " dependency problems - not removing\n",
            "Errors were encountered while processing:\n",
            " cuda-nsight-10-0\n",
            "\u001b[1mdpkg:\u001b[0m dependency problems prevent removal of cuda-nsight-10-1:\n",
            " cuda-visual-tools-10-1 depends on cuda-nsight-10-1 (>= 10.1.243).\n",
            "\n",
            "\u001b[1mdpkg:\u001b[0m error processing package cuda-nsight-10-1 (--purge):\n",
            " dependency problems - not removing\n",
            "Errors were encountered while processing:\n",
            " cuda-nsight-10-1\n",
            "\u001b[1mdpkg:\u001b[0m dependency problems prevent removal of cuda-nsight-11-0:\n",
            " cuda-visual-tools-11-0 depends on cuda-nsight-11-0 (>= 11.0.221).\n",
            "\n",
            "\u001b[1mdpkg:\u001b[0m error processing package cuda-nsight-11-0 (--purge):\n",
            " dependency problems - not removing\n",
            "Errors were encountered while processing:\n",
            " cuda-nsight-11-0\n",
            "\u001b[1mdpkg:\u001b[0m dependency problems prevent removal of cuda-nsight-compute-10-0:\n",
            " cuda-visual-tools-10-0 depends on cuda-nsight-compute-10-0.\n",
            "\n",
            "\u001b[1mdpkg:\u001b[0m error processing package cuda-nsight-compute-10-0 (--purge):\n",
            " dependency problems - not removing\n",
            "Errors were encountered while processing:\n",
            " cuda-nsight-compute-10-0\n",
            "\u001b[1mdpkg:\u001b[0m dependency problems prevent removal of cuda-nsight-compute-10-1:\n",
            " cuda-visual-tools-10-1 depends on cuda-nsight-compute-10-1 (>= 10.1.243).\n",
            "\n",
            "\u001b[1mdpkg:\u001b[0m error processing package cuda-nsight-compute-10-1 (--purge):\n",
            " dependency problems - not removing\n",
            "Errors were encountered while processing:\n",
            " cuda-nsight-compute-10-1\n",
            "\u001b[1mdpkg:\u001b[0m dependency problems prevent removal of cuda-nsight-compute-11-0:\n",
            " cuda-visual-tools-11-0 depends on cuda-nsight-compute-11-0 (>= 11.0.3).\n",
            "\n",
            "\u001b[1mdpkg:\u001b[0m error processing package cuda-nsight-compute-11-0 (--purge):\n",
            " dependency problems - not removing\n",
            "Errors were encountered while processing:\n",
            " cuda-nsight-compute-11-0\n",
            "\u001b[1mdpkg:\u001b[0m dependency problems prevent removal of cuda-nsight-systems-10-1:\n",
            " cuda-visual-tools-10-1 depends on cuda-nsight-systems-10-1 (>= 10.1.243).\n",
            "\n",
            "\u001b[1mdpkg:\u001b[0m error processing package cuda-nsight-systems-10-1 (--purge):\n",
            " dependency problems - not removing\n",
            "Errors were encountered while processing:\n",
            " cuda-nsight-systems-10-1\n",
            "\u001b[1mdpkg:\u001b[0m dependency problems prevent removal of cuda-nsight-systems-11-0:\n",
            " cuda-visual-tools-11-0 depends on cuda-nsight-systems-11-0 (>= 11.0.3).\n",
            "\n",
            "\u001b[1mdpkg:\u001b[0m error processing package cuda-nsight-systems-11-0 (--purge):\n",
            " dependency problems - not removing\n",
            "Errors were encountered while processing:\n",
            " cuda-nsight-systems-11-0\n",
            "\u001b[1mdpkg:\u001b[0m dependency problems prevent removal of cuda-nvcc-10-0:\n",
            " cuda-compiler-10-0 depends on cuda-nvcc-10-0 (>= 10.0.130).\n",
            " cuda-cupti-10-0 depends on cuda-nvcc-10-0 (>= 10.0.130).\n",
            " cuda-samples-10-0 depends on cuda-nvcc-10-0.\n",
            "\n",
            "\u001b[1mdpkg:\u001b[0m error processing package cuda-nvcc-10-0 (--purge):\n",
            " dependency problems - not removing\n",
            "Errors were encountered while processing:\n",
            " cuda-nvcc-10-0\n",
            "\u001b[1mdpkg:\u001b[0m dependency problems prevent removal of cuda-nvcc-10-1:\n",
            " cuda-samples-10-1 depends on cuda-nvcc-10-1.\n",
            " cuda-compiler-10-1 depends on cuda-nvcc-10-1 (>= 10.1.243).\n",
            " cuda-cupti-10-1 depends on cuda-nvcc-10-1 (>= 10.1.243).\n",
            "\n",
            "\u001b[1mdpkg:\u001b[0m error processing package cuda-nvcc-10-1 (--purge):\n",
            " dependency problems - not removing\n",
            "Errors were encountered while processing:\n",
            " cuda-nvcc-10-1\n",
            "\u001b[1mdpkg:\u001b[0m dependency problems prevent removal of cuda-nvcc-11-0:\n",
            " cuda-cupti-11-0 depends on cuda-nvcc-11-0.\n",
            " cuda-compiler-11-0 depends on cuda-nvcc-11-0 (>= 11.0.221).\n",
            " cuda-samples-11-0 depends on cuda-nvcc-11-0.\n",
            "\n",
            "\u001b[1mdpkg:\u001b[0m error processing package cuda-nvcc-11-0 (--purge):\n",
            " dependency problems - not removing\n",
            "Errors were encountered while processing:\n",
            " cuda-nvcc-11-0\n",
            "\u001b[1mdpkg:\u001b[0m dependency problems prevent removal of cuda-nvdisasm-10-0:\n",
            " cuda-command-line-tools-10-0 depends on cuda-nvdisasm-10-0 (>= 10.0.130).\n",
            " cuda-gdb-10-0 depends on cuda-nvdisasm-10-0 (>= 10.0.130).\n",
            "\n",
            "\u001b[1mdpkg:\u001b[0m error processing package cuda-nvdisasm-10-0 (--purge):\n",
            " dependency problems - not removing\n",
            "Errors were encountered while processing:\n",
            " cuda-nvdisasm-10-0\n",
            "\u001b[1mdpkg:\u001b[0m dependency problems prevent removal of cuda-nvdisasm-10-1:\n",
            " cuda-gdb-10-1 depends on cuda-nvdisasm-10-1 (>= 10.1.243).\n",
            " cuda-command-line-tools-10-1 depends on cuda-nvdisasm-10-1 (>= 10.1.243).\n",
            "\n",
            "\u001b[1mdpkg:\u001b[0m error processing package cuda-nvdisasm-10-1 (--purge):\n",
            " dependency problems - not removing\n",
            "Errors were encountered while processing:\n",
            " cuda-nvdisasm-10-1\n",
            "\u001b[1mdpkg:\u001b[0m dependency problems prevent removal of cuda-nvdisasm-11-0:\n",
            " cuda-command-line-tools-11-0 depends on cuda-nvdisasm-11-0 (>= 11.0.221).\n",
            " cuda-gdb-11-0 depends on cuda-nvdisasm-11-0.\n",
            "\n",
            "\u001b[1mdpkg:\u001b[0m error processing package cuda-nvdisasm-11-0 (--purge):\n",
            " dependency problems - not removing\n",
            "Errors were encountered while processing:\n",
            " cuda-nvdisasm-11-0\n",
            "\u001b[1mdpkg:\u001b[0m dependency problems prevent removal of cuda-nvgraph-10-0:\n",
            " cuda-nvgraph-dev-10-0 depends on cuda-nvgraph-10-0 (>= 10.0.130).\n",
            "\n",
            "\u001b[1mdpkg:\u001b[0m error processing package cuda-nvgraph-10-0 (--purge):\n",
            " dependency problems - not removing\n",
            "Errors were encountered while processing:\n",
            " cuda-nvgraph-10-0\n",
            "\u001b[1mdpkg:\u001b[0m dependency problems prevent removal of cuda-nvgraph-10-1:\n",
            " cuda-nvgraph-dev-10-1 depends on cuda-nvgraph-10-1 (>= 10.1.243).\n",
            "\n",
            "\u001b[1mdpkg:\u001b[0m error processing package cuda-nvgraph-10-1 (--purge):\n",
            " dependency problems - not removing\n",
            "Errors were encountered while processing:\n",
            " cuda-nvgraph-10-1\n",
            "\u001b[1mdpkg:\u001b[0m dependency problems prevent removal of cuda-nvgraph-dev-10-0:\n",
            " cuda-visual-tools-10-0 depends on cuda-nvgraph-dev-10-0 (>= 10.0.130).\n",
            " cuda-samples-10-0 depends on cuda-nvgraph-dev-10-0.\n",
            " cuda-libraries-dev-10-0 depends on cuda-nvgraph-dev-10-0 (>= 10.0.130).\n",
            "\n",
            "\u001b[1mdpkg:\u001b[0m error processing package cuda-nvgraph-dev-10-0 (--purge):\n",
            " dependency problems - not removing\n",
            "Errors were encountered while processing:\n",
            " cuda-nvgraph-dev-10-0\n",
            "\u001b[1mdpkg:\u001b[0m dependency problems prevent removal of cuda-nvgraph-dev-10-1:\n",
            " cuda-samples-10-1 depends on cuda-nvgraph-dev-10-1.\n",
            " cuda-libraries-dev-10-1 depends on cuda-nvgraph-dev-10-1 (>= 10.1.243).\n",
            " cuda-visual-tools-10-1 depends on cuda-nvgraph-dev-10-1 (>= 10.1.243).\n",
            "\n",
            "\u001b[1mdpkg:\u001b[0m error processing package cuda-nvgraph-dev-10-1 (--purge):\n",
            " dependency problems - not removing\n",
            "Errors were encountered while processing:\n",
            " cuda-nvgraph-dev-10-1\n",
            "\u001b[1mdpkg:\u001b[0m dependency problems prevent removal of cuda-nvjpeg-10-0:\n",
            " cuda-nvjpeg-dev-10-0 depends on cuda-nvjpeg-10-0 (>= 10.0.130.1).\n",
            "\n",
            "\u001b[1mdpkg:\u001b[0m error processing package cuda-nvjpeg-10-0 (--purge):\n",
            " dependency problems - not removing\n",
            "Errors were encountered while processing:\n",
            " cuda-nvjpeg-10-0\n",
            "\u001b[1mdpkg:\u001b[0m dependency problems prevent removal of cuda-nvjpeg-10-1:\n",
            " cuda-nvjpeg-dev-10-1 depends on cuda-nvjpeg-10-1 (>= 10.1.243).\n",
            "\n",
            "\u001b[1mdpkg:\u001b[0m error processing package cuda-nvjpeg-10-1 (--purge):\n",
            " dependency problems - not removing\n",
            "Errors were encountered while processing:\n",
            " cuda-nvjpeg-10-1\n",
            "\u001b[1mdpkg:\u001b[0m dependency problems prevent removal of cuda-nvjpeg-dev-10-0:\n",
            " cuda-visual-tools-10-0 depends on cuda-nvjpeg-dev-10-0 (>= 10.0.130).\n",
            " cuda-libraries-dev-10-0 depends on cuda-nvjpeg-dev-10-0 (>= 10.0.130).\n",
            "\n",
            "\u001b[1mdpkg:\u001b[0m error processing package cuda-nvjpeg-dev-10-0 (--purge):\n",
            " dependency problems - not removing\n",
            "Errors were encountered while processing:\n",
            " cuda-nvjpeg-dev-10-0\n",
            "\u001b[1mdpkg:\u001b[0m dependency problems prevent removal of cuda-nvjpeg-dev-10-1:\n",
            " cuda-samples-10-1 depends on cuda-nvjpeg-dev-10-1.\n",
            " cuda-libraries-dev-10-1 depends on cuda-nvjpeg-dev-10-1 (>= 10.1.243).\n",
            " cuda-visual-tools-10-1 depends on cuda-nvjpeg-dev-10-1 (>= 10.1.243).\n",
            "\n",
            "\u001b[1mdpkg:\u001b[0m error processing package cuda-nvjpeg-dev-10-1 (--purge):\n",
            " dependency problems - not removing\n",
            "Errors were encountered while processing:\n",
            " cuda-nvjpeg-dev-10-1\n",
            "\u001b[1mdpkg:\u001b[0m dependency problems prevent removal of cuda-nvml-dev-10-0:\n",
            " cuda-toolkit-10-0 depends on cuda-nvml-dev-10-0 (>= 10.0.130).\n",
            " cuda-visual-tools-10-0 depends on cuda-nvml-dev-10-0 (>= 10.0.130).\n",
            "\n",
            "\u001b[1mdpkg:\u001b[0m error processing package cuda-nvml-dev-10-0 (--purge):\n",
            " dependency problems - not removing\n",
            "Errors were encountered while processing:\n",
            " cuda-nvml-dev-10-0\n",
            "\u001b[1mdpkg:\u001b[0m dependency problems prevent removal of cuda-nvml-dev-10-1:\n",
            " cuda-toolkit-10-1 depends on cuda-nvml-dev-10-1 (>= 10.1.243).\n",
            " cuda-visual-tools-10-1 depends on cuda-nvml-dev-10-1 (>= 10.1.243).\n",
            "\n",
            "\u001b[1mdpkg:\u001b[0m error processing package cuda-nvml-dev-10-1 (--purge):\n",
            " dependency problems - not removing\n",
            "Errors were encountered while processing:\n",
            " cuda-nvml-dev-10-1\n",
            "\u001b[1mdpkg:\u001b[0m dependency problems prevent removal of cuda-nvml-dev-11-0:\n",
            " cuda-visual-tools-11-0 depends on cuda-nvml-dev-11-0 (>= 11.0.167).\n",
            " cuda-toolkit-11-0 depends on cuda-nvml-dev-11-0 (>= 11.0.167).\n",
            "\n",
            "\u001b[1mdpkg:\u001b[0m error processing package cuda-nvml-dev-11-0 (--purge):\n",
            " dependency problems - not removing\n",
            "Errors were encountered while processing:\n",
            " cuda-nvml-dev-11-0\n",
            "\u001b[1mdpkg:\u001b[0m dependency problems prevent removal of cuda-nvprof-10-0:\n",
            " cuda-command-line-tools-10-0 depends on cuda-nvprof-10-0 (>= 10.0.130).\n",
            "\n",
            "\u001b[1mdpkg:\u001b[0m error processing package cuda-nvprof-10-0 (--purge):\n",
            " dependency problems - not removing\n",
            "Errors were encountered while processing:\n",
            " cuda-nvprof-10-0\n",
            "\u001b[1mdpkg:\u001b[0m dependency problems prevent removal of cuda-nvprof-10-1:\n",
            " cuda-command-line-tools-10-1 depends on cuda-nvprof-10-1 (>= 10.1.243).\n",
            "\n",
            "\u001b[1mdpkg:\u001b[0m error processing package cuda-nvprof-10-1 (--purge):\n",
            " dependency problems - not removing\n",
            "Errors were encountered while processing:\n",
            " cuda-nvprof-10-1\n",
            "\u001b[1mdpkg:\u001b[0m dependency problems prevent removal of cuda-nvprof-11-0:\n",
            " cuda-command-line-tools-11-0 depends on cuda-nvprof-11-0 (>= 11.0.221).\n",
            "\n",
            "\u001b[1mdpkg:\u001b[0m error processing package cuda-nvprof-11-0 (--purge):\n",
            " dependency problems - not removing\n",
            "Errors were encountered while processing:\n",
            " cuda-nvprof-11-0\n",
            "\u001b[1mdpkg:\u001b[0m dependency problems prevent removal of cuda-nvprune-10-0:\n",
            " cuda-compiler-10-0 depends on cuda-nvprune-10-0 (>= 10.0.130).\n",
            "\n",
            "\u001b[1mdpkg:\u001b[0m error processing package cuda-nvprune-10-0 (--purge):\n",
            " dependency problems - not removing\n",
            "Errors were encountered while processing:\n",
            " cuda-nvprune-10-0\n",
            "\u001b[1mdpkg:\u001b[0m dependency problems prevent removal of cuda-nvprune-10-1:\n",
            " cuda-compiler-10-1 depends on cuda-nvprune-10-1 (>= 10.1.243).\n",
            "\n",
            "\u001b[1mdpkg:\u001b[0m error processing package cuda-nvprune-10-1 (--purge):\n",
            " dependency problems - not removing\n",
            "Errors were encountered while processing:\n",
            " cuda-nvprune-10-1\n",
            "\u001b[1mdpkg:\u001b[0m dependency problems prevent removal of cuda-nvprune-11-0:\n",
            " cuda-compiler-11-0 depends on cuda-nvprune-11-0 (>= 11.0.221).\n",
            "\n",
            "\u001b[1mdpkg:\u001b[0m error processing package cuda-nvprune-11-0 (--purge):\n",
            " dependency problems - not removing\n",
            "Errors were encountered while processing:\n",
            " cuda-nvprune-11-0\n",
            "\u001b[1mdpkg:\u001b[0m dependency problems prevent removal of cuda-nvrtc-10-0:\n",
            " cuda-nvrtc-dev-10-0 depends on cuda-nvrtc-10-0 (>= 10.0.130).\n",
            "\n",
            "\u001b[1mdpkg:\u001b[0m error processing package cuda-nvrtc-10-0 (--purge):\n",
            " dependency problems - not removing\n",
            "Errors were encountered while processing:\n",
            " cuda-nvrtc-10-0\n",
            "\u001b[1mdpkg:\u001b[0m dependency problems prevent removal of cuda-nvrtc-10-1:\n",
            " cuda-nvrtc-dev-10-1 depends on cuda-nvrtc-10-1 (>= 10.1.243).\n",
            "\n",
            "\u001b[1mdpkg:\u001b[0m error processing package cuda-nvrtc-10-1 (--purge):\n",
            " dependency problems - not removing\n",
            "Errors were encountered while processing:\n",
            " cuda-nvrtc-10-1\n",
            "\u001b[1mdpkg:\u001b[0m dependency problems prevent removal of cuda-nvrtc-11-0:\n",
            " cuda-nvrtc-dev-11-0 depends on cuda-nvrtc-11-0 (>= 11.0.221).\n",
            " cuda-libraries-11-0 depends on cuda-nvrtc-11-0 (>= 11.0.221).\n",
            "\n",
            "\u001b[1mdpkg:\u001b[0m error processing package cuda-nvrtc-11-0 (--purge):\n",
            " dependency problems - not removing\n",
            "Errors were encountered while processing:\n",
            " cuda-nvrtc-11-0\n",
            "\u001b[1mdpkg:\u001b[0m dependency problems prevent removal of cuda-nvrtc-dev-10-0:\n",
            " cuda-visual-tools-10-0 depends on cuda-nvrtc-dev-10-0 (>= 10.0.130).\n",
            " cuda-samples-10-0 depends on cuda-nvrtc-dev-10-0.\n",
            " cuda-libraries-dev-10-0 depends on cuda-nvrtc-dev-10-0 (>= 10.0.130).\n",
            "\n",
            "\u001b[1mdpkg:\u001b[0m error processing package cuda-nvrtc-dev-10-0 (--purge):\n",
            " dependency problems - not removing\n",
            "Errors were encountered while processing:\n",
            " cuda-nvrtc-dev-10-0\n",
            "\u001b[1mdpkg:\u001b[0m dependency problems prevent removal of cuda-nvrtc-dev-10-1:\n",
            " cuda-samples-10-1 depends on cuda-nvrtc-dev-10-1.\n",
            " cuda-libraries-dev-10-1 depends on cuda-nvrtc-dev-10-1 (>= 10.1.243).\n",
            " cuda-visual-tools-10-1 depends on cuda-nvrtc-dev-10-1 (>= 10.1.243).\n",
            "\n",
            "\u001b[1mdpkg:\u001b[0m error processing package cuda-nvrtc-dev-10-1 (--purge):\n",
            " dependency problems - not removing\n",
            "Errors were encountered while processing:\n",
            " cuda-nvrtc-dev-10-1\n",
            "\u001b[1mdpkg:\u001b[0m dependency problems prevent removal of cuda-nvrtc-dev-11-0:\n",
            " cuda-visual-tools-11-0 depends on cuda-nvrtc-dev-11-0 (>= 11.0.221).\n",
            " cuda-samples-11-0 depends on cuda-nvrtc-dev-11-0.\n",
            " cuda-libraries-dev-11-0 depends on cuda-nvrtc-dev-11-0 (>= 11.0.221).\n",
            "\n",
            "\u001b[1mdpkg:\u001b[0m error processing package cuda-nvrtc-dev-11-0 (--purge):\n",
            " dependency problems - not removing\n",
            "Errors were encountered while processing:\n",
            " cuda-nvrtc-dev-11-0\n",
            "\u001b[1mdpkg:\u001b[0m dependency problems prevent removal of cuda-nvtx-10-0:\n",
            " cuda-command-line-tools-10-0 depends on cuda-nvtx-10-0 (>= 10.0.130).\n",
            "\n",
            "\u001b[1mdpkg:\u001b[0m error processing package cuda-nvtx-10-0 (--purge):\n",
            " dependency problems - not removing\n",
            "Errors were encountered while processing:\n",
            " cuda-nvtx-10-0\n",
            "\u001b[1mdpkg:\u001b[0m dependency problems prevent removal of cuda-nvtx-10-1:\n",
            " cuda-command-line-tools-10-1 depends on cuda-nvtx-10-1 (>= 10.1.243).\n",
            "\n",
            "\u001b[1mdpkg:\u001b[0m error processing package cuda-nvtx-10-1 (--purge):\n",
            " dependency problems - not removing\n",
            "Errors were encountered while processing:\n",
            " cuda-nvtx-10-1\n",
            "\u001b[1mdpkg:\u001b[0m dependency problems prevent removal of cuda-nvtx-11-0:\n",
            " cuda-command-line-tools-11-0 depends on cuda-nvtx-11-0 (>= 11.0.167).\n",
            "\n",
            "\u001b[1mdpkg:\u001b[0m error processing package cuda-nvtx-11-0 (--purge):\n",
            " dependency problems - not removing\n",
            "Errors were encountered while processing:\n",
            " cuda-nvtx-11-0\n",
            "\u001b[1mdpkg:\u001b[0m dependency problems prevent removal of cuda-nvvp-10-0:\n",
            " cuda-visual-tools-10-0 depends on cuda-nvvp-10-0 (>= 10.0.130).\n",
            "\n",
            "\u001b[1mdpkg:\u001b[0m error processing package cuda-nvvp-10-0 (--purge):\n",
            " dependency problems - not removing\n",
            "Errors were encountered while processing:\n",
            " cuda-nvvp-10-0\n",
            "\u001b[1mdpkg:\u001b[0m dependency problems prevent removal of cuda-nvvp-10-1:\n",
            " cuda-visual-tools-10-1 depends on cuda-nvvp-10-1 (>= 10.1.243).\n",
            "\n",
            "\u001b[1mdpkg:\u001b[0m error processing package cuda-nvvp-10-1 (--purge):\n",
            " dependency problems - not removing\n",
            "Errors were encountered while processing:\n",
            " cuda-nvvp-10-1\n",
            "\u001b[1mdpkg:\u001b[0m dependency problems prevent removal of cuda-nvvp-11-0:\n",
            " cuda-visual-tools-11-0 depends on cuda-nvvp-11-0 (>= 11.0.221).\n",
            "\n",
            "\u001b[1mdpkg:\u001b[0m error processing package cuda-nvvp-11-0 (--purge):\n",
            " dependency problems - not removing\n",
            "Errors were encountered while processing:\n",
            " cuda-nvvp-11-0\n",
            "\u001b[1mdpkg:\u001b[0m dependency problems prevent removal of cuda-samples-10-0:\n",
            " cuda-documentation-10-0 depends on cuda-samples-10-0.\n",
            " cuda-toolkit-10-0 depends on cuda-samples-10-0 (>= 10.0.130).\n",
            "\n",
            "\u001b[1mdpkg:\u001b[0m error processing package cuda-samples-10-0 (--purge):\n",
            " dependency problems - not removing\n",
            "Errors were encountered while processing:\n",
            " cuda-samples-10-0\n",
            "\u001b[1mdpkg:\u001b[0m dependency problems prevent removal of cuda-samples-10-1:\n",
            " cuda-toolkit-10-1 depends on cuda-samples-10-1 (>= 10.1.243).\n",
            " cuda-documentation-10-1 depends on cuda-samples-10-1.\n",
            "\n",
            "\u001b[1mdpkg:\u001b[0m error processing package cuda-samples-10-1 (--purge):\n",
            " dependency problems - not removing\n",
            "Errors were encountered while processing:\n",
            " cuda-samples-10-1\n",
            "\u001b[1mdpkg:\u001b[0m dependency problems prevent removal of cuda-samples-11-0:\n",
            " cuda-documentation-11-0 depends on cuda-samples-11-0.\n",
            " cuda-toolkit-11-0 depends on cuda-samples-11-0 (>= 11.0.221).\n",
            "\n",
            "\u001b[1mdpkg:\u001b[0m error processing package cuda-samples-11-0 (--purge):\n",
            " dependency problems - not removing\n",
            "Errors were encountered while processing:\n",
            " cuda-samples-11-0\n",
            "\u001b[1mdpkg:\u001b[0m dependency problems prevent removal of cuda-sanitizer-11-0:\n",
            " cuda-command-line-tools-11-0 depends on cuda-sanitizer-11-0 (>= 11.0.221).\n",
            "\n",
            "\u001b[1mdpkg:\u001b[0m error processing package cuda-sanitizer-11-0 (--purge):\n",
            " dependency problems - not removing\n",
            "Errors were encountered while processing:\n",
            " cuda-sanitizer-11-0\n",
            "\u001b[1mdpkg:\u001b[0m dependency problems prevent removal of cuda-sanitizer-api-10-1:\n",
            " cuda-command-line-tools-10-1 depends on cuda-sanitizer-api-10-1 (>= 10.1.243).\n",
            "\n",
            "\u001b[1mdpkg:\u001b[0m error processing package cuda-sanitizer-api-10-1 (--purge):\n",
            " dependency problems - not removing\n",
            "Errors were encountered while processing:\n",
            " cuda-sanitizer-api-10-1\n",
            "(Reading database ... 160030 files and directories currently installed.)\n",
            "Removing cuda-toolkit-10-0 (10.0.130-1) ...\n",
            "Purging configuration files for cuda-toolkit-10-0 (10.0.130-1) ...\n",
            "(Reading database ... 160027 files and directories currently installed.)\n",
            "Removing cuda-toolkit-10-1 (10.1.243-1) ...\n",
            "Purging configuration files for cuda-toolkit-10-1 (10.1.243-1) ...\n",
            "(Reading database ... 160024 files and directories currently installed.)\n",
            "Removing cuda-toolkit-11-0 (11.0.3-1) ...\n",
            "Purging configuration files for cuda-toolkit-11-0 (11.0.3-1) ...\n",
            "(Reading database ... 160022 files and directories currently installed.)\n",
            "Removing cuda-tools-10-0 (10.0.130-1) ...\n",
            "(Reading database ... 160019 files and directories currently installed.)\n",
            "Removing cuda-tools-10-1 (10.1.243-1) ...\n",
            "(Reading database ... 160016 files and directories currently installed.)\n",
            "Removing cuda-tools-11-0 (11.0.3-1) ...\n",
            "(Reading database ... 160014 files and directories currently installed.)\n",
            "Removing cuda-visual-tools-10-0 (10.0.130-1) ...\n",
            "Purging configuration files for cuda-visual-tools-10-0 (10.0.130-1) ...\n",
            "(Reading database ... 157181 files and directories currently installed.)\n",
            "Removing cuda-visual-tools-10-1 (10.1.243-1) ...\n",
            "Purging configuration files for cuda-visual-tools-10-1 (10.1.243-1) ...\n",
            "(Reading database ... 154348 files and directories currently installed.)\n",
            "Removing cuda-visual-tools-11-0 (11.0.3-1) ...\n",
            "Purging configuration files for cuda-visual-tools-11-0 (11.0.3-1) ...\n",
            "Reading package lists... Done\n",
            "Building dependency tree       \n",
            "Reading state information... Done\n",
            "Note, selecting 'cuda-cusparse-cross-qnx-10-0' for glob 'cuda-*'\n",
            "Note, selecting 'cuda-toolkit-11-3-config-common' for glob 'cuda-*'\n",
            "Note, selecting 'cuda-nsight-compute-11-0' for glob 'cuda-*'\n",
            "Note, selecting 'cuda-nsight-compute-11-1' for glob 'cuda-*'\n",
            "Note, selecting 'cuda-nsight-compute-11-2' for glob 'cuda-*'\n",
            "Note, selecting 'cuda-nsight-compute-11-3' for glob 'cuda-*'\n",
            "Note, selecting 'cuda-nvprof-11-0' for glob 'cuda-*'\n",
            "Note, selecting 'cuda-nvprof-11-1' for glob 'cuda-*'\n",
            "Note, selecting 'cuda-nvprof-11-2' for glob 'cuda-*'\n",
            "Note, selecting 'cuda-nvprof-11-3' for glob 'cuda-*'\n",
            "Note, selecting 'cuda-npp-cross-qnx-10-0' for glob 'cuda-*'\n",
            "Note, selecting 'cuda-nvprune-10-0' for glob 'cuda-*'\n",
            "Note, selecting 'cuda-nvprune-10-1' for glob 'cuda-*'\n",
            "Note, selecting 'cuda-nvprune-10-2' for glob 'cuda-*'\n",
            "Note, selecting 'cuda-toolkit-11-config-common' for glob 'cuda-*'\n",
            "Note, selecting 'cuda-nvprune-11-0' for glob 'cuda-*'\n",
            "Note, selecting 'cuda-nvprune-11-1' for glob 'cuda-*'\n",
            "Note, selecting 'cuda-nvprune-11-2' for glob 'cuda-*'\n",
            "Note, selecting 'cuda-nvprune-11-3' for glob 'cuda-*'\n",
            "Note, selecting 'cuda-nvgraph-10-0' for glob 'cuda-*'\n",
            "Note, selecting 'cuda-nvgraph-10-1' for glob 'cuda-*'\n",
            "Note, selecting 'cuda-nvgraph-10-2' for glob 'cuda-*'\n",
            "Note, selecting 'cuda-cublas-dev-10-0' for glob 'cuda-*'\n",
            "Note, selecting 'cuda-drivers-418' for glob 'cuda-*'\n",
            "Note, selecting 'cuda-drivers-440' for glob 'cuda-*'\n",
            "Note, selecting 'cuda-drivers-450' for glob 'cuda-*'\n",
            "Note, selecting 'cuda-drivers-455' for glob 'cuda-*'\n",
            "Note, selecting 'cuda-drivers-460' for glob 'cuda-*'\n",
            "Note, selecting 'cuda-drivers-465' for glob 'cuda-*'\n",
            "Note, selecting 'cuda-gdb-10-0' for glob 'cuda-*'\n",
            "Note, selecting 'cuda-gdb-10-1' for glob 'cuda-*'\n",
            "Note, selecting 'cuda-gdb-10-2' for glob 'cuda-*'\n",
            "Note, selecting 'cuda-nsight-compute--10-0' for glob 'cuda-*'\n",
            "Note, selecting 'cuda-gdb-11-0' for glob 'cuda-*'\n",
            "Note, selecting 'cuda-gdb-11-1' for glob 'cuda-*'\n",
            "Note, selecting 'cuda-gdb-11-2' for glob 'cuda-*'\n",
            "Note, selecting 'cuda-gdb-11-3' for glob 'cuda-*'\n",
            "Note, selecting 'cuda-visual-tools-10-0' for glob 'cuda-*'\n",
            "Note, selecting 'cuda-visual-tools-10-1' for glob 'cuda-*'\n",
            "Note, selecting 'cuda-visual-tools-10-2' for glob 'cuda-*'\n",
            "Note, selecting 'cuda-curand-dev-10-0' for glob 'cuda-*'\n",
            "Note, selecting 'cuda-curand-dev-10-1' for glob 'cuda-*'\n",
            "Note, selecting 'cuda-curand-dev-10-2' for glob 'cuda-*'\n",
            "Note, selecting 'cuda-cupti-10-0' for glob 'cuda-*'\n",
            "Note, selecting 'cuda-cupti-10-1' for glob 'cuda-*'\n",
            "Note, selecting 'cuda-cupti-10-2' for glob 'cuda-*'\n",
            "Note, selecting 'cuda-curand-cross-qnx-10-0' for glob 'cuda-*'\n",
            "Note, selecting 'cuda-visual-tools-11-0' for glob 'cuda-*'\n",
            "Note, selecting 'cuda-visual-tools-11-1' for glob 'cuda-*'\n",
            "Note, selecting 'cuda-visual-tools-11-2' for glob 'cuda-*'\n",
            "Note, selecting 'cuda-visual-tools-11-3' for glob 'cuda-*'\n",
            "Note, selecting 'cuda-libraries-dev-10-0' for glob 'cuda-*'\n",
            "Note, selecting 'cuda-libraries-dev-10-1' for glob 'cuda-*'\n",
            "Note, selecting 'cuda-libraries-dev-10-2' for glob 'cuda-*'\n",
            "Note, selecting 'cuda-cublas-cross-qnx-10-0' for glob 'cuda-*'\n",
            "Note, selecting 'cuda-cupti-11-0' for glob 'cuda-*'\n",
            "Note, selecting 'cuda-cupti-11-1' for glob 'cuda-*'\n",
            "Note, selecting 'cuda-cupti-11-2' for glob 'cuda-*'\n",
            "Note, selecting 'cuda-cupti-11-3' for glob 'cuda-*'\n",
            "Note, selecting 'cuda-drivers-branch' for glob 'cuda-*'\n",
            "Note, selecting 'cuda-repo-ubuntu1204' for glob 'cuda-*'\n",
            "Note, selecting 'cuda-nvjpeg-10-0' for glob 'cuda-*'\n",
            "Note, selecting 'cuda-nvjpeg-10-1' for glob 'cuda-*'\n",
            "Note, selecting 'cuda-nvjpeg-10-2' for glob 'cuda-*'\n",
            "Note, selecting 'cuda-nvrtc-dev-10-0' for glob 'cuda-*'\n",
            "Note, selecting 'cuda-nvrtc-dev-10-1' for glob 'cuda-*'\n",
            "Note, selecting 'cuda-nvrtc-dev-10-2' for glob 'cuda-*'\n",
            "Note, selecting 'cuda-libraries-dev-11-0' for glob 'cuda-*'\n",
            "Note, selecting 'cuda-libraries-dev-11-1' for glob 'cuda-*'\n",
            "Note, selecting 'cuda-libraries-dev-11-2' for glob 'cuda-*'\n",
            "Note, selecting 'cuda-libraries-dev-11-3' for glob 'cuda-*'\n",
            "Note, selecting 'cuda-nvrtc-dev-11-0' for glob 'cuda-*'\n",
            "Note, selecting 'cuda-nvrtc-dev-11-1' for glob 'cuda-*'\n",
            "Note, selecting 'cuda-nvrtc-dev-11-2' for glob 'cuda-*'\n",
            "Note, selecting 'cuda-nvrtc-dev-11-3' for glob 'cuda-*'\n",
            "Note, selecting 'cuda-minimal-build-10-0' for glob 'cuda-*'\n",
            "Note, selecting 'cuda-minimal-build-10-1' for glob 'cuda-*'\n",
            "Note, selecting 'cuda-minimal-build-10-2' for glob 'cuda-*'\n",
            "Note, selecting 'cuda-drivers' for glob 'cuda-*'\n",
            "Note, selecting 'cuda-repo-ubuntu1404' for glob 'cuda-*'\n",
            "Note, selecting 'cuda-repo-ubuntu1410' for glob 'cuda-*'\n",
            "Note, selecting 'cuda-thrust-11-3' for glob 'cuda-*'\n",
            "Note, selecting 'cuda-minimal-build-11-0' for glob 'cuda-*'\n",
            "Note, selecting 'cuda-minimal-build-11-1' for glob 'cuda-*'\n",
            "Note, selecting 'cuda-minimal-build-11-2' for glob 'cuda-*'\n",
            "Note, selecting 'cuda-minimal-build-11-3' for glob 'cuda-*'\n",
            "Note, selecting 'cuda-cufft-cross-qnx-10-0' for glob 'cuda-*'\n",
            "Note, selecting 'cuda-repo-ubuntu1504' for glob 'cuda-*'\n",
            "Note, selecting 'cuda-license-7-5' for glob 'cuda-*'\n",
            "Note, selecting 'cuda-cupti-dev-10-2' for glob 'cuda-*'\n",
            "Note, selecting 'cuda-libraries-10-0' for glob 'cuda-*'\n",
            "Note, selecting 'cuda-libraries-10-1' for glob 'cuda-*'\n",
            "Note, selecting 'cuda-libraries-10-2' for glob 'cuda-*'\n",
            "Note, selecting 'cuda-runtime-10-0' for glob 'cuda-*'\n",
            "Note, selecting 'cuda-runtime-10-1' for glob 'cuda-*'\n",
            "Note, selecting 'cuda-runtime-10-2' for glob 'cuda-*'\n",
            "Note, selecting 'cuda-cusolver-10-0' for glob 'cuda-*'\n",
            "Note, selecting 'cuda-cusolver-10-1' for glob 'cuda-*'\n",
            "Note, selecting 'cuda-cusolver-10-2' for glob 'cuda-*'\n",
            "Note, selecting 'cuda-cupti-dev-11-0' for glob 'cuda-*'\n",
            "Note, selecting 'cuda-cupti-dev-11-1' for glob 'cuda-*'\n",
            "Note, selecting 'cuda-cupti-dev-11-2' for glob 'cuda-*'\n",
            "Note, selecting 'cuda-cupti-dev-11-3' for glob 'cuda-*'\n",
            "Note, selecting 'cuda-libraries-11-0' for glob 'cuda-*'\n",
            "Note, selecting 'cuda-libraries-11-1' for glob 'cuda-*'\n",
            "Note, selecting 'cuda-libraries-11-2' for glob 'cuda-*'\n",
            "Note, selecting 'cuda-libraries-11-3' for glob 'cuda-*'\n",
            "Note, selecting 'cuda-repo-ubuntu1804' for glob 'cuda-*'\n",
            "Note, selecting 'cuda-runtime-11-0' for glob 'cuda-*'\n",
            "Note, selecting 'cuda-runtime-11-1' for glob 'cuda-*'\n",
            "Note, selecting 'cuda-runtime-11-2' for glob 'cuda-*'\n",
            "Note, selecting 'cuda-runtime-11-3' for glob 'cuda-*'\n",
            "Note, selecting 'cuda-drivers-diagnostic' for glob 'cuda-*'\n",
            "Note, selecting 'cuda-cusparse-dev-10-0' for glob 'cuda-*'\n",
            "Note, selecting 'cuda-cusparse-dev-10-1' for glob 'cuda-*'\n",
            "Note, selecting 'cuda-cusparse-dev-10-2' for glob 'cuda-*'\n",
            "Note, selecting 'cuda-sanitizer-11-0' for glob 'cuda-*'\n",
            "Note, selecting 'cuda-sanitizer-11-1' for glob 'cuda-*'\n",
            "Note, selecting 'cuda-sanitizer-11-2' for glob 'cuda-*'\n",
            "Note, selecting 'cuda-sanitizer-11-3' for glob 'cuda-*'\n",
            "Note, selecting 'cuda-nvrtc-10-0' for glob 'cuda-*'\n",
            "Note, selecting 'cuda-nvrtc-10-1' for glob 'cuda-*'\n",
            "Note, selecting 'cuda-nvrtc-10-2' for glob 'cuda-*'\n",
            "Note, selecting 'cuda-nvjpeg-dev-10-0' for glob 'cuda-*'\n",
            "Note, selecting 'cuda-nvjpeg-dev-10-1' for glob 'cuda-*'\n",
            "Note, selecting 'cuda-nvjpeg-dev-10-2' for glob 'cuda-*'\n",
            "Note, selecting 'cuda-cufft-10-0' for glob 'cuda-*'\n",
            "Note, selecting 'cuda-cufft-10-1' for glob 'cuda-*'\n",
            "Note, selecting 'cuda-cufft-10-2' for glob 'cuda-*'\n",
            "Note, selecting 'cuda-nsight-systems-10-1' for glob 'cuda-*'\n",
            "Note, selecting 'cuda-nsight-systems-10-2' for glob 'cuda-*'\n",
            "Note, selecting 'cuda-nvrtc-11-0' for glob 'cuda-*'\n",
            "Note, selecting 'cuda-nvrtc-11-1' for glob 'cuda-*'\n",
            "Note, selecting 'cuda-nvrtc-11-2' for glob 'cuda-*'\n",
            "Note, selecting 'cuda-nvrtc-11-3' for glob 'cuda-*'\n",
            "Note, selecting 'cuda-cusparse-10-0' for glob 'cuda-*'\n",
            "Note, selecting 'cuda-cusparse-10-1' for glob 'cuda-*'\n",
            "Note, selecting 'cuda-cusparse-10-2' for glob 'cuda-*'\n",
            "Note, selecting 'cuda-nsight-systems-11-0' for glob 'cuda-*'\n",
            "Note, selecting 'cuda-nsight-systems-11-1' for glob 'cuda-*'\n",
            "Note, selecting 'cuda-nsight-systems-11-2' for glob 'cuda-*'\n",
            "Note, selecting 'cuda-nsight-systems-11-3' for glob 'cuda-*'\n",
            "Note, selecting 'cuda-npp-10-0' for glob 'cuda-*'\n",
            "Note, selecting 'cuda-npp-10-1' for glob 'cuda-*'\n",
            "Note, selecting 'cuda-npp-10-2' for glob 'cuda-*'\n",
            "Note, selecting 'cuda-tools-10-0' for glob 'cuda-*'\n",
            "Note, selecting 'cuda-tools-10-1' for glob 'cuda-*'\n",
            "Note, selecting 'cuda-tools-10-2' for glob 'cuda-*'\n",
            "Note, selecting 'cuda-nvtx-10-0' for glob 'cuda-*'\n",
            "Note, selecting 'cuda-nvtx-10-1' for glob 'cuda-*'\n",
            "Note, selecting 'cuda-nvtx-10-2' for glob 'cuda-*'\n",
            "Note, selecting 'cuda-tools-11-0' for glob 'cuda-*'\n",
            "Note, selecting 'cuda-tools-11-1' for glob 'cuda-*'\n",
            "Note, selecting 'cuda-tools-11-2' for glob 'cuda-*'\n",
            "Note, selecting 'cuda-tools-11-3' for glob 'cuda-*'\n",
            "Note, selecting 'cuda-nvtx-11-0' for glob 'cuda-*'\n",
            "Note, selecting 'cuda-nvtx-11-1' for glob 'cuda-*'\n",
            "Note, selecting 'cuda-nvtx-11-2' for glob 'cuda-*'\n",
            "Note, selecting 'cuda-nvtx-11-3' for glob 'cuda-*'\n",
            "Note, selecting 'cuda-cudart-10-0' for glob 'cuda-*'\n",
            "Note, selecting 'cuda-cudart-10-1' for glob 'cuda-*'\n",
            "Note, selecting 'cuda-cudart-10-2' for glob 'cuda-*'\n",
            "Note, selecting 'cuda-license-10-0' for glob 'cuda-*'\n",
            "Note, selecting 'cuda-license-10-1' for glob 'cuda-*'\n",
            "Note, selecting 'cuda-license-10-2' for glob 'cuda-*'\n",
            "Note, selecting 'cuda-nvdisasm-10-0' for glob 'cuda-*'\n",
            "Note, selecting 'cuda-nvdisasm-10-1' for glob 'cuda-*'\n",
            "Note, selecting 'cuda-nvdisasm-10-2' for glob 'cuda-*'\n",
            "Note, selecting 'cuda-samples-10-0' for glob 'cuda-*'\n",
            "Note, selecting 'cuda-samples-10-1' for glob 'cuda-*'\n",
            "Note, selecting 'cuda-samples-10-2' for glob 'cuda-*'\n",
            "Note, selecting 'cuda-documentation-10-0' for glob 'cuda-*'\n",
            "Note, selecting 'cuda-documentation-10-1' for glob 'cuda-*'\n",
            "Note, selecting 'cuda-documentation-10-2' for glob 'cuda-*'\n",
            "Note, selecting 'cuda-cusolver-cross-qnx-10-0' for glob 'cuda-*'\n",
            "Note, selecting 'cuda-cudart-11-0' for glob 'cuda-*'\n",
            "Note, selecting 'cuda-cudart-11-1' for glob 'cuda-*'\n",
            "Note, selecting 'cuda-cudart-11-2' for glob 'cuda-*'\n",
            "Note, selecting 'cuda-cudart-11-3' for glob 'cuda-*'\n",
            "Note, selecting 'cuda-nvdisasm-11-0' for glob 'cuda-*'\n",
            "Note, selecting 'cuda-nvdisasm-11-1' for glob 'cuda-*'\n",
            "Note, selecting 'cuda-nvdisasm-11-2' for glob 'cuda-*'\n",
            "Note, selecting 'cuda-nvdisasm-11-3' for glob 'cuda-*'\n",
            "Note, selecting 'cuda-samples-11-0' for glob 'cuda-*'\n",
            "Note, selecting 'cuda-samples-11-1' for glob 'cuda-*'\n",
            "Note, selecting 'cuda-samples-11-2' for glob 'cuda-*'\n",
            "Note, selecting 'cuda-samples-11-3' for glob 'cuda-*'\n",
            "Note, selecting 'cuda-cross-qnx' for glob 'cuda-*'\n",
            "Note, selecting 'cuda-documentation-11-0' for glob 'cuda-*'\n",
            "Note, selecting 'cuda-documentation-11-1' for glob 'cuda-*'\n",
            "Note, selecting 'cuda-documentation-11-2' for glob 'cuda-*'\n",
            "Note, selecting 'cuda-documentation-11-3' for glob 'cuda-*'\n",
            "Note, selecting 'cuda-compat-10-0' for glob 'cuda-*'\n",
            "Note, selecting 'cuda-compat-10-1' for glob 'cuda-*'\n",
            "Note, selecting 'cuda-compat-10-2' for glob 'cuda-*'\n",
            "Note, selecting 'cuda-compat-11-0' for glob 'cuda-*'\n",
            "Note, selecting 'cuda-compat-11-1' for glob 'cuda-*'\n",
            "Note, selecting 'cuda-compat-11-2' for glob 'cuda-*'\n",
            "Note, selecting 'cuda-compat-11-3' for glob 'cuda-*'\n",
            "Note, selecting 'cuda-nvcc-10-0' for glob 'cuda-*'\n",
            "Note, selecting 'cuda-nvcc-10-1' for glob 'cuda-*'\n",
            "Note, selecting 'cuda-nvcc-10-2' for glob 'cuda-*'\n",
            "Note, selecting 'cuda-repo-ubuntu1404-7-5-local' for glob 'cuda-*'\n",
            "Note, selecting 'cuda-nvvp-10-0' for glob 'cuda-*'\n",
            "Note, selecting 'cuda-nvvp-10-1' for glob 'cuda-*'\n",
            "Note, selecting 'cuda-nvvp-10-2' for glob 'cuda-*'\n",
            "Note, selecting 'cuda-cross-qnx-10-0' for glob 'cuda-*'\n",
            "Note, selecting 'cuda-nvcc-11-0' for glob 'cuda-*'\n",
            "Note, selecting 'cuda-nvcc-11-1' for glob 'cuda-*'\n",
            "Note, selecting 'cuda-nvcc-11-2' for glob 'cuda-*'\n",
            "Note, selecting 'cuda-nvcc-11-3' for glob 'cuda-*'\n",
            "Note, selecting 'cuda-nvvp-11-0' for glob 'cuda-*'\n",
            "Note, selecting 'cuda-nvvp-11-1' for glob 'cuda-*'\n",
            "Note, selecting 'cuda-nvvp-11-2' for glob 'cuda-*'\n",
            "Note, selecting 'cuda-nvvp-11-3' for glob 'cuda-*'\n",
            "Note, selecting 'cuda-toolkit-10-0' for glob 'cuda-*'\n",
            "Note, selecting 'cuda-toolkit-10-1' for glob 'cuda-*'\n",
            "Note, selecting 'cuda-toolkit-10-2' for glob 'cuda-*'\n",
            "Note, selecting 'cuda-nvgraph-dev-10-0' for glob 'cuda-*'\n",
            "Note, selecting 'cuda-nvgraph-dev-10-1' for glob 'cuda-*'\n",
            "Note, selecting 'cuda-nvgraph-dev-10-2' for glob 'cuda-*'\n",
            "Note, selecting 'cuda-cuxxfilt-11-2' for glob 'cuda-*'\n",
            "Note, selecting 'cuda-cuxxfilt-11-3' for glob 'cuda-*'\n",
            "Note, selecting 'cuda-toolkit-11-0' for glob 'cuda-*'\n",
            "Note, selecting 'cuda-toolkit-11-1' for glob 'cuda-*'\n",
            "Note, selecting 'cuda-toolkit-11-2' for glob 'cuda-*'\n",
            "Note, selecting 'cuda-toolkit-11-3' for glob 'cuda-*'\n",
            "Note, selecting 'cuda-cudart-dev-10-0' for glob 'cuda-*'\n",
            "Note, selecting 'cuda-cudart-dev-10-1' for glob 'cuda-*'\n",
            "Note, selecting 'cuda-cudart-dev-10-2' for glob 'cuda-*'\n",
            "Note, selecting 'cuda-nvml-dev-10-0' for glob 'cuda-*'\n",
            "Note, selecting 'cuda-nvml-dev-10-1' for glob 'cuda-*'\n",
            "Note, selecting 'cuda-nvml-dev-10-2' for glob 'cuda-*'\n",
            "Note, selecting 'cuda-cudart-dev-11-0' for glob 'cuda-*'\n",
            "Note, selecting 'cuda-cudart-dev-11-1' for glob 'cuda-*'\n",
            "Note, selecting 'cuda-cudart-dev-11-2' for glob 'cuda-*'\n",
            "Note, selecting 'cuda-cudart-dev-11-3' for glob 'cuda-*'\n",
            "Note, selecting 'cuda-nvml-dev-11-0' for glob 'cuda-*'\n",
            "Note, selecting 'cuda-nvml-dev-11-1' for glob 'cuda-*'\n",
            "Note, selecting 'cuda-nvml-dev-11-2' for glob 'cuda-*'\n",
            "Note, selecting 'cuda-nvml-dev-11-3' for glob 'cuda-*'\n",
            "Note, selecting 'cuda-gpu-library-advisor-10-0' for glob 'cuda-*'\n",
            "Note, selecting 'cuda-gpu-library-advisor-10-1' for glob 'cuda-*'\n",
            "Note, selecting 'cuda-cublas-10-0' for glob 'cuda-*'\n",
            "Note, selecting 'cuda-core-10-0' for glob 'cuda-*'\n",
            "Note, selecting 'cuda-core-10-1' for glob 'cuda-*'\n",
            "Note, selecting 'cuda-core-10-2' for glob 'cuda-*'\n",
            "Note, selecting 'cuda-cusolver-dev-10-0' for glob 'cuda-*'\n",
            "Note, selecting 'cuda-cusolver-dev-10-1' for glob 'cuda-*'\n",
            "Note, selecting 'cuda-cusolver-dev-10-2' for glob 'cuda-*'\n",
            "Note, selecting 'cuda-driver-cross-qnx-10-0' for glob 'cuda-*'\n",
            "Note, selecting 'cuda-sanitizer-api-10-1' for glob 'cuda-*'\n",
            "Note, selecting 'cuda-sanitizer-api-10-2' for glob 'cuda-*'\n",
            "Note, selecting 'cuda-compiler-10-0' for glob 'cuda-*'\n",
            "Note, selecting 'cuda-compiler-10-1' for glob 'cuda-*'\n",
            "Note, selecting 'cuda-compiler-10-2' for glob 'cuda-*'\n",
            "Note, selecting 'cuda-demo-suite-10-0' for glob 'cuda-*'\n",
            "Note, selecting 'cuda-demo-suite-10-1' for glob 'cuda-*'\n",
            "Note, selecting 'cuda-demo-suite-10-2' for glob 'cuda-*'\n",
            "Note, selecting 'cuda-npp-dev-10-0' for glob 'cuda-*'\n",
            "Note, selecting 'cuda-npp-dev-10-1' for glob 'cuda-*'\n",
            "Note, selecting 'cuda-npp-dev-10-2' for glob 'cuda-*'\n",
            "Note, selecting 'cuda-compiler-11-0' for glob 'cuda-*'\n",
            "Note, selecting 'cuda-compiler-11-1' for glob 'cuda-*'\n",
            "Note, selecting 'cuda-compiler-11-2' for glob 'cuda-*'\n",
            "Note, selecting 'cuda-compiler-11-3' for glob 'cuda-*'\n",
            "Note, selecting 'cuda-demo-suite-11-0' for glob 'cuda-*'\n",
            "Note, selecting 'cuda-demo-suite-11-1' for glob 'cuda-*'\n",
            "Note, selecting 'cuda-demo-suite-11-2' for glob 'cuda-*'\n",
            "Note, selecting 'cuda-demo-suite-11-3' for glob 'cuda-*'\n",
            "Note, selecting 'cuda-nsight-10-0' for glob 'cuda-*'\n",
            "Note, selecting 'cuda-nsight-10-1' for glob 'cuda-*'\n",
            "Note, selecting 'cuda-nsight-10-2' for glob 'cuda-*'\n",
            "Note, selecting 'cuda-curand-10-0' for glob 'cuda-*'\n",
            "Note, selecting 'cuda-curand-10-1' for glob 'cuda-*'\n",
            "Note, selecting 'cuda-curand-10-2' for glob 'cuda-*'\n",
            "Note, selecting 'cuda-command-line-tools-10-0' for glob 'cuda-*'\n",
            "Note, selecting 'cuda-command-line-tools-10-1' for glob 'cuda-*'\n",
            "Note, selecting 'cuda-command-line-tools-10-2' for glob 'cuda-*'\n",
            "Note, selecting 'cuda-cufft-dev-10-0' for glob 'cuda-*'\n",
            "Note, selecting 'cuda-cufft-dev-10-1' for glob 'cuda-*'\n",
            "Note, selecting 'cuda-cufft-dev-10-2' for glob 'cuda-*'\n",
            "Note, selecting 'cuda-drivers-fabricmanager-450' for glob 'cuda-*'\n",
            "Note, selecting 'cuda-drivers-fabricmanager-455' for glob 'cuda-*'\n",
            "Note, selecting 'cuda-drivers-fabricmanager-460' for glob 'cuda-*'\n",
            "Note, selecting 'cuda-drivers-fabricmanager-465' for glob 'cuda-*'\n",
            "Note, selecting 'cuda-nsight-11-0' for glob 'cuda-*'\n",
            "Note, selecting 'cuda-nsight-11-1' for glob 'cuda-*'\n",
            "Note, selecting 'cuda-nsight-11-2' for glob 'cuda-*'\n",
            "Note, selecting 'cuda-nsight-11-3' for glob 'cuda-*'\n",
            "Note, selecting 'cuda-driver-dev-10-0' for glob 'cuda-*'\n",
            "Note, selecting 'cuda-driver-dev-10-1' for glob 'cuda-*'\n",
            "Note, selecting 'cuda-driver-dev-10-2' for glob 'cuda-*'\n",
            "Note, selecting 'cuda-repo-ubuntu1504-7-5-local' for glob 'cuda-*'\n",
            "Note, selecting 'cuda-10-0' for glob 'cuda-*'\n",
            "Note, selecting 'cuda-10-1' for glob 'cuda-*'\n",
            "Note, selecting 'cuda-10-2' for glob 'cuda-*'\n",
            "Note, selecting 'cuda-command-line-tools-11-0' for glob 'cuda-*'\n",
            "Note, selecting 'cuda-command-line-tools-11-1' for glob 'cuda-*'\n",
            "Note, selecting 'cuda-command-line-tools-11-2' for glob 'cuda-*'\n",
            "Note, selecting 'cuda-command-line-tools-11-3' for glob 'cuda-*'\n",
            "Note, selecting 'cuda-drivers-fabricmanager-branch' for glob 'cuda-*'\n",
            "Note, selecting 'cuda-driver-dev-11-0' for glob 'cuda-*'\n",
            "Note, selecting 'cuda-driver-dev-11-1' for glob 'cuda-*'\n",
            "Note, selecting 'cuda-driver-dev-11-2' for glob 'cuda-*'\n",
            "Note, selecting 'cuda-driver-dev-11-3' for glob 'cuda-*'\n",
            "Note, selecting 'cuda-misc-headers-cross-qnx-10-0' for glob 'cuda-*'\n",
            "Note, selecting 'cuda-11-0' for glob 'cuda-*'\n",
            "Note, selecting 'cuda-11-1' for glob 'cuda-*'\n",
            "Note, selecting 'cuda-11-2' for glob 'cuda-*'\n",
            "Note, selecting 'cuda-11-3' for glob 'cuda-*'\n",
            "Note, selecting 'cuda-drivers-fabricmanager' for glob 'cuda-*'\n",
            "Note, selecting 'cuda-memcheck-10-0' for glob 'cuda-*'\n",
            "Note, selecting 'cuda-memcheck-10-1' for glob 'cuda-*'\n",
            "Note, selecting 'cuda-memcheck-10-2' for glob 'cuda-*'\n",
            "Note, selecting 'cuda-memcheck-11-0' for glob 'cuda-*'\n",
            "Note, selecting 'cuda-memcheck-11-1' for glob 'cuda-*'\n",
            "Note, selecting 'cuda-memcheck-11-2' for glob 'cuda-*'\n",
            "Note, selecting 'cuda-memcheck-11-3' for glob 'cuda-*'\n",
            "Note, selecting 'cuda-cudart-cross-qnx-10-0' for glob 'cuda-*'\n",
            "Note, selecting 'cuda-gdb-src-10-0' for glob 'cuda-*'\n",
            "Note, selecting 'cuda-gdb-src-10-1' for glob 'cuda-*'\n",
            "Note, selecting 'cuda-gdb-src-10-2' for glob 'cuda-*'\n",
            "Note, selecting 'cuda-toolkit-config-common' for glob 'cuda-*'\n",
            "Note, selecting 'cuda-misc-headers-10-0' for glob 'cuda-*'\n",
            "Note, selecting 'cuda-misc-headers-10-1' for glob 'cuda-*'\n",
            "Note, selecting 'cuda-misc-headers-10-2' for glob 'cuda-*'\n",
            "Note, selecting 'cuda-gdb-src-11-0' for glob 'cuda-*'\n",
            "Note, selecting 'cuda-gdb-src-11-1' for glob 'cuda-*'\n",
            "Note, selecting 'cuda-gdb-src-11-2' for glob 'cuda-*'\n",
            "Note, selecting 'cuda-gdb-src-11-3' for glob 'cuda-*'\n",
            "Note, selecting 'cuda-cuobjdump-10-0' for glob 'cuda-*'\n",
            "Note, selecting 'cuda-cuobjdump-10-1' for glob 'cuda-*'\n",
            "Note, selecting 'cuda-cuobjdump-10-2' for glob 'cuda-*'\n",
            "Note, selecting 'cuda-cuobjdump-11-0' for glob 'cuda-*'\n",
            "Note, selecting 'cuda-cuobjdump-11-1' for glob 'cuda-*'\n",
            "Note, selecting 'cuda-cuobjdump-11-2' for glob 'cuda-*'\n",
            "Note, selecting 'cuda-cuobjdump-11-3' for glob 'cuda-*'\n",
            "Note, selecting 'cuda-nsight-compute-10-0' for glob 'cuda-*'\n",
            "Note, selecting 'cuda-nsight-compute-10-1' for glob 'cuda-*'\n",
            "Note, selecting 'cuda-nsight-compute-10-2' for glob 'cuda-*'\n",
            "Note, selecting 'cuda-nvprof-10-0' for glob 'cuda-*'\n",
            "Note, selecting 'cuda-nvprof-10-1' for glob 'cuda-*'\n",
            "Note, selecting 'cuda-nvprof-10-2' for glob 'cuda-*'\n",
            "Package 'cuda-license-7-5' is not installed, so not removed\n",
            "Package 'cuda-repo-ubuntu1204' is not installed, so not removed\n",
            "Package 'cuda-repo-ubuntu1404' is not installed, so not removed\n",
            "Package 'cuda-repo-ubuntu1404-7-5-local' is not installed, so not removed\n",
            "Package 'cuda-repo-ubuntu1410' is not installed, so not removed\n",
            "Package 'cuda-repo-ubuntu1504' is not installed, so not removed\n",
            "Package 'cuda-repo-ubuntu1504-7-5-local' is not installed, so not removed\n",
            "Package 'cuda-cudart-cross-qnx-10-0' is not installed, so not removed\n",
            "Package 'cuda-driver-cross-qnx-10-0' is not installed, so not removed\n",
            "Package 'cuda-misc-headers-cross-qnx-10-0' is not installed, so not removed\n",
            "Package 'cuda-cusolver-cross-qnx-10-0' is not installed, so not removed\n",
            "Package 'cuda-cublas-cross-qnx-10-0' is not installed, so not removed\n",
            "Package 'cuda-cufft-cross-qnx-10-0' is not installed, so not removed\n",
            "Package 'cuda-curand-cross-qnx-10-0' is not installed, so not removed\n",
            "Package 'cuda-cusparse-cross-qnx-10-0' is not installed, so not removed\n",
            "Package 'cuda-npp-cross-qnx-10-0' is not installed, so not removed\n",
            "Package 'cuda-10-0' is not installed, so not removed\n",
            "Package 'cuda-10-1' is not installed, so not removed\n",
            "Package 'cuda-10-2' is not installed, so not removed\n",
            "Package 'cuda-command-line-tools-10-2' is not installed, so not removed\n",
            "Package 'cuda-compat-10-0' is not installed, so not removed\n",
            "Package 'cuda-compiler-10-2' is not installed, so not removed\n",
            "Package 'cuda-core-10-0' is not installed, so not removed\n",
            "Package 'cuda-core-10-1' is not installed, so not removed\n",
            "Package 'cuda-core-10-2' is not installed, so not removed\n",
            "Package 'cuda-cross-qnx-10-0' is not installed, so not removed\n",
            "Package 'cuda-cross-qnx' is not installed, so not removed\n",
            "Package 'cuda-cudart-10-2' is not installed, so not removed\n",
            "Package 'cuda-cudart-dev-10-2' is not installed, so not removed\n",
            "Package 'cuda-cufft-10-2' is not installed, so not removed\n",
            "Package 'cuda-cufft-dev-10-2' is not installed, so not removed\n",
            "Package 'cuda-cuobjdump-10-2' is not installed, so not removed\n",
            "Package 'cuda-cupti-10-2' is not installed, so not removed\n",
            "Package 'cuda-cupti-dev-10-2' is not installed, so not removed\n",
            "Package 'cuda-curand-10-2' is not installed, so not removed\n",
            "Package 'cuda-curand-dev-10-2' is not installed, so not removed\n",
            "Package 'cuda-cusolver-10-2' is not installed, so not removed\n",
            "Package 'cuda-cusolver-dev-10-2' is not installed, so not removed\n",
            "Package 'cuda-cusparse-10-2' is not installed, so not removed\n",
            "Package 'cuda-cusparse-dev-10-2' is not installed, so not removed\n",
            "Package 'cuda-demo-suite-10-0' is not installed, so not removed\n",
            "Package 'cuda-demo-suite-10-1' is not installed, so not removed\n",
            "Package 'cuda-demo-suite-10-2' is not installed, so not removed\n",
            "Package 'cuda-demo-suite-11-0' is not installed, so not removed\n",
            "Package 'cuda-documentation-10-2' is not installed, so not removed\n",
            "Package 'cuda-driver-dev-10-2' is not installed, so not removed\n",
            "Package 'cuda-drivers-diagnostic' is not installed, so not removed\n",
            "Package 'cuda-gdb-10-2' is not installed, so not removed\n",
            "Package 'cuda-gdb-src-10-0' is not installed, so not removed\n",
            "Package 'cuda-gdb-src-10-1' is not installed, so not removed\n",
            "Package 'cuda-gdb-src-10-2' is not installed, so not removed\n",
            "Package 'cuda-libraries-10-0' is not installed, so not removed\n",
            "Package 'cuda-libraries-10-1' is not installed, so not removed\n",
            "Package 'cuda-libraries-10-2' is not installed, so not removed\n",
            "Package 'cuda-libraries-dev-10-2' is not installed, so not removed\n",
            "Package 'cuda-license-10-2' is not installed, so not removed\n",
            "Package 'cuda-memcheck-10-2' is not installed, so not removed\n",
            "Package 'cuda-minimal-build-10-0' is not installed, so not removed\n",
            "Package 'cuda-minimal-build-10-1' is not installed, so not removed\n",
            "Package 'cuda-minimal-build-10-2' is not installed, so not removed\n",
            "Package 'cuda-misc-headers-10-2' is not installed, so not removed\n",
            "Package 'cuda-npp-10-2' is not installed, so not removed\n",
            "Package 'cuda-npp-dev-10-2' is not installed, so not removed\n",
            "Package 'cuda-nsight-10-2' is not installed, so not removed\n",
            "Package 'cuda-nsight-compute--10-0' is not installed, so not removed\n",
            "Package 'cuda-nsight-compute-10-2' is not installed, so not removed\n",
            "Package 'cuda-nsight-systems-10-2' is not installed, so not removed\n",
            "Package 'cuda-nvcc-10-2' is not installed, so not removed\n",
            "Package 'cuda-nvdisasm-10-2' is not installed, so not removed\n",
            "Package 'cuda-nvgraph-10-2' is not installed, so not removed\n",
            "Package 'cuda-nvgraph-dev-10-2' is not installed, so not removed\n",
            "Package 'cuda-nvjpeg-10-2' is not installed, so not removed\n",
            "Package 'cuda-nvjpeg-dev-10-2' is not installed, so not removed\n",
            "Package 'cuda-nvml-dev-10-2' is not installed, so not removed\n",
            "Package 'cuda-nvprof-10-2' is not installed, so not removed\n",
            "Package 'cuda-nvprune-10-2' is not installed, so not removed\n",
            "Package 'cuda-nvrtc-10-2' is not installed, so not removed\n",
            "Package 'cuda-nvrtc-dev-10-2' is not installed, so not removed\n",
            "Package 'cuda-nvtx-10-2' is not installed, so not removed\n",
            "Package 'cuda-nvvp-10-2' is not installed, so not removed\n",
            "Package 'cuda-repo-ubuntu1804' is not installed, so not removed\n",
            "Package 'cuda-runtime-10-0' is not installed, so not removed\n",
            "Package 'cuda-runtime-10-1' is not installed, so not removed\n",
            "Package 'cuda-runtime-10-2' is not installed, so not removed\n",
            "Package 'cuda-samples-10-2' is not installed, so not removed\n",
            "Package 'cuda-sanitizer-api-10-2' is not installed, so not removed\n",
            "Package 'cuda-toolkit-10-0' is not installed, so not removed\n",
            "Package 'cuda-toolkit-10-1' is not installed, so not removed\n",
            "Package 'cuda-toolkit-10-2' is not installed, so not removed\n",
            "Package 'cuda-tools-10-0' is not installed, so not removed\n",
            "Package 'cuda-tools-10-1' is not installed, so not removed\n",
            "Package 'cuda-tools-10-2' is not installed, so not removed\n",
            "Package 'cuda-visual-tools-10-0' is not installed, so not removed\n",
            "Package 'cuda-visual-tools-10-1' is not installed, so not removed\n",
            "Package 'cuda-visual-tools-10-2' is not installed, so not removed\n",
            "Package 'cuda-11-0' is not installed, so not removed\n",
            "Package 'cuda-gdb-src-11-0' is not installed, so not removed\n",
            "Package 'cuda-minimal-build-11-0' is not installed, so not removed\n",
            "Package 'cuda-runtime-11-0' is not installed, so not removed\n",
            "Package 'cuda-toolkit-11-0' is not installed, so not removed\n",
            "Package 'cuda-tools-11-0' is not installed, so not removed\n",
            "Package 'cuda-visual-tools-11-0' is not installed, so not removed\n",
            "Package 'cuda-cudart-11-1' is not installed, so not removed\n",
            "Package 'cuda-cudart-dev-11-1' is not installed, so not removed\n",
            "Package 'cuda-cuobjdump-11-1' is not installed, so not removed\n",
            "Package 'cuda-demo-suite-11-1' is not installed, so not removed\n",
            "Package 'cuda-driver-dev-11-1' is not installed, so not removed\n",
            "Package 'cuda-nvdisasm-11-1' is not installed, so not removed\n",
            "Package 'cuda-nvml-dev-11-1' is not installed, so not removed\n",
            "Package 'cuda-nvprune-11-1' is not installed, so not removed\n",
            "Package 'cuda-nvtx-11-1' is not installed, so not removed\n",
            "Package 'cuda-compat-10-2' is not installed, so not removed\n",
            "Package 'cuda-drivers-440' is not installed, so not removed\n",
            "Package 'cuda-11-1' is not installed, so not removed\n",
            "Package 'cuda-command-line-tools-11-1' is not installed, so not removed\n",
            "Package 'cuda-compiler-11-1' is not installed, so not removed\n",
            "Package 'cuda-cupti-11-1' is not installed, so not removed\n",
            "Package 'cuda-cupti-dev-11-1' is not installed, so not removed\n",
            "Package 'cuda-documentation-11-1' is not installed, so not removed\n",
            "Package 'cuda-gdb-11-1' is not installed, so not removed\n",
            "Package 'cuda-gdb-src-11-1' is not installed, so not removed\n",
            "Package 'cuda-libraries-11-1' is not installed, so not removed\n",
            "Package 'cuda-libraries-dev-11-1' is not installed, so not removed\n",
            "Package 'cuda-memcheck-11-1' is not installed, so not removed\n",
            "Package 'cuda-minimal-build-11-1' is not installed, so not removed\n",
            "Package 'cuda-nsight-11-1' is not installed, so not removed\n",
            "Package 'cuda-nsight-compute-11-1' is not installed, so not removed\n",
            "Package 'cuda-nsight-systems-11-1' is not installed, so not removed\n",
            "Package 'cuda-nvcc-11-1' is not installed, so not removed\n",
            "Package 'cuda-nvprof-11-1' is not installed, so not removed\n",
            "Package 'cuda-nvrtc-11-1' is not installed, so not removed\n",
            "Package 'cuda-nvrtc-dev-11-1' is not installed, so not removed\n",
            "Package 'cuda-nvvp-11-1' is not installed, so not removed\n",
            "Package 'cuda-runtime-11-1' is not installed, so not removed\n",
            "Package 'cuda-samples-11-1' is not installed, so not removed\n",
            "Package 'cuda-sanitizer-11-1' is not installed, so not removed\n",
            "Package 'cuda-toolkit-11-1' is not installed, so not removed\n",
            "Package 'cuda-tools-11-1' is not installed, so not removed\n",
            "Package 'cuda-visual-tools-11-1' is not installed, so not removed\n",
            "Package 'cuda-compat-11-1' is not installed, so not removed\n",
            "Package 'cuda-drivers-455' is not installed, so not removed\n",
            "Package 'cuda-drivers-fabricmanager-455' is not installed, so not removed\n",
            "Package 'cuda-11-2' is not installed, so not removed\n",
            "Package 'cuda-command-line-tools-11-2' is not installed, so not removed\n",
            "Package 'cuda-compiler-11-2' is not installed, so not removed\n",
            "Package 'cuda-cudart-11-2' is not installed, so not removed\n",
            "Package 'cuda-cudart-dev-11-2' is not installed, so not removed\n",
            "Package 'cuda-cuobjdump-11-2' is not installed, so not removed\n",
            "Package 'cuda-cupti-11-2' is not installed, so not removed\n",
            "Package 'cuda-cupti-dev-11-2' is not installed, so not removed\n",
            "Package 'cuda-cuxxfilt-11-2' is not installed, so not removed\n",
            "Package 'cuda-demo-suite-11-2' is not installed, so not removed\n",
            "Package 'cuda-documentation-11-2' is not installed, so not removed\n",
            "Package 'cuda-driver-dev-11-2' is not installed, so not removed\n",
            "Package 'cuda-gdb-11-2' is not installed, so not removed\n",
            "Package 'cuda-gdb-src-11-2' is not installed, so not removed\n",
            "Package 'cuda-libraries-11-2' is not installed, so not removed\n",
            "Package 'cuda-libraries-dev-11-2' is not installed, so not removed\n",
            "Package 'cuda-memcheck-11-2' is not installed, so not removed\n",
            "Package 'cuda-minimal-build-11-2' is not installed, so not removed\n",
            "Package 'cuda-nsight-11-2' is not installed, so not removed\n",
            "Package 'cuda-nsight-compute-11-2' is not installed, so not removed\n",
            "Package 'cuda-nsight-systems-11-2' is not installed, so not removed\n",
            "Package 'cuda-nvcc-11-2' is not installed, so not removed\n",
            "Package 'cuda-nvdisasm-11-2' is not installed, so not removed\n",
            "Package 'cuda-nvml-dev-11-2' is not installed, so not removed\n",
            "Package 'cuda-nvprof-11-2' is not installed, so not removed\n",
            "Package 'cuda-nvprune-11-2' is not installed, so not removed\n",
            "Package 'cuda-nvrtc-11-2' is not installed, so not removed\n",
            "Package 'cuda-nvrtc-dev-11-2' is not installed, so not removed\n",
            "Package 'cuda-nvtx-11-2' is not installed, so not removed\n",
            "Package 'cuda-nvvp-11-2' is not installed, so not removed\n",
            "Package 'cuda-runtime-11-2' is not installed, so not removed\n",
            "Package 'cuda-samples-11-2' is not installed, so not removed\n",
            "Package 'cuda-sanitizer-11-2' is not installed, so not removed\n",
            "Package 'cuda-toolkit-11-2' is not installed, so not removed\n",
            "Package 'cuda-tools-11-2' is not installed, so not removed\n",
            "Package 'cuda-visual-tools-11-2' is not installed, so not removed\n",
            "Package 'cuda-compat-11-3' is not installed, so not removed\n",
            "Package 'cuda-cuobjdump-11-3' is not installed, so not removed\n",
            "Package 'cuda-cuxxfilt-11-3' is not installed, so not removed\n",
            "Package 'cuda-demo-suite-11-3' is not installed, so not removed\n",
            "Package 'cuda-drivers' is not installed, so not removed\n",
            "Package 'cuda-drivers-465' is not installed, so not removed\n",
            "Package 'cuda-drivers-fabricmanager' is not installed, so not removed\n",
            "Package 'cuda-drivers-fabricmanager-465' is not installed, so not removed\n",
            "Package 'cuda-nvdisasm-11-3' is not installed, so not removed\n",
            "Package 'cuda-nvml-dev-11-3' is not installed, so not removed\n",
            "Package 'cuda-nvprune-11-3' is not installed, so not removed\n",
            "Package 'cuda-samples-11-3' is not installed, so not removed\n",
            "Package 'cuda-compat-10-1' is not installed, so not removed\n",
            "Package 'cuda-compat-11-2' is not installed, so not removed\n",
            "Package 'cuda-drivers-418' is not installed, so not removed\n",
            "Package 'cuda-drivers-460' is not installed, so not removed\n",
            "Package 'cuda-drivers-fabricmanager-460' is not installed, so not removed\n",
            "Package 'cuda-compat-11-0' is not installed, so not removed\n",
            "Package 'cuda-drivers-450' is not installed, so not removed\n",
            "Package 'cuda-drivers-fabricmanager-450' is not installed, so not removed\n",
            "Package 'cuda-11-3' is not installed, so not removed\n",
            "Package 'cuda-command-line-tools-11-3' is not installed, so not removed\n",
            "Package 'cuda-compiler-11-3' is not installed, so not removed\n",
            "Package 'cuda-cudart-11-3' is not installed, so not removed\n",
            "Package 'cuda-cudart-dev-11-3' is not installed, so not removed\n",
            "Package 'cuda-cupti-11-3' is not installed, so not removed\n",
            "Package 'cuda-cupti-dev-11-3' is not installed, so not removed\n",
            "Package 'cuda-documentation-11-3' is not installed, so not removed\n",
            "Package 'cuda-driver-dev-11-3' is not installed, so not removed\n",
            "Package 'cuda-gdb-11-3' is not installed, so not removed\n",
            "Package 'cuda-gdb-src-11-3' is not installed, so not removed\n",
            "Package 'cuda-libraries-11-3' is not installed, so not removed\n",
            "Package 'cuda-libraries-dev-11-3' is not installed, so not removed\n",
            "Package 'cuda-memcheck-11-3' is not installed, so not removed\n",
            "Package 'cuda-minimal-build-11-3' is not installed, so not removed\n",
            "Package 'cuda-nsight-11-3' is not installed, so not removed\n",
            "Package 'cuda-nsight-compute-11-3' is not installed, so not removed\n",
            "Package 'cuda-nsight-systems-11-3' is not installed, so not removed\n",
            "Package 'cuda-nvcc-11-3' is not installed, so not removed\n",
            "Package 'cuda-nvprof-11-3' is not installed, so not removed\n",
            "Package 'cuda-nvrtc-11-3' is not installed, so not removed\n",
            "Package 'cuda-nvrtc-dev-11-3' is not installed, so not removed\n",
            "Package 'cuda-nvtx-11-3' is not installed, so not removed\n",
            "Package 'cuda-nvvp-11-3' is not installed, so not removed\n",
            "Package 'cuda-runtime-11-3' is not installed, so not removed\n",
            "Package 'cuda-sanitizer-11-3' is not installed, so not removed\n",
            "Package 'cuda-thrust-11-3' is not installed, so not removed\n",
            "Package 'cuda-toolkit-11-3' is not installed, so not removed\n",
            "Package 'cuda-toolkit-11-3-config-common' is not installed, so not removed\n",
            "Package 'cuda-toolkit-11-config-common' is not installed, so not removed\n",
            "Package 'cuda-toolkit-config-common' is not installed, so not removed\n",
            "Package 'cuda-tools-11-3' is not installed, so not removed\n",
            "Package 'cuda-visual-tools-11-3' is not installed, so not removed\n",
            "The following packages were automatically installed and are no longer required:\n",
            "  default-jre dkms freeglut3 freeglut3-dev keyboard-configuration libargon2-0\n",
            "  libcap2 libcryptsetup12 libcufft-11-0 libcufft-dev-11-0 libcurand-11-0\n",
            "  libcurand-dev-11-0 libcusolver-11-0 libcusolver-dev-11-0 libdevmapper1.02.1\n",
            "  libfontenc1 libidn11 libip4tc0 libjansson4 libnvjpeg-11-0 libnvjpeg-dev-11-0\n",
            "  libpam-systemd libpolkit-agent-1-0 libpolkit-backend-1-0\n",
            "  libpolkit-gobject-1-0 libxfont2 libxi-dev libxkbfile1 libxmu-dev\n",
            "  libxmu-headers libxnvctrl0 libxtst6 nsight-compute-2021.1.1\n",
            "  nsight-systems-2020.3.2 nsight-systems-2021.1.3 ocl-icd-opencl-dev\n",
            "  opencl-c-headers openjdk-11-jre policykit-1 policykit-1-gnome python3-xkit\n",
            "  screen-resolution-extra systemd systemd-sysv udev x11-xkb-utils\n",
            "  xserver-common xserver-xorg-core-hwe-18.04\n",
            "Use 'apt autoremove' to remove them.\n",
            "The following additional packages will be installed:\n",
            "  libcublas-dev libcublas10\n",
            "The following packages will be REMOVED:\n",
            "  cuda-command-line-tools-10-0 cuda-command-line-tools-10-1\n",
            "  cuda-command-line-tools-11-0 cuda-compiler-10-0 cuda-compiler-10-1\n",
            "  cuda-compiler-11-0 cuda-cublas-10-0 cuda-cublas-dev-10-0 cuda-cudart-10-0\n",
            "  cuda-cudart-10-1 cuda-cudart-11-0 cuda-cudart-dev-10-0 cuda-cudart-dev-10-1\n",
            "  cuda-cudart-dev-11-0 cuda-cufft-10-0 cuda-cufft-10-1 cuda-cufft-dev-10-0\n",
            "  cuda-cufft-dev-10-1 cuda-cuobjdump-10-0 cuda-cuobjdump-10-1\n",
            "  cuda-cuobjdump-11-0 cuda-cupti-10-0 cuda-cupti-10-1 cuda-cupti-11-0\n",
            "  cuda-cupti-dev-11-0 cuda-curand-10-0 cuda-curand-10-1 cuda-curand-dev-10-0\n",
            "  cuda-curand-dev-10-1 cuda-cusolver-10-0 cuda-cusolver-10-1\n",
            "  cuda-cusolver-dev-10-0 cuda-cusolver-dev-10-1 cuda-cusparse-10-0\n",
            "  cuda-cusparse-10-1 cuda-cusparse-dev-10-0 cuda-cusparse-dev-10-1\n",
            "  cuda-documentation-10-0 cuda-documentation-10-1 cuda-documentation-11-0\n",
            "  cuda-driver-dev-10-0 cuda-driver-dev-10-1 cuda-driver-dev-11-0 cuda-gdb-10-0\n",
            "  cuda-gdb-10-1 cuda-gdb-11-0 cuda-gpu-library-advisor-10-0\n",
            "  cuda-gpu-library-advisor-10-1 cuda-libraries-11-0 cuda-libraries-dev-10-0\n",
            "  cuda-libraries-dev-10-1 cuda-libraries-dev-11-0 cuda-license-10-0\n",
            "  cuda-license-10-1 cuda-memcheck-10-0 cuda-memcheck-10-1 cuda-memcheck-11-0\n",
            "  cuda-misc-headers-10-0 cuda-misc-headers-10-1 cuda-npp-10-0 cuda-npp-10-1\n",
            "  cuda-npp-dev-10-0 cuda-npp-dev-10-1 cuda-nsight-10-0 cuda-nsight-10-1\n",
            "  cuda-nsight-11-0 cuda-nsight-compute-10-0 cuda-nsight-compute-10-1\n",
            "  cuda-nsight-compute-11-0 cuda-nsight-systems-10-1 cuda-nsight-systems-11-0\n",
            "  cuda-nvcc-10-0 cuda-nvcc-10-1 cuda-nvcc-11-0 cuda-nvdisasm-10-0\n",
            "  cuda-nvdisasm-10-1 cuda-nvdisasm-11-0 cuda-nvgraph-10-0 cuda-nvgraph-10-1\n",
            "  cuda-nvgraph-dev-10-0 cuda-nvgraph-dev-10-1 cuda-nvjpeg-10-0\n",
            "  cuda-nvjpeg-10-1 cuda-nvjpeg-dev-10-0 cuda-nvjpeg-dev-10-1\n",
            "  cuda-nvml-dev-10-0 cuda-nvml-dev-10-1 cuda-nvml-dev-11-0 cuda-nvprof-10-0\n",
            "  cuda-nvprof-10-1 cuda-nvprof-11-0 cuda-nvprune-10-0 cuda-nvprune-10-1\n",
            "  cuda-nvprune-11-0 cuda-nvrtc-10-0 cuda-nvrtc-10-1 cuda-nvrtc-11-0\n",
            "  cuda-nvrtc-dev-10-0 cuda-nvrtc-dev-10-1 cuda-nvrtc-dev-11-0 cuda-nvtx-10-0\n",
            "  cuda-nvtx-10-1 cuda-nvtx-11-0 cuda-nvvp-10-0 cuda-nvvp-10-1 cuda-nvvp-11-0\n",
            "  cuda-samples-10-0 cuda-samples-10-1 cuda-samples-11-0 cuda-sanitizer-11-0\n",
            "  cuda-sanitizer-api-10-1\n",
            "The following packages will be upgraded:\n",
            "  libcublas-dev libcublas10\n",
            "2 upgraded, 0 newly installed, 111 to remove and 36 not upgraded.\n",
            "Need to get 85.6 MB of archives.\n",
            "After this operation, 6,452 MB disk space will be freed.\n",
            "Get:1 https://developer.download.nvidia.com/compute/cuda/repos/ubuntu1804/x86_64  libcublas10 10.2.3.254-1 [43.1 MB]\n",
            "Get:2 https://developer.download.nvidia.com/compute/cuda/repos/ubuntu1804/x86_64  libcublas-dev 10.2.3.254-1 [42.4 MB]\n",
            "Fetched 85.6 MB in 2s (54.4 MB/s)\n",
            "(Reading database ... 154346 files and directories currently installed.)\n",
            "Removing cuda-command-line-tools-10-0 (10.0.130-1) ...\n",
            "Removing cuda-command-line-tools-10-1 (10.1.243-1) ...\n",
            "Removing cuda-command-line-tools-11-0 (11.0.3-1) ...\n",
            "Removing cuda-compiler-10-0 (10.0.130-1) ...\n",
            "Removing cuda-compiler-10-1 (10.1.243-1) ...\n",
            "Removing cuda-compiler-11-0 (11.0.3-1) ...\n",
            "Removing cuda-libraries-dev-10-0 (10.0.130-1) ...\n",
            "Removing cuda-documentation-10-0 (10.0.130-1) ...\n",
            "Removing cuda-samples-10-0 (10.0.130-1) ...\n",
            "Removing cuda-cublas-dev-10-0 (10.0.130-1) ...\n",
            "Removing cuda-cublas-10-0 (10.0.130-1) ...\n",
            "Removing cuda-cupti-10-0 (10.0.130-1) ...\n",
            "Removing cuda-cudart-dev-10-0 (10.0.130-1) ...\n",
            "Removing cuda-cudart-10-0 (10.0.130-1) ...\n",
            "Removing cuda-cupti-10-1 (10.1.243-1) ...\n",
            "Removing cuda-documentation-10-1 (10.1.243-1) ...\n",
            "Removing cuda-samples-10-1 (10.1.243-1) ...\n",
            "Removing cuda-libraries-dev-11-0 (11.0.3-1) ...\n",
            "Removing cuda-documentation-11-0 (11.0.228-1) ...\n",
            "Removing cuda-samples-11-0 (11.0.221-1) ...\n",
            "Removing cuda-libraries-11-0 (11.0.3-1) ...\n",
            "Removing cuda-cufft-dev-10-0 (10.0.130-1) ...\n",
            "Removing cuda-cufft-10-0 (10.0.130-1) ...\n",
            "Removing cuda-libraries-dev-10-1 (10.1.243-1) ...\n",
            "Removing cuda-cufft-dev-10-1 (10.1.243-1) ...\n",
            "Removing cuda-cufft-10-1 (10.1.243-1) ...\n",
            "Removing cuda-gdb-10-0 (10.0.130-1) ...\n",
            "Removing cuda-cuobjdump-10-0 (10.0.130-1) ...\n",
            "Removing cuda-gdb-10-1 (10.1.243-1) ...\n",
            "Removing cuda-cuobjdump-10-1 (10.1.243-1) ...\n",
            "Removing cuda-gdb-11-0 (11.0.221-1) ...\n",
            "Removing cuda-cuobjdump-11-0 (11.0.221-1) ...\n",
            "Removing cuda-cupti-dev-11-0 (11.0.221-1) ...\n",
            "Removing cuda-cupti-11-0 (11.0.221-1) ...\n",
            "Removing cuda-curand-dev-10-0 (10.0.130-1) ...\n",
            "Removing cuda-curand-10-0 (10.0.130-1) ...\n",
            "Removing cuda-curand-dev-10-1 (10.1.243-1) ...\n",
            "Removing cuda-curand-10-1 (10.1.243-1) ...\n",
            "Removing cuda-cusolver-dev-10-0 (10.0.130-1) ...\n",
            "Removing cuda-cusolver-10-0 (10.0.130-1) ...\n",
            "Removing cuda-cusolver-dev-10-1 (10.1.243-1) ...\n",
            "Removing cuda-cusolver-10-1 (10.1.243-1) ...\n",
            "Removing cuda-cusparse-dev-10-0 (10.0.130-1) ...\n",
            "Removing cuda-cusparse-10-0 (10.0.130-1) ...\n",
            "Removing cuda-cusparse-dev-10-1 (10.1.243-1) ...\n",
            "Removing cuda-cusparse-10-1 (10.1.243-1) ...\n",
            "Removing cuda-driver-dev-10-0 (10.0.130-1) ...\n",
            "Removing cuda-gpu-library-advisor-10-0 (10.0.130-1) ...\n",
            "Removing cuda-gpu-library-advisor-10-1 (10.1.243-1) ...\n",
            "Removing cuda-nvvp-10-0 (10.0.130-1) ...\n",
            "Removing cuda-nvtx-10-0 (10.0.130-1) ...\n",
            "Removing cuda-cudart-dev-10-1 (10.1.243-1) ...\n",
            "Removing cuda-cudart-10-1 (10.1.243-1) ...\n",
            "Removing cuda-driver-dev-10-1 (10.1.243-1) ...\n",
            "dpkg: cuda-driver-dev-11-0: dependency problems, but removing anyway as you requested:\n",
            " cuda-cudart-dev-11-0 depends on cuda-driver-dev-11-0 (>= 11.0.221).\n",
            "\n",
            "Removing cuda-driver-dev-11-0 (11.0.221-1) ...\n",
            "dpkg: cuda-license-10-0: dependency problems, but removing anyway as you requested:\n",
            " cuda-nvrtc-10-0 depends on cuda-license-10-0.\n",
            " cuda-nvprof-10-0 depends on cuda-license-10-0.\n",
            " cuda-nvcc-10-0 depends on cuda-license-10-0.\n",
            " cuda-nvml-dev-10-0 depends on cuda-license-10-0.\n",
            " cuda-nvdisasm-10-0 depends on cuda-license-10-0.\n",
            " cuda-nsight-10-0 depends on cuda-license-10-0.\n",
            " cuda-npp-dev-10-0 depends on cuda-license-10-0.\n",
            " cuda-nvrtc-dev-10-0 depends on cuda-license-10-0.\n",
            " cuda-memcheck-10-0 depends on cuda-license-10-0.\n",
            " cuda-nvgraph-dev-10-0 depends on cuda-license-10-0.\n",
            " cuda-misc-headers-10-0 depends on cuda-license-10-0.\n",
            " cuda-npp-10-0 depends on cuda-license-10-0.\n",
            " cuda-nsight-compute-10-0 depends on cuda-license-10-0.\n",
            " cuda-nvjpeg-dev-10-0 depends on cuda-license-10-0.\n",
            " cuda-nvjpeg-10-0 depends on cuda-license-10-0.\n",
            " cuda-nvprune-10-0 depends on cuda-license-10-0.\n",
            " cuda-nvgraph-10-0 depends on cuda-license-10-0.\n",
            "\n",
            "Removing cuda-license-10-0 (10.0.130-1) ...\n",
            "dpkg: cuda-cudart-dev-11-0: dependency problems, but removing anyway as you requested:\n",
            " cuda-nvcc-11-0 depends on cuda-cudart-dev-11-0.\n",
            "\n",
            "Removing cuda-cudart-dev-11-0 (11.0.221-1) ...\n",
            "Removing cuda-cudart-11-0 (11.0.221-1) ...\n",
            "(Reading database ... 131239 files and directories currently installed.)\n",
            "Preparing to unpack .../libcublas10_10.2.3.254-1_amd64.deb ...\n",
            "Unpacking libcublas10 (10.2.3.254-1) over (10.2.1.243-1) ...\n",
            "Preparing to unpack .../libcublas-dev_10.2.3.254-1_amd64.deb ...\n",
            "Unpacking libcublas-dev (10.2.3.254-1) over (10.2.1.243-1) ...\n",
            "(Reading database ... 131243 files and directories currently installed.)\n",
            "Removing cuda-sanitizer-api-10-1 (10.1.243-1) ...\n",
            "Removing cuda-nvvp-10-1 (10.1.243-1) ...\n",
            "Removing cuda-memcheck-10-0 (10.0.130-1) ...\n",
            "Removing cuda-memcheck-10-1 (10.1.243-1) ...\n",
            "Removing cuda-memcheck-11-0 (11.0.221-1) ...\n",
            "Removing cuda-nvcc-10-0 (10.0.130-1) ...\n",
            "Removing cuda-misc-headers-10-0 (10.0.130-1) ...\n",
            "Removing cuda-nvcc-10-1 (10.1.243-1) ...\n",
            "Removing cuda-misc-headers-10-1 (10.1.243-1) ...\n",
            "Removing cuda-npp-dev-10-0 (10.0.130-1) ...\n",
            "Removing cuda-npp-10-0 (10.0.130-1) ...\n",
            "Removing cuda-npp-dev-10-1 (10.1.243-1) ...\n",
            "Removing cuda-npp-10-1 (10.1.243-1) ...\n",
            "Removing cuda-nsight-10-0 (10.0.130-1) ...\n",
            "Removing cuda-nsight-10-1 (10.1.243-1) ...\n",
            "Removing cuda-nsight-11-0 (11.0.221-1) ...\n",
            "Removing cuda-nsight-compute-10-0 (10.0.130-1) ...\n",
            "Removing cuda-nsight-compute-10-1 (10.1.243-1) ...\n",
            "Removing cuda-nsight-compute-11-0 (11.0.3-1) ...\n",
            "Removing cuda-nsight-systems-10-1 (10.1.243-1) ...\n",
            "Removing cuda-nsight-systems-11-0 (11.0.3-1) ...\n",
            "Removing cuda-nvcc-11-0 (11.0.221-1) ...\n",
            "Removing cuda-nvdisasm-10-0 (10.0.130-1) ...\n",
            "Removing cuda-nvdisasm-10-1 (10.1.243-1) ...\n",
            "Removing cuda-nvdisasm-11-0 (11.0.221-1) ...\n",
            "Removing cuda-nvgraph-dev-10-0 (10.0.130-1) ...\n",
            "Removing cuda-nvgraph-10-0 (10.0.130-1) ...\n",
            "Removing cuda-nvgraph-dev-10-1 (10.1.243-1) ...\n",
            "Removing cuda-nvgraph-10-1 (10.1.243-1) ...\n",
            "Removing cuda-nvjpeg-dev-10-0 (10.0.130.1-1) ...\n",
            "Removing cuda-nvjpeg-10-0 (10.0.130.1-1) ...\n",
            "Removing cuda-nvjpeg-dev-10-1 (10.1.243-1) ...\n",
            "Removing cuda-nvjpeg-10-1 (10.1.243-1) ...\n",
            "Removing cuda-nvml-dev-10-0 (10.0.130-1) ...\n",
            "Removing cuda-nvml-dev-10-1 (10.1.243-1) ...\n",
            "Removing cuda-nvml-dev-11-0 (11.0.167-1) ...\n",
            "Removing cuda-nvprof-10-0 (10.0.130-1) ...\n",
            "Removing cuda-nvprof-10-1 (10.1.243-1) ...\n",
            "Removing cuda-nvprof-11-0 (11.0.221-1) ...\n",
            "Removing cuda-nvprune-10-0 (10.0.130-1) ...\n",
            "Removing cuda-nvprune-10-1 (10.1.243-1) ...\n",
            "Removing cuda-nvprune-11-0 (11.0.221-1) ...\n",
            "Removing cuda-nvrtc-dev-10-0 (10.0.130-1) ...\n",
            "Removing cuda-nvrtc-10-0 (10.0.130-1) ...\n",
            "Removing cuda-nvrtc-dev-10-1 (10.1.243-1) ...\n",
            "Removing cuda-nvrtc-10-1 (10.1.243-1) ...\n",
            "Removing cuda-nvrtc-dev-11-0 (11.0.221-1) ...\n",
            "Removing cuda-nvrtc-11-0 (11.0.221-1) ...\n",
            "Removing cuda-nvtx-10-1 (10.1.243-1) ...\n",
            "Removing cuda-nvtx-11-0 (11.0.167-1) ...\n",
            "Removing cuda-nvvp-11-0 (11.0.221-1) ...\n",
            "Removing cuda-sanitizer-11-0 (11.0.221-1) ...\n",
            "Removing cuda-license-10-1 (10.1.243-1) ...\n",
            "Setting up libcublas10 (10.2.3.254-1) ...\n",
            "Setting up libcublas-dev (10.2.3.254-1) ...\n",
            "Processing triggers for libc-bin (2.27-3ubuntu1.2) ...\n",
            "/sbin/ldconfig.real: /usr/local/lib/python3.7/dist-packages/ideep4py/lib/libmkldnn.so.0 is not a symbolic link\n",
            "\n",
            "Reading package lists... Done\n",
            "Building dependency tree       \n",
            "Reading state information... Done\n",
            "The following packages will be REMOVED:\n",
            "  default-jre dkms freeglut3 freeglut3-dev keyboard-configuration libargon2-0\n",
            "  libcap2 libcryptsetup12 libcufft-11-0 libcufft-dev-11-0 libcurand-11-0\n",
            "  libcurand-dev-11-0 libcusolver-11-0 libcusolver-dev-11-0 libdevmapper1.02.1\n",
            "  libfontenc1 libidn11 libip4tc0 libjansson4 libnvjpeg-11-0 libnvjpeg-dev-11-0\n",
            "  libpam-systemd libpolkit-agent-1-0 libpolkit-backend-1-0\n",
            "  libpolkit-gobject-1-0 libxfont2 libxi-dev libxkbfile1 libxmu-dev\n",
            "  libxmu-headers libxnvctrl0 libxtst6 nsight-compute-2021.1.1\n",
            "  nsight-systems-2020.3.2 nsight-systems-2021.1.3 ocl-icd-opencl-dev\n",
            "  opencl-c-headers openjdk-11-jre policykit-1 policykit-1-gnome python3-xkit\n",
            "  screen-resolution-extra systemd systemd-sysv udev x11-xkb-utils\n",
            "  xserver-common xserver-xorg-core-hwe-18.04\n",
            "0 upgraded, 0 newly installed, 48 to remove and 36 not upgraded.\n",
            "After this operation, 2,416 MB disk space will be freed.\n",
            "(Reading database ... 126621 files and directories currently installed.)\n",
            "Removing default-jre (2:1.11-68ubuntu1~18.04.1) ...\n",
            "Removing dkms (2.3-3ubuntu9.7) ...\n",
            "Removing freeglut3-dev:amd64 (2.8.1-3) ...\n",
            "Removing freeglut3:amd64 (2.8.1-3) ...\n",
            "Removing xserver-xorg-core-hwe-18.04 (2:1.20.8-2ubuntu2.2~18.04.5) ...\n",
            "Removing keyboard-configuration (1.178ubuntu2.9) ...\n",
            "Removing screen-resolution-extra (0.17.3) ...\n",
            "Removing policykit-1-gnome (0.105-6ubuntu2) ...\n",
            "Removing policykit-1 (0.105-20ubuntu0.18.04.5) ...\n",
            "Removing libpam-systemd:amd64 (237-3ubuntu10.47) ...\n",
            "Removing systemd-sysv (237-3ubuntu10.47) ...\n",
            "Removing systemd (237-3ubuntu10.47) ...\n",
            "Removing libcryptsetup12:amd64 (2:2.0.2-1ubuntu1.2) ...\n",
            "Removing libargon2-0:amd64 (0~20161029-1.1) ...\n",
            "Removing libcap2:amd64 (1:2.25-1.2) ...\n",
            "Removing libcufft-dev-11-0 (10.2.1.245-1) ...\n",
            "Removing libcufft-11-0 (10.2.1.245-1) ...\n",
            "Removing libcurand-dev-11-0 (10.2.1.245-1) ...\n",
            "Removing libcurand-11-0 (10.2.1.245-1) ...\n",
            "Removing libcusolver-dev-11-0 (10.6.0.245-1) ...\n",
            "Removing libcusolver-11-0 (10.6.0.245-1) ...\n",
            "Removing libdevmapper1.02.1:amd64 (2:1.02.145-4.1ubuntu3.18.04.3) ...\n",
            "Removing libxfont2:amd64 (1:2.0.3-1) ...\n",
            "Removing libfontenc1:amd64 (1:1.1.3-1) ...\n",
            "Removing libidn11:amd64 (1.33-2.1ubuntu1.2) ...\n",
            "Removing libip4tc0:amd64 (1.6.1-2ubuntu2) ...\n",
            "Removing libjansson4:amd64 (2.11-1) ...\n",
            "Removing libnvjpeg-dev-11-0 (11.1.1.245-1) ...\n",
            "Removing libnvjpeg-11-0 (11.1.1.245-1) ...\n",
            "Removing libpolkit-agent-1-0:amd64 (0.105-20ubuntu0.18.04.5) ...\n",
            "Removing libpolkit-backend-1-0:amd64 (0.105-20ubuntu0.18.04.5) ...\n",
            "Removing libpolkit-gobject-1-0:amd64 (0.105-20ubuntu0.18.04.5) ...\n",
            "Removing libxi-dev:amd64 (2:1.7.9-1) ...\n",
            "Removing xserver-common (2:1.19.6-1ubuntu4.9) ...\n",
            "Removing x11-xkb-utils (7.7+3ubuntu0.18.04.1) ...\n",
            "Removing libxkbfile1:amd64 (1:1.0.9-2) ...\n",
            "Removing libxmu-dev:amd64 (2:1.1.2-2) ...\n",
            "Removing libxmu-headers (2:1.1.2-2) ...\n",
            "Removing libxnvctrl0:amd64 (465.19.01-0ubuntu1) ...\n",
            "Removing openjdk-11-jre:amd64 (11.0.11+9-0ubuntu2~18.04) ...\n",
            "Removing libxtst6:amd64 (2:1.2.3-1) ...\n",
            "Removing nsight-compute-2021.1.1 (2021.1.1.5-1) ...\n",
            "Removing nsight-systems-2020.3.2 (2020.3.2.6-87e152c) ...\n",
            "update-alternatives: removing manually selected alternative - switching nsys to auto mode\n",
            "update-alternatives: using /opt/nvidia/nsight-systems/2021.1.3/target-linux-x64/nsys to provide /usr/local/bin/nsys (nsys) in auto mode\n",
            "update-alternatives: removing manually selected alternative - switching nsight-sys to auto mode\n",
            "update-alternatives: removing manually selected alternative - switching nsys-ui to auto mode\n",
            "update-alternatives: using /opt/nvidia/nsight-systems/2021.1.3/host-linux-x64/nsys-ui to provide /usr/local/bin/nsys-ui (nsys-ui) in auto mode\n",
            "Removing nsight-systems-2021.1.3 (2021.1.3.14-b695ea9) ...\n",
            "\u001b[1mdpkg:\u001b[0m \u001b[1;33mwarning:\u001b[0m while removing nsight-systems-2021.1.3, directory '/usr/local/bin' not empty so not removed\n",
            "\u001b[1mdpkg:\u001b[0m \u001b[1;33mwarning:\u001b[0m while removing nsight-systems-2021.1.3, directory '/opt' not empty so not removed\n",
            "Removing ocl-icd-opencl-dev:amd64 (2.2.11-1ubuntu1) ...\n",
            "Removing opencl-c-headers (2.2~2018.02.21-gb5c3680-1) ...\n",
            "Removing python3-xkit (0.5.0ubuntu2) ...\n",
            "Removing udev (237-3ubuntu10.47) ...\n",
            "invoke-rc.d: could not determine current runlevel\n",
            "invoke-rc.d: policy-rc.d denied execution of stop.\n",
            "Processing triggers for libc-bin (2.27-3ubuntu1.2) ...\n",
            "/sbin/ldconfig.real: /usr/local/lib/python3.7/dist-packages/ideep4py/lib/libmkldnn.so.0 is not a symbolic link\n",
            "\n",
            "Processing triggers for man-db (2.8.3-2ubuntu0.1) ...\n",
            "Processing triggers for dbus (1.12.2-1ubuntu1.2) ...\n",
            "Processing triggers for hicolor-icon-theme (0.17-2) ...\n",
            "Processing triggers for mime-support (3.60ubuntu1) ...\n",
            "Hit:1 https://cloud.r-project.org/bin/linux/ubuntu bionic-cran40/ InRelease\n",
            "Ign:2 https://developer.download.nvidia.com/compute/cuda/repos/ubuntu1804/x86_64  InRelease\n",
            "Ign:3 https://developer.download.nvidia.com/compute/machine-learning/repos/ubuntu1804/x86_64  InRelease\n",
            "Get:4 http://security.ubuntu.com/ubuntu bionic-security InRelease [88.7 kB]\n",
            "Get:5 https://developer.download.nvidia.com/compute/cuda/repos/ubuntu1804/x86_64  Release [697 B]\n",
            "Hit:6 https://developer.download.nvidia.com/compute/machine-learning/repos/ubuntu1804/x86_64  Release\n",
            "Get:7 https://developer.download.nvidia.com/compute/cuda/repos/ubuntu1804/x86_64  Release.gpg [836 B]\n",
            "Hit:8 http://archive.ubuntu.com/ubuntu bionic InRelease\n",
            "Hit:9 http://ppa.launchpad.net/c2d4u.team/c2d4u4.0+/ubuntu bionic InRelease\n",
            "Get:10 http://archive.ubuntu.com/ubuntu bionic-updates InRelease [88.7 kB]\n",
            "Hit:12 http://ppa.launchpad.net/cran/libgit2/ubuntu bionic InRelease\n",
            "Ign:13 https://developer.download.nvidia.com/compute/cuda/repos/ubuntu1804/x86_64  Packages\n",
            "Get:13 https://developer.download.nvidia.com/compute/cuda/repos/ubuntu1804/x86_64  Packages [599 kB]\n",
            "Get:14 http://ppa.launchpad.net/deadsnakes/ppa/ubuntu bionic InRelease [15.9 kB]\n",
            "Get:15 http://archive.ubuntu.com/ubuntu bionic-backports InRelease [74.6 kB]\n",
            "Get:16 http://security.ubuntu.com/ubuntu bionic-security/main amd64 Packages [2,185 kB]\n",
            "Hit:17 http://ppa.launchpad.net/graphics-drivers/ppa/ubuntu bionic InRelease\n",
            "Get:18 http://security.ubuntu.com/ubuntu bionic-security/universe amd64 Packages [1,415 kB]\n",
            "Get:19 http://archive.ubuntu.com/ubuntu bionic-updates/main amd64 Packages [2,619 kB]\n",
            "Get:20 http://ppa.launchpad.net/deadsnakes/ppa/ubuntu bionic/main amd64 Packages [40.9 kB]\n",
            "Get:21 http://archive.ubuntu.com/ubuntu bionic-updates/universe amd64 Packages [2,185 kB]\n",
            "Fetched 9,312 kB in 3s (3,609 kB/s)\n",
            "Reading package lists... Done\n"
          ],
          "name": "stdout"
        }
      ]
    },
    {
      "cell_type": "code",
      "metadata": {
        "id": "oO5V0IWeY6S6",
        "colab": {
          "base_uri": "https://localhost:8080/"
        },
        "outputId": "d593304f-a51a-4c29-9016-9e0e8ef70cc3"
      },
      "source": [
        "#Download CUDA 10.0\n",
        "!wget  --no-clobber https://developer.download.nvidia.com/compute/cuda/repos/ubuntu1804/x86_64/cuda-repo-ubuntu1804_10.0.130-1_amd64.deb\n",
        "#install CUDA kit dpkg\n",
        "!dpkg -i cuda-repo-ubuntu1804_10.0.130-1_amd64.deb\n",
        "!sudo apt-key adv --fetch-keys https://developer.download.nvidia.com/compute/cuda/repos/ubuntu1804/x86_64/7fa2af80.pub\n",
        "!apt-get update\n",
        "!apt-get install cuda-10-0"
      ],
      "execution_count": null,
      "outputs": [
        {
          "output_type": "stream",
          "text": [
            "--2021-06-20 11:20:33--  https://developer.download.nvidia.com/compute/cuda/repos/ubuntu1804/x86_64/cuda-repo-ubuntu1804_10.0.130-1_amd64.deb\n",
            "Resolving developer.download.nvidia.com (developer.download.nvidia.com)... 152.195.19.142\n",
            "Connecting to developer.download.nvidia.com (developer.download.nvidia.com)|152.195.19.142|:443... connected.\n",
            "HTTP request sent, awaiting response... 200 OK\n",
            "Length: 2940 (2.9K) [application/x-deb]\n",
            "Saving to: ‘cuda-repo-ubuntu1804_10.0.130-1_amd64.deb’\n",
            "\n",
            "\r          cuda-repo   0%[                    ]       0  --.-KB/s               \rcuda-repo-ubuntu180 100%[===================>]   2.87K  --.-KB/s    in 0s      \n",
            "\n",
            "2021-06-20 11:20:33 (155 MB/s) - ‘cuda-repo-ubuntu1804_10.0.130-1_amd64.deb’ saved [2940/2940]\n",
            "\n",
            "Selecting previously unselected package cuda-repo-ubuntu1804.\n",
            "(Reading database ... 123844 files and directories currently installed.)\n",
            "Preparing to unpack cuda-repo-ubuntu1804_10.0.130-1_amd64.deb ...\n",
            "Unpacking cuda-repo-ubuntu1804 (10.0.130-1) ...\n",
            "Setting up cuda-repo-ubuntu1804 (10.0.130-1) ...\n",
            "\n",
            "Configuration file '/etc/apt/sources.list.d/cuda.list'\n",
            " ==> File on system created by you or by a script.\n",
            " ==> File also in package provided by package maintainer.\n",
            "   What would you like to do about it ?  Your options are:\n",
            "    Y or I  : install the package maintainer's version\n",
            "    N or O  : keep your currently-installed version\n",
            "      D     : show the differences between the versions\n",
            "      Z     : start a shell to examine the situation\n",
            " The default action is to keep your current version.\n",
            "*** cuda.list (Y/I/N/O/D/Z) [default=N] ? \n",
            "Executing: /tmp/apt-key-gpghome.OJdrqXO3Ez/gpg.1.sh --fetch-keys https://developer.download.nvidia.com/compute/cuda/repos/ubuntu1804/x86_64/7fa2af80.pub\n",
            "gpg: requesting key from 'https://developer.download.nvidia.com/compute/cuda/repos/ubuntu1804/x86_64/7fa2af80.pub'\n",
            "gpg: key F60F4B3D7FA2AF80: \"cudatools <cudatools@nvidia.com>\" not changed\n",
            "gpg: Total number processed: 1\n",
            "gpg:              unchanged: 1\n",
            "Hit:1 https://cloud.r-project.org/bin/linux/ubuntu bionic-cran40/ InRelease\n",
            "Ign:2 https://developer.download.nvidia.com/compute/cuda/repos/ubuntu1804/x86_64  InRelease\n",
            "Ign:3 https://developer.download.nvidia.com/compute/machine-learning/repos/ubuntu1804/x86_64  InRelease\n",
            "Hit:4 https://developer.download.nvidia.com/compute/cuda/repos/ubuntu1804/x86_64  Release\n",
            "Hit:5 https://developer.download.nvidia.com/compute/machine-learning/repos/ubuntu1804/x86_64  Release\n",
            "Hit:6 http://security.ubuntu.com/ubuntu bionic-security InRelease\n",
            "Hit:7 http://ppa.launchpad.net/c2d4u.team/c2d4u4.0+/ubuntu bionic InRelease\n",
            "Hit:8 http://archive.ubuntu.com/ubuntu bionic InRelease\n",
            "Hit:10 http://archive.ubuntu.com/ubuntu bionic-updates InRelease\n",
            "Hit:12 http://archive.ubuntu.com/ubuntu bionic-backports InRelease\n",
            "Hit:13 http://ppa.launchpad.net/cran/libgit2/ubuntu bionic InRelease\n",
            "Hit:14 http://ppa.launchpad.net/deadsnakes/ppa/ubuntu bionic InRelease\n",
            "Hit:15 http://ppa.launchpad.net/graphics-drivers/ppa/ubuntu bionic InRelease\n",
            "Reading package lists... Done\n",
            "Reading package lists... Done\n",
            "Building dependency tree       \n",
            "Reading state information... Done\n",
            "The following additional packages will be installed:\n",
            "  cuda-command-line-tools-10-0 cuda-compiler-10-0 cuda-cublas-10-0\n",
            "  cuda-cublas-dev-10-0 cuda-cudart-10-0 cuda-cudart-dev-10-0 cuda-cufft-10-0\n",
            "  cuda-cufft-dev-10-0 cuda-cuobjdump-10-0 cuda-cupti-10-0 cuda-curand-10-0\n",
            "  cuda-curand-dev-10-0 cuda-cusolver-10-0 cuda-cusolver-dev-10-0\n",
            "  cuda-cusparse-10-0 cuda-cusparse-dev-10-0 cuda-demo-suite-10-0\n",
            "  cuda-documentation-10-0 cuda-driver-dev-10-0 cuda-drivers cuda-drivers-465\n",
            "  cuda-gdb-10-0 cuda-gpu-library-advisor-10-0 cuda-libraries-10-0\n",
            "  cuda-libraries-dev-10-0 cuda-license-10-0 cuda-memcheck-10-0\n",
            "  cuda-misc-headers-10-0 cuda-npp-10-0 cuda-npp-dev-10-0 cuda-nsight-10-0\n",
            "  cuda-nsight-compute-10-0 cuda-nvcc-10-0 cuda-nvdisasm-10-0 cuda-nvgraph-10-0\n",
            "  cuda-nvgraph-dev-10-0 cuda-nvjpeg-10-0 cuda-nvjpeg-dev-10-0\n",
            "  cuda-nvml-dev-10-0 cuda-nvprof-10-0 cuda-nvprune-10-0 cuda-nvrtc-10-0\n",
            "  cuda-nvrtc-dev-10-0 cuda-nvtx-10-0 cuda-nvvp-10-0 cuda-runtime-10-0\n",
            "  cuda-samples-10-0 cuda-toolkit-10-0 cuda-tools-10-0 cuda-visual-tools-10-0\n",
            "  default-jre dkms dmsetup fakeroot fonts-dejavu-core fonts-dejavu-extra\n",
            "  freeglut3 freeglut3-dev keyboard-configuration libargon2-0\n",
            "  libatk-wrapper-java libatk-wrapper-java-jni libcap2 libcryptsetup12\n",
            "  libdevmapper1.02.1 libfakeroot libfontenc1 libidn11 libip4tc0 libjansson4\n",
            "  libnss-systemd libnvidia-cfg1-465 libnvidia-common-465 libnvidia-compute-465\n",
            "  libnvidia-decode-465 libnvidia-encode-465 libnvidia-extra-465\n",
            "  libnvidia-fbc1-465 libnvidia-gl-465 libnvidia-ifr1-465 libpam-systemd\n",
            "  libpolkit-agent-1-0 libpolkit-backend-1-0 libpolkit-gobject-1-0 libsystemd0\n",
            "  libudev1 libxfont2 libxi-dev libxkbfile1 libxmu-dev libxmu-headers\n",
            "  libxnvctrl0 libxtst6 libxxf86dga1 networkd-dispatcher\n",
            "  nvidia-compute-utils-465 nvidia-dkms-465 nvidia-driver-465\n",
            "  nvidia-kernel-common-465 nvidia-kernel-source-465 nvidia-modprobe\n",
            "  nvidia-prime nvidia-settings nvidia-utils-465 openjdk-11-jre policykit-1\n",
            "  policykit-1-gnome python3-xkit screen-resolution-extra systemd systemd-sysv\n",
            "  udev x11-utils x11-xkb-utils xfonts-base xfonts-encodings xfonts-utils\n",
            "  xserver-common xserver-xorg-core-hwe-18.04 xserver-xorg-video-nvidia-465\n",
            "Suggested packages:\n",
            "  python3-apport menu iw | wireless-tools systemd-container mesa-utils xfs\n",
            "  | xserver xfonts-100dpi | xfonts-75dpi xfonts-scalable\n",
            "Recommended packages:\n",
            "  libnvidia-compute-465:i386 libnvidia-decode-465:i386\n",
            "  libnvidia-encode-465:i386 libnvidia-ifr1-465:i386 libnvidia-fbc1-465:i386\n",
            "  libnvidia-gl-465:i386\n",
            "The following NEW packages will be installed:\n",
            "  cuda-10-0 cuda-command-line-tools-10-0 cuda-compiler-10-0 cuda-cublas-10-0\n",
            "  cuda-cublas-dev-10-0 cuda-cudart-10-0 cuda-cudart-dev-10-0 cuda-cufft-10-0\n",
            "  cuda-cufft-dev-10-0 cuda-cuobjdump-10-0 cuda-cupti-10-0 cuda-curand-10-0\n",
            "  cuda-curand-dev-10-0 cuda-cusolver-10-0 cuda-cusolver-dev-10-0\n",
            "  cuda-cusparse-10-0 cuda-cusparse-dev-10-0 cuda-demo-suite-10-0\n",
            "  cuda-documentation-10-0 cuda-driver-dev-10-0 cuda-drivers cuda-drivers-465\n",
            "  cuda-gdb-10-0 cuda-gpu-library-advisor-10-0 cuda-libraries-10-0\n",
            "  cuda-libraries-dev-10-0 cuda-license-10-0 cuda-memcheck-10-0\n",
            "  cuda-misc-headers-10-0 cuda-npp-10-0 cuda-npp-dev-10-0 cuda-nsight-10-0\n",
            "  cuda-nsight-compute-10-0 cuda-nvcc-10-0 cuda-nvdisasm-10-0 cuda-nvgraph-10-0\n",
            "  cuda-nvgraph-dev-10-0 cuda-nvjpeg-10-0 cuda-nvjpeg-dev-10-0\n",
            "  cuda-nvml-dev-10-0 cuda-nvprof-10-0 cuda-nvprune-10-0 cuda-nvrtc-10-0\n",
            "  cuda-nvrtc-dev-10-0 cuda-nvtx-10-0 cuda-nvvp-10-0 cuda-runtime-10-0\n",
            "  cuda-samples-10-0 cuda-toolkit-10-0 cuda-tools-10-0 cuda-visual-tools-10-0\n",
            "  default-jre dkms dmsetup fakeroot fonts-dejavu-core fonts-dejavu-extra\n",
            "  freeglut3 freeglut3-dev keyboard-configuration libargon2-0\n",
            "  libatk-wrapper-java libatk-wrapper-java-jni libcap2 libcryptsetup12\n",
            "  libdevmapper1.02.1 libfakeroot libfontenc1 libidn11 libip4tc0 libjansson4\n",
            "  libnss-systemd libnvidia-cfg1-465 libnvidia-common-465 libnvidia-compute-465\n",
            "  libnvidia-decode-465 libnvidia-encode-465 libnvidia-extra-465\n",
            "  libnvidia-fbc1-465 libnvidia-gl-465 libnvidia-ifr1-465 libpam-systemd\n",
            "  libpolkit-agent-1-0 libpolkit-backend-1-0 libpolkit-gobject-1-0 libxfont2\n",
            "  libxi-dev libxkbfile1 libxmu-dev libxmu-headers libxnvctrl0 libxtst6\n",
            "  libxxf86dga1 networkd-dispatcher nvidia-compute-utils-465 nvidia-dkms-465\n",
            "  nvidia-driver-465 nvidia-kernel-common-465 nvidia-kernel-source-465\n",
            "  nvidia-modprobe nvidia-prime nvidia-settings nvidia-utils-465 openjdk-11-jre\n",
            "  policykit-1 policykit-1-gnome python3-xkit screen-resolution-extra systemd\n",
            "  systemd-sysv udev x11-utils x11-xkb-utils xfonts-base xfonts-encodings\n",
            "  xfonts-utils xserver-common xserver-xorg-core-hwe-18.04\n",
            "  xserver-xorg-video-nvidia-465\n",
            "The following packages will be upgraded:\n",
            "  libsystemd0 libudev1\n",
            "2 upgraded, 119 newly installed, 0 to remove and 39 not upgraded.\n",
            "Need to get 1,573 MB of archives.\n",
            "After this operation, 3,741 MB of additional disk space will be used.\n",
            "Get:1 https://developer.download.nvidia.com/compute/cuda/repos/ubuntu1804/x86_64  cuda-license-10-0 10.0.130-1 [17.6 kB]\n",
            "Get:2 https://developer.download.nvidia.com/compute/cuda/repos/ubuntu1804/x86_64  cuda-misc-headers-10-0 10.0.130-1 [640 kB]\n",
            "Get:3 https://developer.download.nvidia.com/compute/cuda/repos/ubuntu1804/x86_64  cuda-nvcc-10-0 10.0.130-1 [20.0 MB]\n",
            "Get:4 http://archive.ubuntu.com/ubuntu bionic-updates/main amd64 libsystemd0 amd64 237-3ubuntu10.48 [209 kB]\n",
            "Get:5 https://developer.download.nvidia.com/compute/cuda/repos/ubuntu1804/x86_64  cuda-cuobjdump-10-0 10.0.130-1 [130 kB]\n",
            "Get:6 https://developer.download.nvidia.com/compute/cuda/repos/ubuntu1804/x86_64  cuda-nvprune-10-0 10.0.130-1 [36.8 kB]\n",
            "Get:7 https://developer.download.nvidia.com/compute/cuda/repos/ubuntu1804/x86_64  cuda-compiler-10-0 10.0.130-1 [2,538 B]\n",
            "Get:8 https://developer.download.nvidia.com/compute/cuda/repos/ubuntu1804/x86_64  cuda-nvdisasm-10-0 10.0.130-1 [22.1 MB]\n",
            "Get:9 https://developer.download.nvidia.com/compute/cuda/repos/ubuntu1804/x86_64  cuda-gdb-10-0 10.0.130-1 [2,769 kB]\n",
            "Get:10 https://developer.download.nvidia.com/compute/cuda/repos/ubuntu1804/x86_64  cuda-nvprof-10-0 10.0.130-1 [5,590 kB]\n",
            "Get:11 https://developer.download.nvidia.com/compute/cuda/repos/ubuntu1804/x86_64  cuda-memcheck-10-0 10.0.130-1 [139 kB]\n",
            "Get:12 https://developer.download.nvidia.com/compute/cuda/repos/ubuntu1804/x86_64  cuda-cudart-10-0 10.0.130-1 [109 kB]\n",
            "Get:13 https://developer.download.nvidia.com/compute/cuda/repos/ubuntu1804/x86_64  cuda-driver-dev-10-0 10.0.130-1 [12.0 kB]\n",
            "Get:14 https://developer.download.nvidia.com/compute/cuda/repos/ubuntu1804/x86_64  cuda-cudart-dev-10-0 10.0.130-1 [457 kB]\n",
            "Get:15 https://developer.download.nvidia.com/compute/cuda/repos/ubuntu1804/x86_64  cuda-cupti-10-0 10.0.130-1 [1,564 kB]\n",
            "Get:16 https://developer.download.nvidia.com/compute/cuda/repos/ubuntu1804/x86_64  cuda-gpu-library-advisor-10-0 10.0.130-1 [1,003 kB]\n",
            "Get:17 http://archive.ubuntu.com/ubuntu bionic-updates/main amd64 keyboard-configuration all 1.178ubuntu2.9 [369 kB]\n",
            "Get:18 https://developer.download.nvidia.com/compute/cuda/repos/ubuntu1804/x86_64  cuda-nvtx-10-0 10.0.130-1 [38.9 kB]\n",
            "Get:19 https://developer.download.nvidia.com/compute/cuda/repos/ubuntu1804/x86_64  cuda-command-line-tools-10-0 10.0.130-1 [26.9 kB]\n",
            "Get:20 https://developer.download.nvidia.com/compute/cuda/repos/ubuntu1804/x86_64  cuda-nsight-10-0 10.0.130-1 [2,590 B]\n",
            "Get:21 https://developer.download.nvidia.com/compute/cuda/repos/ubuntu1804/x86_64  cuda-nvvp-10-0 10.0.130-1 [2,536 B]\n",
            "Get:22 https://developer.download.nvidia.com/compute/cuda/repos/ubuntu1804/x86_64  cuda-nvrtc-10-0 10.0.130-1 [5,925 kB]\n",
            "Get:23 https://developer.download.nvidia.com/compute/cuda/repos/ubuntu1804/x86_64  cuda-nvrtc-dev-10-0 10.0.130-1 [9,344 B]\n",
            "Get:24 https://developer.download.nvidia.com/compute/cuda/repos/ubuntu1804/x86_64  cuda-cusolver-10-0 10.0.130-1 [38.4 MB]\n",
            "Get:25 http://archive.ubuntu.com/ubuntu bionic/main amd64 libcap2 amd64 1:2.25-1.2 [13.0 kB]\n",
            "Get:26 http://archive.ubuntu.com/ubuntu bionic/main amd64 libargon2-0 amd64 0~20161029-1.1 [19.9 kB]\n",
            "Get:27 http://archive.ubuntu.com/ubuntu bionic-updates/main amd64 libudev1 amd64 237-3ubuntu10.48 [58.0 kB]\n",
            "Get:28 http://archive.ubuntu.com/ubuntu bionic-updates/main amd64 libdevmapper1.02.1 amd64 2:1.02.145-4.1ubuntu3.18.04.3 [127 kB]\n",
            "Get:29 http://archive.ubuntu.com/ubuntu bionic-updates/main amd64 libcryptsetup12 amd64 2:2.0.2-1ubuntu1.2 [134 kB]\n",
            "Get:30 http://archive.ubuntu.com/ubuntu bionic-updates/main amd64 libidn11 amd64 1.33-2.1ubuntu1.2 [46.6 kB]\n",
            "Get:31 http://archive.ubuntu.com/ubuntu bionic/main amd64 libip4tc0 amd64 1.6.1-2ubuntu2 [19.6 kB]\n",
            "Get:32 http://archive.ubuntu.com/ubuntu bionic-updates/main amd64 systemd amd64 237-3ubuntu10.48 [2,915 kB]\n",
            "Get:33 http://archive.ubuntu.com/ubuntu bionic-updates/main amd64 systemd-sysv amd64 237-3ubuntu10.48 [15.5 kB]\n",
            "Get:34 http://archive.ubuntu.com/ubuntu bionic/main amd64 libxxf86dga1 amd64 2:1.1.4-1 [13.7 kB]\n",
            "Get:35 http://archive.ubuntu.com/ubuntu bionic-updates/main amd64 dmsetup amd64 2:1.02.145-4.1ubuntu3.18.04.3 [74.4 kB]\n",
            "Get:36 http://archive.ubuntu.com/ubuntu bionic-updates/main amd64 libnss-systemd amd64 237-3ubuntu10.48 [105 kB]\n",
            "Get:37 http://archive.ubuntu.com/ubuntu bionic-updates/main amd64 libpam-systemd amd64 237-3ubuntu10.48 [107 kB]\n",
            "Get:38 http://archive.ubuntu.com/ubuntu bionic-updates/main amd64 networkd-dispatcher all 1.7-0ubuntu3.3 [13.3 kB]\n",
            "Get:39 http://archive.ubuntu.com/ubuntu bionic-updates/main amd64 udev amd64 237-3ubuntu10.48 [1,103 kB]\n",
            "Get:40 http://archive.ubuntu.com/ubuntu bionic-updates/main amd64 libpolkit-gobject-1-0 amd64 0.105-20ubuntu0.18.04.5 [36.4 kB]\n",
            "Get:41 http://archive.ubuntu.com/ubuntu bionic/main amd64 libxtst6 amd64 2:1.2.3-1 [12.8 kB]\n",
            "Get:42 http://archive.ubuntu.com/ubuntu bionic-updates/main amd64 openjdk-11-jre amd64 11.0.11+9-0ubuntu2~18.04 [174 kB]\n",
            "Get:43 http://archive.ubuntu.com/ubuntu bionic-updates/main amd64 default-jre amd64 2:1.11-68ubuntu1~18.04.1 [1,076 B]\n",
            "Get:44 http://archive.ubuntu.com/ubuntu bionic/universe amd64 freeglut3 amd64 2.8.1-3 [73.6 kB]\n",
            "Get:45 http://archive.ubuntu.com/ubuntu bionic/universe amd64 freeglut3-dev amd64 2.8.1-3 [124 kB]\n",
            "Get:46 http://archive.ubuntu.com/ubuntu bionic/main amd64 libxmu-headers all 2:1.1.2-2 [54.3 kB]\n",
            "Get:47 http://archive.ubuntu.com/ubuntu bionic/main amd64 libxmu-dev amd64 2:1.1.2-2 [49.0 kB]\n",
            "Get:48 http://archive.ubuntu.com/ubuntu bionic/main amd64 libxi-dev amd64 2:1.7.9-1 [186 kB]\n",
            "Get:49 http://archive.ubuntu.com/ubuntu bionic-updates/restricted amd64 libnvidia-common-465 all 465.27-0ubuntu0.18.04.2 [9,384 B]\n",
            "Get:50 http://archive.ubuntu.com/ubuntu bionic-updates/restricted amd64 libnvidia-compute-465 amd64 465.27-0ubuntu0.18.04.2 [23.5 MB]\n",
            "Get:51 https://developer.download.nvidia.com/compute/cuda/repos/ubuntu1804/x86_64  cuda-cusolver-dev-10-0 10.0.130-1 [13.2 MB]\n",
            "Get:52 https://developer.download.nvidia.com/compute/cuda/repos/ubuntu1804/x86_64  cuda-cublas-10-0 10.0.130-1 [30.3 MB]\n",
            "Get:53 https://developer.download.nvidia.com/compute/cuda/repos/ubuntu1804/x86_64  cuda-cublas-dev-10-0 10.0.130-1 [30.8 MB]\n",
            "Get:54 http://archive.ubuntu.com/ubuntu bionic-updates/restricted amd64 libnvidia-decode-465 amd64 465.27-0ubuntu0.18.04.2 [1,312 kB]\n",
            "Get:55 http://archive.ubuntu.com/ubuntu bionic-updates/restricted amd64 libnvidia-encode-465 amd64 465.27-0ubuntu0.18.04.2 [40.1 kB]\n",
            "Get:56 http://archive.ubuntu.com/ubuntu bionic-updates/restricted amd64 libnvidia-fbc1-465 amd64 465.27-0ubuntu0.18.04.2 [45.6 kB]\n",
            "Get:57 http://archive.ubuntu.com/ubuntu bionic-updates/restricted amd64 libnvidia-gl-465 amd64 465.27-0ubuntu0.18.04.2 [118 MB]\n",
            "Get:58 https://developer.download.nvidia.com/compute/cuda/repos/ubuntu1804/x86_64  cuda-cufft-10-0 10.0.130-1 [60.7 MB]\n",
            "Get:59 https://developer.download.nvidia.com/compute/cuda/repos/ubuntu1804/x86_64  cuda-cufft-dev-10-0 10.0.130-1 [124 MB]\n",
            "Get:60 https://developer.download.nvidia.com/compute/cuda/repos/ubuntu1804/x86_64  cuda-curand-10-0 10.0.130-1 [38.9 MB]\n",
            "Get:61 https://developer.download.nvidia.com/compute/cuda/repos/ubuntu1804/x86_64  cuda-curand-dev-10-0 10.0.130-1 [58.1 MB]\n",
            "Get:62 http://archive.ubuntu.com/ubuntu bionic-updates/restricted amd64 libnvidia-ifr1-465 amd64 465.27-0ubuntu0.18.04.2 [67.8 kB]\n",
            "Get:63 http://archive.ubuntu.com/ubuntu bionic-updates/restricted amd64 nvidia-compute-utils-465 amd64 465.27-0ubuntu0.18.04.2 [105 kB]\n",
            "Get:64 http://archive.ubuntu.com/ubuntu bionic-updates/main amd64 dkms all 2.3-3ubuntu9.7 [68.1 kB]\n",
            "Get:65 http://archive.ubuntu.com/ubuntu bionic-updates/restricted amd64 nvidia-kernel-source-465 amd64 465.27-0ubuntu0.18.04.2 [24.9 MB]\n",
            "Get:66 https://developer.download.nvidia.com/compute/cuda/repos/ubuntu1804/x86_64  cuda-cusparse-10-0 10.0.130-1 [27.1 MB]\n",
            "Get:67 http://archive.ubuntu.com/ubuntu bionic-updates/restricted amd64 nvidia-kernel-common-465 amd64 465.27-0ubuntu0.18.04.2 [17.9 MB]\n",
            "Get:68 https://developer.download.nvidia.com/compute/cuda/repos/ubuntu1804/x86_64  cuda-cusparse-dev-10-0 10.0.130-1 [27.2 MB]\n",
            "Get:69 http://archive.ubuntu.com/ubuntu bionic-updates/restricted amd64 nvidia-dkms-465 amd64 465.27-0ubuntu0.18.04.2 [28.4 kB]\n",
            "Get:70 http://archive.ubuntu.com/ubuntu bionic-updates/restricted amd64 libnvidia-extra-465 amd64 465.27-0ubuntu0.18.04.2 [42.4 kB]\n",
            "Get:71 http://archive.ubuntu.com/ubuntu bionic-updates/restricted amd64 nvidia-utils-465 amd64 465.27-0ubuntu0.18.04.2 [367 kB]\n",
            "Get:72 http://archive.ubuntu.com/ubuntu bionic-updates/restricted amd64 libnvidia-cfg1-465 amd64 465.27-0ubuntu0.18.04.2 [77.4 kB]\n",
            "Get:73 http://archive.ubuntu.com/ubuntu bionic/main amd64 libxkbfile1 amd64 1:1.0.9-2 [64.6 kB]\n",
            "Get:74 http://archive.ubuntu.com/ubuntu bionic-updates/main amd64 x11-xkb-utils amd64 7.7+3ubuntu0.18.04.1 [160 kB]\n",
            "Get:75 http://archive.ubuntu.com/ubuntu bionic-updates/main amd64 xserver-common all 2:1.19.6-1ubuntu4.9 [26.8 kB]\n",
            "Get:76 http://archive.ubuntu.com/ubuntu bionic/main amd64 libfontenc1 amd64 1:1.1.3-1 [13.9 kB]\n",
            "Get:77 http://archive.ubuntu.com/ubuntu bionic/main amd64 libxfont2 amd64 1:2.0.3-1 [91.7 kB]\n",
            "Get:78 http://archive.ubuntu.com/ubuntu bionic-updates/main amd64 xserver-xorg-core-hwe-18.04 amd64 2:1.20.8-2ubuntu2.2~18.04.5 [1,334 kB]\n",
            "Get:79 http://archive.ubuntu.com/ubuntu bionic-updates/restricted amd64 xserver-xorg-video-nvidia-465 amd64 465.27-0ubuntu0.18.04.2 [1,552 kB]\n",
            "Get:80 http://archive.ubuntu.com/ubuntu bionic-updates/restricted amd64 nvidia-driver-465 amd64 465.27-0ubuntu0.18.04.2 [435 kB]\n",
            "Get:81 http://archive.ubuntu.com/ubuntu bionic/main amd64 python3-xkit all 0.5.0ubuntu2 [18.6 kB]\n",
            "Get:82 http://archive.ubuntu.com/ubuntu bionic-updates/main amd64 libpolkit-agent-1-0 amd64 0.105-20ubuntu0.18.04.5 [14.9 kB]\n",
            "Get:83 http://archive.ubuntu.com/ubuntu bionic-updates/main amd64 libpolkit-backend-1-0 amd64 0.105-20ubuntu0.18.04.5 [36.3 kB]\n",
            "Get:84 http://archive.ubuntu.com/ubuntu bionic-updates/main amd64 policykit-1 amd64 0.105-20ubuntu0.18.04.5 [53.5 kB]\n",
            "Get:85 http://archive.ubuntu.com/ubuntu bionic/main amd64 policykit-1-gnome amd64 0.105-6ubuntu2 [24.0 kB]\n",
            "Get:86 http://archive.ubuntu.com/ubuntu bionic/main amd64 screen-resolution-extra all 0.17.3 [11.7 kB]\n",
            "Get:87 http://archive.ubuntu.com/ubuntu bionic/main amd64 libjansson4 amd64 2.11-1 [29.3 kB]\n",
            "Get:88 https://developer.download.nvidia.com/compute/cuda/repos/ubuntu1804/x86_64  cuda-npp-10-0 10.0.130-1 [54.2 MB]\n",
            "Get:89 http://archive.ubuntu.com/ubuntu bionic/main amd64 libfakeroot amd64 1.22-2ubuntu1 [25.9 kB]\n",
            "Get:90 http://archive.ubuntu.com/ubuntu bionic/main amd64 fakeroot amd64 1.22-2ubuntu1 [62.3 kB]\n",
            "Get:91 http://archive.ubuntu.com/ubuntu bionic/main amd64 fonts-dejavu-core all 2.37-1 [1,041 kB]\n",
            "Get:92 http://archive.ubuntu.com/ubuntu bionic/main amd64 fonts-dejavu-extra all 2.37-1 [1,953 kB]\n",
            "Get:93 http://archive.ubuntu.com/ubuntu bionic/main amd64 x11-utils amd64 7.7+3build1 [196 kB]\n",
            "Get:94 http://archive.ubuntu.com/ubuntu bionic/main amd64 libatk-wrapper-java all 0.33.3-20ubuntu0.1 [34.7 kB]\n",
            "Get:95 http://archive.ubuntu.com/ubuntu bionic/main amd64 libatk-wrapper-java-jni amd64 0.33.3-20ubuntu0.1 [28.3 kB]\n",
            "Get:96 http://archive.ubuntu.com/ubuntu bionic-updates/main amd64 nvidia-prime all 0.8.16~0.18.04.1 [9,224 B]\n",
            "Get:97 http://archive.ubuntu.com/ubuntu bionic/main amd64 xfonts-encodings all 1:1.0.4-2 [573 kB]\n",
            "Get:98 http://archive.ubuntu.com/ubuntu bionic/main amd64 xfonts-utils amd64 1:7.7+6 [91.5 kB]\n",
            "Get:99 http://archive.ubuntu.com/ubuntu bionic/main amd64 xfonts-base all 1:1.0.4+nmu1 [5,914 kB]\n",
            "Get:100 https://developer.download.nvidia.com/compute/cuda/repos/ubuntu1804/x86_64  cuda-npp-dev-10-0 10.0.130-1 [55.0 MB]\n",
            "Get:101 https://developer.download.nvidia.com/compute/cuda/repos/ubuntu1804/x86_64  cuda-nvml-dev-10-0 10.0.130-1 [51.6 kB]\n",
            "Get:102 https://developer.download.nvidia.com/compute/cuda/repos/ubuntu1804/x86_64  cuda-nvgraph-10-0 10.0.130-1 [12.8 MB]\n",
            "Get:103 https://developer.download.nvidia.com/compute/cuda/repos/ubuntu1804/x86_64  cuda-nvgraph-dev-10-0 10.0.130-1 [33.4 MB]\n",
            "Get:104 https://developer.download.nvidia.com/compute/cuda/repos/ubuntu1804/x86_64  cuda-nvjpeg-10-0 10.0.130.1-1 [1,302 kB]\n",
            "Get:105 https://developer.download.nvidia.com/compute/cuda/repos/ubuntu1804/x86_64  cuda-nvjpeg-dev-10-0 10.0.130.1-1 [1,086 kB]\n",
            "Get:106 https://developer.download.nvidia.com/compute/cuda/repos/ubuntu1804/x86_64  cuda-nsight-compute-10-0 10.0.130-1 [188 MB]\n",
            "Get:107 https://developer.download.nvidia.com/compute/cuda/repos/ubuntu1804/x86_64  cuda-visual-tools-10-0 10.0.130-1 [394 MB]\n",
            "Get:108 https://developer.download.nvidia.com/compute/cuda/repos/ubuntu1804/x86_64  cuda-tools-10-0 10.0.130-1 [2,498 B]\n",
            "Get:109 https://developer.download.nvidia.com/compute/cuda/repos/ubuntu1804/x86_64  cuda-samples-10-0 10.0.130-1 [61.5 MB]\n",
            "Get:110 https://developer.download.nvidia.com/compute/cuda/repos/ubuntu1804/x86_64  cuda-documentation-10-0 10.0.130-1 [52.0 MB]\n",
            "Get:111 https://developer.download.nvidia.com/compute/cuda/repos/ubuntu1804/x86_64  cuda-libraries-dev-10-0 10.0.130-1 [2,606 B]\n",
            "Get:112 https://developer.download.nvidia.com/compute/cuda/repos/ubuntu1804/x86_64  cuda-toolkit-10-0 10.0.130-1 [2,834 B]\n",
            "Get:113 https://developer.download.nvidia.com/compute/cuda/repos/ubuntu1804/x86_64  nvidia-modprobe 465.19.01-0ubuntu1 [19.8 kB]\n",
            "Get:114 https://developer.download.nvidia.com/compute/cuda/repos/ubuntu1804/x86_64  libxnvctrl0 465.19.01-0ubuntu1 [21.4 kB]\n",
            "Get:115 https://developer.download.nvidia.com/compute/cuda/repos/ubuntu1804/x86_64  nvidia-settings 465.19.01-0ubuntu1 [924 kB]\n",
            "Get:116 https://developer.download.nvidia.com/compute/cuda/repos/ubuntu1804/x86_64  cuda-drivers-465 465.19.01-1 [2,620 B]\n",
            "Get:117 https://developer.download.nvidia.com/compute/cuda/repos/ubuntu1804/x86_64  cuda-drivers 465.19.01-1 [2,496 B]\n",
            "Get:118 https://developer.download.nvidia.com/compute/cuda/repos/ubuntu1804/x86_64  cuda-libraries-10-0 10.0.130-1 [2,586 B]\n",
            "Get:119 https://developer.download.nvidia.com/compute/cuda/repos/ubuntu1804/x86_64  cuda-runtime-10-0 10.0.130-1 [2,540 B]\n",
            "Get:120 https://developer.download.nvidia.com/compute/cuda/repos/ubuntu1804/x86_64  cuda-demo-suite-10-0 10.0.130-1 [3,868 kB]\n",
            "Get:121 https://developer.download.nvidia.com/compute/cuda/repos/ubuntu1804/x86_64  cuda-10-0 10.0.130-1 [2,562 B]\n",
            "Fetched 1,573 MB in 28s (56.4 MB/s)\n",
            "Extracting templates from packages: 100%\n",
            "Preconfiguring packages ...\n",
            "(Reading database ... 123847 files and directories currently installed.)\n",
            "Preparing to unpack .../libsystemd0_237-3ubuntu10.48_amd64.deb ...\n",
            "Unpacking libsystemd0:amd64 (237-3ubuntu10.48) over (237-3ubuntu10.47) ...\n",
            "Setting up libsystemd0:amd64 (237-3ubuntu10.48) ...\n",
            "Selecting previously unselected package keyboard-configuration.\n",
            "(Reading database ... 123847 files and directories currently installed.)\n",
            "Preparing to unpack .../keyboard-configuration_1.178ubuntu2.9_all.deb ...\n",
            "Unpacking keyboard-configuration (1.178ubuntu2.9) ...\n",
            "Selecting previously unselected package libcap2:amd64.\n",
            "Preparing to unpack .../libcap2_1%3a2.25-1.2_amd64.deb ...\n",
            "Unpacking libcap2:amd64 (1:2.25-1.2) ...\n",
            "Selecting previously unselected package libargon2-0:amd64.\n",
            "Preparing to unpack .../libargon2-0_0~20161029-1.1_amd64.deb ...\n",
            "Unpacking libargon2-0:amd64 (0~20161029-1.1) ...\n",
            "Preparing to unpack .../libudev1_237-3ubuntu10.48_amd64.deb ...\n",
            "Unpacking libudev1:amd64 (237-3ubuntu10.48) over (237-3ubuntu10.47) ...\n",
            "Setting up libudev1:amd64 (237-3ubuntu10.48) ...\n",
            "Selecting previously unselected package libdevmapper1.02.1:amd64.\n",
            "(Reading database ... 123879 files and directories currently installed.)\n",
            "Preparing to unpack .../libdevmapper1.02.1_2%3a1.02.145-4.1ubuntu3.18.04.3_amd64.deb ...\n",
            "Unpacking libdevmapper1.02.1:amd64 (2:1.02.145-4.1ubuntu3.18.04.3) ...\n",
            "Selecting previously unselected package libcryptsetup12:amd64.\n",
            "Preparing to unpack .../libcryptsetup12_2%3a2.0.2-1ubuntu1.2_amd64.deb ...\n",
            "Unpacking libcryptsetup12:amd64 (2:2.0.2-1ubuntu1.2) ...\n",
            "Selecting previously unselected package libidn11:amd64.\n",
            "Preparing to unpack .../libidn11_1.33-2.1ubuntu1.2_amd64.deb ...\n",
            "Unpacking libidn11:amd64 (1.33-2.1ubuntu1.2) ...\n",
            "Selecting previously unselected package libip4tc0:amd64.\n",
            "Preparing to unpack .../libip4tc0_1.6.1-2ubuntu2_amd64.deb ...\n",
            "Unpacking libip4tc0:amd64 (1.6.1-2ubuntu2) ...\n",
            "Setting up libcap2:amd64 (1:2.25-1.2) ...\n",
            "Setting up libargon2-0:amd64 (0~20161029-1.1) ...\n",
            "Setting up libdevmapper1.02.1:amd64 (2:1.02.145-4.1ubuntu3.18.04.3) ...\n",
            "Setting up libcryptsetup12:amd64 (2:2.0.2-1ubuntu1.2) ...\n",
            "Setting up libidn11:amd64 (1.33-2.1ubuntu1.2) ...\n",
            "Setting up libip4tc0:amd64 (1.6.1-2ubuntu2) ...\n",
            "Selecting previously unselected package systemd.\n",
            "(Reading database ... 123899 files and directories currently installed.)\n",
            "Preparing to unpack .../systemd_237-3ubuntu10.48_amd64.deb ...\n",
            "Unpacking systemd (237-3ubuntu10.48) ...\n",
            "Setting up systemd (237-3ubuntu10.48) ...\n",
            "Selecting previously unselected package systemd-sysv.\n",
            "(Reading database ... 124581 files and directories currently installed.)\n",
            "Preparing to unpack .../000-systemd-sysv_237-3ubuntu10.48_amd64.deb ...\n",
            "Unpacking systemd-sysv (237-3ubuntu10.48) ...\n",
            "Selecting previously unselected package libxxf86dga1:amd64.\n",
            "Preparing to unpack .../001-libxxf86dga1_2%3a1.1.4-1_amd64.deb ...\n",
            "Unpacking libxxf86dga1:amd64 (2:1.1.4-1) ...\n",
            "Selecting previously unselected package dmsetup.\n",
            "Preparing to unpack .../002-dmsetup_2%3a1.02.145-4.1ubuntu3.18.04.3_amd64.deb ...\n",
            "Unpacking dmsetup (2:1.02.145-4.1ubuntu3.18.04.3) ...\n",
            "Selecting previously unselected package libnss-systemd:amd64.\n",
            "Preparing to unpack .../003-libnss-systemd_237-3ubuntu10.48_amd64.deb ...\n",
            "Unpacking libnss-systemd:amd64 (237-3ubuntu10.48) ...\n",
            "Selecting previously unselected package libpam-systemd:amd64.\n",
            "Preparing to unpack .../004-libpam-systemd_237-3ubuntu10.48_amd64.deb ...\n",
            "Unpacking libpam-systemd:amd64 (237-3ubuntu10.48) ...\n",
            "Selecting previously unselected package networkd-dispatcher.\n",
            "Preparing to unpack .../005-networkd-dispatcher_1.7-0ubuntu3.3_all.deb ...\n",
            "Unpacking networkd-dispatcher (1.7-0ubuntu3.3) ...\n",
            "Selecting previously unselected package udev.\n",
            "Preparing to unpack .../006-udev_237-3ubuntu10.48_amd64.deb ...\n",
            "Unpacking udev (237-3ubuntu10.48) ...\n",
            "Selecting previously unselected package libpolkit-gobject-1-0:amd64.\n",
            "Preparing to unpack .../007-libpolkit-gobject-1-0_0.105-20ubuntu0.18.04.5_amd64.deb ...\n",
            "Unpacking libpolkit-gobject-1-0:amd64 (0.105-20ubuntu0.18.04.5) ...\n",
            "Selecting previously unselected package cuda-license-10-0.\n",
            "Preparing to unpack .../008-cuda-license-10-0_10.0.130-1_amd64.deb ...\n",
            "Unpacking cuda-license-10-0 (10.0.130-1) ...\n",
            "Selecting previously unselected package cuda-misc-headers-10-0.\n",
            "Preparing to unpack .../009-cuda-misc-headers-10-0_10.0.130-1_amd64.deb ...\n",
            "Unpacking cuda-misc-headers-10-0 (10.0.130-1) ...\n",
            "Selecting previously unselected package cuda-nvcc-10-0.\n",
            "Preparing to unpack .../010-cuda-nvcc-10-0_10.0.130-1_amd64.deb ...\n",
            "Unpacking cuda-nvcc-10-0 (10.0.130-1) ...\n",
            "Selecting previously unselected package cuda-cuobjdump-10-0.\n",
            "Preparing to unpack .../011-cuda-cuobjdump-10-0_10.0.130-1_amd64.deb ...\n",
            "Unpacking cuda-cuobjdump-10-0 (10.0.130-1) ...\n",
            "Selecting previously unselected package cuda-nvprune-10-0.\n",
            "Preparing to unpack .../012-cuda-nvprune-10-0_10.0.130-1_amd64.deb ...\n",
            "Unpacking cuda-nvprune-10-0 (10.0.130-1) ...\n",
            "Selecting previously unselected package cuda-compiler-10-0.\n",
            "Preparing to unpack .../013-cuda-compiler-10-0_10.0.130-1_amd64.deb ...\n",
            "Unpacking cuda-compiler-10-0 (10.0.130-1) ...\n",
            "Selecting previously unselected package cuda-nvdisasm-10-0.\n",
            "Preparing to unpack .../014-cuda-nvdisasm-10-0_10.0.130-1_amd64.deb ...\n",
            "Unpacking cuda-nvdisasm-10-0 (10.0.130-1) ...\n",
            "Selecting previously unselected package cuda-gdb-10-0.\n",
            "Preparing to unpack .../015-cuda-gdb-10-0_10.0.130-1_amd64.deb ...\n",
            "Unpacking cuda-gdb-10-0 (10.0.130-1) ...\n",
            "Selecting previously unselected package cuda-nvprof-10-0.\n",
            "Preparing to unpack .../016-cuda-nvprof-10-0_10.0.130-1_amd64.deb ...\n",
            "Unpacking cuda-nvprof-10-0 (10.0.130-1) ...\n",
            "Selecting previously unselected package cuda-memcheck-10-0.\n",
            "Preparing to unpack .../017-cuda-memcheck-10-0_10.0.130-1_amd64.deb ...\n",
            "Unpacking cuda-memcheck-10-0 (10.0.130-1) ...\n",
            "Selecting previously unselected package cuda-cudart-10-0.\n",
            "Preparing to unpack .../018-cuda-cudart-10-0_10.0.130-1_amd64.deb ...\n",
            "Unpacking cuda-cudart-10-0 (10.0.130-1) ...\n",
            "Selecting previously unselected package cuda-driver-dev-10-0.\n",
            "Preparing to unpack .../019-cuda-driver-dev-10-0_10.0.130-1_amd64.deb ...\n",
            "Unpacking cuda-driver-dev-10-0 (10.0.130-1) ...\n",
            "Selecting previously unselected package cuda-cudart-dev-10-0.\n",
            "Preparing to unpack .../020-cuda-cudart-dev-10-0_10.0.130-1_amd64.deb ...\n",
            "Unpacking cuda-cudart-dev-10-0 (10.0.130-1) ...\n",
            "Selecting previously unselected package cuda-cupti-10-0.\n",
            "Preparing to unpack .../021-cuda-cupti-10-0_10.0.130-1_amd64.deb ...\n",
            "Unpacking cuda-cupti-10-0 (10.0.130-1) ...\n",
            "Selecting previously unselected package cuda-gpu-library-advisor-10-0.\n",
            "Preparing to unpack .../022-cuda-gpu-library-advisor-10-0_10.0.130-1_amd64.deb ...\n",
            "Unpacking cuda-gpu-library-advisor-10-0 (10.0.130-1) ...\n",
            "Selecting previously unselected package cuda-nvtx-10-0.\n",
            "Preparing to unpack .../023-cuda-nvtx-10-0_10.0.130-1_amd64.deb ...\n",
            "Unpacking cuda-nvtx-10-0 (10.0.130-1) ...\n",
            "Selecting previously unselected package cuda-command-line-tools-10-0.\n",
            "Preparing to unpack .../024-cuda-command-line-tools-10-0_10.0.130-1_amd64.deb ...\n",
            "Unpacking cuda-command-line-tools-10-0 (10.0.130-1) ...\n",
            "Selecting previously unselected package libxtst6:amd64.\n",
            "Preparing to unpack .../025-libxtst6_2%3a1.2.3-1_amd64.deb ...\n",
            "Unpacking libxtst6:amd64 (2:1.2.3-1) ...\n",
            "Selecting previously unselected package openjdk-11-jre:amd64.\n",
            "Preparing to unpack .../026-openjdk-11-jre_11.0.11+9-0ubuntu2~18.04_amd64.deb ...\n",
            "Unpacking openjdk-11-jre:amd64 (11.0.11+9-0ubuntu2~18.04) ...\n",
            "Selecting previously unselected package default-jre.\n",
            "Preparing to unpack .../027-default-jre_2%3a1.11-68ubuntu1~18.04.1_amd64.deb ...\n",
            "Unpacking default-jre (2:1.11-68ubuntu1~18.04.1) ...\n",
            "Selecting previously unselected package cuda-nsight-10-0.\n",
            "Preparing to unpack .../028-cuda-nsight-10-0_10.0.130-1_amd64.deb ...\n",
            "Unpacking cuda-nsight-10-0 (10.0.130-1) ...\n",
            "Selecting previously unselected package cuda-nvvp-10-0.\n",
            "Preparing to unpack .../029-cuda-nvvp-10-0_10.0.130-1_amd64.deb ...\n",
            "Unpacking cuda-nvvp-10-0 (10.0.130-1) ...\n",
            "Selecting previously unselected package cuda-nvrtc-10-0.\n",
            "Preparing to unpack .../030-cuda-nvrtc-10-0_10.0.130-1_amd64.deb ...\n",
            "Unpacking cuda-nvrtc-10-0 (10.0.130-1) ...\n",
            "Selecting previously unselected package cuda-nvrtc-dev-10-0.\n",
            "Preparing to unpack .../031-cuda-nvrtc-dev-10-0_10.0.130-1_amd64.deb ...\n",
            "Unpacking cuda-nvrtc-dev-10-0 (10.0.130-1) ...\n",
            "Selecting previously unselected package cuda-cusolver-10-0.\n",
            "Preparing to unpack .../032-cuda-cusolver-10-0_10.0.130-1_amd64.deb ...\n",
            "Unpacking cuda-cusolver-10-0 (10.0.130-1) ...\n",
            "Selecting previously unselected package cuda-cusolver-dev-10-0.\n",
            "Preparing to unpack .../033-cuda-cusolver-dev-10-0_10.0.130-1_amd64.deb ...\n",
            "Unpacking cuda-cusolver-dev-10-0 (10.0.130-1) ...\n",
            "Selecting previously unselected package cuda-cublas-10-0.\n",
            "Preparing to unpack .../034-cuda-cublas-10-0_10.0.130-1_amd64.deb ...\n",
            "Unpacking cuda-cublas-10-0 (10.0.130-1) ...\n",
            "Selecting previously unselected package cuda-cublas-dev-10-0.\n",
            "Preparing to unpack .../035-cuda-cublas-dev-10-0_10.0.130-1_amd64.deb ...\n",
            "Unpacking cuda-cublas-dev-10-0 (10.0.130-1) ...\n",
            "Selecting previously unselected package cuda-cufft-10-0.\n",
            "Preparing to unpack .../036-cuda-cufft-10-0_10.0.130-1_amd64.deb ...\n",
            "Unpacking cuda-cufft-10-0 (10.0.130-1) ...\n",
            "Selecting previously unselected package cuda-cufft-dev-10-0.\n",
            "Preparing to unpack .../037-cuda-cufft-dev-10-0_10.0.130-1_amd64.deb ...\n",
            "Unpacking cuda-cufft-dev-10-0 (10.0.130-1) ...\n",
            "Selecting previously unselected package cuda-curand-10-0.\n",
            "Preparing to unpack .../038-cuda-curand-10-0_10.0.130-1_amd64.deb ...\n",
            "Unpacking cuda-curand-10-0 (10.0.130-1) ...\n",
            "Selecting previously unselected package cuda-curand-dev-10-0.\n",
            "Preparing to unpack .../039-cuda-curand-dev-10-0_10.0.130-1_amd64.deb ...\n",
            "Unpacking cuda-curand-dev-10-0 (10.0.130-1) ...\n",
            "Selecting previously unselected package cuda-cusparse-10-0.\n",
            "Preparing to unpack .../040-cuda-cusparse-10-0_10.0.130-1_amd64.deb ...\n",
            "Unpacking cuda-cusparse-10-0 (10.0.130-1) ...\n",
            "Selecting previously unselected package cuda-cusparse-dev-10-0.\n",
            "Preparing to unpack .../041-cuda-cusparse-dev-10-0_10.0.130-1_amd64.deb ...\n",
            "Unpacking cuda-cusparse-dev-10-0 (10.0.130-1) ...\n",
            "Selecting previously unselected package cuda-npp-10-0.\n",
            "Preparing to unpack .../042-cuda-npp-10-0_10.0.130-1_amd64.deb ...\n",
            "Unpacking cuda-npp-10-0 (10.0.130-1) ...\n",
            "Selecting previously unselected package cuda-npp-dev-10-0.\n",
            "Preparing to unpack .../043-cuda-npp-dev-10-0_10.0.130-1_amd64.deb ...\n",
            "Unpacking cuda-npp-dev-10-0 (10.0.130-1) ...\n",
            "Selecting previously unselected package cuda-nvml-dev-10-0.\n",
            "Preparing to unpack .../044-cuda-nvml-dev-10-0_10.0.130-1_amd64.deb ...\n",
            "Unpacking cuda-nvml-dev-10-0 (10.0.130-1) ...\n",
            "Selecting previously unselected package cuda-nvgraph-10-0.\n",
            "Preparing to unpack .../045-cuda-nvgraph-10-0_10.0.130-1_amd64.deb ...\n",
            "Unpacking cuda-nvgraph-10-0 (10.0.130-1) ...\n",
            "Selecting previously unselected package cuda-nvgraph-dev-10-0.\n",
            "Preparing to unpack .../046-cuda-nvgraph-dev-10-0_10.0.130-1_amd64.deb ...\n",
            "Unpacking cuda-nvgraph-dev-10-0 (10.0.130-1) ...\n",
            "Selecting previously unselected package cuda-nvjpeg-10-0.\n",
            "Preparing to unpack .../047-cuda-nvjpeg-10-0_10.0.130.1-1_amd64.deb ...\n",
            "Unpacking cuda-nvjpeg-10-0 (10.0.130.1-1) ...\n",
            "Selecting previously unselected package cuda-nvjpeg-dev-10-0.\n",
            "Preparing to unpack .../048-cuda-nvjpeg-dev-10-0_10.0.130.1-1_amd64.deb ...\n",
            "Unpacking cuda-nvjpeg-dev-10-0 (10.0.130.1-1) ...\n",
            "Selecting previously unselected package cuda-nsight-compute-10-0.\n",
            "Preparing to unpack .../049-cuda-nsight-compute-10-0_10.0.130-1_amd64.deb ...\n",
            "Unpacking cuda-nsight-compute-10-0 (10.0.130-1) ...\n",
            "Selecting previously unselected package cuda-visual-tools-10-0.\n",
            "Preparing to unpack .../050-cuda-visual-tools-10-0_10.0.130-1_amd64.deb ...\n",
            "Unpacking cuda-visual-tools-10-0 (10.0.130-1) ...\n",
            "Selecting previously unselected package cuda-tools-10-0.\n",
            "Preparing to unpack .../051-cuda-tools-10-0_10.0.130-1_amd64.deb ...\n",
            "Unpacking cuda-tools-10-0 (10.0.130-1) ...\n",
            "Selecting previously unselected package freeglut3:amd64.\n",
            "Preparing to unpack .../052-freeglut3_2.8.1-3_amd64.deb ...\n",
            "Unpacking freeglut3:amd64 (2.8.1-3) ...\n",
            "Selecting previously unselected package freeglut3-dev:amd64.\n",
            "Preparing to unpack .../053-freeglut3-dev_2.8.1-3_amd64.deb ...\n",
            "Unpacking freeglut3-dev:amd64 (2.8.1-3) ...\n",
            "Selecting previously unselected package libxmu-headers.\n",
            "Preparing to unpack .../054-libxmu-headers_2%3a1.1.2-2_all.deb ...\n",
            "Unpacking libxmu-headers (2:1.1.2-2) ...\n",
            "Selecting previously unselected package libxmu-dev:amd64.\n",
            "Preparing to unpack .../055-libxmu-dev_2%3a1.1.2-2_amd64.deb ...\n",
            "Unpacking libxmu-dev:amd64 (2:1.1.2-2) ...\n",
            "Selecting previously unselected package libxi-dev:amd64.\n",
            "Preparing to unpack .../056-libxi-dev_2%3a1.7.9-1_amd64.deb ...\n",
            "Unpacking libxi-dev:amd64 (2:1.7.9-1) ...\n",
            "Selecting previously unselected package cuda-samples-10-0.\n",
            "Preparing to unpack .../057-cuda-samples-10-0_10.0.130-1_amd64.deb ...\n",
            "Unpacking cuda-samples-10-0 (10.0.130-1) ...\n",
            "Selecting previously unselected package cuda-documentation-10-0.\n",
            "Preparing to unpack .../058-cuda-documentation-10-0_10.0.130-1_amd64.deb ...\n",
            "Unpacking cuda-documentation-10-0 (10.0.130-1) ...\n",
            "Selecting previously unselected package cuda-libraries-dev-10-0.\n",
            "Preparing to unpack .../059-cuda-libraries-dev-10-0_10.0.130-1_amd64.deb ...\n",
            "Unpacking cuda-libraries-dev-10-0 (10.0.130-1) ...\n",
            "Selecting previously unselected package cuda-toolkit-10-0.\n",
            "Preparing to unpack .../060-cuda-toolkit-10-0_10.0.130-1_amd64.deb ...\n",
            "Unpacking cuda-toolkit-10-0 (10.0.130-1) ...\n",
            "Selecting previously unselected package libnvidia-common-465.\n",
            "Preparing to unpack .../061-libnvidia-common-465_465.27-0ubuntu0.18.04.2_all.deb ...\n",
            "Unpacking libnvidia-common-465 (465.27-0ubuntu0.18.04.2) ...\n",
            "Selecting previously unselected package libnvidia-compute-465:amd64.\n",
            "Preparing to unpack .../062-libnvidia-compute-465_465.27-0ubuntu0.18.04.2_amd64.deb ...\n",
            "Unpacking libnvidia-compute-465:amd64 (465.27-0ubuntu0.18.04.2) ...\n",
            "Selecting previously unselected package libnvidia-decode-465:amd64.\n",
            "Preparing to unpack .../063-libnvidia-decode-465_465.27-0ubuntu0.18.04.2_amd64.deb ...\n",
            "Unpacking libnvidia-decode-465:amd64 (465.27-0ubuntu0.18.04.2) ...\n",
            "Selecting previously unselected package libnvidia-encode-465:amd64.\n",
            "Preparing to unpack .../064-libnvidia-encode-465_465.27-0ubuntu0.18.04.2_amd64.deb ...\n",
            "Unpacking libnvidia-encode-465:amd64 (465.27-0ubuntu0.18.04.2) ...\n",
            "Selecting previously unselected package libnvidia-fbc1-465:amd64.\n",
            "Preparing to unpack .../065-libnvidia-fbc1-465_465.27-0ubuntu0.18.04.2_amd64.deb ...\n",
            "Unpacking libnvidia-fbc1-465:amd64 (465.27-0ubuntu0.18.04.2) ...\n",
            "Selecting previously unselected package libnvidia-gl-465:amd64.\n",
            "Preparing to unpack .../066-libnvidia-gl-465_465.27-0ubuntu0.18.04.2_amd64.deb ...\n",
            "Unpacking libnvidia-gl-465:amd64 (465.27-0ubuntu0.18.04.2) ...\n",
            "Selecting previously unselected package libnvidia-ifr1-465:amd64.\n",
            "Preparing to unpack .../067-libnvidia-ifr1-465_465.27-0ubuntu0.18.04.2_amd64.deb ...\n",
            "Unpacking libnvidia-ifr1-465:amd64 (465.27-0ubuntu0.18.04.2) ...\n",
            "Selecting previously unselected package nvidia-compute-utils-465.\n",
            "Preparing to unpack .../068-nvidia-compute-utils-465_465.27-0ubuntu0.18.04.2_amd64.deb ...\n",
            "Unpacking nvidia-compute-utils-465 (465.27-0ubuntu0.18.04.2) ...\n",
            "Selecting previously unselected package dkms.\n",
            "Preparing to unpack .../069-dkms_2.3-3ubuntu9.7_all.deb ...\n",
            "Unpacking dkms (2.3-3ubuntu9.7) ...\n",
            "Selecting previously unselected package nvidia-kernel-source-465.\n",
            "Preparing to unpack .../070-nvidia-kernel-source-465_465.27-0ubuntu0.18.04.2_amd64.deb ...\n",
            "Unpacking nvidia-kernel-source-465 (465.27-0ubuntu0.18.04.2) ...\n",
            "Selecting previously unselected package nvidia-kernel-common-465.\n",
            "Preparing to unpack .../071-nvidia-kernel-common-465_465.27-0ubuntu0.18.04.2_amd64.deb ...\n",
            "Unpacking nvidia-kernel-common-465 (465.27-0ubuntu0.18.04.2) ...\n",
            "Selecting previously unselected package nvidia-dkms-465.\n",
            "Preparing to unpack .../072-nvidia-dkms-465_465.27-0ubuntu0.18.04.2_amd64.deb ...\n",
            "Unpacking nvidia-dkms-465 (465.27-0ubuntu0.18.04.2) ...\n",
            "Selecting previously unselected package libnvidia-extra-465:amd64.\n",
            "Preparing to unpack .../073-libnvidia-extra-465_465.27-0ubuntu0.18.04.2_amd64.deb ...\n",
            "Unpacking libnvidia-extra-465:amd64 (465.27-0ubuntu0.18.04.2) ...\n",
            "Selecting previously unselected package nvidia-utils-465.\n",
            "Preparing to unpack .../074-nvidia-utils-465_465.27-0ubuntu0.18.04.2_amd64.deb ...\n",
            "Unpacking nvidia-utils-465 (465.27-0ubuntu0.18.04.2) ...\n",
            "Selecting previously unselected package libnvidia-cfg1-465:amd64.\n",
            "Preparing to unpack .../075-libnvidia-cfg1-465_465.27-0ubuntu0.18.04.2_amd64.deb ...\n",
            "Unpacking libnvidia-cfg1-465:amd64 (465.27-0ubuntu0.18.04.2) ...\n",
            "Selecting previously unselected package libxkbfile1:amd64.\n",
            "Preparing to unpack .../076-libxkbfile1_1%3a1.0.9-2_amd64.deb ...\n",
            "Unpacking libxkbfile1:amd64 (1:1.0.9-2) ...\n",
            "Selecting previously unselected package x11-xkb-utils.\n",
            "Preparing to unpack .../077-x11-xkb-utils_7.7+3ubuntu0.18.04.1_amd64.deb ...\n",
            "Unpacking x11-xkb-utils (7.7+3ubuntu0.18.04.1) ...\n",
            "Selecting previously unselected package xserver-common.\n",
            "Preparing to unpack .../078-xserver-common_2%3a1.19.6-1ubuntu4.9_all.deb ...\n",
            "Unpacking xserver-common (2:1.19.6-1ubuntu4.9) ...\n",
            "Selecting previously unselected package libfontenc1:amd64.\n",
            "Preparing to unpack .../079-libfontenc1_1%3a1.1.3-1_amd64.deb ...\n",
            "Unpacking libfontenc1:amd64 (1:1.1.3-1) ...\n",
            "Selecting previously unselected package libxfont2:amd64.\n",
            "Preparing to unpack .../080-libxfont2_1%3a2.0.3-1_amd64.deb ...\n",
            "Unpacking libxfont2:amd64 (1:2.0.3-1) ...\n",
            "Selecting previously unselected package xserver-xorg-core-hwe-18.04.\n",
            "Preparing to unpack .../081-xserver-xorg-core-hwe-18.04_2%3a1.20.8-2ubuntu2.2~18.04.5_amd64.deb ...\n",
            "Unpacking xserver-xorg-core-hwe-18.04 (2:1.20.8-2ubuntu2.2~18.04.5) ...\n",
            "Selecting previously unselected package xserver-xorg-video-nvidia-465.\n",
            "Preparing to unpack .../082-xserver-xorg-video-nvidia-465_465.27-0ubuntu0.18.04.2_amd64.deb ...\n",
            "Unpacking xserver-xorg-video-nvidia-465 (465.27-0ubuntu0.18.04.2) ...\n",
            "Selecting previously unselected package nvidia-driver-465.\n",
            "Preparing to unpack .../083-nvidia-driver-465_465.27-0ubuntu0.18.04.2_amd64.deb ...\n",
            "Unpacking nvidia-driver-465 (465.27-0ubuntu0.18.04.2) ...\n",
            "Selecting previously unselected package nvidia-modprobe.\n",
            "Preparing to unpack .../084-nvidia-modprobe_465.19.01-0ubuntu1_amd64.deb ...\n",
            "Unpacking nvidia-modprobe (465.19.01-0ubuntu1) ...\n",
            "Selecting previously unselected package python3-xkit.\n",
            "Preparing to unpack .../085-python3-xkit_0.5.0ubuntu2_all.deb ...\n",
            "Unpacking python3-xkit (0.5.0ubuntu2) ...\n",
            "Selecting previously unselected package libpolkit-agent-1-0:amd64.\n",
            "Preparing to unpack .../086-libpolkit-agent-1-0_0.105-20ubuntu0.18.04.5_amd64.deb ...\n",
            "Unpacking libpolkit-agent-1-0:amd64 (0.105-20ubuntu0.18.04.5) ...\n",
            "Selecting previously unselected package libpolkit-backend-1-0:amd64.\n",
            "Preparing to unpack .../087-libpolkit-backend-1-0_0.105-20ubuntu0.18.04.5_amd64.deb ...\n",
            "Unpacking libpolkit-backend-1-0:amd64 (0.105-20ubuntu0.18.04.5) ...\n",
            "Selecting previously unselected package policykit-1.\n",
            "Preparing to unpack .../088-policykit-1_0.105-20ubuntu0.18.04.5_amd64.deb ...\n",
            "Unpacking policykit-1 (0.105-20ubuntu0.18.04.5) ...\n",
            "Selecting previously unselected package policykit-1-gnome.\n",
            "Preparing to unpack .../089-policykit-1-gnome_0.105-6ubuntu2_amd64.deb ...\n",
            "Unpacking policykit-1-gnome (0.105-6ubuntu2) ...\n",
            "Selecting previously unselected package screen-resolution-extra.\n",
            "Preparing to unpack .../090-screen-resolution-extra_0.17.3_all.deb ...\n",
            "Unpacking screen-resolution-extra (0.17.3) ...\n",
            "Selecting previously unselected package libjansson4:amd64.\n",
            "Preparing to unpack .../091-libjansson4_2.11-1_amd64.deb ...\n",
            "Unpacking libjansson4:amd64 (2.11-1) ...\n",
            "Selecting previously unselected package libxnvctrl0:amd64.\n",
            "Preparing to unpack .../092-libxnvctrl0_465.19.01-0ubuntu1_amd64.deb ...\n",
            "Unpacking libxnvctrl0:amd64 (465.19.01-0ubuntu1) ...\n",
            "Selecting previously unselected package nvidia-settings.\n",
            "Preparing to unpack .../093-nvidia-settings_465.19.01-0ubuntu1_amd64.deb ...\n",
            "Unpacking nvidia-settings (465.19.01-0ubuntu1) ...\n",
            "Selecting previously unselected package cuda-drivers-465.\n",
            "Preparing to unpack .../094-cuda-drivers-465_465.19.01-1_amd64.deb ...\n",
            "Unpacking cuda-drivers-465 (465.19.01-1) ...\n",
            "Selecting previously unselected package cuda-drivers.\n",
            "Preparing to unpack .../095-cuda-drivers_465.19.01-1_amd64.deb ...\n",
            "Unpacking cuda-drivers (465.19.01-1) ...\n",
            "Selecting previously unselected package cuda-libraries-10-0.\n",
            "Preparing to unpack .../096-cuda-libraries-10-0_10.0.130-1_amd64.deb ...\n",
            "Unpacking cuda-libraries-10-0 (10.0.130-1) ...\n",
            "Selecting previously unselected package cuda-runtime-10-0.\n",
            "Preparing to unpack .../097-cuda-runtime-10-0_10.0.130-1_amd64.deb ...\n",
            "Unpacking cuda-runtime-10-0 (10.0.130-1) ...\n",
            "Selecting previously unselected package cuda-demo-suite-10-0.\n",
            "Preparing to unpack .../098-cuda-demo-suite-10-0_10.0.130-1_amd64.deb ...\n",
            "Unpacking cuda-demo-suite-10-0 (10.0.130-1) ...\n",
            "Selecting previously unselected package cuda-10-0.\n",
            "Preparing to unpack .../099-cuda-10-0_10.0.130-1_amd64.deb ...\n",
            "Unpacking cuda-10-0 (10.0.130-1) ...\n",
            "Selecting previously unselected package libfakeroot:amd64.\n",
            "Preparing to unpack .../100-libfakeroot_1.22-2ubuntu1_amd64.deb ...\n",
            "Unpacking libfakeroot:amd64 (1.22-2ubuntu1) ...\n",
            "Selecting previously unselected package fakeroot.\n",
            "Preparing to unpack .../101-fakeroot_1.22-2ubuntu1_amd64.deb ...\n",
            "Unpacking fakeroot (1.22-2ubuntu1) ...\n",
            "Selecting previously unselected package fonts-dejavu-core.\n",
            "Preparing to unpack .../102-fonts-dejavu-core_2.37-1_all.deb ...\n",
            "Unpacking fonts-dejavu-core (2.37-1) ...\n",
            "Selecting previously unselected package fonts-dejavu-extra.\n",
            "Preparing to unpack .../103-fonts-dejavu-extra_2.37-1_all.deb ...\n",
            "Unpacking fonts-dejavu-extra (2.37-1) ...\n",
            "Selecting previously unselected package x11-utils.\n",
            "Preparing to unpack .../104-x11-utils_7.7+3build1_amd64.deb ...\n",
            "Unpacking x11-utils (7.7+3build1) ...\n",
            "Selecting previously unselected package libatk-wrapper-java.\n",
            "Preparing to unpack .../105-libatk-wrapper-java_0.33.3-20ubuntu0.1_all.deb ...\n",
            "Unpacking libatk-wrapper-java (0.33.3-20ubuntu0.1) ...\n",
            "Selecting previously unselected package libatk-wrapper-java-jni:amd64.\n",
            "Preparing to unpack .../106-libatk-wrapper-java-jni_0.33.3-20ubuntu0.1_amd64.deb ...\n",
            "Unpacking libatk-wrapper-java-jni:amd64 (0.33.3-20ubuntu0.1) ...\n",
            "Selecting previously unselected package nvidia-prime.\n",
            "Preparing to unpack .../107-nvidia-prime_0.8.16~0.18.04.1_all.deb ...\n",
            "Unpacking nvidia-prime (0.8.16~0.18.04.1) ...\n",
            "Selecting previously unselected package xfonts-encodings.\n",
            "Preparing to unpack .../108-xfonts-encodings_1%3a1.0.4-2_all.deb ...\n",
            "Unpacking xfonts-encodings (1:1.0.4-2) ...\n",
            "Selecting previously unselected package xfonts-utils.\n",
            "Preparing to unpack .../109-xfonts-utils_1%3a7.7+6_amd64.deb ...\n",
            "Unpacking xfonts-utils (1:7.7+6) ...\n",
            "Selecting previously unselected package xfonts-base.\n",
            "Preparing to unpack .../110-xfonts-base_1%3a1.0.4+nmu1_all.deb ...\n",
            "Unpacking xfonts-base (1:1.0.4+nmu1) ...\n",
            "Setting up libxkbfile1:amd64 (1:1.0.9-2) ...\n",
            "Setting up libnss-systemd:amd64 (237-3ubuntu10.48) ...\n",
            "First installation detected...\n",
            "Checking NSS setup...\n",
            "Setting up freeglut3:amd64 (2.8.1-3) ...\n",
            "Setting up keyboard-configuration (1.178ubuntu2.9) ...\n",
            "Your console font configuration will be updated the next time your system\n",
            "boots. If you want to update it now, run 'setupcon' from a virtual console.\n",
            "Setting up nvidia-prime (0.8.16~0.18.04.1) ...\n",
            "Setting up x11-xkb-utils (7.7+3ubuntu0.18.04.1) ...\n",
            "Setting up fonts-dejavu-core (2.37-1) ...\n",
            "Setting up nvidia-kernel-common-465 (465.27-0ubuntu0.18.04.2) ...\n",
            "Created symlink /etc/systemd/system/systemd-hibernate.service.requires/nvidia-hibernate.service → /lib/systemd/system/nvidia-hibernate.service.\n",
            "Created symlink /etc/systemd/system/systemd-suspend.service.requires/nvidia-resume.service → /lib/systemd/system/nvidia-resume.service.\n",
            "Created symlink /etc/systemd/system/systemd-hibernate.service.requires/nvidia-resume.service → /lib/systemd/system/nvidia-resume.service.\n",
            "Created symlink /etc/systemd/system/systemd-suspend.service.requires/nvidia-suspend.service → /lib/systemd/system/nvidia-suspend.service.\n",
            "Setting up libnvidia-cfg1-465:amd64 (465.27-0ubuntu0.18.04.2) ...\n",
            "Setting up systemd-sysv (237-3ubuntu10.48) ...\n",
            "Setting up libxmu-headers (2:1.1.2-2) ...\n",
            "Setting up libjansson4:amd64 (2.11-1) ...\n",
            "Setting up xfonts-encodings (1:1.0.4-2) ...\n",
            "Setting up libxtst6:amd64 (2:1.2.3-1) ...\n",
            "Setting up nvidia-kernel-source-465 (465.27-0ubuntu0.18.04.2) ...\n",
            "Setting up dkms (2.3-3ubuntu9.7) ...\n",
            "Setting up libxxf86dga1:amd64 (2:1.1.4-1) ...\n",
            "Setting up udev (237-3ubuntu10.48) ...\n",
            "invoke-rc.d: could not determine current runlevel\n",
            "invoke-rc.d: policy-rc.d denied execution of restart.\n",
            "Setting up libfakeroot:amd64 (1.22-2ubuntu1) ...\n",
            "Setting up nvidia-modprobe (465.19.01-0ubuntu1) ...\n",
            "Setting up libnvidia-compute-465:amd64 (465.27-0ubuntu0.18.04.2) ...\n",
            "Setting up cuda-license-10-0 (10.0.130-1) ...\n",
            "*** LICENSE AGREEMENT ***\n",
            "By using this software you agree to fully comply with the terms and \n",
            "conditions of the EULA (End User License Agreement). The EULA is located\n",
            "at /usr/local/cuda-10.0/doc/EULA.txt. The EULA can also be found at\n",
            "http://docs.nvidia.com/cuda/eula/index.html. If you do not agree to the\n",
            "terms and conditions of the EULA, do not use the software.\n",
            "\n",
            "Setting up libfontenc1:amd64 (1:1.1.3-1) ...\n",
            "Setting up dmsetup (2:1.02.145-4.1ubuntu3.18.04.3) ...\n",
            "Setting up cuda-nvdisasm-10-0 (10.0.130-1) ...\n",
            "Setting up cuda-nvml-dev-10-0 (10.0.130-1) ...\n",
            "Setting up libxi-dev:amd64 (2:1.7.9-1) ...\n",
            "Setting up libnvidia-common-465 (465.27-0ubuntu0.18.04.2) ...\n",
            "Setting up fonts-dejavu-extra (2.37-1) ...\n",
            "Setting up cuda-nvprof-10-0 (10.0.130-1) ...\n",
            "Setting up cuda-nvrtc-10-0 (10.0.130-1) ...\n",
            "Setting up libnvidia-fbc1-465:amd64 (465.27-0ubuntu0.18.04.2) ...\n",
            "Setting up cuda-nvtx-10-0 (10.0.130-1) ...\n",
            "Setting up freeglut3-dev:amd64 (2.8.1-3) ...\n",
            "Setting up libxnvctrl0:amd64 (465.19.01-0ubuntu1) ...\n",
            "Setting up networkd-dispatcher (1.7-0ubuntu3.3) ...\n",
            "Created symlink /etc/systemd/system/multi-user.target.wants/networkd-dispatcher.service → /lib/systemd/system/networkd-dispatcher.service.\n",
            "Setting up libpolkit-gobject-1-0:amd64 (0.105-20ubuntu0.18.04.5) ...\n",
            "Setting up python3-xkit (0.5.0ubuntu2) ...\n",
            "Setting up libnvidia-extra-465:amd64 (465.27-0ubuntu0.18.04.2) ...\n",
            "Setting up openjdk-11-jre:amd64 (11.0.11+9-0ubuntu2~18.04) ...\n",
            "Setting up cuda-nvgraph-10-0 (10.0.130-1) ...\n",
            "Setting up cuda-nvprune-10-0 (10.0.130-1) ...\n",
            "Setting up xserver-common (2:1.19.6-1ubuntu4.9) ...\n",
            "Setting up libpam-systemd:amd64 (237-3ubuntu10.48) ...\n",
            "Setting up cuda-cusparse-10-0 (10.0.130-1) ...\n",
            "Setting up cuda-cuobjdump-10-0 (10.0.130-1) ...\n",
            "Setting up cuda-nvjpeg-10-0 (10.0.130.1-1) ...\n",
            "Setting up cuda-gdb-10-0 (10.0.130-1) ...\n",
            "Setting up libxmu-dev:amd64 (2:1.1.2-2) ...\n",
            "Setting up nvidia-utils-465 (465.27-0ubuntu0.18.04.2) ...\n",
            "Setting up nvidia-dkms-465 (465.27-0ubuntu0.18.04.2) ...\n",
            "Loading new nvidia-465.27 DKMS files...\n",
            "It is likely that 5.4.104+ belongs to a chroot's host\n",
            "Building for 4.15.0-144-generic\n",
            "Building for architecture x86_64\n",
            "Building initial module for 4.15.0-144-generic\n",
            "Done.\n",
            "\n",
            "nvidia:\n",
            "Running module version sanity check.\n",
            " - Original module\n",
            "   - No original module exists within this kernel\n",
            " - Installation\n",
            "   - Installing to /lib/modules/4.15.0-144-generic/updates/dkms/\n",
            "\n",
            "nvidia-modeset.ko:\n",
            "Running module version sanity check.\n",
            " - Original module\n",
            "   - No original module exists within this kernel\n",
            " - Installation\n",
            "   - Installing to /lib/modules/4.15.0-144-generic/updates/dkms/\n",
            "\n",
            "nvidia-drm.ko:\n",
            "Running module version sanity check.\n",
            " - Original module\n",
            "   - No original module exists within this kernel\n",
            " - Installation\n",
            "   - Installing to /lib/modules/4.15.0-144-generic/updates/dkms/\n",
            "\n",
            "nvidia-uvm.ko:\n",
            "Running module version sanity check.\n",
            " - Original module\n",
            "   - No original module exists within this kernel\n",
            " - Installation\n",
            "   - Installing to /lib/modules/4.15.0-144-generic/updates/dkms/\n",
            "\n",
            "nvidia-peermem.ko:\n",
            "Running module version sanity check.\n",
            " - Original module\n",
            "   - No original module exists within this kernel\n",
            " - Installation\n",
            "   - Installing to /lib/modules/4.15.0-144-generic/updates/dkms/\n",
            "\n",
            "depmod...\n",
            "\n",
            "DKMS: install completed.\n",
            "Setting up cuda-nvjpeg-dev-10-0 (10.0.130.1-1) ...\n",
            "Setting up cuda-cufft-10-0 (10.0.130-1) ...\n",
            "Setting up libpolkit-agent-1-0:amd64 (0.105-20ubuntu0.18.04.5) ...\n",
            "Setting up default-jre (2:1.11-68ubuntu1~18.04.1) ...\n",
            "Setting up cuda-nsight-compute-10-0 (10.0.130-1) ...\n",
            "Setting up cuda-cudart-10-0 (10.0.130-1) ...\n",
            "Setting up cuda-npp-10-0 (10.0.130-1) ...\n",
            "Setting up cuda-cufft-dev-10-0 (10.0.130-1) ...\n",
            "Setting up x11-utils (7.7+3build1) ...\n",
            "Setting up libxfont2:amd64 (1:2.0.3-1) ...\n",
            "Setting up xfonts-utils (1:7.7+6) ...\n",
            "Setting up fakeroot (1.22-2ubuntu1) ...\n",
            "update-alternatives: using /usr/bin/fakeroot-sysv to provide /usr/bin/fakeroot (fakeroot) in auto mode\n",
            "Setting up cuda-cusolver-10-0 (10.0.130-1) ...\n",
            "Setting up cuda-misc-headers-10-0 (10.0.130-1) ...\n",
            "Setting up cuda-nvvp-10-0 (10.0.130-1) ...\n",
            "Setting up cuda-curand-10-0 (10.0.130-1) ...\n",
            "Setting up libnvidia-decode-465:amd64 (465.27-0ubuntu0.18.04.2) ...\n",
            "Setting up nvidia-compute-utils-465 (465.27-0ubuntu0.18.04.2) ...\n",
            "Warning: The home dir /nonexistent you specified can't be accessed: No such file or directory\n",
            "Adding system user `nvidia-persistenced' (UID 104) ...\n",
            "Adding new group `nvidia-persistenced' (GID 108) ...\n",
            "Adding new user `nvidia-persistenced' (UID 104) with group `nvidia-persistenced' ...\n",
            "Not creating home directory `/nonexistent'.\n",
            "Setting up libnvidia-gl-465:amd64 (465.27-0ubuntu0.18.04.2) ...\n",
            "Setting up cuda-driver-dev-10-0 (10.0.130-1) ...\n",
            "Setting up cuda-gpu-library-advisor-10-0 (10.0.130-1) ...\n",
            "Setting up libnvidia-encode-465:amd64 (465.27-0ubuntu0.18.04.2) ...\n",
            "Setting up cuda-cublas-10-0 (10.0.130-1) ...\n",
            "Setting up libpolkit-backend-1-0:amd64 (0.105-20ubuntu0.18.04.5) ...\n",
            "Setting up cuda-nvgraph-dev-10-0 (10.0.130-1) ...\n",
            "Setting up cuda-cudart-dev-10-0 (10.0.130-1) ...\n",
            "Setting up cuda-memcheck-10-0 (10.0.130-1) ...\n",
            "Setting up cuda-nvrtc-dev-10-0 (10.0.130-1) ...\n",
            "Setting up cuda-npp-dev-10-0 (10.0.130-1) ...\n",
            "Setting up cuda-nsight-10-0 (10.0.130-1) ...\n",
            "Setting up cuda-nvcc-10-0 (10.0.130-1) ...\n",
            "Setting up libatk-wrapper-java (0.33.3-20ubuntu0.1) ...\n",
            "Setting up cuda-curand-dev-10-0 (10.0.130-1) ...\n",
            "Setting up xserver-xorg-core-hwe-18.04 (2:1.20.8-2ubuntu2.2~18.04.5) ...\n",
            "Setting up xfonts-base (1:1.0.4+nmu1) ...\n",
            "Setting up cuda-cusparse-dev-10-0 (10.0.130-1) ...\n",
            "Setting up cuda-cusolver-dev-10-0 (10.0.130-1) ...\n",
            "Setting up cuda-cublas-dev-10-0 (10.0.130-1) ...\n",
            "Setting up cuda-libraries-dev-10-0 (10.0.130-1) ...\n",
            "Setting up libnvidia-ifr1-465:amd64 (465.27-0ubuntu0.18.04.2) ...\n",
            "Setting up cuda-samples-10-0 (10.0.130-1) ...\n",
            "Setting up policykit-1 (0.105-20ubuntu0.18.04.5) ...\n",
            "Setting up cuda-cupti-10-0 (10.0.130-1) ...\n",
            "Setting up cuda-command-line-tools-10-0 (10.0.130-1) ...\n",
            "Setting up cuda-visual-tools-10-0 (10.0.130-1) ...\n",
            "Setting up cuda-libraries-10-0 (10.0.130-1) ...\n",
            "Setting up libatk-wrapper-java-jni:amd64 (0.33.3-20ubuntu0.1) ...\n",
            "Setting up policykit-1-gnome (0.105-6ubuntu2) ...\n",
            "Setting up screen-resolution-extra (0.17.3) ...\n",
            "Setting up cuda-documentation-10-0 (10.0.130-1) ...\n",
            "Setting up cuda-compiler-10-0 (10.0.130-1) ...\n",
            "Setting up xserver-xorg-video-nvidia-465 (465.27-0ubuntu0.18.04.2) ...\n",
            "Setting up nvidia-driver-465 (465.27-0ubuntu0.18.04.2) ...\n",
            "Setting up cuda-tools-10-0 (10.0.130-1) ...\n",
            "Setting up nvidia-settings (465.19.01-0ubuntu1) ...\n",
            "Setting up cuda-toolkit-10-0 (10.0.130-1) ...\n",
            "Setting up cuda-drivers-465 (465.19.01-1) ...\n",
            "Setting up cuda-drivers (465.19.01-1) ...\n",
            "Setting up cuda-runtime-10-0 (10.0.130-1) ...\n",
            "Setting up cuda-demo-suite-10-0 (10.0.130-1) ...\n",
            "Setting up cuda-10-0 (10.0.130-1) ...\n",
            "Processing triggers for fontconfig (2.12.6-0ubuntu2) ...\n",
            "Processing triggers for mime-support (3.60ubuntu1) ...\n",
            "Processing triggers for libc-bin (2.27-3ubuntu1.2) ...\n",
            "/sbin/ldconfig.real: /usr/local/lib/python3.7/dist-packages/ideep4py/lib/libmkldnn.so.0 is not a symbolic link\n",
            "\n",
            "Processing triggers for systemd (237-3ubuntu10.48) ...\n",
            "Processing triggers for man-db (2.8.3-2ubuntu0.1) ...\n",
            "Processing triggers for dbus (1.12.2-1ubuntu1.2) ...\n",
            "Processing triggers for hicolor-icon-theme (0.17-2) ...\n"
          ],
          "name": "stdout"
        }
      ]
    },
    {
      "cell_type": "code",
      "metadata": {
        "id": "PYhvedK5An20",
        "colab": {
          "base_uri": "https://localhost:8080/"
        },
        "outputId": "687e3939-42a4-4bc0-c8ba-6ba0a36beb45"
      },
      "source": [
        "# check whether GPU is provided\n",
        "!nvcc --version"
      ],
      "execution_count": null,
      "outputs": [
        {
          "output_type": "stream",
          "text": [
            "nvcc: NVIDIA (R) Cuda compiler driver\n",
            "Copyright (c) 2005-2018 NVIDIA Corporation\n",
            "Built on Sat_Aug_25_21:08:01_CDT_2018\n",
            "Cuda compilation tools, release 10.0, V10.0.130\n"
          ],
          "name": "stdout"
        }
      ]
    },
    {
      "cell_type": "markdown",
      "metadata": {
        "id": "rWTW96PtM_YL"
      },
      "source": [
        "### Download Darknet"
      ]
    },
    {
      "cell_type": "code",
      "metadata": {
        "id": "chLx6CYonvRq",
        "colab": {
          "base_uri": "https://localhost:8080/"
        },
        "outputId": "82348766-a0e2-4eee-f4c4-14dbcd3479ed"
      },
      "source": [
        "import os\n",
        "assert os.getcwd()=='/content', 'Directory should be \"/content\" instead of \"{}\"'.format(os.getcwd())\n",
        "\n",
        "# remove the existing folder if have\n",
        "#!rm -r darknet_for_colab\n",
        "\n",
        "# download and compile darknet_for_colab\n",
        "!git clone https://github.com/quangnhat185/darknet_for_colab.git\n",
        "%cd darknet_for_colab\n",
        "!make\n",
        "!chmod +x ./darknet.py"
      ],
      "execution_count": null,
      "outputs": [
        {
          "output_type": "stream",
          "text": [
            "Cloning into 'darknet_for_colab'...\n",
            "remote: Enumerating objects: 1083, done.\u001b[K\n",
            "remote: Total 1083 (delta 0), reused 0 (delta 0), pack-reused 1083\u001b[K\n",
            "Receiving objects: 100% (1083/1083), 5.16 MiB | 22.60 MiB/s, done.\n",
            "Resolving deltas: 100% (233/233), done.\n",
            "/content/darknet_for_colab\n",
            "mkdir -p ./obj/\n",
            "mkdir -p backup\n",
            "chmod +x *.sh\n",
            "g++ -std=c++11 -std=c++11 -Iinclude/ -I3rdparty/stb/include -DOPENCV `pkg-config --cflags opencv4 2> /dev/null || pkg-config --cflags opencv` -DGPU -I/usr/local/cuda/include/ -DCUDNN -Wall -Wfatal-errors -Wno-unused-result -Wno-unknown-pragmas -fPIC -Ofast -DOPENCV -DGPU -DCUDNN -I/usr/local/cudnn/include -fPIC -c ./src/image_opencv.cpp -o obj/image_opencv.o\n",
            "\u001b[01m\u001b[K./src/image_opencv.cpp:\u001b[m\u001b[K In function ‘\u001b[01m\u001b[Kvoid draw_detections_cv_v3(void**, detection*, int, float, char**, image**, int, int)\u001b[m\u001b[K’:\n",
            "\u001b[01m\u001b[K./src/image_opencv.cpp:926:23:\u001b[m\u001b[K \u001b[01;35m\u001b[Kwarning: \u001b[m\u001b[Kvariable ‘\u001b[01m\u001b[Krgb\u001b[m\u001b[K’ set but not used [\u001b[01;35m\u001b[K-Wunused-but-set-variable\u001b[m\u001b[K]\n",
            "                 float \u001b[01;35m\u001b[Krgb\u001b[m\u001b[K[3];\n",
            "                       \u001b[01;35m\u001b[K^~~\u001b[m\u001b[K\n",
            "\u001b[01m\u001b[K./src/image_opencv.cpp:\u001b[m\u001b[K In function ‘\u001b[01m\u001b[Kvoid draw_train_loss(char*, void**, int, float, float, int, int, float, int, char*, float, int, int, double)\u001b[m\u001b[K’:\n",
            "\u001b[01m\u001b[K./src/image_opencv.cpp:1127:13:\u001b[m\u001b[K \u001b[01;35m\u001b[Kwarning: \u001b[m\u001b[Kthis ‘\u001b[01m\u001b[Kif\u001b[m\u001b[K’ clause does not guard... [\u001b[01;35m\u001b[K-Wmisleading-indentation\u001b[m\u001b[K]\n",
            "             \u001b[01;35m\u001b[Kif\u001b[m\u001b[K (iteration_old == 0)\n",
            "             \u001b[01;35m\u001b[K^~\u001b[m\u001b[K\n",
            "\u001b[01m\u001b[K./src/image_opencv.cpp:1130:10:\u001b[m\u001b[K \u001b[01;36m\u001b[Knote: \u001b[m\u001b[K...this statement, but the latter is misleadingly indented as if it were guarded by the ‘\u001b[01m\u001b[Kif\u001b[m\u001b[K’\n",
            "          \u001b[01;36m\u001b[Kif\u001b[m\u001b[K (iteration_old != 0){\n",
            "          \u001b[01;36m\u001b[K^~\u001b[m\u001b[K\n",
            "\u001b[01m\u001b[K./src/image_opencv.cpp:\u001b[m\u001b[K In function ‘\u001b[01m\u001b[Kvoid cv_draw_object(image, float*, int, int, int*, float*, int*, int, char**)\u001b[m\u001b[K’:\n",
            "\u001b[01m\u001b[K./src/image_opencv.cpp:1424:14:\u001b[m\u001b[K \u001b[01;35m\u001b[Kwarning: \u001b[m\u001b[Kunused variable ‘\u001b[01m\u001b[Kbuff\u001b[m\u001b[K’ [\u001b[01;35m\u001b[K-Wunused-variable\u001b[m\u001b[K]\n",
            "         char \u001b[01;35m\u001b[Kbuff\u001b[m\u001b[K[100];\n",
            "              \u001b[01;35m\u001b[K^~~~\u001b[m\u001b[K\n",
            "\u001b[01m\u001b[K./src/image_opencv.cpp:1400:9:\u001b[m\u001b[K \u001b[01;35m\u001b[Kwarning: \u001b[m\u001b[Kunused variable ‘\u001b[01m\u001b[Kit_tb_res\u001b[m\u001b[K’ [\u001b[01;35m\u001b[K-Wunused-variable\u001b[m\u001b[K]\n",
            "     int \u001b[01;35m\u001b[Kit_tb_res\u001b[m\u001b[K = cv::createTrackbar(it_trackbar_name, window_name, &it_trackbar_value, 1000);\n",
            "         \u001b[01;35m\u001b[K^~~~~~~~~\u001b[m\u001b[K\n",
            "\u001b[01m\u001b[K./src/image_opencv.cpp:1404:9:\u001b[m\u001b[K \u001b[01;35m\u001b[Kwarning: \u001b[m\u001b[Kunused variable ‘\u001b[01m\u001b[Klr_tb_res\u001b[m\u001b[K’ [\u001b[01;35m\u001b[K-Wunused-variable\u001b[m\u001b[K]\n",
            "     int \u001b[01;35m\u001b[Klr_tb_res\u001b[m\u001b[K = cv::createTrackbar(lr_trackbar_name, window_name, &lr_trackbar_value, 20);\n",
            "         \u001b[01;35m\u001b[K^~~~~~~~~\u001b[m\u001b[K\n",
            "\u001b[01m\u001b[K./src/image_opencv.cpp:1408:9:\u001b[m\u001b[K \u001b[01;35m\u001b[Kwarning: \u001b[m\u001b[Kunused variable ‘\u001b[01m\u001b[Kcl_tb_res\u001b[m\u001b[K’ [\u001b[01;35m\u001b[K-Wunused-variable\u001b[m\u001b[K]\n",
            "     int \u001b[01;35m\u001b[Kcl_tb_res\u001b[m\u001b[K = cv::createTrackbar(cl_trackbar_name, window_name, &cl_trackbar_value, classes-1);\n",
            "         \u001b[01;35m\u001b[K^~~~~~~~~\u001b[m\u001b[K\n",
            "\u001b[01m\u001b[K./src/image_opencv.cpp:1411:9:\u001b[m\u001b[K \u001b[01;35m\u001b[Kwarning: \u001b[m\u001b[Kunused variable ‘\u001b[01m\u001b[Kbo_tb_res\u001b[m\u001b[K’ [\u001b[01;35m\u001b[K-Wunused-variable\u001b[m\u001b[K]\n",
            "     int \u001b[01;35m\u001b[Kbo_tb_res\u001b[m\u001b[K = cv::createTrackbar(bo_trackbar_name, window_name, boxonly, 1);\n",
            "         \u001b[01;35m\u001b[K^~~~~~~~~\u001b[m\u001b[K\n",
            "g++ -std=c++11 -std=c++11 -Iinclude/ -I3rdparty/stb/include -DOPENCV `pkg-config --cflags opencv4 2> /dev/null || pkg-config --cflags opencv` -DGPU -I/usr/local/cuda/include/ -DCUDNN -Wall -Wfatal-errors -Wno-unused-result -Wno-unknown-pragmas -fPIC -Ofast -DOPENCV -DGPU -DCUDNN -I/usr/local/cudnn/include -fPIC -c ./src/http_stream.cpp -o obj/http_stream.o\n",
            "In file included from \u001b[01m\u001b[K./src/http_stream.cpp:580:0\u001b[m\u001b[K:\n",
            "\u001b[01m\u001b[K./src/httplib.h:129:0:\u001b[m\u001b[K \u001b[01;35m\u001b[Kwarning: \u001b[m\u001b[K\"INVALID_SOCKET\" redefined\n",
            " #define INVALID_SOCKET (-1)\n",
            " \n",
            "\u001b[01m\u001b[K./src/http_stream.cpp:73:0:\u001b[m\u001b[K \u001b[01;36m\u001b[Knote: \u001b[m\u001b[Kthis is the location of the previous definition\n",
            " #define INVALID_SOCKET -1\n",
            " \n",
            "\u001b[01m\u001b[K./src/http_stream.cpp:\u001b[m\u001b[K In member function ‘\u001b[01m\u001b[Kbool JSON_sender::write(const char*)\u001b[m\u001b[K’:\n",
            "\u001b[01m\u001b[K./src/http_stream.cpp:249:21:\u001b[m\u001b[K \u001b[01;35m\u001b[Kwarning: \u001b[m\u001b[Kunused variable ‘\u001b[01m\u001b[Kn\u001b[m\u001b[K’ [\u001b[01;35m\u001b[K-Wunused-variable\u001b[m\u001b[K]\n",
            "                 int \u001b[01;35m\u001b[Kn\u001b[m\u001b[K = _write(client, outputbuf, outlen);\n",
            "                     \u001b[01;35m\u001b[K^\u001b[m\u001b[K\n",
            "\u001b[01m\u001b[K./src/http_stream.cpp:\u001b[m\u001b[K In member function ‘\u001b[01m\u001b[Kbool MJPG_sender::write(const cv::Mat&)\u001b[m\u001b[K’:\n",
            "\u001b[01m\u001b[K./src/http_stream.cpp:507:113:\u001b[m\u001b[K \u001b[01;35m\u001b[Kwarning: \u001b[m\u001b[Kformat ‘\u001b[01m\u001b[K%zu\u001b[m\u001b[K’ expects argument of type ‘\u001b[01m\u001b[Ksize_t\u001b[m\u001b[K’, but argument 3 has type ‘\u001b[01m\u001b[Kint\u001b[m\u001b[K’ [\u001b[01;35m\u001b[K-Wformat=\u001b[m\u001b[K]\n",
            "                 sprintf(head, \"--mjpegstream\\r\\nContent-Type: image/jpeg\\r\\nContent-Length: %zu\\r\\n\\r\\n\", outlen\u001b[01;35m\u001b[K)\u001b[m\u001b[K;\n",
            "                                                                                                                 \u001b[01;35m\u001b[K^\u001b[m\u001b[K\n",
            "\u001b[01m\u001b[K./src/http_stream.cpp:\u001b[m\u001b[K In function ‘\u001b[01m\u001b[Kvoid set_track_id(detection*, int, float, float, float, int, int, int)\u001b[m\u001b[K’:\n",
            "\u001b[01m\u001b[K./src/http_stream.cpp:845:27:\u001b[m\u001b[K \u001b[01;35m\u001b[Kwarning: \u001b[m\u001b[Kcomparison between signed and unsigned integer expressions [\u001b[01;35m\u001b[K-Wsign-compare\u001b[m\u001b[K]\n",
            "         for (int i = 0; \u001b[01;35m\u001b[Ki < v.size()\u001b[m\u001b[K; ++i) {\n",
            "                         \u001b[01;35m\u001b[K~~^~~~~~~~~~\u001b[m\u001b[K\n",
            "\u001b[01m\u001b[K./src/http_stream.cpp:853:33:\u001b[m\u001b[K \u001b[01;35m\u001b[Kwarning: \u001b[m\u001b[Kcomparison between signed and unsigned integer expressions [\u001b[01;35m\u001b[K-Wsign-compare\u001b[m\u001b[K]\n",
            "     for (int old_id = 0; \u001b[01;35m\u001b[Kold_id < old_dets.size()\u001b[m\u001b[K; ++old_id) {\n",
            "                          \u001b[01;35m\u001b[K~~~~~~~^~~~~~~~~~~~~~~~~\u001b[m\u001b[K\n",
            "\u001b[01m\u001b[K./src/http_stream.cpp:873:31:\u001b[m\u001b[K \u001b[01;35m\u001b[Kwarning: \u001b[m\u001b[Kcomparison between signed and unsigned integer expressions [\u001b[01;35m\u001b[K-Wsign-compare\u001b[m\u001b[K]\n",
            "     for (int index = 0; \u001b[01;35m\u001b[Kindex < new_dets_num*old_dets.size()\u001b[m\u001b[K; ++index) {\n",
            "                         \u001b[01;35m\u001b[K~~~~~~^~~~~~~~~~~~~~~~~~~~~~~~~~~~~~\u001b[m\u001b[K\n",
            "\u001b[01m\u001b[K./src/http_stream.cpp:908:28:\u001b[m\u001b[K \u001b[01;35m\u001b[Kwarning: \u001b[m\u001b[Kcomparison between signed and unsigned integer expressions [\u001b[01;35m\u001b[K-Wsign-compare\u001b[m\u001b[K]\n",
            "     if (\u001b[01;35m\u001b[Kold_dets_dq.size() > deque_size\u001b[m\u001b[K) old_dets_dq.pop_front();\n",
            "         \u001b[01;35m\u001b[K~~~~~~~~~~~~~~~~~~~^~~~~~~~~~~~\u001b[m\u001b[K\n",
            "gcc -Iinclude/ -I3rdparty/stb/include -DOPENCV `pkg-config --cflags opencv4 2> /dev/null || pkg-config --cflags opencv` -DGPU -I/usr/local/cuda/include/ -DCUDNN -Wall -Wfatal-errors -Wno-unused-result -Wno-unknown-pragmas -fPIC -Ofast -DOPENCV -DGPU -DCUDNN -I/usr/local/cudnn/include -fPIC -c ./src/gemm.c -o obj/gemm.o\n",
            "\u001b[01m\u001b[K./src/gemm.c:\u001b[m\u001b[K In function ‘\u001b[01m\u001b[Kconvolution_2d\u001b[m\u001b[K’:\n",
            "\u001b[01m\u001b[K./src/gemm.c:2038:15:\u001b[m\u001b[K \u001b[01;35m\u001b[Kwarning: \u001b[m\u001b[Kunused variable ‘\u001b[01m\u001b[Kout_w\u001b[m\u001b[K’ [\u001b[01;35m\u001b[K-Wunused-variable\u001b[m\u001b[K]\n",
            "     const int \u001b[01;35m\u001b[Kout_w\u001b[m\u001b[K = (w + 2 * pad - ksize) / stride + 1;    // output_width=input_width for stride=1 and pad=1\n",
            "               \u001b[01;35m\u001b[K^~~~~\u001b[m\u001b[K\n",
            "\u001b[01m\u001b[K./src/gemm.c:2037:15:\u001b[m\u001b[K \u001b[01;35m\u001b[Kwarning: \u001b[m\u001b[Kunused variable ‘\u001b[01m\u001b[Kout_h\u001b[m\u001b[K’ [\u001b[01;35m\u001b[K-Wunused-variable\u001b[m\u001b[K]\n",
            "     const int \u001b[01;35m\u001b[Kout_h\u001b[m\u001b[K = (h + 2 * pad - ksize) / stride + 1;    // output_height=input_height for stride=1 and pad=1\n",
            "               \u001b[01;35m\u001b[K^~~~~\u001b[m\u001b[K\n",
            "gcc -Iinclude/ -I3rdparty/stb/include -DOPENCV `pkg-config --cflags opencv4 2> /dev/null || pkg-config --cflags opencv` -DGPU -I/usr/local/cuda/include/ -DCUDNN -Wall -Wfatal-errors -Wno-unused-result -Wno-unknown-pragmas -fPIC -Ofast -DOPENCV -DGPU -DCUDNN -I/usr/local/cudnn/include -fPIC -c ./src/utils.c -o obj/utils.o\n",
            "\u001b[01m\u001b[K./src/utils.c:\u001b[m\u001b[K In function ‘\u001b[01m\u001b[Kcustom_hash\u001b[m\u001b[K’:\n",
            "\u001b[01m\u001b[K./src/utils.c:1040:12:\u001b[m\u001b[K \u001b[01;35m\u001b[Kwarning: \u001b[m\u001b[Ksuggest parentheses around assignment used as truth value [\u001b[01;35m\u001b[K-Wparentheses\u001b[m\u001b[K]\n",
            "     while (\u001b[01;35m\u001b[Kc\u001b[m\u001b[K = *str++)\n",
            "            \u001b[01;35m\u001b[K^\u001b[m\u001b[K\n",
            "gcc -Iinclude/ -I3rdparty/stb/include -DOPENCV `pkg-config --cflags opencv4 2> /dev/null || pkg-config --cflags opencv` -DGPU -I/usr/local/cuda/include/ -DCUDNN -Wall -Wfatal-errors -Wno-unused-result -Wno-unknown-pragmas -fPIC -Ofast -DOPENCV -DGPU -DCUDNN -I/usr/local/cudnn/include -fPIC -c ./src/dark_cuda.c -o obj/dark_cuda.o\n",
            "\u001b[01m\u001b[K./src/dark_cuda.c:\u001b[m\u001b[K In function ‘\u001b[01m\u001b[Kcudnn_check_error_extended\u001b[m\u001b[K’:\n",
            "\u001b[01m\u001b[K./src/dark_cuda.c:224:20:\u001b[m\u001b[K \u001b[01;35m\u001b[Kwarning: \u001b[m\u001b[Kcomparison between ‘\u001b[01m\u001b[KcudaError_t {aka enum cudaError}\u001b[m\u001b[K’ and ‘\u001b[01m\u001b[Kenum <anonymous>\u001b[m\u001b[K’ [\u001b[01;35m\u001b[K-Wenum-compare\u001b[m\u001b[K]\n",
            "         if (status \u001b[01;35m\u001b[K!=\u001b[m\u001b[K CUDNN_STATUS_SUCCESS)\n",
            "                    \u001b[01;35m\u001b[K^~\u001b[m\u001b[K\n",
            "\u001b[01m\u001b[K./src/dark_cuda.c:\u001b[m\u001b[K In function ‘\u001b[01m\u001b[Kpre_allocate_pinned_memory\u001b[m\u001b[K’:\n",
            "\u001b[01m\u001b[K./src/dark_cuda.c:276:40:\u001b[m\u001b[K \u001b[01;35m\u001b[Kwarning: \u001b[m\u001b[Kformat ‘\u001b[01m\u001b[K%u\u001b[m\u001b[K’ expects argument of type ‘\u001b[01m\u001b[Kunsigned int\u001b[m\u001b[K’, but argument 2 has type ‘\u001b[01m\u001b[Klong unsigned int\u001b[m\u001b[K’ [\u001b[01;35m\u001b[K-Wformat=\u001b[m\u001b[K]\n",
            "         printf(\"pre_allocate: size = \u001b[01;35m\u001b[K%Iu\u001b[m\u001b[K MB, num_of_blocks = %Iu, block_size = %Iu MB \\n\",\n",
            "                                      \u001b[01;35m\u001b[K~~^\u001b[m\u001b[K\n",
            "                                      \u001b[32m\u001b[K%Ilu\u001b[m\u001b[K\n",
            "             \u001b[32m\u001b[Ksize / (1024*1024)\u001b[m\u001b[K, num_of_blocks, pinned_block_size / (1024 * 1024));\n",
            "             \u001b[32m\u001b[K~~~~~~~~~~~~~~~~~~\u001b[m\u001b[K          \n",
            "\u001b[01m\u001b[K./src/dark_cuda.c:276:64:\u001b[m\u001b[K \u001b[01;35m\u001b[Kwarning: \u001b[m\u001b[Kformat ‘\u001b[01m\u001b[K%u\u001b[m\u001b[K’ expects argument of type ‘\u001b[01m\u001b[Kunsigned int\u001b[m\u001b[K’, but argument 3 has type ‘\u001b[01m\u001b[Ksize_t {aka const long unsigned int}\u001b[m\u001b[K’ [\u001b[01;35m\u001b[K-Wformat=\u001b[m\u001b[K]\n",
            "         printf(\"pre_allocate: size = %Iu MB, num_of_blocks = \u001b[01;35m\u001b[K%Iu\u001b[m\u001b[K, block_size = %Iu MB \\n\",\n",
            "                                                              \u001b[01;35m\u001b[K~~^\u001b[m\u001b[K\n",
            "                                                              \u001b[32m\u001b[K%Ilu\u001b[m\u001b[K\n",
            "\u001b[01m\u001b[K./src/dark_cuda.c:276:82:\u001b[m\u001b[K \u001b[01;35m\u001b[Kwarning: \u001b[m\u001b[Kformat ‘\u001b[01m\u001b[K%u\u001b[m\u001b[K’ expects argument of type ‘\u001b[01m\u001b[Kunsigned int\u001b[m\u001b[K’, but argument 4 has type ‘\u001b[01m\u001b[Klong unsigned int\u001b[m\u001b[K’ [\u001b[01;35m\u001b[K-Wformat=\u001b[m\u001b[K]\n",
            "         printf(\"pre_allocate: size = %Iu MB, num_of_blocks = %Iu, block_size = \u001b[01;35m\u001b[K%Iu\u001b[m\u001b[K MB \\n\",\n",
            "                                                                                \u001b[01;35m\u001b[K~~^\u001b[m\u001b[K\n",
            "                                                                                \u001b[32m\u001b[K%Ilu\u001b[m\u001b[K\n",
            "\u001b[01m\u001b[K./src/dark_cuda.c:286:37:\u001b[m\u001b[K \u001b[01;35m\u001b[Kwarning: \u001b[m\u001b[Kformat ‘\u001b[01m\u001b[K%d\u001b[m\u001b[K’ expects argument of type ‘\u001b[01m\u001b[Kint\u001b[m\u001b[K’, but argument 2 has type ‘\u001b[01m\u001b[Ksize_t {aka const long unsigned int}\u001b[m\u001b[K’ [\u001b[01;35m\u001b[K-Wformat=\u001b[m\u001b[K]\n",
            "                 printf(\" Allocated \u001b[01;35m\u001b[K%d\u001b[m\u001b[K pinned block \\n\", pinned_block_size);\n",
            "                                    \u001b[01;35m\u001b[K~^\u001b[m\u001b[K\n",
            "                                    \u001b[32m\u001b[K%ld\u001b[m\u001b[K\n",
            "\u001b[01m\u001b[K./src/dark_cuda.c:\u001b[m\u001b[K In function ‘\u001b[01m\u001b[Kcuda_make_array_pinned_preallocated\u001b[m\u001b[K’:\n",
            "\u001b[01m\u001b[K./src/dark_cuda.c:307:43:\u001b[m\u001b[K \u001b[01;35m\u001b[Kwarning: \u001b[m\u001b[Kformat ‘\u001b[01m\u001b[K%d\u001b[m\u001b[K’ expects argument of type ‘\u001b[01m\u001b[Kint\u001b[m\u001b[K’, but argument 2 has type ‘\u001b[01m\u001b[Ksize_t {aka long unsigned int}\u001b[m\u001b[K’ [\u001b[01;35m\u001b[K-Wformat=\u001b[m\u001b[K]\n",
            "             printf(\"\\n Pinned block_id = \u001b[01;35m\u001b[K%d\u001b[m\u001b[K, filled = %f %% \\n\", pinned_block_id, filled);\n",
            "                                          \u001b[01;35m\u001b[K~^\u001b[m\u001b[K\n",
            "                                          \u001b[32m\u001b[K%ld\u001b[m\u001b[K\n",
            "\u001b[01m\u001b[K./src/dark_cuda.c:322:64:\u001b[m\u001b[K \u001b[01;35m\u001b[Kwarning: \u001b[m\u001b[Kformat ‘\u001b[01m\u001b[K%d\u001b[m\u001b[K’ expects argument of type ‘\u001b[01m\u001b[Kint\u001b[m\u001b[K’, but argument 2 has type ‘\u001b[01m\u001b[Klong unsigned int\u001b[m\u001b[K’ [\u001b[01;35m\u001b[K-Wformat=\u001b[m\u001b[K]\n",
            "             printf(\"Try to allocate new pinned memory, size = \u001b[01;35m\u001b[K%d\u001b[m\u001b[K MB \\n\", \u001b[32m\u001b[Ksize / (1024 * 1024)\u001b[m\u001b[K);\n",
            "                                                               \u001b[01;35m\u001b[K~^\u001b[m\u001b[K         \u001b[32m\u001b[K~~~~~~~~~~~~~~~~~~~~\u001b[m\u001b[K\n",
            "                                                               \u001b[32m\u001b[K%ld\u001b[m\u001b[K\n",
            "\u001b[01m\u001b[K./src/dark_cuda.c:328:63:\u001b[m\u001b[K \u001b[01;35m\u001b[Kwarning: \u001b[m\u001b[Kformat ‘\u001b[01m\u001b[K%d\u001b[m\u001b[K’ expects argument of type ‘\u001b[01m\u001b[Kint\u001b[m\u001b[K’, but argument 2 has type ‘\u001b[01m\u001b[Klong unsigned int\u001b[m\u001b[K’ [\u001b[01;35m\u001b[K-Wformat=\u001b[m\u001b[K]\n",
            "             printf(\"Try to allocate new pinned BLOCK, size = \u001b[01;35m\u001b[K%d\u001b[m\u001b[K MB \\n\", \u001b[32m\u001b[Ksize / (1024 * 1024)\u001b[m\u001b[K);\n",
            "                                                              \u001b[01;35m\u001b[K~^\u001b[m\u001b[K         \u001b[32m\u001b[K~~~~~~~~~~~~~~~~~~~~\u001b[m\u001b[K\n",
            "                                                              \u001b[32m\u001b[K%ld\u001b[m\u001b[K\n",
            "gcc -Iinclude/ -I3rdparty/stb/include -DOPENCV `pkg-config --cflags opencv4 2> /dev/null || pkg-config --cflags opencv` -DGPU -I/usr/local/cuda/include/ -DCUDNN -Wall -Wfatal-errors -Wno-unused-result -Wno-unknown-pragmas -fPIC -Ofast -DOPENCV -DGPU -DCUDNN -I/usr/local/cudnn/include -fPIC -c ./src/convolutional_layer.c -o obj/convolutional_layer.o\n",
            "\u001b[01m\u001b[K./src/convolutional_layer.c:\u001b[m\u001b[K In function ‘\u001b[01m\u001b[Kforward_convolutional_layer\u001b[m\u001b[K’:\n",
            "\u001b[01m\u001b[K./src/convolutional_layer.c:1337:32:\u001b[m\u001b[K \u001b[01;35m\u001b[Kwarning: \u001b[m\u001b[Kunused variable ‘\u001b[01m\u001b[Kt_intput_size\u001b[m\u001b[K’ [\u001b[01;35m\u001b[K-Wunused-variable\u001b[m\u001b[K]\n",
            "                         size_t \u001b[01;35m\u001b[Kt_intput_size\u001b[m\u001b[K = binary_transpose_align_input(k, n, state.workspace, &l.t_bit_input, ldb_align, l.bit_align);\n",
            "                                \u001b[01;35m\u001b[K^~~~~~~~~~~~~\u001b[m\u001b[K\n",
            "gcc -Iinclude/ -I3rdparty/stb/include -DOPENCV `pkg-config --cflags opencv4 2> /dev/null || pkg-config --cflags opencv` -DGPU -I/usr/local/cuda/include/ -DCUDNN -Wall -Wfatal-errors -Wno-unused-result -Wno-unknown-pragmas -fPIC -Ofast -DOPENCV -DGPU -DCUDNN -I/usr/local/cudnn/include -fPIC -c ./src/list.c -o obj/list.o\n",
            "gcc -Iinclude/ -I3rdparty/stb/include -DOPENCV `pkg-config --cflags opencv4 2> /dev/null || pkg-config --cflags opencv` -DGPU -I/usr/local/cuda/include/ -DCUDNN -Wall -Wfatal-errors -Wno-unused-result -Wno-unknown-pragmas -fPIC -Ofast -DOPENCV -DGPU -DCUDNN -I/usr/local/cudnn/include -fPIC -c ./src/image.c -o obj/image.o\n",
            "gcc -Iinclude/ -I3rdparty/stb/include -DOPENCV `pkg-config --cflags opencv4 2> /dev/null || pkg-config --cflags opencv` -DGPU -I/usr/local/cuda/include/ -DCUDNN -Wall -Wfatal-errors -Wno-unused-result -Wno-unknown-pragmas -fPIC -Ofast -DOPENCV -DGPU -DCUDNN -I/usr/local/cudnn/include -fPIC -c ./src/activations.c -o obj/activations.o\n",
            "\u001b[01m\u001b[K./src/activations.c:\u001b[m\u001b[K In function ‘\u001b[01m\u001b[Kactivate\u001b[m\u001b[K’:\n",
            "\u001b[01m\u001b[K./src/activations.c:78:5:\u001b[m\u001b[K \u001b[01;35m\u001b[Kwarning: \u001b[m\u001b[Kenumeration value ‘\u001b[01m\u001b[KRELU6\u001b[m\u001b[K’ not handled in switch [\u001b[01;35m\u001b[K-Wswitch\u001b[m\u001b[K]\n",
            "     \u001b[01;35m\u001b[Kswitch\u001b[m\u001b[K(a){\n",
            "     \u001b[01;35m\u001b[K^~~~~~\u001b[m\u001b[K\n",
            "\u001b[01m\u001b[K./src/activations.c:78:5:\u001b[m\u001b[K \u001b[01;35m\u001b[Kwarning: \u001b[m\u001b[Kenumeration value ‘\u001b[01m\u001b[KSWISH\u001b[m\u001b[K’ not handled in switch [\u001b[01;35m\u001b[K-Wswitch\u001b[m\u001b[K]\n",
            "\u001b[01m\u001b[K./src/activations.c:78:5:\u001b[m\u001b[K \u001b[01;35m\u001b[Kwarning: \u001b[m\u001b[Kenumeration value ‘\u001b[01m\u001b[KMISH\u001b[m\u001b[K’ not handled in switch [\u001b[01;35m\u001b[K-Wswitch\u001b[m\u001b[K]\n",
            "\u001b[01m\u001b[K./src/activations.c:78:5:\u001b[m\u001b[K \u001b[01;35m\u001b[Kwarning: \u001b[m\u001b[Kenumeration value ‘\u001b[01m\u001b[KNORM_CHAN\u001b[m\u001b[K’ not handled in switch [\u001b[01;35m\u001b[K-Wswitch\u001b[m\u001b[K]\n",
            "\u001b[01m\u001b[K./src/activations.c:78:5:\u001b[m\u001b[K \u001b[01;35m\u001b[Kwarning: \u001b[m\u001b[Kenumeration value ‘\u001b[01m\u001b[KNORM_CHAN_SOFTMAX\u001b[m\u001b[K’ not handled in switch [\u001b[01;35m\u001b[K-Wswitch\u001b[m\u001b[K]\n",
            "\u001b[01m\u001b[K./src/activations.c:78:5:\u001b[m\u001b[K \u001b[01;35m\u001b[Kwarning: \u001b[m\u001b[Kenumeration value ‘\u001b[01m\u001b[KNORM_CHAN_SOFTMAX_MAXVAL\u001b[m\u001b[K’ not handled in switch [\u001b[01;35m\u001b[K-Wswitch\u001b[m\u001b[K]\n",
            "\u001b[01m\u001b[K./src/activations.c:\u001b[m\u001b[K In function ‘\u001b[01m\u001b[Kgradient\u001b[m\u001b[K’:\n",
            "\u001b[01m\u001b[K./src/activations.c:289:5:\u001b[m\u001b[K \u001b[01;35m\u001b[Kwarning: \u001b[m\u001b[Kenumeration value ‘\u001b[01m\u001b[KSWISH\u001b[m\u001b[K’ not handled in switch [\u001b[01;35m\u001b[K-Wswitch\u001b[m\u001b[K]\n",
            "     \u001b[01;35m\u001b[Kswitch\u001b[m\u001b[K(a){\n",
            "     \u001b[01;35m\u001b[K^~~~~~\u001b[m\u001b[K\n",
            "\u001b[01m\u001b[K./src/activations.c:289:5:\u001b[m\u001b[K \u001b[01;35m\u001b[Kwarning: \u001b[m\u001b[Kenumeration value ‘\u001b[01m\u001b[KMISH\u001b[m\u001b[K’ not handled in switch [\u001b[01;35m\u001b[K-Wswitch\u001b[m\u001b[K]\n",
            "gcc -Iinclude/ -I3rdparty/stb/include -DOPENCV `pkg-config --cflags opencv4 2> /dev/null || pkg-config --cflags opencv` -DGPU -I/usr/local/cuda/include/ -DCUDNN -Wall -Wfatal-errors -Wno-unused-result -Wno-unknown-pragmas -fPIC -Ofast -DOPENCV -DGPU -DCUDNN -I/usr/local/cudnn/include -fPIC -c ./src/im2col.c -o obj/im2col.o\n",
            "gcc -Iinclude/ -I3rdparty/stb/include -DOPENCV `pkg-config --cflags opencv4 2> /dev/null || pkg-config --cflags opencv` -DGPU -I/usr/local/cuda/include/ -DCUDNN -Wall -Wfatal-errors -Wno-unused-result -Wno-unknown-pragmas -fPIC -Ofast -DOPENCV -DGPU -DCUDNN -I/usr/local/cudnn/include -fPIC -c ./src/col2im.c -o obj/col2im.o\n",
            "gcc -Iinclude/ -I3rdparty/stb/include -DOPENCV `pkg-config --cflags opencv4 2> /dev/null || pkg-config --cflags opencv` -DGPU -I/usr/local/cuda/include/ -DCUDNN -Wall -Wfatal-errors -Wno-unused-result -Wno-unknown-pragmas -fPIC -Ofast -DOPENCV -DGPU -DCUDNN -I/usr/local/cudnn/include -fPIC -c ./src/blas.c -o obj/blas.o\n",
            "\u001b[01m\u001b[K./src/blas.c:\u001b[m\u001b[K In function ‘\u001b[01m\u001b[Kbackward_shortcut_multilayer_cpu\u001b[m\u001b[K’:\n",
            "\u001b[01m\u001b[K./src/blas.c:207:21:\u001b[m\u001b[K \u001b[01;35m\u001b[Kwarning: \u001b[m\u001b[Kunused variable ‘\u001b[01m\u001b[Kout_index\u001b[m\u001b[K’ [\u001b[01;35m\u001b[K-Wunused-variable\u001b[m\u001b[K]\n",
            "                 int \u001b[01;35m\u001b[Kout_index\u001b[m\u001b[K = id;\n",
            "                     \u001b[01;35m\u001b[K^~~~~~~~~\u001b[m\u001b[K\n",
            "\u001b[01m\u001b[K./src/blas.c:\u001b[m\u001b[K In function ‘\u001b[01m\u001b[Kfind_sim\u001b[m\u001b[K’:\n",
            "\u001b[01m\u001b[K./src/blas.c:597:59:\u001b[m\u001b[K \u001b[01;35m\u001b[Kwarning: \u001b[m\u001b[Kformat ‘\u001b[01m\u001b[K%d\u001b[m\u001b[K’ expects argument of type ‘\u001b[01m\u001b[Kint\u001b[m\u001b[K’, but argument 2 has type ‘\u001b[01m\u001b[Ksize_t {aka long unsigned int}\u001b[m\u001b[K’ [\u001b[01;35m\u001b[K-Wformat=\u001b[m\u001b[K]\n",
            "         printf(\" Error: find_sim(): sim isn't found: i = \u001b[01;35m\u001b[K%d\u001b[m\u001b[K, j = %d, z = %d \\n\", i, j, z);\n",
            "                                                          \u001b[01;35m\u001b[K~^\u001b[m\u001b[K\n",
            "                                                          \u001b[32m\u001b[K%ld\u001b[m\u001b[K\n",
            "\u001b[01m\u001b[K./src/blas.c:597:67:\u001b[m\u001b[K \u001b[01;35m\u001b[Kwarning: \u001b[m\u001b[Kformat ‘\u001b[01m\u001b[K%d\u001b[m\u001b[K’ expects argument of type ‘\u001b[01m\u001b[Kint\u001b[m\u001b[K’, but argument 3 has type ‘\u001b[01m\u001b[Ksize_t {aka long unsigned int}\u001b[m\u001b[K’ [\u001b[01;35m\u001b[K-Wformat=\u001b[m\u001b[K]\n",
            "         printf(\" Error: find_sim(): sim isn't found: i = %d, j = \u001b[01;35m\u001b[K%d\u001b[m\u001b[K, z = %d \\n\", i, j, z);\n",
            "                                                                  \u001b[01;35m\u001b[K~^\u001b[m\u001b[K\n",
            "                                                                  \u001b[32m\u001b[K%ld\u001b[m\u001b[K\n",
            "\u001b[01m\u001b[K./src/blas.c:597:75:\u001b[m\u001b[K \u001b[01;35m\u001b[Kwarning: \u001b[m\u001b[Kformat ‘\u001b[01m\u001b[K%d\u001b[m\u001b[K’ expects argument of type ‘\u001b[01m\u001b[Kint\u001b[m\u001b[K’, but argument 4 has type ‘\u001b[01m\u001b[Ksize_t {aka long unsigned int}\u001b[m\u001b[K’ [\u001b[01;35m\u001b[K-Wformat=\u001b[m\u001b[K]\n",
            "         printf(\" Error: find_sim(): sim isn't found: i = %d, j = %d, z = \u001b[01;35m\u001b[K%d\u001b[m\u001b[K \\n\", i, j, z);\n",
            "                                                                          \u001b[01;35m\u001b[K~^\u001b[m\u001b[K\n",
            "                                                                          \u001b[32m\u001b[K%ld\u001b[m\u001b[K\n",
            "\u001b[01m\u001b[K./src/blas.c:\u001b[m\u001b[K In function ‘\u001b[01m\u001b[Kfind_P_constrastive\u001b[m\u001b[K’:\n",
            "\u001b[01m\u001b[K./src/blas.c:611:68:\u001b[m\u001b[K \u001b[01;35m\u001b[Kwarning: \u001b[m\u001b[Kformat ‘\u001b[01m\u001b[K%d\u001b[m\u001b[K’ expects argument of type ‘\u001b[01m\u001b[Kint\u001b[m\u001b[K’, but argument 2 has type ‘\u001b[01m\u001b[Ksize_t {aka long unsigned int}\u001b[m\u001b[K’ [\u001b[01;35m\u001b[K-Wformat=\u001b[m\u001b[K]\n",
            "         printf(\" Error: find_P_constrastive(): P isn't found: i = \u001b[01;35m\u001b[K%d\u001b[m\u001b[K, j = %d, z = %d \\n\", i, j, z);\n",
            "                                                                   \u001b[01;35m\u001b[K~^\u001b[m\u001b[K\n",
            "                                                                   \u001b[32m\u001b[K%ld\u001b[m\u001b[K\n",
            "\u001b[01m\u001b[K./src/blas.c:611:76:\u001b[m\u001b[K \u001b[01;35m\u001b[Kwarning: \u001b[m\u001b[Kformat ‘\u001b[01m\u001b[K%d\u001b[m\u001b[K’ expects argument of type ‘\u001b[01m\u001b[Kint\u001b[m\u001b[K’, but argument 3 has type ‘\u001b[01m\u001b[Ksize_t {aka long unsigned int}\u001b[m\u001b[K’ [\u001b[01;35m\u001b[K-Wformat=\u001b[m\u001b[K]\n",
            "         printf(\" Error: find_P_constrastive(): P isn't found: i = %d, j = \u001b[01;35m\u001b[K%d\u001b[m\u001b[K, z = %d \\n\", i, j, z);\n",
            "                                                                           \u001b[01;35m\u001b[K~^\u001b[m\u001b[K\n",
            "                                                                           \u001b[32m\u001b[K%ld\u001b[m\u001b[K\n",
            "\u001b[01m\u001b[K./src/blas.c:611:84:\u001b[m\u001b[K \u001b[01;35m\u001b[Kwarning: \u001b[m\u001b[Kformat ‘\u001b[01m\u001b[K%d\u001b[m\u001b[K’ expects argument of type ‘\u001b[01m\u001b[Kint\u001b[m\u001b[K’, but argument 4 has type ‘\u001b[01m\u001b[Ksize_t {aka long unsigned int}\u001b[m\u001b[K’ [\u001b[01;35m\u001b[K-Wformat=\u001b[m\u001b[K]\n",
            "         printf(\" Error: find_P_constrastive(): P isn't found: i = %d, j = %d, z = \u001b[01;35m\u001b[K%d\u001b[m\u001b[K \\n\", i, j, z);\n",
            "                                                                                   \u001b[01;35m\u001b[K~^\u001b[m\u001b[K\n",
            "                                                                                   \u001b[32m\u001b[K%ld\u001b[m\u001b[K\n",
            "\u001b[01m\u001b[K./src/blas.c:\u001b[m\u001b[K In function ‘\u001b[01m\u001b[KP_constrastive_f\u001b[m\u001b[K’:\n",
            "\u001b[01m\u001b[K./src/blas.c:622:79:\u001b[m\u001b[K \u001b[01;35m\u001b[Kwarning: \u001b[m\u001b[Kformat ‘\u001b[01m\u001b[K%d\u001b[m\u001b[K’ expects argument of type ‘\u001b[01m\u001b[Kint\u001b[m\u001b[K’, but argument 3 has type ‘\u001b[01m\u001b[Ksize_t {aka long unsigned int}\u001b[m\u001b[K’ [\u001b[01;35m\u001b[K-Wformat=\u001b[m\u001b[K]\n",
            "         fprintf(stderr, \" Error: in P_constrastive must be i != l, while i = \u001b[01;35m\u001b[K%d\u001b[m\u001b[K, l = %d \\n\", i, l);\n",
            "                                                                              \u001b[01;35m\u001b[K~^\u001b[m\u001b[K\n",
            "                                                                              \u001b[32m\u001b[K%ld\u001b[m\u001b[K\n",
            "\u001b[01m\u001b[K./src/blas.c:622:87:\u001b[m\u001b[K \u001b[01;35m\u001b[Kwarning: \u001b[m\u001b[Kformat ‘\u001b[01m\u001b[K%d\u001b[m\u001b[K’ expects argument of type ‘\u001b[01m\u001b[Kint\u001b[m\u001b[K’, but argument 4 has type ‘\u001b[01m\u001b[Ksize_t {aka long unsigned int}\u001b[m\u001b[K’ [\u001b[01;35m\u001b[K-Wformat=\u001b[m\u001b[K]\n",
            "         fprintf(stderr, \" Error: in P_constrastive must be i != l, while i = %d, l = \u001b[01;35m\u001b[K%d\u001b[m\u001b[K \\n\", i, l);\n",
            "                                                                                      \u001b[01;35m\u001b[K~^\u001b[m\u001b[K\n",
            "                                                                                      \u001b[32m\u001b[K%ld\u001b[m\u001b[K\n",
            "\u001b[01m\u001b[K./src/blas.c:\u001b[m\u001b[K In function ‘\u001b[01m\u001b[KP_constrastive\u001b[m\u001b[K’:\n",
            "\u001b[01m\u001b[K./src/blas.c:751:79:\u001b[m\u001b[K \u001b[01;35m\u001b[Kwarning: \u001b[m\u001b[Kformat ‘\u001b[01m\u001b[K%d\u001b[m\u001b[K’ expects argument of type ‘\u001b[01m\u001b[Kint\u001b[m\u001b[K’, but argument 3 has type ‘\u001b[01m\u001b[Ksize_t {aka long unsigned int}\u001b[m\u001b[K’ [\u001b[01;35m\u001b[K-Wformat=\u001b[m\u001b[K]\n",
            "         fprintf(stderr, \" Error: in P_constrastive must be i != l, while i = \u001b[01;35m\u001b[K%d\u001b[m\u001b[K, l = %d \\n\", i, l);\n",
            "                                                                              \u001b[01;35m\u001b[K~^\u001b[m\u001b[K\n",
            "                                                                              \u001b[32m\u001b[K%ld\u001b[m\u001b[K\n",
            "\u001b[01m\u001b[K./src/blas.c:751:87:\u001b[m\u001b[K \u001b[01;35m\u001b[Kwarning: \u001b[m\u001b[Kformat ‘\u001b[01m\u001b[K%d\u001b[m\u001b[K’ expects argument of type ‘\u001b[01m\u001b[Kint\u001b[m\u001b[K’, but argument 4 has type ‘\u001b[01m\u001b[Ksize_t {aka long unsigned int}\u001b[m\u001b[K’ [\u001b[01;35m\u001b[K-Wformat=\u001b[m\u001b[K]\n",
            "         fprintf(stderr, \" Error: in P_constrastive must be i != l, while i = %d, l = \u001b[01;35m\u001b[K%d\u001b[m\u001b[K \\n\", i, l);\n",
            "                                                                                      \u001b[01;35m\u001b[K~^\u001b[m\u001b[K\n",
            "                                                                                      \u001b[32m\u001b[K%ld\u001b[m\u001b[K\n",
            "gcc -Iinclude/ -I3rdparty/stb/include -DOPENCV `pkg-config --cflags opencv4 2> /dev/null || pkg-config --cflags opencv` -DGPU -I/usr/local/cuda/include/ -DCUDNN -Wall -Wfatal-errors -Wno-unused-result -Wno-unknown-pragmas -fPIC -Ofast -DOPENCV -DGPU -DCUDNN -I/usr/local/cudnn/include -fPIC -c ./src/crop_layer.c -o obj/crop_layer.o\n",
            "gcc -Iinclude/ -I3rdparty/stb/include -DOPENCV `pkg-config --cflags opencv4 2> /dev/null || pkg-config --cflags opencv` -DGPU -I/usr/local/cuda/include/ -DCUDNN -Wall -Wfatal-errors -Wno-unused-result -Wno-unknown-pragmas -fPIC -Ofast -DOPENCV -DGPU -DCUDNN -I/usr/local/cudnn/include -fPIC -c ./src/dropout_layer.c -o obj/dropout_layer.o\n",
            "gcc -Iinclude/ -I3rdparty/stb/include -DOPENCV `pkg-config --cflags opencv4 2> /dev/null || pkg-config --cflags opencv` -DGPU -I/usr/local/cuda/include/ -DCUDNN -Wall -Wfatal-errors -Wno-unused-result -Wno-unknown-pragmas -fPIC -Ofast -DOPENCV -DGPU -DCUDNN -I/usr/local/cudnn/include -fPIC -c ./src/maxpool_layer.c -o obj/maxpool_layer.o\n",
            "gcc -Iinclude/ -I3rdparty/stb/include -DOPENCV `pkg-config --cflags opencv4 2> /dev/null || pkg-config --cflags opencv` -DGPU -I/usr/local/cuda/include/ -DCUDNN -Wall -Wfatal-errors -Wno-unused-result -Wno-unknown-pragmas -fPIC -Ofast -DOPENCV -DGPU -DCUDNN -I/usr/local/cudnn/include -fPIC -c ./src/softmax_layer.c -o obj/softmax_layer.o\n",
            "\u001b[01m\u001b[K./src/softmax_layer.c:\u001b[m\u001b[K In function ‘\u001b[01m\u001b[Kmake_contrastive_layer\u001b[m\u001b[K’:\n",
            "\u001b[01m\u001b[K./src/softmax_layer.c:186:101:\u001b[m\u001b[K \u001b[01;35m\u001b[Kwarning: \u001b[m\u001b[Kformat ‘\u001b[01m\u001b[K%d\u001b[m\u001b[K’ expects argument of type ‘\u001b[01m\u001b[Kint\u001b[m\u001b[K’, but argument 9 has type ‘\u001b[01m\u001b[Ksize_t {aka const long unsigned int}\u001b[m\u001b[K’ [\u001b[01;35m\u001b[K-Wformat=\u001b[m\u001b[K]\n",
            "     fprintf(stderr, \"contrastive %4d x%4d x%4d x emb_size %4d x batch: %4d  classes = %4d, step = \u001b[01;35m\u001b[K%4d\u001b[m\u001b[K \\n\", w, h, l.n, l.embedding_size, batch, classes, step);\n",
            "                                                                                                   \u001b[01;35m\u001b[K~~^\u001b[m\u001b[K\n",
            "                                                                                                   \u001b[32m\u001b[K%4ld\u001b[m\u001b[K\n",
            "\u001b[01m\u001b[K./src/softmax_layer.c:\u001b[m\u001b[K In function ‘\u001b[01m\u001b[Kforward_contrastive_layer\u001b[m\u001b[K’:\n",
            "\u001b[01m\u001b[K./src/softmax_layer.c:227:27:\u001b[m\u001b[K \u001b[01;35m\u001b[Kwarning: \u001b[m\u001b[Kvariable ‘\u001b[01m\u001b[Kmax_truth\u001b[m\u001b[K’ set but not used [\u001b[01;35m\u001b[K-Wunused-but-set-variable\u001b[m\u001b[K]\n",
            "                     float \u001b[01;35m\u001b[Kmax_truth\u001b[m\u001b[K = 0;\n",
            "                           \u001b[01;35m\u001b[K^~~~~~~~~\u001b[m\u001b[K\n",
            "gcc -Iinclude/ -I3rdparty/stb/include -DOPENCV `pkg-config --cflags opencv4 2> /dev/null || pkg-config --cflags opencv` -DGPU -I/usr/local/cuda/include/ -DCUDNN -Wall -Wfatal-errors -Wno-unused-result -Wno-unknown-pragmas -fPIC -Ofast -DOPENCV -DGPU -DCUDNN -I/usr/local/cudnn/include -fPIC -c ./src/data.c -o obj/data.o\n",
            "\u001b[01m\u001b[K./src/data.c:\u001b[m\u001b[K In function ‘\u001b[01m\u001b[Kload_data_detection\u001b[m\u001b[K’:\n",
            "\u001b[01m\u001b[K./src/data.c:1294:24:\u001b[m\u001b[K \u001b[01;35m\u001b[Kwarning: \u001b[m\u001b[Kunused variable ‘\u001b[01m\u001b[Kx\u001b[m\u001b[K’ [\u001b[01;35m\u001b[K-Wunused-variable\u001b[m\u001b[K]\n",
            "                 int k, \u001b[01;35m\u001b[Kx\u001b[m\u001b[K, y;\n",
            "                        \u001b[01;35m\u001b[K^\u001b[m\u001b[K\n",
            "\u001b[01m\u001b[K./src/data.c:1090:43:\u001b[m\u001b[K \u001b[01;35m\u001b[Kwarning: \u001b[m\u001b[Kvariable ‘\u001b[01m\u001b[Kr_scale\u001b[m\u001b[K’ set but not used [\u001b[01;35m\u001b[K-Wunused-but-set-variable\u001b[m\u001b[K]\n",
            "     float r1 = 0, r2 = 0, r3 = 0, r4 = 0, \u001b[01;35m\u001b[Kr_scale\u001b[m\u001b[K = 0;\n",
            "                                           \u001b[01;35m\u001b[K^~~~~~~\u001b[m\u001b[K\n",
            "gcc -Iinclude/ -I3rdparty/stb/include -DOPENCV `pkg-config --cflags opencv4 2> /dev/null || pkg-config --cflags opencv` -DGPU -I/usr/local/cuda/include/ -DCUDNN -Wall -Wfatal-errors -Wno-unused-result -Wno-unknown-pragmas -fPIC -Ofast -DOPENCV -DGPU -DCUDNN -I/usr/local/cudnn/include -fPIC -c ./src/matrix.c -o obj/matrix.o\n",
            "gcc -Iinclude/ -I3rdparty/stb/include -DOPENCV `pkg-config --cflags opencv4 2> /dev/null || pkg-config --cflags opencv` -DGPU -I/usr/local/cuda/include/ -DCUDNN -Wall -Wfatal-errors -Wno-unused-result -Wno-unknown-pragmas -fPIC -Ofast -DOPENCV -DGPU -DCUDNN -I/usr/local/cudnn/include -fPIC -c ./src/network.c -o obj/network.o\n",
            "\u001b[01m\u001b[K./src/network.c:\u001b[m\u001b[K In function ‘\u001b[01m\u001b[Kresize_network\u001b[m\u001b[K’:\n",
            "\u001b[01m\u001b[K./src/network.c:615:42:\u001b[m\u001b[K \u001b[01;35m\u001b[Kwarning: \u001b[m\u001b[Kpassing argument 1 of ‘\u001b[01m\u001b[KcudaHostAlloc\u001b[m\u001b[K’ from incompatible pointer type [\u001b[01;35m\u001b[K-Wincompatible-pointer-types\u001b[m\u001b[K]\n",
            "         if (cudaSuccess == cudaHostAlloc(\u001b[01;35m\u001b[K&\u001b[m\u001b[Knet->input_pinned_cpu, size * sizeof(float), cudaHostRegisterMapped))\n",
            "                                          \u001b[01;35m\u001b[K^\u001b[m\u001b[K\n",
            "In file included from \u001b[01m\u001b[K/usr/local/cuda/include/cuda_runtime.h:96:0\u001b[m\u001b[K,\n",
            "                 from \u001b[01m\u001b[Kinclude/darknet.h:41\u001b[m\u001b[K,\n",
            "                 from \u001b[01m\u001b[K./src/network.c:1\u001b[m\u001b[K:\n",
            "\u001b[01m\u001b[K/usr/local/cuda/include/cuda_runtime_api.h:4412:39:\u001b[m\u001b[K \u001b[01;36m\u001b[Knote: \u001b[m\u001b[Kexpected ‘\u001b[01m\u001b[Kvoid **\u001b[m\u001b[K’ but argument is of type ‘\u001b[01m\u001b[Kfloat **\u001b[m\u001b[K’\n",
            " extern __host__ cudaError_t CUDARTAPI \u001b[01;36m\u001b[KcudaHostAlloc\u001b[m\u001b[K(void **pHost, size_t size, unsigned int flags);\n",
            "                                       \u001b[01;36m\u001b[K^~~~~~~~~~~~~\u001b[m\u001b[K\n",
            "gcc -Iinclude/ -I3rdparty/stb/include -DOPENCV `pkg-config --cflags opencv4 2> /dev/null || pkg-config --cflags opencv` -DGPU -I/usr/local/cuda/include/ -DCUDNN -Wall -Wfatal-errors -Wno-unused-result -Wno-unknown-pragmas -fPIC -Ofast -DOPENCV -DGPU -DCUDNN -I/usr/local/cudnn/include -fPIC -c ./src/connected_layer.c -o obj/connected_layer.o\n",
            "\u001b[01m\u001b[K./src/connected_layer.c:\u001b[m\u001b[K In function ‘\u001b[01m\u001b[Kforward_connected_layer_gpu\u001b[m\u001b[K’:\n",
            "\u001b[01m\u001b[K./src/connected_layer.c:346:11:\u001b[m\u001b[K \u001b[01;35m\u001b[Kwarning: \u001b[m\u001b[Kunused variable ‘\u001b[01m\u001b[Kone\u001b[m\u001b[K’ [\u001b[01;35m\u001b[K-Wunused-variable\u001b[m\u001b[K]\n",
            "     float \u001b[01;35m\u001b[Kone\u001b[m\u001b[K = 1;    // alpha[0], beta[0]\n",
            "           \u001b[01;35m\u001b[K^~~\u001b[m\u001b[K\n",
            "\u001b[01m\u001b[K./src/connected_layer.c:344:13:\u001b[m\u001b[K \u001b[01;35m\u001b[Kwarning: \u001b[m\u001b[Kunused variable ‘\u001b[01m\u001b[Kc\u001b[m\u001b[K’ [\u001b[01;35m\u001b[K-Wunused-variable\u001b[m\u001b[K]\n",
            "     float * \u001b[01;35m\u001b[Kc\u001b[m\u001b[K = l.output_gpu;\n",
            "             \u001b[01;35m\u001b[K^\u001b[m\u001b[K\n",
            "\u001b[01m\u001b[K./src/connected_layer.c:343:13:\u001b[m\u001b[K \u001b[01;35m\u001b[Kwarning: \u001b[m\u001b[Kunused variable ‘\u001b[01m\u001b[Kb\u001b[m\u001b[K’ [\u001b[01;35m\u001b[K-Wunused-variable\u001b[m\u001b[K]\n",
            "     float * \u001b[01;35m\u001b[Kb\u001b[m\u001b[K = l.weights_gpu;\n",
            "             \u001b[01;35m\u001b[K^\u001b[m\u001b[K\n",
            "\u001b[01m\u001b[K./src/connected_layer.c:342:13:\u001b[m\u001b[K \u001b[01;35m\u001b[Kwarning: \u001b[m\u001b[Kunused variable ‘\u001b[01m\u001b[Ka\u001b[m\u001b[K’ [\u001b[01;35m\u001b[K-Wunused-variable\u001b[m\u001b[K]\n",
            "     float * \u001b[01;35m\u001b[Ka\u001b[m\u001b[K = state.input;\n",
            "             \u001b[01;35m\u001b[K^\u001b[m\u001b[K\n",
            "\u001b[01m\u001b[K./src/connected_layer.c:341:9:\u001b[m\u001b[K \u001b[01;35m\u001b[Kwarning: \u001b[m\u001b[Kunused variable ‘\u001b[01m\u001b[Kn\u001b[m\u001b[K’ [\u001b[01;35m\u001b[K-Wunused-variable\u001b[m\u001b[K]\n",
            "     int \u001b[01;35m\u001b[Kn\u001b[m\u001b[K = l.outputs;\n",
            "         \u001b[01;35m\u001b[K^\u001b[m\u001b[K\n",
            "\u001b[01m\u001b[K./src/connected_layer.c:340:9:\u001b[m\u001b[K \u001b[01;35m\u001b[Kwarning: \u001b[m\u001b[Kunused variable ‘\u001b[01m\u001b[Kk\u001b[m\u001b[K’ [\u001b[01;35m\u001b[K-Wunused-variable\u001b[m\u001b[K]\n",
            "     int \u001b[01;35m\u001b[Kk\u001b[m\u001b[K = l.inputs;\n",
            "         \u001b[01;35m\u001b[K^\u001b[m\u001b[K\n",
            "\u001b[01m\u001b[K./src/connected_layer.c:339:9:\u001b[m\u001b[K \u001b[01;35m\u001b[Kwarning: \u001b[m\u001b[Kunused variable ‘\u001b[01m\u001b[Km\u001b[m\u001b[K’ [\u001b[01;35m\u001b[K-Wunused-variable\u001b[m\u001b[K]\n",
            "     int \u001b[01;35m\u001b[Km\u001b[m\u001b[K = l.batch;\n",
            "         \u001b[01;35m\u001b[K^\u001b[m\u001b[K\n",
            "gcc -Iinclude/ -I3rdparty/stb/include -DOPENCV `pkg-config --cflags opencv4 2> /dev/null || pkg-config --cflags opencv` -DGPU -I/usr/local/cuda/include/ -DCUDNN -Wall -Wfatal-errors -Wno-unused-result -Wno-unknown-pragmas -fPIC -Ofast -DOPENCV -DGPU -DCUDNN -I/usr/local/cudnn/include -fPIC -c ./src/cost_layer.c -o obj/cost_layer.o\n",
            "gcc -Iinclude/ -I3rdparty/stb/include -DOPENCV `pkg-config --cflags opencv4 2> /dev/null || pkg-config --cflags opencv` -DGPU -I/usr/local/cuda/include/ -DCUDNN -Wall -Wfatal-errors -Wno-unused-result -Wno-unknown-pragmas -fPIC -Ofast -DOPENCV -DGPU -DCUDNN -I/usr/local/cudnn/include -fPIC -c ./src/parser.c -o obj/parser.o\n",
            "\u001b[01m\u001b[K./src/parser.c:\u001b[m\u001b[K In function ‘\u001b[01m\u001b[Kparse_network_cfg_custom\u001b[m\u001b[K’:\n",
            "\u001b[01m\u001b[K./src/parser.c:1642:42:\u001b[m\u001b[K \u001b[01;35m\u001b[Kwarning: \u001b[m\u001b[Kpassing argument 1 of ‘\u001b[01m\u001b[KcudaHostAlloc\u001b[m\u001b[K’ from incompatible pointer type [\u001b[01;35m\u001b[K-Wincompatible-pointer-types\u001b[m\u001b[K]\n",
            "         if (cudaSuccess == cudaHostAlloc(\u001b[01;35m\u001b[K&\u001b[m\u001b[Knet.input_pinned_cpu, size * sizeof(float), cudaHostRegisterMapped)) net.input_pinned_cpu_flag = 1;\n",
            "                                          \u001b[01;35m\u001b[K^\u001b[m\u001b[K\n",
            "In file included from \u001b[01m\u001b[K/usr/local/cuda/include/cuda_runtime.h:96:0\u001b[m\u001b[K,\n",
            "                 from \u001b[01m\u001b[Kinclude/darknet.h:41\u001b[m\u001b[K,\n",
            "                 from \u001b[01m\u001b[K./src/activations.h:3\u001b[m\u001b[K,\n",
            "                 from \u001b[01m\u001b[K./src/activation_layer.h:4\u001b[m\u001b[K,\n",
            "                 from \u001b[01m\u001b[K./src/parser.c:6\u001b[m\u001b[K:\n",
            "\u001b[01m\u001b[K/usr/local/cuda/include/cuda_runtime_api.h:4412:39:\u001b[m\u001b[K \u001b[01;36m\u001b[Knote: \u001b[m\u001b[Kexpected ‘\u001b[01m\u001b[Kvoid **\u001b[m\u001b[K’ but argument is of type ‘\u001b[01m\u001b[Kfloat **\u001b[m\u001b[K’\n",
            " extern __host__ cudaError_t CUDARTAPI \u001b[01;36m\u001b[KcudaHostAlloc\u001b[m\u001b[K(void **pHost, size_t size, unsigned int flags);\n",
            "                                       \u001b[01;36m\u001b[K^~~~~~~~~~~~~\u001b[m\u001b[K\n",
            "\u001b[01m\u001b[K./src/parser.c:\u001b[m\u001b[K In function ‘\u001b[01m\u001b[Kget_classes_multipliers\u001b[m\u001b[K’:\n",
            "\u001b[01m\u001b[K./src/parser.c:413:29:\u001b[m\u001b[K \u001b[01;35m\u001b[Kwarning: \u001b[m\u001b[Kargument 1 range [18446744071562067968, 18446744073709551615] exceeds maximum object size 9223372036854775807 [\u001b[01;35m\u001b[K-Walloc-size-larger-than=\u001b[m\u001b[K]\n",
            "         \u001b[01;35m\u001b[Kclasses_multipliers = (float *)calloc(classes_counters, sizeof(float))\u001b[m\u001b[K;\n",
            "         \u001b[01;35m\u001b[K~~~~~~~~~~~~~~~~~~~~^~~~~~~~~~~~~~~~~~~~~~~~~~~~~~~~~~~~~~~~~~~~~~~~~~\u001b[m\u001b[K\n",
            "In file included from \u001b[01m\u001b[K./src/parser.c:3:0\u001b[m\u001b[K:\n",
            "\u001b[01m\u001b[K/usr/include/stdlib.h:541:14:\u001b[m\u001b[K \u001b[01;36m\u001b[Knote: \u001b[m\u001b[Kin a call to allocation function ‘\u001b[01m\u001b[Kcalloc\u001b[m\u001b[K’ declared here\n",
            " extern void *\u001b[01;36m\u001b[Kcalloc\u001b[m\u001b[K (size_t __nmemb, size_t __size)\n",
            "              \u001b[01;36m\u001b[K^~~~~~\u001b[m\u001b[K\n",
            "gcc -Iinclude/ -I3rdparty/stb/include -DOPENCV `pkg-config --cflags opencv4 2> /dev/null || pkg-config --cflags opencv` -DGPU -I/usr/local/cuda/include/ -DCUDNN -Wall -Wfatal-errors -Wno-unused-result -Wno-unknown-pragmas -fPIC -Ofast -DOPENCV -DGPU -DCUDNN -I/usr/local/cudnn/include -fPIC -c ./src/option_list.c -o obj/option_list.o\n",
            "gcc -Iinclude/ -I3rdparty/stb/include -DOPENCV `pkg-config --cflags opencv4 2> /dev/null || pkg-config --cflags opencv` -DGPU -I/usr/local/cuda/include/ -DCUDNN -Wall -Wfatal-errors -Wno-unused-result -Wno-unknown-pragmas -fPIC -Ofast -DOPENCV -DGPU -DCUDNN -I/usr/local/cudnn/include -fPIC -c ./src/darknet.c -o obj/darknet.o\n",
            "gcc -Iinclude/ -I3rdparty/stb/include -DOPENCV `pkg-config --cflags opencv4 2> /dev/null || pkg-config --cflags opencv` -DGPU -I/usr/local/cuda/include/ -DCUDNN -Wall -Wfatal-errors -Wno-unused-result -Wno-unknown-pragmas -fPIC -Ofast -DOPENCV -DGPU -DCUDNN -I/usr/local/cudnn/include -fPIC -c ./src/detection_layer.c -o obj/detection_layer.o\n",
            "gcc -Iinclude/ -I3rdparty/stb/include -DOPENCV `pkg-config --cflags opencv4 2> /dev/null || pkg-config --cflags opencv` -DGPU -I/usr/local/cuda/include/ -DCUDNN -Wall -Wfatal-errors -Wno-unused-result -Wno-unknown-pragmas -fPIC -Ofast -DOPENCV -DGPU -DCUDNN -I/usr/local/cudnn/include -fPIC -c ./src/captcha.c -o obj/captcha.o\n",
            "gcc -Iinclude/ -I3rdparty/stb/include -DOPENCV `pkg-config --cflags opencv4 2> /dev/null || pkg-config --cflags opencv` -DGPU -I/usr/local/cuda/include/ -DCUDNN -Wall -Wfatal-errors -Wno-unused-result -Wno-unknown-pragmas -fPIC -Ofast -DOPENCV -DGPU -DCUDNN -I/usr/local/cudnn/include -fPIC -c ./src/route_layer.c -o obj/route_layer.o\n",
            "gcc -Iinclude/ -I3rdparty/stb/include -DOPENCV `pkg-config --cflags opencv4 2> /dev/null || pkg-config --cflags opencv` -DGPU -I/usr/local/cuda/include/ -DCUDNN -Wall -Wfatal-errors -Wno-unused-result -Wno-unknown-pragmas -fPIC -Ofast -DOPENCV -DGPU -DCUDNN -I/usr/local/cudnn/include -fPIC -c ./src/writing.c -o obj/writing.o\n",
            "gcc -Iinclude/ -I3rdparty/stb/include -DOPENCV `pkg-config --cflags opencv4 2> /dev/null || pkg-config --cflags opencv` -DGPU -I/usr/local/cuda/include/ -DCUDNN -Wall -Wfatal-errors -Wno-unused-result -Wno-unknown-pragmas -fPIC -Ofast -DOPENCV -DGPU -DCUDNN -I/usr/local/cudnn/include -fPIC -c ./src/box.c -o obj/box.o\n",
            "\u001b[01m\u001b[K./src/box.c:\u001b[m\u001b[K In function ‘\u001b[01m\u001b[Kbox_iou_kind\u001b[m\u001b[K’:\n",
            "\u001b[01m\u001b[K./src/box.c:154:5:\u001b[m\u001b[K \u001b[01;35m\u001b[Kwarning: \u001b[m\u001b[Kenumeration value ‘\u001b[01m\u001b[KMSE\u001b[m\u001b[K’ not handled in switch [\u001b[01;35m\u001b[K-Wswitch\u001b[m\u001b[K]\n",
            "     \u001b[01;35m\u001b[Kswitch\u001b[m\u001b[K(iou_kind) {\n",
            "     \u001b[01;35m\u001b[K^~~~~~\u001b[m\u001b[K\n",
            "\u001b[01m\u001b[K./src/box.c:\u001b[m\u001b[K In function ‘\u001b[01m\u001b[Kdiounms_sort\u001b[m\u001b[K’:\n",
            "\u001b[01m\u001b[K./src/box.c:898:27:\u001b[m\u001b[K \u001b[01;35m\u001b[Kwarning: \u001b[m\u001b[Kunused variable ‘\u001b[01m\u001b[Kbeta_prob\u001b[m\u001b[K’ [\u001b[01;35m\u001b[K-Wunused-variable\u001b[m\u001b[K]\n",
            "                     float \u001b[01;35m\u001b[Kbeta_prob\u001b[m\u001b[K = pow(dets[j].prob[k], 2) / sum_prob;\n",
            "                           \u001b[01;35m\u001b[K^~~~~~~~~\u001b[m\u001b[K\n",
            "\u001b[01m\u001b[K./src/box.c:897:27:\u001b[m\u001b[K \u001b[01;35m\u001b[Kwarning: \u001b[m\u001b[Kunused variable ‘\u001b[01m\u001b[Kalpha_prob\u001b[m\u001b[K’ [\u001b[01;35m\u001b[K-Wunused-variable\u001b[m\u001b[K]\n",
            "                     float \u001b[01;35m\u001b[Kalpha_prob\u001b[m\u001b[K = pow(dets[i].prob[k], 2) / sum_prob;\n",
            "                           \u001b[01;35m\u001b[K^~~~~~~~~~\u001b[m\u001b[K\n",
            "gcc -Iinclude/ -I3rdparty/stb/include -DOPENCV `pkg-config --cflags opencv4 2> /dev/null || pkg-config --cflags opencv` -DGPU -I/usr/local/cuda/include/ -DCUDNN -Wall -Wfatal-errors -Wno-unused-result -Wno-unknown-pragmas -fPIC -Ofast -DOPENCV -DGPU -DCUDNN -I/usr/local/cudnn/include -fPIC -c ./src/nightmare.c -o obj/nightmare.o\n",
            "gcc -Iinclude/ -I3rdparty/stb/include -DOPENCV `pkg-config --cflags opencv4 2> /dev/null || pkg-config --cflags opencv` -DGPU -I/usr/local/cuda/include/ -DCUDNN -Wall -Wfatal-errors -Wno-unused-result -Wno-unknown-pragmas -fPIC -Ofast -DOPENCV -DGPU -DCUDNN -I/usr/local/cudnn/include -fPIC -c ./src/normalization_layer.c -o obj/normalization_layer.o\n",
            "gcc -Iinclude/ -I3rdparty/stb/include -DOPENCV `pkg-config --cflags opencv4 2> /dev/null || pkg-config --cflags opencv` -DGPU -I/usr/local/cuda/include/ -DCUDNN -Wall -Wfatal-errors -Wno-unused-result -Wno-unknown-pragmas -fPIC -Ofast -DOPENCV -DGPU -DCUDNN -I/usr/local/cudnn/include -fPIC -c ./src/avgpool_layer.c -o obj/avgpool_layer.o\n",
            "gcc -Iinclude/ -I3rdparty/stb/include -DOPENCV `pkg-config --cflags opencv4 2> /dev/null || pkg-config --cflags opencv` -DGPU -I/usr/local/cuda/include/ -DCUDNN -Wall -Wfatal-errors -Wno-unused-result -Wno-unknown-pragmas -fPIC -Ofast -DOPENCV -DGPU -DCUDNN -I/usr/local/cudnn/include -fPIC -c ./src/coco.c -o obj/coco.o\n",
            "\u001b[01m\u001b[K./src/coco.c:\u001b[m\u001b[K In function ‘\u001b[01m\u001b[Kvalidate_coco_recall\u001b[m\u001b[K’:\n",
            "\u001b[01m\u001b[K./src/coco.c:248:11:\u001b[m\u001b[K \u001b[01;35m\u001b[Kwarning: \u001b[m\u001b[Kunused variable ‘\u001b[01m\u001b[Kbase\u001b[m\u001b[K’ [\u001b[01;35m\u001b[K-Wunused-variable\u001b[m\u001b[K]\n",
            "     char *\u001b[01;35m\u001b[Kbase\u001b[m\u001b[K = \"results/comp4_det_test_\";\n",
            "           \u001b[01;35m\u001b[K^~~~\u001b[m\u001b[K\n",
            "gcc -Iinclude/ -I3rdparty/stb/include -DOPENCV `pkg-config --cflags opencv4 2> /dev/null || pkg-config --cflags opencv` -DGPU -I/usr/local/cuda/include/ -DCUDNN -Wall -Wfatal-errors -Wno-unused-result -Wno-unknown-pragmas -fPIC -Ofast -DOPENCV -DGPU -DCUDNN -I/usr/local/cudnn/include -fPIC -c ./src/dice.c -o obj/dice.o\n",
            "gcc -Iinclude/ -I3rdparty/stb/include -DOPENCV `pkg-config --cflags opencv4 2> /dev/null || pkg-config --cflags opencv` -DGPU -I/usr/local/cuda/include/ -DCUDNN -Wall -Wfatal-errors -Wno-unused-result -Wno-unknown-pragmas -fPIC -Ofast -DOPENCV -DGPU -DCUDNN -I/usr/local/cudnn/include -fPIC -c ./src/yolo.c -o obj/yolo.o\n",
            "gcc -Iinclude/ -I3rdparty/stb/include -DOPENCV `pkg-config --cflags opencv4 2> /dev/null || pkg-config --cflags opencv` -DGPU -I/usr/local/cuda/include/ -DCUDNN -Wall -Wfatal-errors -Wno-unused-result -Wno-unknown-pragmas -fPIC -Ofast -DOPENCV -DGPU -DCUDNN -I/usr/local/cudnn/include -fPIC -c ./src/detector.c -o obj/detector.o\n",
            "\u001b[01m\u001b[K./src/detector.c:\u001b[m\u001b[K In function ‘\u001b[01m\u001b[Kprint_cocos\u001b[m\u001b[K’:\n",
            "\u001b[01m\u001b[K./src/detector.c:476:29:\u001b[m\u001b[K \u001b[01;35m\u001b[Kwarning: \u001b[m\u001b[Kformat not a string literal and no format arguments [\u001b[01;35m\u001b[K-Wformat-security\u001b[m\u001b[K]\n",
            "                 fprintf(fp, \u001b[01;35m\u001b[Kbuff\u001b[m\u001b[K);\n",
            "                             \u001b[01;35m\u001b[K^~~~\u001b[m\u001b[K\n",
            "\u001b[01m\u001b[K./src/detector.c:\u001b[m\u001b[K In function ‘\u001b[01m\u001b[Keliminate_bdd\u001b[m\u001b[K’:\n",
            "\u001b[01m\u001b[K./src/detector.c:569:21:\u001b[m\u001b[K \u001b[01;35m\u001b[Kwarning: \u001b[m\u001b[Kstatement with no effect [\u001b[01;35m\u001b[K-Wunused-value\u001b[m\u001b[K]\n",
            "                     \u001b[01;35m\u001b[Kfor\u001b[m\u001b[K (k; buf[k + n] != '\\0'; k++)\n",
            "                     \u001b[01;35m\u001b[K^~~\u001b[m\u001b[K\n",
            "\u001b[01m\u001b[K./src/detector.c:\u001b[m\u001b[K In function ‘\u001b[01m\u001b[Kvalidate_detector\u001b[m\u001b[K’:\n",
            "\u001b[01m\u001b[K./src/detector.c:690:13:\u001b[m\u001b[K \u001b[01;35m\u001b[Kwarning: \u001b[m\u001b[Kunused variable ‘\u001b[01m\u001b[Kmkd2\u001b[m\u001b[K’ [\u001b[01;35m\u001b[K-Wunused-variable\u001b[m\u001b[K]\n",
            "         int \u001b[01;35m\u001b[Kmkd2\u001b[m\u001b[K = make_directory(buff2, 0777);\n",
            "             \u001b[01;35m\u001b[K^~~~\u001b[m\u001b[K\n",
            "\u001b[01m\u001b[K./src/detector.c:688:13:\u001b[m\u001b[K \u001b[01;35m\u001b[Kwarning: \u001b[m\u001b[Kunused variable ‘\u001b[01m\u001b[Kmkd\u001b[m\u001b[K’ [\u001b[01;35m\u001b[K-Wunused-variable\u001b[m\u001b[K]\n",
            "         int \u001b[01;35m\u001b[Kmkd\u001b[m\u001b[K = make_directory(buff, 0777);\n",
            "             \u001b[01;35m\u001b[K^~~\u001b[m\u001b[K\n",
            "\u001b[01m\u001b[K./src/detector.c:\u001b[m\u001b[K In function ‘\u001b[01m\u001b[Kvalidate_detector_map\u001b[m\u001b[K’:\n",
            "\u001b[01m\u001b[K./src/detector.c:1321:15:\u001b[m\u001b[K \u001b[01;35m\u001b[Kwarning: \u001b[m\u001b[Kunused variable ‘\u001b[01m\u001b[Kclass_recall\u001b[m\u001b[K’ [\u001b[01;35m\u001b[K-Wunused-variable\u001b[m\u001b[K]\n",
            "         float \u001b[01;35m\u001b[Kclass_recall\u001b[m\u001b[K = (float)tp_for_thresh_per_class[i] / ((float)tp_for_thresh_per_class[i] + (float)(truth_classes_count[i] - tp_for_thresh_per_class[i]));\n",
            "               \u001b[01;35m\u001b[K^~~~~~~~~~~~\u001b[m\u001b[K\n",
            "\u001b[01m\u001b[K./src/detector.c:1320:15:\u001b[m\u001b[K \u001b[01;35m\u001b[Kwarning: \u001b[m\u001b[Kunused variable ‘\u001b[01m\u001b[Kclass_precision\u001b[m\u001b[K’ [\u001b[01;35m\u001b[K-Wunused-variable\u001b[m\u001b[K]\n",
            "         float \u001b[01;35m\u001b[Kclass_precision\u001b[m\u001b[K = (float)tp_for_thresh_per_class[i] / ((float)tp_for_thresh_per_class[i] + (float)fp_for_thresh_per_class[i]);\n",
            "               \u001b[01;35m\u001b[K^~~~~~~~~~~~~~~\u001b[m\u001b[K\n",
            "\u001b[01m\u001b[K./src/detector.c:\u001b[m\u001b[K In function ‘\u001b[01m\u001b[Kdraw_object\u001b[m\u001b[K’:\n",
            "\u001b[01m\u001b[K./src/detector.c:1855:19:\u001b[m\u001b[K \u001b[01;35m\u001b[Kwarning: \u001b[m\u001b[Kunused variable ‘\u001b[01m\u001b[Kinv_loss\u001b[m\u001b[K’ [\u001b[01;35m\u001b[K-Wunused-variable\u001b[m\u001b[K]\n",
            "             float \u001b[01;35m\u001b[Kinv_loss\u001b[m\u001b[K = 1.0 / max_val_cmp(0.01, avg_loss);\n",
            "                   \u001b[01;35m\u001b[K^~~~~~~~\u001b[m\u001b[K\n",
            "gcc -Iinclude/ -I3rdparty/stb/include -DOPENCV `pkg-config --cflags opencv4 2> /dev/null || pkg-config --cflags opencv` -DGPU -I/usr/local/cuda/include/ -DCUDNN -Wall -Wfatal-errors -Wno-unused-result -Wno-unknown-pragmas -fPIC -Ofast -DOPENCV -DGPU -DCUDNN -I/usr/local/cudnn/include -fPIC -c ./src/layer.c -o obj/layer.o\n",
            "\u001b[01m\u001b[K./src/layer.c:\u001b[m\u001b[K In function ‘\u001b[01m\u001b[Kfree_layer_custom\u001b[m\u001b[K’:\n",
            "\u001b[01m\u001b[K./src/layer.c:203:68:\u001b[m\u001b[K \u001b[01;35m\u001b[Kwarning: \u001b[m\u001b[Ksuggest parentheses around ‘\u001b[01m\u001b[K&&\u001b[m\u001b[K’ within ‘\u001b[01m\u001b[K||\u001b[m\u001b[K’ [\u001b[01;35m\u001b[K-Wparentheses\u001b[m\u001b[K]\n",
            "     if (l.delta_gpu && (l.optimized_memory < 1 || \u001b[01;35m\u001b[Kl.keep_delta_gpu && l.optimized_memory < 3\u001b[m\u001b[K)) cuda_free(l.delta_gpu), l.delta_gpu = NULL;\n",
            "                                                   \u001b[01;35m\u001b[K~~~~~~~~~~~~~~~~~^~~~~~~~~~~~~~~~~~~~~~~~~\u001b[m\u001b[K\n",
            "gcc -Iinclude/ -I3rdparty/stb/include -DOPENCV `pkg-config --cflags opencv4 2> /dev/null || pkg-config --cflags opencv` -DGPU -I/usr/local/cuda/include/ -DCUDNN -Wall -Wfatal-errors -Wno-unused-result -Wno-unknown-pragmas -fPIC -Ofast -DOPENCV -DGPU -DCUDNN -I/usr/local/cudnn/include -fPIC -c ./src/compare.c -o obj/compare.o\n",
            "gcc -Iinclude/ -I3rdparty/stb/include -DOPENCV `pkg-config --cflags opencv4 2> /dev/null || pkg-config --cflags opencv` -DGPU -I/usr/local/cuda/include/ -DCUDNN -Wall -Wfatal-errors -Wno-unused-result -Wno-unknown-pragmas -fPIC -Ofast -DOPENCV -DGPU -DCUDNN -I/usr/local/cudnn/include -fPIC -c ./src/classifier.c -o obj/classifier.o\n",
            "\u001b[01m\u001b[K./src/classifier.c:\u001b[m\u001b[K In function ‘\u001b[01m\u001b[Ktrain_classifier\u001b[m\u001b[K’:\n",
            "\u001b[01m\u001b[K./src/classifier.c:146:9:\u001b[m\u001b[K \u001b[01;35m\u001b[Kwarning: \u001b[m\u001b[Kunused variable ‘\u001b[01m\u001b[Kcount\u001b[m\u001b[K’ [\u001b[01;35m\u001b[K-Wunused-variable\u001b[m\u001b[K]\n",
            "     int \u001b[01;35m\u001b[Kcount\u001b[m\u001b[K = 0;\n",
            "         \u001b[01;35m\u001b[K^~~~~\u001b[m\u001b[K\n",
            "\u001b[01m\u001b[K./src/classifier.c:\u001b[m\u001b[K In function ‘\u001b[01m\u001b[Kpredict_classifier\u001b[m\u001b[K’:\n",
            "\u001b[01m\u001b[K./src/classifier.c:855:13:\u001b[m\u001b[K \u001b[01;35m\u001b[Kwarning: \u001b[m\u001b[Kunused variable ‘\u001b[01m\u001b[Ktime\u001b[m\u001b[K’ [\u001b[01;35m\u001b[K-Wunused-variable\u001b[m\u001b[K]\n",
            "     clock_t \u001b[01;35m\u001b[Ktime\u001b[m\u001b[K;\n",
            "             \u001b[01;35m\u001b[K^~~~\u001b[m\u001b[K\n",
            "\u001b[01m\u001b[K./src/classifier.c:\u001b[m\u001b[K In function ‘\u001b[01m\u001b[Kdemo_classifier\u001b[m\u001b[K’:\n",
            "\u001b[01m\u001b[K./src/classifier.c:1285:49:\u001b[m\u001b[K \u001b[01;35m\u001b[Kwarning: \u001b[m\u001b[Kunused variable ‘\u001b[01m\u001b[Ktval_result\u001b[m\u001b[K’ [\u001b[01;35m\u001b[K-Wunused-variable\u001b[m\u001b[K]\n",
            "         struct timeval tval_before, tval_after, \u001b[01;35m\u001b[Ktval_result\u001b[m\u001b[K;\n",
            "                                                 \u001b[01;35m\u001b[K^~~~~~~~~~~\u001b[m\u001b[K\n",
            "\u001b[01m\u001b[K./src/classifier.c:1285:37:\u001b[m\u001b[K \u001b[01;35m\u001b[Kwarning: \u001b[m\u001b[Kunused variable ‘\u001b[01m\u001b[Ktval_after\u001b[m\u001b[K’ [\u001b[01;35m\u001b[K-Wunused-variable\u001b[m\u001b[K]\n",
            "         struct timeval tval_before, \u001b[01;35m\u001b[Ktval_after\u001b[m\u001b[K, tval_result;\n",
            "                                     \u001b[01;35m\u001b[K^~~~~~~~~~\u001b[m\u001b[K\n",
            "gcc -Iinclude/ -I3rdparty/stb/include -DOPENCV `pkg-config --cflags opencv4 2> /dev/null || pkg-config --cflags opencv` -DGPU -I/usr/local/cuda/include/ -DCUDNN -Wall -Wfatal-errors -Wno-unused-result -Wno-unknown-pragmas -fPIC -Ofast -DOPENCV -DGPU -DCUDNN -I/usr/local/cudnn/include -fPIC -c ./src/local_layer.c -o obj/local_layer.o\n",
            "gcc -Iinclude/ -I3rdparty/stb/include -DOPENCV `pkg-config --cflags opencv4 2> /dev/null || pkg-config --cflags opencv` -DGPU -I/usr/local/cuda/include/ -DCUDNN -Wall -Wfatal-errors -Wno-unused-result -Wno-unknown-pragmas -fPIC -Ofast -DOPENCV -DGPU -DCUDNN -I/usr/local/cudnn/include -fPIC -c ./src/swag.c -o obj/swag.o\n",
            "gcc -Iinclude/ -I3rdparty/stb/include -DOPENCV `pkg-config --cflags opencv4 2> /dev/null || pkg-config --cflags opencv` -DGPU -I/usr/local/cuda/include/ -DCUDNN -Wall -Wfatal-errors -Wno-unused-result -Wno-unknown-pragmas -fPIC -Ofast -DOPENCV -DGPU -DCUDNN -I/usr/local/cudnn/include -fPIC -c ./src/shortcut_layer.c -o obj/shortcut_layer.o\n",
            "\u001b[01m\u001b[K./src/shortcut_layer.c:\u001b[m\u001b[K In function ‘\u001b[01m\u001b[Kmake_shortcut_layer\u001b[m\u001b[K’:\n",
            "\u001b[01m\u001b[K./src/shortcut_layer.c:55:15:\u001b[m\u001b[K \u001b[01;35m\u001b[Kwarning: \u001b[m\u001b[Kunused variable ‘\u001b[01m\u001b[Kscale\u001b[m\u001b[K’ [\u001b[01;35m\u001b[K-Wunused-variable\u001b[m\u001b[K]\n",
            "         float \u001b[01;35m\u001b[Kscale\u001b[m\u001b[K = sqrt(2. / l.nweights);\n",
            "               \u001b[01;35m\u001b[K^~~~~\u001b[m\u001b[K\n",
            "gcc -Iinclude/ -I3rdparty/stb/include -DOPENCV `pkg-config --cflags opencv4 2> /dev/null || pkg-config --cflags opencv` -DGPU -I/usr/local/cuda/include/ -DCUDNN -Wall -Wfatal-errors -Wno-unused-result -Wno-unknown-pragmas -fPIC -Ofast -DOPENCV -DGPU -DCUDNN -I/usr/local/cudnn/include -fPIC -c ./src/activation_layer.c -o obj/activation_layer.o\n",
            "gcc -Iinclude/ -I3rdparty/stb/include -DOPENCV `pkg-config --cflags opencv4 2> /dev/null || pkg-config --cflags opencv` -DGPU -I/usr/local/cuda/include/ -DCUDNN -Wall -Wfatal-errors -Wno-unused-result -Wno-unknown-pragmas -fPIC -Ofast -DOPENCV -DGPU -DCUDNN -I/usr/local/cudnn/include -fPIC -c ./src/rnn_layer.c -o obj/rnn_layer.o\n",
            "gcc -Iinclude/ -I3rdparty/stb/include -DOPENCV `pkg-config --cflags opencv4 2> /dev/null || pkg-config --cflags opencv` -DGPU -I/usr/local/cuda/include/ -DCUDNN -Wall -Wfatal-errors -Wno-unused-result -Wno-unknown-pragmas -fPIC -Ofast -DOPENCV -DGPU -DCUDNN -I/usr/local/cudnn/include -fPIC -c ./src/gru_layer.c -o obj/gru_layer.o\n",
            "gcc -Iinclude/ -I3rdparty/stb/include -DOPENCV `pkg-config --cflags opencv4 2> /dev/null || pkg-config --cflags opencv` -DGPU -I/usr/local/cuda/include/ -DCUDNN -Wall -Wfatal-errors -Wno-unused-result -Wno-unknown-pragmas -fPIC -Ofast -DOPENCV -DGPU -DCUDNN -I/usr/local/cudnn/include -fPIC -c ./src/rnn.c -o obj/rnn.o\n",
            "gcc -Iinclude/ -I3rdparty/stb/include -DOPENCV `pkg-config --cflags opencv4 2> /dev/null || pkg-config --cflags opencv` -DGPU -I/usr/local/cuda/include/ -DCUDNN -Wall -Wfatal-errors -Wno-unused-result -Wno-unknown-pragmas -fPIC -Ofast -DOPENCV -DGPU -DCUDNN -I/usr/local/cudnn/include -fPIC -c ./src/rnn_vid.c -o obj/rnn_vid.o\n",
            "gcc -Iinclude/ -I3rdparty/stb/include -DOPENCV `pkg-config --cflags opencv4 2> /dev/null || pkg-config --cflags opencv` -DGPU -I/usr/local/cuda/include/ -DCUDNN -Wall -Wfatal-errors -Wno-unused-result -Wno-unknown-pragmas -fPIC -Ofast -DOPENCV -DGPU -DCUDNN -I/usr/local/cudnn/include -fPIC -c ./src/crnn_layer.c -o obj/crnn_layer.o\n",
            "gcc -Iinclude/ -I3rdparty/stb/include -DOPENCV `pkg-config --cflags opencv4 2> /dev/null || pkg-config --cflags opencv` -DGPU -I/usr/local/cuda/include/ -DCUDNN -Wall -Wfatal-errors -Wno-unused-result -Wno-unknown-pragmas -fPIC -Ofast -DOPENCV -DGPU -DCUDNN -I/usr/local/cudnn/include -fPIC -c ./src/demo.c -o obj/demo.o\n",
            "\u001b[01m\u001b[K./src/demo.c:\u001b[m\u001b[K In function ‘\u001b[01m\u001b[Kdetect_in_thread\u001b[m\u001b[K’:\n",
            "\u001b[01m\u001b[K./src/demo.c:100:16:\u001b[m\u001b[K \u001b[01;35m\u001b[Kwarning: \u001b[m\u001b[Kunused variable ‘\u001b[01m\u001b[Kprediction\u001b[m\u001b[K’ [\u001b[01;35m\u001b[K-Wunused-variable\u001b[m\u001b[K]\n",
            "         float *\u001b[01;35m\u001b[Kprediction\u001b[m\u001b[K = network_predict(net, X);\n",
            "                \u001b[01;35m\u001b[K^~~~~~~~~~\u001b[m\u001b[K\n",
            "\u001b[01m\u001b[K./src/demo.c:98:15:\u001b[m\u001b[K \u001b[01;35m\u001b[Kwarning: \u001b[m\u001b[Kunused variable ‘\u001b[01m\u001b[Kl\u001b[m\u001b[K’ [\u001b[01;35m\u001b[K-Wunused-variable\u001b[m\u001b[K]\n",
            "         layer \u001b[01;35m\u001b[Kl\u001b[m\u001b[K = net.layers[net.n - 1];\n",
            "               \u001b[01;35m\u001b[K^\u001b[m\u001b[K\n",
            "gcc -Iinclude/ -I3rdparty/stb/include -DOPENCV `pkg-config --cflags opencv4 2> /dev/null || pkg-config --cflags opencv` -DGPU -I/usr/local/cuda/include/ -DCUDNN -Wall -Wfatal-errors -Wno-unused-result -Wno-unknown-pragmas -fPIC -Ofast -DOPENCV -DGPU -DCUDNN -I/usr/local/cudnn/include -fPIC -c ./src/tag.c -o obj/tag.o\n",
            "gcc -Iinclude/ -I3rdparty/stb/include -DOPENCV `pkg-config --cflags opencv4 2> /dev/null || pkg-config --cflags opencv` -DGPU -I/usr/local/cuda/include/ -DCUDNN -Wall -Wfatal-errors -Wno-unused-result -Wno-unknown-pragmas -fPIC -Ofast -DOPENCV -DGPU -DCUDNN -I/usr/local/cudnn/include -fPIC -c ./src/cifar.c -o obj/cifar.o\n",
            "gcc -Iinclude/ -I3rdparty/stb/include -DOPENCV `pkg-config --cflags opencv4 2> /dev/null || pkg-config --cflags opencv` -DGPU -I/usr/local/cuda/include/ -DCUDNN -Wall -Wfatal-errors -Wno-unused-result -Wno-unknown-pragmas -fPIC -Ofast -DOPENCV -DGPU -DCUDNN -I/usr/local/cudnn/include -fPIC -c ./src/go.c -o obj/go.o\n",
            "gcc -Iinclude/ -I3rdparty/stb/include -DOPENCV `pkg-config --cflags opencv4 2> /dev/null || pkg-config --cflags opencv` -DGPU -I/usr/local/cuda/include/ -DCUDNN -Wall -Wfatal-errors -Wno-unused-result -Wno-unknown-pragmas -fPIC -Ofast -DOPENCV -DGPU -DCUDNN -I/usr/local/cudnn/include -fPIC -c ./src/batchnorm_layer.c -o obj/batchnorm_layer.o\n",
            "gcc -Iinclude/ -I3rdparty/stb/include -DOPENCV `pkg-config --cflags opencv4 2> /dev/null || pkg-config --cflags opencv` -DGPU -I/usr/local/cuda/include/ -DCUDNN -Wall -Wfatal-errors -Wno-unused-result -Wno-unknown-pragmas -fPIC -Ofast -DOPENCV -DGPU -DCUDNN -I/usr/local/cudnn/include -fPIC -c ./src/art.c -o obj/art.o\n",
            "gcc -Iinclude/ -I3rdparty/stb/include -DOPENCV `pkg-config --cflags opencv4 2> /dev/null || pkg-config --cflags opencv` -DGPU -I/usr/local/cuda/include/ -DCUDNN -Wall -Wfatal-errors -Wno-unused-result -Wno-unknown-pragmas -fPIC -Ofast -DOPENCV -DGPU -DCUDNN -I/usr/local/cudnn/include -fPIC -c ./src/region_layer.c -o obj/region_layer.o\n",
            "\u001b[01m\u001b[K./src/region_layer.c:\u001b[m\u001b[K In function ‘\u001b[01m\u001b[Kresize_region_layer\u001b[m\u001b[K’:\n",
            "\u001b[01m\u001b[K./src/region_layer.c:58:9:\u001b[m\u001b[K \u001b[01;35m\u001b[Kwarning: \u001b[m\u001b[Kunused variable ‘\u001b[01m\u001b[Kold_h\u001b[m\u001b[K’ [\u001b[01;35m\u001b[K-Wunused-variable\u001b[m\u001b[K]\n",
            "     int \u001b[01;35m\u001b[Kold_h\u001b[m\u001b[K = l->h;\n",
            "         \u001b[01;35m\u001b[K^~~~~\u001b[m\u001b[K\n",
            "\u001b[01m\u001b[K./src/region_layer.c:57:9:\u001b[m\u001b[K \u001b[01;35m\u001b[Kwarning: \u001b[m\u001b[Kunused variable ‘\u001b[01m\u001b[Kold_w\u001b[m\u001b[K’ [\u001b[01;35m\u001b[K-Wunused-variable\u001b[m\u001b[K]\n",
            "     int \u001b[01;35m\u001b[Kold_w\u001b[m\u001b[K = l->w;\n",
            "         \u001b[01;35m\u001b[K^~~~~\u001b[m\u001b[K\n",
            "gcc -Iinclude/ -I3rdparty/stb/include -DOPENCV `pkg-config --cflags opencv4 2> /dev/null || pkg-config --cflags opencv` -DGPU -I/usr/local/cuda/include/ -DCUDNN -Wall -Wfatal-errors -Wno-unused-result -Wno-unknown-pragmas -fPIC -Ofast -DOPENCV -DGPU -DCUDNN -I/usr/local/cudnn/include -fPIC -c ./src/reorg_layer.c -o obj/reorg_layer.o\n",
            "gcc -Iinclude/ -I3rdparty/stb/include -DOPENCV `pkg-config --cflags opencv4 2> /dev/null || pkg-config --cflags opencv` -DGPU -I/usr/local/cuda/include/ -DCUDNN -Wall -Wfatal-errors -Wno-unused-result -Wno-unknown-pragmas -fPIC -Ofast -DOPENCV -DGPU -DCUDNN -I/usr/local/cudnn/include -fPIC -c ./src/reorg_old_layer.c -o obj/reorg_old_layer.o\n",
            "gcc -Iinclude/ -I3rdparty/stb/include -DOPENCV `pkg-config --cflags opencv4 2> /dev/null || pkg-config --cflags opencv` -DGPU -I/usr/local/cuda/include/ -DCUDNN -Wall -Wfatal-errors -Wno-unused-result -Wno-unknown-pragmas -fPIC -Ofast -DOPENCV -DGPU -DCUDNN -I/usr/local/cudnn/include -fPIC -c ./src/super.c -o obj/super.o\n",
            "gcc -Iinclude/ -I3rdparty/stb/include -DOPENCV `pkg-config --cflags opencv4 2> /dev/null || pkg-config --cflags opencv` -DGPU -I/usr/local/cuda/include/ -DCUDNN -Wall -Wfatal-errors -Wno-unused-result -Wno-unknown-pragmas -fPIC -Ofast -DOPENCV -DGPU -DCUDNN -I/usr/local/cudnn/include -fPIC -c ./src/voxel.c -o obj/voxel.o\n",
            "gcc -Iinclude/ -I3rdparty/stb/include -DOPENCV `pkg-config --cflags opencv4 2> /dev/null || pkg-config --cflags opencv` -DGPU -I/usr/local/cuda/include/ -DCUDNN -Wall -Wfatal-errors -Wno-unused-result -Wno-unknown-pragmas -fPIC -Ofast -DOPENCV -DGPU -DCUDNN -I/usr/local/cudnn/include -fPIC -c ./src/tree.c -o obj/tree.o\n",
            "gcc -Iinclude/ -I3rdparty/stb/include -DOPENCV `pkg-config --cflags opencv4 2> /dev/null || pkg-config --cflags opencv` -DGPU -I/usr/local/cuda/include/ -DCUDNN -Wall -Wfatal-errors -Wno-unused-result -Wno-unknown-pragmas -fPIC -Ofast -DOPENCV -DGPU -DCUDNN -I/usr/local/cudnn/include -fPIC -c ./src/yolo_layer.c -o obj/yolo_layer.o\n",
            "\u001b[01m\u001b[K./src/yolo_layer.c:\u001b[m\u001b[K In function ‘\u001b[01m\u001b[Kmake_yolo_layer\u001b[m\u001b[K’:\n",
            "\u001b[01m\u001b[K./src/yolo_layer.c:66:38:\u001b[m\u001b[K \u001b[01;35m\u001b[Kwarning: \u001b[m\u001b[Kpassing argument 1 of ‘\u001b[01m\u001b[KcudaHostAlloc\u001b[m\u001b[K’ from incompatible pointer type [\u001b[01;35m\u001b[K-Wincompatible-pointer-types\u001b[m\u001b[K]\n",
            "     if (cudaSuccess == cudaHostAlloc(\u001b[01;35m\u001b[K&\u001b[m\u001b[Kl.output, batch*l.outputs*sizeof(float), cudaHostRegisterMapped)) l.output_pinned = 1;\n",
            "                                      \u001b[01;35m\u001b[K^\u001b[m\u001b[K\n",
            "In file included from \u001b[01m\u001b[K/usr/local/cuda/include/cuda_runtime.h:96:0\u001b[m\u001b[K,\n",
            "                 from \u001b[01m\u001b[Kinclude/darknet.h:41\u001b[m\u001b[K,\n",
            "                 from \u001b[01m\u001b[K./src/activations.h:3\u001b[m\u001b[K,\n",
            "                 from \u001b[01m\u001b[K./src/layer.h:4\u001b[m\u001b[K,\n",
            "                 from \u001b[01m\u001b[K./src/yolo_layer.h:5\u001b[m\u001b[K,\n",
            "                 from \u001b[01m\u001b[K./src/yolo_layer.c:1\u001b[m\u001b[K:\n",
            "\u001b[01m\u001b[K/usr/local/cuda/include/cuda_runtime_api.h:4412:39:\u001b[m\u001b[K \u001b[01;36m\u001b[Knote: \u001b[m\u001b[Kexpected ‘\u001b[01m\u001b[Kvoid **\u001b[m\u001b[K’ but argument is of type ‘\u001b[01m\u001b[Kfloat **\u001b[m\u001b[K’\n",
            " extern __host__ cudaError_t CUDARTAPI \u001b[01;36m\u001b[KcudaHostAlloc\u001b[m\u001b[K(void **pHost, size_t size, unsigned int flags);\n",
            "                                       \u001b[01;36m\u001b[K^~~~~~~~~~~~~\u001b[m\u001b[K\n",
            "\u001b[01m\u001b[K./src/yolo_layer.c:73:38:\u001b[m\u001b[K \u001b[01;35m\u001b[Kwarning: \u001b[m\u001b[Kpassing argument 1 of ‘\u001b[01m\u001b[KcudaHostAlloc\u001b[m\u001b[K’ from incompatible pointer type [\u001b[01;35m\u001b[K-Wincompatible-pointer-types\u001b[m\u001b[K]\n",
            "     if (cudaSuccess == cudaHostAlloc(\u001b[01;35m\u001b[K&\u001b[m\u001b[Kl.delta, batch*l.outputs*sizeof(float), cudaHostRegisterMapped)) l.delta_pinned = 1;\n",
            "                                      \u001b[01;35m\u001b[K^\u001b[m\u001b[K\n",
            "In file included from \u001b[01m\u001b[K/usr/local/cuda/include/cuda_runtime.h:96:0\u001b[m\u001b[K,\n",
            "                 from \u001b[01m\u001b[Kinclude/darknet.h:41\u001b[m\u001b[K,\n",
            "                 from \u001b[01m\u001b[K./src/activations.h:3\u001b[m\u001b[K,\n",
            "                 from \u001b[01m\u001b[K./src/layer.h:4\u001b[m\u001b[K,\n",
            "                 from \u001b[01m\u001b[K./src/yolo_layer.h:5\u001b[m\u001b[K,\n",
            "                 from \u001b[01m\u001b[K./src/yolo_layer.c:1\u001b[m\u001b[K:\n",
            "\u001b[01m\u001b[K/usr/local/cuda/include/cuda_runtime_api.h:4412:39:\u001b[m\u001b[K \u001b[01;36m\u001b[Knote: \u001b[m\u001b[Kexpected ‘\u001b[01m\u001b[Kvoid **\u001b[m\u001b[K’ but argument is of type ‘\u001b[01m\u001b[Kfloat **\u001b[m\u001b[K’\n",
            " extern __host__ cudaError_t CUDARTAPI \u001b[01;36m\u001b[KcudaHostAlloc\u001b[m\u001b[K(void **pHost, size_t size, unsigned int flags);\n",
            "                                       \u001b[01;36m\u001b[K^~~~~~~~~~~~~\u001b[m\u001b[K\n",
            "\u001b[01m\u001b[K./src/yolo_layer.c:\u001b[m\u001b[K In function ‘\u001b[01m\u001b[Kresize_yolo_layer\u001b[m\u001b[K’:\n",
            "\u001b[01m\u001b[K./src/yolo_layer.c:103:42:\u001b[m\u001b[K \u001b[01;35m\u001b[Kwarning: \u001b[m\u001b[Kpassing argument 1 of ‘\u001b[01m\u001b[KcudaHostAlloc\u001b[m\u001b[K’ from incompatible pointer type [\u001b[01;35m\u001b[K-Wincompatible-pointer-types\u001b[m\u001b[K]\n",
            "         if (cudaSuccess != cudaHostAlloc(\u001b[01;35m\u001b[K&\u001b[m\u001b[Kl->output, l->batch*l->outputs * sizeof(float), cudaHostRegisterMapped)) {\n",
            "                                          \u001b[01;35m\u001b[K^\u001b[m\u001b[K\n",
            "In file included from \u001b[01m\u001b[K/usr/local/cuda/include/cuda_runtime.h:96:0\u001b[m\u001b[K,\n",
            "                 from \u001b[01m\u001b[Kinclude/darknet.h:41\u001b[m\u001b[K,\n",
            "                 from \u001b[01m\u001b[K./src/activations.h:3\u001b[m\u001b[K,\n",
            "                 from \u001b[01m\u001b[K./src/layer.h:4\u001b[m\u001b[K,\n",
            "                 from \u001b[01m\u001b[K./src/yolo_layer.h:5\u001b[m\u001b[K,\n",
            "                 from \u001b[01m\u001b[K./src/yolo_layer.c:1\u001b[m\u001b[K:\n",
            "\u001b[01m\u001b[K/usr/local/cuda/include/cuda_runtime_api.h:4412:39:\u001b[m\u001b[K \u001b[01;36m\u001b[Knote: \u001b[m\u001b[Kexpected ‘\u001b[01m\u001b[Kvoid **\u001b[m\u001b[K’ but argument is of type ‘\u001b[01m\u001b[Kfloat **\u001b[m\u001b[K’\n",
            " extern __host__ cudaError_t CUDARTAPI \u001b[01;36m\u001b[KcudaHostAlloc\u001b[m\u001b[K(void **pHost, size_t size, unsigned int flags);\n",
            "                                       \u001b[01;36m\u001b[K^~~~~~~~~~~~~\u001b[m\u001b[K\n",
            "\u001b[01m\u001b[K./src/yolo_layer.c:112:42:\u001b[m\u001b[K \u001b[01;35m\u001b[Kwarning: \u001b[m\u001b[Kpassing argument 1 of ‘\u001b[01m\u001b[KcudaHostAlloc\u001b[m\u001b[K’ from incompatible pointer type [\u001b[01;35m\u001b[K-Wincompatible-pointer-types\u001b[m\u001b[K]\n",
            "         if (cudaSuccess != cudaHostAlloc(\u001b[01;35m\u001b[K&\u001b[m\u001b[Kl->delta, l->batch*l->outputs * sizeof(float), cudaHostRegisterMapped)) {\n",
            "                                          \u001b[01;35m\u001b[K^\u001b[m\u001b[K\n",
            "In file included from \u001b[01m\u001b[K/usr/local/cuda/include/cuda_runtime.h:96:0\u001b[m\u001b[K,\n",
            "                 from \u001b[01m\u001b[Kinclude/darknet.h:41\u001b[m\u001b[K,\n",
            "                 from \u001b[01m\u001b[K./src/activations.h:3\u001b[m\u001b[K,\n",
            "                 from \u001b[01m\u001b[K./src/layer.h:4\u001b[m\u001b[K,\n",
            "                 from \u001b[01m\u001b[K./src/yolo_layer.h:5\u001b[m\u001b[K,\n",
            "                 from \u001b[01m\u001b[K./src/yolo_layer.c:1\u001b[m\u001b[K:\n",
            "\u001b[01m\u001b[K/usr/local/cuda/include/cuda_runtime_api.h:4412:39:\u001b[m\u001b[K \u001b[01;36m\u001b[Knote: \u001b[m\u001b[Kexpected ‘\u001b[01m\u001b[Kvoid **\u001b[m\u001b[K’ but argument is of type ‘\u001b[01m\u001b[Kfloat **\u001b[m\u001b[K’\n",
            " extern __host__ cudaError_t CUDARTAPI \u001b[01;36m\u001b[KcudaHostAlloc\u001b[m\u001b[K(void **pHost, size_t size, unsigned int flags);\n",
            "                                       \u001b[01;36m\u001b[K^~~~~~~~~~~~~\u001b[m\u001b[K\n",
            "gcc -Iinclude/ -I3rdparty/stb/include -DOPENCV `pkg-config --cflags opencv4 2> /dev/null || pkg-config --cflags opencv` -DGPU -I/usr/local/cuda/include/ -DCUDNN -Wall -Wfatal-errors -Wno-unused-result -Wno-unknown-pragmas -fPIC -Ofast -DOPENCV -DGPU -DCUDNN -I/usr/local/cudnn/include -fPIC -c ./src/gaussian_yolo_layer.c -o obj/gaussian_yolo_layer.o\n",
            "\u001b[01m\u001b[K./src/gaussian_yolo_layer.c:\u001b[m\u001b[K In function ‘\u001b[01m\u001b[Kmake_gaussian_yolo_layer\u001b[m\u001b[K’:\n",
            "\u001b[01m\u001b[K./src/gaussian_yolo_layer.c:71:38:\u001b[m\u001b[K \u001b[01;35m\u001b[Kwarning: \u001b[m\u001b[Kpassing argument 1 of ‘\u001b[01m\u001b[KcudaHostAlloc\u001b[m\u001b[K’ from incompatible pointer type [\u001b[01;35m\u001b[K-Wincompatible-pointer-types\u001b[m\u001b[K]\n",
            "     if (cudaSuccess == cudaHostAlloc(\u001b[01;35m\u001b[K&\u001b[m\u001b[Kl.output, batch*l.outputs * sizeof(float), cudaHostRegisterMapped)) l.output_pinned = 1;\n",
            "                                      \u001b[01;35m\u001b[K^\u001b[m\u001b[K\n",
            "In file included from \u001b[01m\u001b[K/usr/local/cuda/include/cuda_runtime.h:96:0\u001b[m\u001b[K,\n",
            "                 from \u001b[01m\u001b[Kinclude/darknet.h:41\u001b[m\u001b[K,\n",
            "                 from \u001b[01m\u001b[K./src/gaussian_yolo_layer.h:5\u001b[m\u001b[K,\n",
            "                 from \u001b[01m\u001b[K./src/gaussian_yolo_layer.c:7\u001b[m\u001b[K:\n",
            "\u001b[01m\u001b[K/usr/local/cuda/include/cuda_runtime_api.h:4412:39:\u001b[m\u001b[K \u001b[01;36m\u001b[Knote: \u001b[m\u001b[Kexpected ‘\u001b[01m\u001b[Kvoid **\u001b[m\u001b[K’ but argument is of type ‘\u001b[01m\u001b[Kfloat **\u001b[m\u001b[K’\n",
            " extern __host__ cudaError_t CUDARTAPI \u001b[01;36m\u001b[KcudaHostAlloc\u001b[m\u001b[K(void **pHost, size_t size, unsigned int flags);\n",
            "                                       \u001b[01;36m\u001b[K^~~~~~~~~~~~~\u001b[m\u001b[K\n",
            "\u001b[01m\u001b[K./src/gaussian_yolo_layer.c:78:38:\u001b[m\u001b[K \u001b[01;35m\u001b[Kwarning: \u001b[m\u001b[Kpassing argument 1 of ‘\u001b[01m\u001b[KcudaHostAlloc\u001b[m\u001b[K’ from incompatible pointer type [\u001b[01;35m\u001b[K-Wincompatible-pointer-types\u001b[m\u001b[K]\n",
            "     if (cudaSuccess == cudaHostAlloc(\u001b[01;35m\u001b[K&\u001b[m\u001b[Kl.delta, batch*l.outputs * sizeof(float), cudaHostRegisterMapped)) l.delta_pinned = 1;\n",
            "                                      \u001b[01;35m\u001b[K^\u001b[m\u001b[K\n",
            "In file included from \u001b[01m\u001b[K/usr/local/cuda/include/cuda_runtime.h:96:0\u001b[m\u001b[K,\n",
            "                 from \u001b[01m\u001b[Kinclude/darknet.h:41\u001b[m\u001b[K,\n",
            "                 from \u001b[01m\u001b[K./src/gaussian_yolo_layer.h:5\u001b[m\u001b[K,\n",
            "                 from \u001b[01m\u001b[K./src/gaussian_yolo_layer.c:7\u001b[m\u001b[K:\n",
            "\u001b[01m\u001b[K/usr/local/cuda/include/cuda_runtime_api.h:4412:39:\u001b[m\u001b[K \u001b[01;36m\u001b[Knote: \u001b[m\u001b[Kexpected ‘\u001b[01m\u001b[Kvoid **\u001b[m\u001b[K’ but argument is of type ‘\u001b[01m\u001b[Kfloat **\u001b[m\u001b[K’\n",
            " extern __host__ cudaError_t CUDARTAPI \u001b[01;36m\u001b[KcudaHostAlloc\u001b[m\u001b[K(void **pHost, size_t size, unsigned int flags);\n",
            "                                       \u001b[01;36m\u001b[K^~~~~~~~~~~~~\u001b[m\u001b[K\n",
            "\u001b[01m\u001b[K./src/gaussian_yolo_layer.c:\u001b[m\u001b[K In function ‘\u001b[01m\u001b[Kresize_gaussian_yolo_layer\u001b[m\u001b[K’:\n",
            "\u001b[01m\u001b[K./src/gaussian_yolo_layer.c:110:42:\u001b[m\u001b[K \u001b[01;35m\u001b[Kwarning: \u001b[m\u001b[Kpassing argument 1 of ‘\u001b[01m\u001b[KcudaHostAlloc\u001b[m\u001b[K’ from incompatible pointer type [\u001b[01;35m\u001b[K-Wincompatible-pointer-types\u001b[m\u001b[K]\n",
            "         if (cudaSuccess != cudaHostAlloc(\u001b[01;35m\u001b[K&\u001b[m\u001b[Kl->output, l->batch*l->outputs * sizeof(float), cudaHostRegisterMapped)) {\n",
            "                                          \u001b[01;35m\u001b[K^\u001b[m\u001b[K\n",
            "In file included from \u001b[01m\u001b[K/usr/local/cuda/include/cuda_runtime.h:96:0\u001b[m\u001b[K,\n",
            "                 from \u001b[01m\u001b[Kinclude/darknet.h:41\u001b[m\u001b[K,\n",
            "                 from \u001b[01m\u001b[K./src/gaussian_yolo_layer.h:5\u001b[m\u001b[K,\n",
            "                 from \u001b[01m\u001b[K./src/gaussian_yolo_layer.c:7\u001b[m\u001b[K:\n",
            "\u001b[01m\u001b[K/usr/local/cuda/include/cuda_runtime_api.h:4412:39:\u001b[m\u001b[K \u001b[01;36m\u001b[Knote: \u001b[m\u001b[Kexpected ‘\u001b[01m\u001b[Kvoid **\u001b[m\u001b[K’ but argument is of type ‘\u001b[01m\u001b[Kfloat **\u001b[m\u001b[K’\n",
            " extern __host__ cudaError_t CUDARTAPI \u001b[01;36m\u001b[KcudaHostAlloc\u001b[m\u001b[K(void **pHost, size_t size, unsigned int flags);\n",
            "                                       \u001b[01;36m\u001b[K^~~~~~~~~~~~~\u001b[m\u001b[K\n",
            "\u001b[01m\u001b[K./src/gaussian_yolo_layer.c:119:42:\u001b[m\u001b[K \u001b[01;35m\u001b[Kwarning: \u001b[m\u001b[Kpassing argument 1 of ‘\u001b[01m\u001b[KcudaHostAlloc\u001b[m\u001b[K’ from incompatible pointer type [\u001b[01;35m\u001b[K-Wincompatible-pointer-types\u001b[m\u001b[K]\n",
            "         if (cudaSuccess != cudaHostAlloc(\u001b[01;35m\u001b[K&\u001b[m\u001b[Kl->delta, l->batch*l->outputs * sizeof(float), cudaHostRegisterMapped)) {\n",
            "                                          \u001b[01;35m\u001b[K^\u001b[m\u001b[K\n",
            "In file included from \u001b[01m\u001b[K/usr/local/cuda/include/cuda_runtime.h:96:0\u001b[m\u001b[K,\n",
            "                 from \u001b[01m\u001b[Kinclude/darknet.h:41\u001b[m\u001b[K,\n",
            "                 from \u001b[01m\u001b[K./src/gaussian_yolo_layer.h:5\u001b[m\u001b[K,\n",
            "                 from \u001b[01m\u001b[K./src/gaussian_yolo_layer.c:7\u001b[m\u001b[K:\n",
            "\u001b[01m\u001b[K/usr/local/cuda/include/cuda_runtime_api.h:4412:39:\u001b[m\u001b[K \u001b[01;36m\u001b[Knote: \u001b[m\u001b[Kexpected ‘\u001b[01m\u001b[Kvoid **\u001b[m\u001b[K’ but argument is of type ‘\u001b[01m\u001b[Kfloat **\u001b[m\u001b[K’\n",
            " extern __host__ cudaError_t CUDARTAPI \u001b[01;36m\u001b[KcudaHostAlloc\u001b[m\u001b[K(void **pHost, size_t size, unsigned int flags);\n",
            "                                       \u001b[01;36m\u001b[K^~~~~~~~~~~~~\u001b[m\u001b[K\n",
            "gcc -Iinclude/ -I3rdparty/stb/include -DOPENCV `pkg-config --cflags opencv4 2> /dev/null || pkg-config --cflags opencv` -DGPU -I/usr/local/cuda/include/ -DCUDNN -Wall -Wfatal-errors -Wno-unused-result -Wno-unknown-pragmas -fPIC -Ofast -DOPENCV -DGPU -DCUDNN -I/usr/local/cudnn/include -fPIC -c ./src/upsample_layer.c -o obj/upsample_layer.o\n",
            "gcc -Iinclude/ -I3rdparty/stb/include -DOPENCV `pkg-config --cflags opencv4 2> /dev/null || pkg-config --cflags opencv` -DGPU -I/usr/local/cuda/include/ -DCUDNN -Wall -Wfatal-errors -Wno-unused-result -Wno-unknown-pragmas -fPIC -Ofast -DOPENCV -DGPU -DCUDNN -I/usr/local/cudnn/include -fPIC -c ./src/lstm_layer.c -o obj/lstm_layer.o\n",
            "gcc -Iinclude/ -I3rdparty/stb/include -DOPENCV `pkg-config --cflags opencv4 2> /dev/null || pkg-config --cflags opencv` -DGPU -I/usr/local/cuda/include/ -DCUDNN -Wall -Wfatal-errors -Wno-unused-result -Wno-unknown-pragmas -fPIC -Ofast -DOPENCV -DGPU -DCUDNN -I/usr/local/cudnn/include -fPIC -c ./src/conv_lstm_layer.c -o obj/conv_lstm_layer.o\n",
            "gcc -Iinclude/ -I3rdparty/stb/include -DOPENCV `pkg-config --cflags opencv4 2> /dev/null || pkg-config --cflags opencv` -DGPU -I/usr/local/cuda/include/ -DCUDNN -Wall -Wfatal-errors -Wno-unused-result -Wno-unknown-pragmas -fPIC -Ofast -DOPENCV -DGPU -DCUDNN -I/usr/local/cudnn/include -fPIC -c ./src/scale_channels_layer.c -o obj/scale_channels_layer.o\n",
            "gcc -Iinclude/ -I3rdparty/stb/include -DOPENCV `pkg-config --cflags opencv4 2> /dev/null || pkg-config --cflags opencv` -DGPU -I/usr/local/cuda/include/ -DCUDNN -Wall -Wfatal-errors -Wno-unused-result -Wno-unknown-pragmas -fPIC -Ofast -DOPENCV -DGPU -DCUDNN -I/usr/local/cudnn/include -fPIC -c ./src/sam_layer.c -o obj/sam_layer.o\n",
            "nvcc -gencode arch=compute_30,code=sm_30 -gencode arch=compute_35,code=sm_35 -gencode arch=compute_50,code=[sm_50,compute_50] -gencode arch=compute_52,code=[sm_52,compute_52] -gencode arch=compute_61,code=[sm_61,compute_61] -Iinclude/ -I3rdparty/stb/include -DOPENCV `pkg-config --cflags opencv4 2> /dev/null || pkg-config --cflags opencv` -DGPU -I/usr/local/cuda/include/ -DCUDNN --compiler-options \"-Wall -Wfatal-errors -Wno-unused-result -Wno-unknown-pragmas -fPIC -Ofast -DOPENCV -DGPU -DCUDNN -I/usr/local/cudnn/include -fPIC\" -c ./src/convolutional_kernels.cu -o obj/convolutional_kernels.o\n",
            "\u001b[01m\u001b[K./src/convolutional_kernels.cu:\u001b[m\u001b[K In function ‘\u001b[01m\u001b[Kvoid backward_convolutional_layer_gpu(convolutional_layer, network_state)\u001b[m\u001b[K’:\n",
            "\u001b[01m\u001b[K./src/convolutional_kernels.cu:842:40:\u001b[m\u001b[K \u001b[01;35m\u001b[Kwarning: \u001b[m\u001b[Kcomparison between signed and unsigned integer expressions [\u001b[01;35m\u001b[K-Wsign-compare\u001b[m\u001b[K]\n",
            "     \u001b[01;35m\u001b[K            if (*state.net.max_output16_size < l.\u001b[m\u001b[Knweights) {\n",
            "                 \u001b[01;35m\u001b[K~~~~~~~~~~~~~~~~~~~~~~~^~~~~~~~~~~~~~\u001b[m\u001b[K\n",
            "nvcc -gencode arch=compute_30,code=sm_30 -gencode arch=compute_35,code=sm_35 -gencode arch=compute_50,code=[sm_50,compute_50] -gencode arch=compute_52,code=[sm_52,compute_52] -gencode arch=compute_61,code=[sm_61,compute_61] -Iinclude/ -I3rdparty/stb/include -DOPENCV `pkg-config --cflags opencv4 2> /dev/null || pkg-config --cflags opencv` -DGPU -I/usr/local/cuda/include/ -DCUDNN --compiler-options \"-Wall -Wfatal-errors -Wno-unused-result -Wno-unknown-pragmas -fPIC -Ofast -DOPENCV -DGPU -DCUDNN -I/usr/local/cudnn/include -fPIC\" -c ./src/activation_kernels.cu -o obj/activation_kernels.o\n",
            "./src/activation_kernels.cu(263): warning: variable \"MISH_THRESHOLD\" was declared but never referenced\n",
            "\n",
            "./src/activation_kernels.cu(263): warning: variable \"MISH_THRESHOLD\" was declared but never referenced\n",
            "\n",
            "./src/activation_kernels.cu(263): warning: variable \"MISH_THRESHOLD\" was declared but never referenced\n",
            "\n",
            "./src/activation_kernels.cu(263): warning: variable \"MISH_THRESHOLD\" was declared but never referenced\n",
            "\n",
            "./src/activation_kernels.cu(263): warning: variable \"MISH_THRESHOLD\" was declared but never referenced\n",
            "\n",
            "nvcc -gencode arch=compute_30,code=sm_30 -gencode arch=compute_35,code=sm_35 -gencode arch=compute_50,code=[sm_50,compute_50] -gencode arch=compute_52,code=[sm_52,compute_52] -gencode arch=compute_61,code=[sm_61,compute_61] -Iinclude/ -I3rdparty/stb/include -DOPENCV `pkg-config --cflags opencv4 2> /dev/null || pkg-config --cflags opencv` -DGPU -I/usr/local/cuda/include/ -DCUDNN --compiler-options \"-Wall -Wfatal-errors -Wno-unused-result -Wno-unknown-pragmas -fPIC -Ofast -DOPENCV -DGPU -DCUDNN -I/usr/local/cudnn/include -fPIC\" -c ./src/im2col_kernels.cu -o obj/im2col_kernels.o\n",
            "\u001b[01m\u001b[K./src/im2col_kernels.cu:125:18:\u001b[m\u001b[K \u001b[01;35m\u001b[Kwarning: \u001b[m\u001b[K\"/*\" within comment [\u001b[01;35m\u001b[K-Wcomment\u001b[m\u001b[K]\n",
            "                 //*data_col_ptr = (h >= 0 && w >= 0 && h < height && w < width) ?\n",
            "                   \n",
            "\u001b[01m\u001b[K./src/im2col_kernels.cu:1178:6:\u001b[m\u001b[K \u001b[01;35m\u001b[Kwarning: \u001b[m\u001b[K\"/*\" within comment [\u001b[01;35m\u001b[K-Wcomment\u001b[m\u001b[K]\n",
            "     //*((uint64_t *)(A_s + (local_i*lda + k) / 8)) = *((uint64_t *)(A + (i_cur*lda + k) / 8));    // weights\n",
            "       \n",
            "\u001b[01m\u001b[K./src/im2col_kernels.cu:125:18:\u001b[m\u001b[K \u001b[01;35m\u001b[Kwarning: \u001b[m\u001b[K\"/*\" within comment [\u001b[01;35m\u001b[K-Wcomment\u001b[m\u001b[K]\n",
            "                 //*data_col_ptr = (h >= 0 && w >= 0 && h < height && w < width) ?\n",
            "                   \n",
            "\u001b[01m\u001b[K./src/im2col_kernels.cu:1178:6:\u001b[m\u001b[K \u001b[01;35m\u001b[Kwarning: \u001b[m\u001b[K\"/*\" within comment [\u001b[01;35m\u001b[K-Wcomment\u001b[m\u001b[K]\n",
            "     //*((uint64_t *)(A_s + (local_i*lda + k) / 8)) = *((uint64_t *)(A + (i_cur*lda + k) / 8));    // weights\n",
            "       \n",
            "\u001b[01m\u001b[K./src/im2col_kernels.cu:125:18:\u001b[m\u001b[K \u001b[01;35m\u001b[Kwarning: \u001b[m\u001b[K\"/*\" within comment [\u001b[01;35m\u001b[K-Wcomment\u001b[m\u001b[K]\n",
            "                 //*data_col_ptr = (h >= 0 && w >= 0 && h < height && w < width) ?\n",
            "                   \n",
            "\u001b[01m\u001b[K./src/im2col_kernels.cu:1178:6:\u001b[m\u001b[K \u001b[01;35m\u001b[Kwarning: \u001b[m\u001b[K\"/*\" within comment [\u001b[01;35m\u001b[K-Wcomment\u001b[m\u001b[K]\n",
            "     //*((uint64_t *)(A_s + (local_i*lda + k) / 8)) = *((uint64_t *)(A + (i_cur*lda + k) / 8));    // weights\n",
            "       \n",
            "\u001b[01m\u001b[K./src/im2col_kernels.cu:125:18:\u001b[m\u001b[K \u001b[01;35m\u001b[Kwarning: \u001b[m\u001b[K\"/*\" within comment [\u001b[01;35m\u001b[K-Wcomment\u001b[m\u001b[K]\n",
            "                 //*data_col_ptr = (h >= 0 && w >= 0 && h < height && w < width) ?\n",
            "                   \n",
            "\u001b[01m\u001b[K./src/im2col_kernels.cu:1178:6:\u001b[m\u001b[K \u001b[01;35m\u001b[Kwarning: \u001b[m\u001b[K\"/*\" within comment [\u001b[01;35m\u001b[K-Wcomment\u001b[m\u001b[K]\n",
            "     //*((uint64_t *)(A_s + (local_i*lda + k) / 8)) = *((uint64_t *)(A + (i_cur*lda + k) / 8));    // weights\n",
            "       \n",
            "\u001b[01m\u001b[K./src/im2col_kernels.cu:125:18:\u001b[m\u001b[K \u001b[01;35m\u001b[Kwarning: \u001b[m\u001b[K\"/*\" within comment [\u001b[01;35m\u001b[K-Wcomment\u001b[m\u001b[K]\n",
            "                 //*data_col_ptr = (h >= 0 && w >= 0 && h < height && w < width) ?\n",
            "                   \n",
            "\u001b[01m\u001b[K./src/im2col_kernels.cu:1178:6:\u001b[m\u001b[K \u001b[01;35m\u001b[Kwarning: \u001b[m\u001b[K\"/*\" within comment [\u001b[01;35m\u001b[K-Wcomment\u001b[m\u001b[K]\n",
            "     //*((uint64_t *)(A_s + (local_i*lda + k) / 8)) = *((uint64_t *)(A + (i_cur*lda + k) / 8));    // weights\n",
            "       \n",
            "\u001b[01m\u001b[K./src/im2col_kernels.cu:125:18:\u001b[m\u001b[K \u001b[01;35m\u001b[Kwarning: \u001b[m\u001b[K\"/*\" within comment [\u001b[01;35m\u001b[K-Wcomment\u001b[m\u001b[K]\n",
            "                 //*data_col_ptr = (h >= 0 && w >= 0 && h < height && w < width) ?\n",
            "                   \n",
            "\u001b[01m\u001b[K./src/im2col_kernels.cu:1178:6:\u001b[m\u001b[K \u001b[01;35m\u001b[Kwarning: \u001b[m\u001b[K\"/*\" within comment [\u001b[01;35m\u001b[K-Wcomment\u001b[m\u001b[K]\n",
            "     //*((uint64_t *)(A_s + (local_i*lda + k) / 8)) = *((uint64_t *)(A + (i_cur*lda + k) / 8));    // weights\n",
            "       \n",
            "nvcc -gencode arch=compute_30,code=sm_30 -gencode arch=compute_35,code=sm_35 -gencode arch=compute_50,code=[sm_50,compute_50] -gencode arch=compute_52,code=[sm_52,compute_52] -gencode arch=compute_61,code=[sm_61,compute_61] -Iinclude/ -I3rdparty/stb/include -DOPENCV `pkg-config --cflags opencv4 2> /dev/null || pkg-config --cflags opencv` -DGPU -I/usr/local/cuda/include/ -DCUDNN --compiler-options \"-Wall -Wfatal-errors -Wno-unused-result -Wno-unknown-pragmas -fPIC -Ofast -DOPENCV -DGPU -DCUDNN -I/usr/local/cudnn/include -fPIC\" -c ./src/col2im_kernels.cu -o obj/col2im_kernels.o\n",
            "nvcc -gencode arch=compute_30,code=sm_30 -gencode arch=compute_35,code=sm_35 -gencode arch=compute_50,code=[sm_50,compute_50] -gencode arch=compute_52,code=[sm_52,compute_52] -gencode arch=compute_61,code=[sm_61,compute_61] -Iinclude/ -I3rdparty/stb/include -DOPENCV `pkg-config --cflags opencv4 2> /dev/null || pkg-config --cflags opencv` -DGPU -I/usr/local/cuda/include/ -DCUDNN --compiler-options \"-Wall -Wfatal-errors -Wno-unused-result -Wno-unknown-pragmas -fPIC -Ofast -DOPENCV -DGPU -DCUDNN -I/usr/local/cudnn/include -fPIC\" -c ./src/blas_kernels.cu -o obj/blas_kernels.o\n",
            "./src/blas_kernels.cu(1086): warning: variable \"out_index\" was declared but never referenced\n",
            "\n",
            "./src/blas_kernels.cu(1130): warning: variable \"step\" was set but never used\n",
            "\n",
            "./src/blas_kernels.cu(1736): warning: variable \"stage_id\" was declared but never referenced\n",
            "\n",
            "./src/blas_kernels.cu(1086): warning: variable \"out_index\" was declared but never referenced\n",
            "\n",
            "./src/blas_kernels.cu(1130): warning: variable \"step\" was set but never used\n",
            "\n",
            "./src/blas_kernels.cu(1736): warning: variable \"stage_id\" was declared but never referenced\n",
            "\n",
            "./src/blas_kernels.cu(1086): warning: variable \"out_index\" was declared but never referenced\n",
            "\n",
            "./src/blas_kernels.cu(1130): warning: variable \"step\" was set but never used\n",
            "\n",
            "./src/blas_kernels.cu(1736): warning: variable \"stage_id\" was declared but never referenced\n",
            "\n",
            "./src/blas_kernels.cu(1086): warning: variable \"out_index\" was declared but never referenced\n",
            "\n",
            "./src/blas_kernels.cu(1130): warning: variable \"step\" was set but never used\n",
            "\n",
            "./src/blas_kernels.cu(1736): warning: variable \"stage_id\" was declared but never referenced\n",
            "\n",
            "./src/blas_kernels.cu(1086): warning: variable \"out_index\" was declared but never referenced\n",
            "\n",
            "./src/blas_kernels.cu(1130): warning: variable \"step\" was set but never used\n",
            "\n",
            "./src/blas_kernels.cu(1736): warning: variable \"stage_id\" was declared but never referenced\n",
            "\n",
            "\u001b[01m\u001b[K./src/blas_kernels.cu:\u001b[m\u001b[K In function ‘\u001b[01m\u001b[Kvoid backward_shortcut_multilayer_gpu(int, int, int, int*, float**, float*, float*, float*, float*, int, float*, float**, WEIGHTS_NORMALIZATION_T)\u001b[m\u001b[K’:\n",
            "\u001b[01m\u001b[K./src/blas_kernels.cu:1130:5:\u001b[m\u001b[K \u001b[01;35m\u001b[Kwarning: \u001b[m\u001b[Kvariable ‘\u001b[01m\u001b[Kstep\u001b[m\u001b[K’ set but not used [\u001b[01;35m\u001b[K-Wunused-but-set-variable\u001b[m\u001b[K]\n",
            "     \u001b[01;35m\u001b[Kint \u001b[m\u001b[Kstep = 0;\n",
            "     \u001b[01;35m\u001b[K^~~~\u001b[m\u001b[K\n",
            "nvcc -gencode arch=compute_30,code=sm_30 -gencode arch=compute_35,code=sm_35 -gencode arch=compute_50,code=[sm_50,compute_50] -gencode arch=compute_52,code=[sm_52,compute_52] -gencode arch=compute_61,code=[sm_61,compute_61] -Iinclude/ -I3rdparty/stb/include -DOPENCV `pkg-config --cflags opencv4 2> /dev/null || pkg-config --cflags opencv` -DGPU -I/usr/local/cuda/include/ -DCUDNN --compiler-options \"-Wall -Wfatal-errors -Wno-unused-result -Wno-unknown-pragmas -fPIC -Ofast -DOPENCV -DGPU -DCUDNN -I/usr/local/cudnn/include -fPIC\" -c ./src/crop_layer_kernels.cu -o obj/crop_layer_kernels.o\n",
            "nvcc -gencode arch=compute_30,code=sm_30 -gencode arch=compute_35,code=sm_35 -gencode arch=compute_50,code=[sm_50,compute_50] -gencode arch=compute_52,code=[sm_52,compute_52] -gencode arch=compute_61,code=[sm_61,compute_61] -Iinclude/ -I3rdparty/stb/include -DOPENCV `pkg-config --cflags opencv4 2> /dev/null || pkg-config --cflags opencv` -DGPU -I/usr/local/cuda/include/ -DCUDNN --compiler-options \"-Wall -Wfatal-errors -Wno-unused-result -Wno-unknown-pragmas -fPIC -Ofast -DOPENCV -DGPU -DCUDNN -I/usr/local/cudnn/include -fPIC\" -c ./src/dropout_layer_kernels.cu -o obj/dropout_layer_kernels.o\n",
            "./src/dropout_layer_kernels.cu(140): warning: variable \"cur_scale\" was declared but never referenced\n",
            "\n",
            "./src/dropout_layer_kernels.cu(245): warning: variable \"cur_scale\" was declared but never referenced\n",
            "\n",
            "./src/dropout_layer_kernels.cu(262): warning: variable \"block_prob\" was declared but never referenced\n",
            "\n",
            "./src/dropout_layer_kernels.cu(140): warning: variable \"cur_scale\" was declared but never referenced\n",
            "\n",
            "./src/dropout_layer_kernels.cu(245): warning: variable \"cur_scale\" was declared but never referenced\n",
            "\n",
            "./src/dropout_layer_kernels.cu(262): warning: variable \"block_prob\" was declared but never referenced\n",
            "\n",
            "./src/dropout_layer_kernels.cu(140): warning: variable \"cur_scale\" was declared but never referenced\n",
            "\n",
            "./src/dropout_layer_kernels.cu(245): warning: variable \"cur_scale\" was declared but never referenced\n",
            "\n",
            "./src/dropout_layer_kernels.cu(262): warning: variable \"block_prob\" was declared but never referenced\n",
            "\n",
            "./src/dropout_layer_kernels.cu(140): warning: variable \"cur_scale\" was declared but never referenced\n",
            "\n",
            "./src/dropout_layer_kernels.cu(245): warning: variable \"cur_scale\" was declared but never referenced\n",
            "\n",
            "./src/dropout_layer_kernels.cu(262): warning: variable \"block_prob\" was declared but never referenced\n",
            "\n",
            "./src/dropout_layer_kernels.cu(140): warning: variable \"cur_scale\" was declared but never referenced\n",
            "\n",
            "./src/dropout_layer_kernels.cu(245): warning: variable \"cur_scale\" was declared but never referenced\n",
            "\n",
            "./src/dropout_layer_kernels.cu(262): warning: variable \"block_prob\" was declared but never referenced\n",
            "\n",
            "nvcc -gencode arch=compute_30,code=sm_30 -gencode arch=compute_35,code=sm_35 -gencode arch=compute_50,code=[sm_50,compute_50] -gencode arch=compute_52,code=[sm_52,compute_52] -gencode arch=compute_61,code=[sm_61,compute_61] -Iinclude/ -I3rdparty/stb/include -DOPENCV `pkg-config --cflags opencv4 2> /dev/null || pkg-config --cflags opencv` -DGPU -I/usr/local/cuda/include/ -DCUDNN --compiler-options \"-Wall -Wfatal-errors -Wno-unused-result -Wno-unknown-pragmas -fPIC -Ofast -DOPENCV -DGPU -DCUDNN -I/usr/local/cudnn/include -fPIC\" -c ./src/maxpool_layer_kernels.cu -o obj/maxpool_layer_kernels.o\n",
            "nvcc -gencode arch=compute_30,code=sm_30 -gencode arch=compute_35,code=sm_35 -gencode arch=compute_50,code=[sm_50,compute_50] -gencode arch=compute_52,code=[sm_52,compute_52] -gencode arch=compute_61,code=[sm_61,compute_61] -Iinclude/ -I3rdparty/stb/include -DOPENCV `pkg-config --cflags opencv4 2> /dev/null || pkg-config --cflags opencv` -DGPU -I/usr/local/cuda/include/ -DCUDNN --compiler-options \"-Wall -Wfatal-errors -Wno-unused-result -Wno-unknown-pragmas -fPIC -Ofast -DOPENCV -DGPU -DCUDNN -I/usr/local/cudnn/include -fPIC\" -c ./src/network_kernels.cu -o obj/network_kernels.o\n",
            "./src/network_kernels.cu(364): warning: variable \"l\" was declared but never referenced\n",
            "\n",
            "./src/network_kernels.cu(364): warning: variable \"l\" was declared but never referenced\n",
            "\n",
            "./src/network_kernels.cu(364): warning: variable \"l\" was declared but never referenced\n",
            "\n",
            "./src/network_kernels.cu(364): warning: variable \"l\" was declared but never referenced\n",
            "\n",
            "./src/network_kernels.cu(364): warning: variable \"l\" was declared but never referenced\n",
            "\n",
            "\u001b[01m\u001b[K./src/network_kernels.cu:\u001b[m\u001b[K In function ‘\u001b[01m\u001b[Kfloat train_network_datum_gpu(network, float*, float*)\u001b[m\u001b[K’:\n",
            "\u001b[01m\u001b[K./src/network_kernels.cu:364:7:\u001b[m\u001b[K \u001b[01;35m\u001b[Kwarning: \u001b[m\u001b[Kvariable ‘\u001b[01m\u001b[Kl\u001b[m\u001b[K’ set but not used [\u001b[01;35m\u001b[K-Wunused-but-set-variable\u001b[m\u001b[K]\n",
            "       \u001b[01;35m\u001b[K \u001b[m\u001b[K layer l = net.layers[net.n - 1];\n",
            "       \u001b[01;35m\u001b[K^\u001b[m\u001b[K\n",
            "nvcc -gencode arch=compute_30,code=sm_30 -gencode arch=compute_35,code=sm_35 -gencode arch=compute_50,code=[sm_50,compute_50] -gencode arch=compute_52,code=[sm_52,compute_52] -gencode arch=compute_61,code=[sm_61,compute_61] -Iinclude/ -I3rdparty/stb/include -DOPENCV `pkg-config --cflags opencv4 2> /dev/null || pkg-config --cflags opencv` -DGPU -I/usr/local/cuda/include/ -DCUDNN --compiler-options \"-Wall -Wfatal-errors -Wno-unused-result -Wno-unknown-pragmas -fPIC -Ofast -DOPENCV -DGPU -DCUDNN -I/usr/local/cudnn/include -fPIC\" -c ./src/avgpool_layer_kernels.cu -o obj/avgpool_layer_kernels.o\n",
            "g++ -std=c++11 -std=c++11 -Iinclude/ -I3rdparty/stb/include -DOPENCV `pkg-config --cflags opencv4 2> /dev/null || pkg-config --cflags opencv` -DGPU -I/usr/local/cuda/include/ -DCUDNN -Wall -Wfatal-errors -Wno-unused-result -Wno-unknown-pragmas -fPIC -Ofast -DOPENCV -DGPU -DCUDNN -I/usr/local/cudnn/include -fPIC obj/image_opencv.o obj/http_stream.o obj/gemm.o obj/utils.o obj/dark_cuda.o obj/convolutional_layer.o obj/list.o obj/image.o obj/activations.o obj/im2col.o obj/col2im.o obj/blas.o obj/crop_layer.o obj/dropout_layer.o obj/maxpool_layer.o obj/softmax_layer.o obj/data.o obj/matrix.o obj/network.o obj/connected_layer.o obj/cost_layer.o obj/parser.o obj/option_list.o obj/darknet.o obj/detection_layer.o obj/captcha.o obj/route_layer.o obj/writing.o obj/box.o obj/nightmare.o obj/normalization_layer.o obj/avgpool_layer.o obj/coco.o obj/dice.o obj/yolo.o obj/detector.o obj/layer.o obj/compare.o obj/classifier.o obj/local_layer.o obj/swag.o obj/shortcut_layer.o obj/activation_layer.o obj/rnn_layer.o obj/gru_layer.o obj/rnn.o obj/rnn_vid.o obj/crnn_layer.o obj/demo.o obj/tag.o obj/cifar.o obj/go.o obj/batchnorm_layer.o obj/art.o obj/region_layer.o obj/reorg_layer.o obj/reorg_old_layer.o obj/super.o obj/voxel.o obj/tree.o obj/yolo_layer.o obj/gaussian_yolo_layer.o obj/upsample_layer.o obj/lstm_layer.o obj/conv_lstm_layer.o obj/scale_channels_layer.o obj/sam_layer.o obj/convolutional_kernels.o obj/activation_kernels.o obj/im2col_kernels.o obj/col2im_kernels.o obj/blas_kernels.o obj/crop_layer_kernels.o obj/dropout_layer_kernels.o obj/maxpool_layer_kernels.o obj/network_kernels.o obj/avgpool_layer_kernels.o -o darknet -lm -pthread `pkg-config --libs opencv4 2> /dev/null || pkg-config --libs opencv` -L/usr/local/cuda/lib64 -lcuda -lcudart -lcublas -lcurand -L/usr/local/cudnn/lib64 -lcudnn -lstdc++\n",
            "g++ -std=c++11 -shared -std=c++11 -fvisibility=hidden -DLIB_EXPORTS -Iinclude/ -I3rdparty/stb/include -DOPENCV `pkg-config --cflags opencv4 2> /dev/null || pkg-config --cflags opencv` -DGPU -I/usr/local/cuda/include/ -DCUDNN -Wall -Wfatal-errors -Wno-unused-result -Wno-unknown-pragmas -fPIC -Ofast -DOPENCV -DGPU -DCUDNN -I/usr/local/cudnn/include -fPIC ./obj/image_opencv.o ./obj/http_stream.o ./obj/gemm.o ./obj/utils.o ./obj/dark_cuda.o ./obj/convolutional_layer.o ./obj/list.o ./obj/image.o ./obj/activations.o ./obj/im2col.o ./obj/col2im.o ./obj/blas.o ./obj/crop_layer.o ./obj/dropout_layer.o ./obj/maxpool_layer.o ./obj/softmax_layer.o ./obj/data.o ./obj/matrix.o ./obj/network.o ./obj/connected_layer.o ./obj/cost_layer.o ./obj/parser.o ./obj/option_list.o ./obj/darknet.o ./obj/detection_layer.o ./obj/captcha.o ./obj/route_layer.o ./obj/writing.o ./obj/box.o ./obj/nightmare.o ./obj/normalization_layer.o ./obj/avgpool_layer.o ./obj/coco.o ./obj/dice.o ./obj/yolo.o ./obj/detector.o ./obj/layer.o ./obj/compare.o ./obj/classifier.o ./obj/local_layer.o ./obj/swag.o ./obj/shortcut_layer.o ./obj/activation_layer.o ./obj/rnn_layer.o ./obj/gru_layer.o ./obj/rnn.o ./obj/rnn_vid.o ./obj/crnn_layer.o ./obj/demo.o ./obj/tag.o ./obj/cifar.o ./obj/go.o ./obj/batchnorm_layer.o ./obj/art.o ./obj/region_layer.o ./obj/reorg_layer.o ./obj/reorg_old_layer.o ./obj/super.o ./obj/voxel.o ./obj/tree.o ./obj/yolo_layer.o ./obj/gaussian_yolo_layer.o ./obj/upsample_layer.o ./obj/lstm_layer.o ./obj/conv_lstm_layer.o ./obj/scale_channels_layer.o ./obj/sam_layer.o ./obj/convolutional_kernels.o ./obj/activation_kernels.o ./obj/im2col_kernels.o ./obj/col2im_kernels.o ./obj/blas_kernels.o ./obj/crop_layer_kernels.o ./obj/dropout_layer_kernels.o ./obj/maxpool_layer_kernels.o ./obj/network_kernels.o ./obj/avgpool_layer_kernels.o src/yolo_v2_class.cpp -o libdarknet.so -lm -pthread `pkg-config --libs opencv4 2> /dev/null || pkg-config --libs opencv` -L/usr/local/cuda/lib64 -lcuda -lcudart -lcublas -lcurand -L/usr/local/cudnn/lib64 -lcudnn -lstdc++\n",
            "In file included from \u001b[01m\u001b[Ksrc/yolo_v2_class.cpp:2:0\u001b[m\u001b[K:\n",
            "\u001b[01m\u001b[Kinclude/yolo_v2_class.hpp:\u001b[m\u001b[K In constructor ‘\u001b[01m\u001b[Ktrack_kalman_t::track_kalman_t(int, int, float, cv::Size)\u001b[m\u001b[K’:\n",
            "\u001b[01m\u001b[Kinclude/yolo_v2_class.hpp:708:14:\u001b[m\u001b[K \u001b[01;35m\u001b[Kwarning: \u001b[m\u001b[K‘\u001b[01m\u001b[Ktrack_kalman_t::img_size\u001b[m\u001b[K’ will be initialized after [\u001b[01;35m\u001b[K-Wreorder\u001b[m\u001b[K]\n",
            "     cv::Size \u001b[01;35m\u001b[Kimg_size\u001b[m\u001b[K;  // max value of x,y,w,h\n",
            "              \u001b[01;35m\u001b[K^~~~~~~~\u001b[m\u001b[K\n",
            "\u001b[01m\u001b[Kinclude/yolo_v2_class.hpp:700:9:\u001b[m\u001b[K \u001b[01;35m\u001b[Kwarning: \u001b[m\u001b[K  ‘\u001b[01m\u001b[Kint track_kalman_t::track_id_counter\u001b[m\u001b[K’ [\u001b[01;35m\u001b[K-Wreorder\u001b[m\u001b[K]\n",
            "     int \u001b[01;35m\u001b[Ktrack_id_counter\u001b[m\u001b[K;\n",
            "         \u001b[01;35m\u001b[K^~~~~~~~~~~~~~~~\u001b[m\u001b[K\n",
            "\u001b[01m\u001b[Kinclude/yolo_v2_class.hpp:853:5:\u001b[m\u001b[K \u001b[01;35m\u001b[Kwarning: \u001b[m\u001b[K  when initialized here [\u001b[01;35m\u001b[K-Wreorder\u001b[m\u001b[K]\n",
            "     \u001b[01;35m\u001b[Ktrack_kalman_t\u001b[m\u001b[K(int _max_objects = 1000, int _min_frames = 3, float _max_dist = 40, cv::Size _img_size = cv::Size(10000, 10000)) :\n",
            "     \u001b[01;35m\u001b[K^~~~~~~~~~~~~~\u001b[m\u001b[K\n",
            "\u001b[01m\u001b[Kinclude/yolo_v2_class.hpp:\u001b[m\u001b[K In member function ‘\u001b[01m\u001b[Kvoid track_kalman_t::clear_old_states()\u001b[m\u001b[K’:\n",
            "\u001b[01m\u001b[Kinclude/yolo_v2_class.hpp:879:50:\u001b[m\u001b[K \u001b[01;35m\u001b[Kwarning: \u001b[m\u001b[Kcomparison between signed and unsigned integer expressions [\u001b[01;35m\u001b[K-Wsign-compare\u001b[m\u001b[K]\n",
            "                 if ((result_vec_pred[state_id].x > img_size.width) ||\n",
            "\u001b[01m\u001b[Kinclude/yolo_v2_class.hpp:880:50:\u001b[m\u001b[K \u001b[01;35m\u001b[Kwarning: \u001b[m\u001b[Kcomparison between signed and unsigned integer expressions [\u001b[01;35m\u001b[K-Wsign-compare\u001b[m\u001b[K]\n",
            "                     (result_vec_pred[state_id].y > img_size.height))\n",
            "\u001b[01m\u001b[Kinclude/yolo_v2_class.hpp:\u001b[m\u001b[K In member function ‘\u001b[01m\u001b[Ktrack_kalman_t::tst_t track_kalman_t::get_state_id(bbox_t, std::vector<bool>&)\u001b[m\u001b[K’:\n",
            "\u001b[01m\u001b[Kinclude/yolo_v2_class.hpp:900:30:\u001b[m\u001b[K \u001b[01;35m\u001b[Kwarning: \u001b[m\u001b[Kcomparison between signed and unsigned integer expressions [\u001b[01;35m\u001b[K-Wsign-compare\u001b[m\u001b[K]\n",
            "         for (size_t i = 0; \u001b[01;35m\u001b[Ki < max_objects\u001b[m\u001b[K; ++i)\n",
            "                            \u001b[01;35m\u001b[K~~^~~~~~~~~~~~~\u001b[m\u001b[K\n",
            "\u001b[01m\u001b[Kinclude/yolo_v2_class.hpp:\u001b[m\u001b[K In member function ‘\u001b[01m\u001b[Kstd::vector<bbox_t> track_kalman_t::predict()\u001b[m\u001b[K’:\n",
            "\u001b[01m\u001b[Kinclude/yolo_v2_class.hpp:990:30:\u001b[m\u001b[K \u001b[01;35m\u001b[Kwarning: \u001b[m\u001b[Kcomparison between signed and unsigned integer expressions [\u001b[01;35m\u001b[K-Wsign-compare\u001b[m\u001b[K]\n",
            "         for (size_t i = 0; \u001b[01;35m\u001b[Ki < max_objects\u001b[m\u001b[K; ++i)\n",
            "                            \u001b[01;35m\u001b[K~~^~~~~~~~~~~~~\u001b[m\u001b[K\n",
            "\u001b[01m\u001b[Kinclude/yolo_v2_class.hpp:\u001b[m\u001b[K In member function ‘\u001b[01m\u001b[Kstd::vector<bbox_t> track_kalman_t::correct(std::vector<bbox_t>)\u001b[m\u001b[K’:\n",
            "\u001b[01m\u001b[Kinclude/yolo_v2_class.hpp:1025:30:\u001b[m\u001b[K \u001b[01;35m\u001b[Kwarning: \u001b[m\u001b[Kcomparison between signed and unsigned integer expressions [\u001b[01;35m\u001b[K-Wsign-compare\u001b[m\u001b[K]\n",
            "         for (size_t i = 0; \u001b[01;35m\u001b[Ki < max_objects\u001b[m\u001b[K; ++i)\n",
            "                            \u001b[01;35m\u001b[K~~^~~~~~~~~~~~~\u001b[m\u001b[K\n",
            "\u001b[01m\u001b[Ksrc/yolo_v2_class.cpp:\u001b[m\u001b[K In member function ‘\u001b[01m\u001b[Kstd::vector<bbox_t> Detector::tracking_id(std::vector<bbox_t>, bool, int, int)\u001b[m\u001b[K’:\n",
            "\u001b[01m\u001b[Ksrc/yolo_v2_class.cpp:370:40:\u001b[m\u001b[K \u001b[01;35m\u001b[Kwarning: \u001b[m\u001b[Kcomparison between signed and unsigned integer expressions [\u001b[01;35m\u001b[K-Wsign-compare\u001b[m\u001b[K]\n",
            "         if (\u001b[01;35m\u001b[Kprev_bbox_vec_deque.size() > frames_story\u001b[m\u001b[K) prev_bbox_vec_deque.pop_back();\n",
            "             \u001b[01;35m\u001b[K~~~~~~~~~~~~~~~~~~~~~~~~~~~^~~~~~~~~~~~~~\u001b[m\u001b[K\n",
            "\u001b[01m\u001b[Ksrc/yolo_v2_class.cpp:385:34:\u001b[m\u001b[K \u001b[01;35m\u001b[Kwarning: \u001b[m\u001b[Kcomparison between signed and unsigned integer expressions [\u001b[01;35m\u001b[K-Wsign-compare\u001b[m\u001b[K]\n",
            "                     if (\u001b[01;35m\u001b[Kcur_dist < max_dist\u001b[m\u001b[K && (k.track_id == 0 || dist_vec[m] > cur_dist)) {\n",
            "                         \u001b[01;35m\u001b[K~~~~~~~~~^~~~~~~~~~\u001b[m\u001b[K\n",
            "\u001b[01m\u001b[Ksrc/yolo_v2_class.cpp:409:40:\u001b[m\u001b[K \u001b[01;35m\u001b[Kwarning: \u001b[m\u001b[Kcomparison between signed and unsigned integer expressions [\u001b[01;35m\u001b[K-Wsign-compare\u001b[m\u001b[K]\n",
            "         if (\u001b[01;35m\u001b[Kprev_bbox_vec_deque.size() > frames_story\u001b[m\u001b[K) prev_bbox_vec_deque.pop_back();\n",
            "             \u001b[01;35m\u001b[K~~~~~~~~~~~~~~~~~~~~~~~~~~~^~~~~~~~~~~~~~\u001b[m\u001b[K\n",
            "g++ -std=c++11 -std=c++11 -Iinclude/ -I3rdparty/stb/include -DOPENCV `pkg-config --cflags opencv4 2> /dev/null || pkg-config --cflags opencv` -DGPU -I/usr/local/cuda/include/ -DCUDNN -Wall -Wfatal-errors -Wno-unused-result -Wno-unknown-pragmas -fPIC -Ofast -DOPENCV -DGPU -DCUDNN -I/usr/local/cudnn/include -fPIC -o uselib src/yolo_console_dll.cpp -lm -pthread `pkg-config --libs opencv4 2> /dev/null || pkg-config --libs opencv` -L/usr/local/cuda/lib64 -lcuda -lcudart -lcublas -lcurand -L/usr/local/cudnn/lib64 -lcudnn -lstdc++ -L ./ -l:libdarknet.so\n",
            "In file included from \u001b[01m\u001b[Ksrc/yolo_console_dll.cpp:23:0\u001b[m\u001b[K:\n",
            "\u001b[01m\u001b[Kinclude/yolo_v2_class.hpp:\u001b[m\u001b[K In constructor ‘\u001b[01m\u001b[Ktrack_kalman_t::track_kalman_t(int, int, float, cv::Size)\u001b[m\u001b[K’:\n",
            "\u001b[01m\u001b[Kinclude/yolo_v2_class.hpp:708:14:\u001b[m\u001b[K \u001b[01;35m\u001b[Kwarning: \u001b[m\u001b[K‘\u001b[01m\u001b[Ktrack_kalman_t::img_size\u001b[m\u001b[K’ will be initialized after [\u001b[01;35m\u001b[K-Wreorder\u001b[m\u001b[K]\n",
            "     cv::Size \u001b[01;35m\u001b[Kimg_size\u001b[m\u001b[K;  // max value of x,y,w,h\n",
            "              \u001b[01;35m\u001b[K^~~~~~~~\u001b[m\u001b[K\n",
            "\u001b[01m\u001b[Kinclude/yolo_v2_class.hpp:700:9:\u001b[m\u001b[K \u001b[01;35m\u001b[Kwarning: \u001b[m\u001b[K  ‘\u001b[01m\u001b[Kint track_kalman_t::track_id_counter\u001b[m\u001b[K’ [\u001b[01;35m\u001b[K-Wreorder\u001b[m\u001b[K]\n",
            "     int \u001b[01;35m\u001b[Ktrack_id_counter\u001b[m\u001b[K;\n",
            "         \u001b[01;35m\u001b[K^~~~~~~~~~~~~~~~\u001b[m\u001b[K\n",
            "\u001b[01m\u001b[Kinclude/yolo_v2_class.hpp:853:5:\u001b[m\u001b[K \u001b[01;35m\u001b[Kwarning: \u001b[m\u001b[K  when initialized here [\u001b[01;35m\u001b[K-Wreorder\u001b[m\u001b[K]\n",
            "     \u001b[01;35m\u001b[Ktrack_kalman_t\u001b[m\u001b[K(int _max_objects = 1000, int _min_frames = 3, float _max_dist = 40, cv::Size _img_size = cv::Size(10000, 10000)) :\n",
            "     \u001b[01;35m\u001b[K^~~~~~~~~~~~~~\u001b[m\u001b[K\n",
            "\u001b[01m\u001b[Kinclude/yolo_v2_class.hpp:\u001b[m\u001b[K In member function ‘\u001b[01m\u001b[Kvoid track_kalman_t::clear_old_states()\u001b[m\u001b[K’:\n",
            "\u001b[01m\u001b[Kinclude/yolo_v2_class.hpp:879:50:\u001b[m\u001b[K \u001b[01;35m\u001b[Kwarning: \u001b[m\u001b[Kcomparison between signed and unsigned integer expressions [\u001b[01;35m\u001b[K-Wsign-compare\u001b[m\u001b[K]\n",
            "                 if ((result_vec_pred[state_id].x > img_size.width) ||\n",
            "\u001b[01m\u001b[Kinclude/yolo_v2_class.hpp:880:50:\u001b[m\u001b[K \u001b[01;35m\u001b[Kwarning: \u001b[m\u001b[Kcomparison between signed and unsigned integer expressions [\u001b[01;35m\u001b[K-Wsign-compare\u001b[m\u001b[K]\n",
            "                     (result_vec_pred[state_id].y > img_size.height))\n",
            "\u001b[01m\u001b[Kinclude/yolo_v2_class.hpp:\u001b[m\u001b[K In member function ‘\u001b[01m\u001b[Ktrack_kalman_t::tst_t track_kalman_t::get_state_id(bbox_t, std::vector<bool>&)\u001b[m\u001b[K’:\n",
            "\u001b[01m\u001b[Kinclude/yolo_v2_class.hpp:900:30:\u001b[m\u001b[K \u001b[01;35m\u001b[Kwarning: \u001b[m\u001b[Kcomparison between signed and unsigned integer expressions [\u001b[01;35m\u001b[K-Wsign-compare\u001b[m\u001b[K]\n",
            "         for (size_t i = 0; \u001b[01;35m\u001b[Ki < max_objects\u001b[m\u001b[K; ++i)\n",
            "                            \u001b[01;35m\u001b[K~~^~~~~~~~~~~~~\u001b[m\u001b[K\n",
            "\u001b[01m\u001b[Kinclude/yolo_v2_class.hpp:\u001b[m\u001b[K In member function ‘\u001b[01m\u001b[Kstd::vector<bbox_t> track_kalman_t::predict()\u001b[m\u001b[K’:\n",
            "\u001b[01m\u001b[Kinclude/yolo_v2_class.hpp:990:30:\u001b[m\u001b[K \u001b[01;35m\u001b[Kwarning: \u001b[m\u001b[Kcomparison between signed and unsigned integer expressions [\u001b[01;35m\u001b[K-Wsign-compare\u001b[m\u001b[K]\n",
            "         for (size_t i = 0; \u001b[01;35m\u001b[Ki < max_objects\u001b[m\u001b[K; ++i)\n",
            "                            \u001b[01;35m\u001b[K~~^~~~~~~~~~~~~\u001b[m\u001b[K\n",
            "\u001b[01m\u001b[Kinclude/yolo_v2_class.hpp:\u001b[m\u001b[K In member function ‘\u001b[01m\u001b[Kstd::vector<bbox_t> track_kalman_t::correct(std::vector<bbox_t>)\u001b[m\u001b[K’:\n",
            "\u001b[01m\u001b[Kinclude/yolo_v2_class.hpp:1025:30:\u001b[m\u001b[K \u001b[01;35m\u001b[Kwarning: \u001b[m\u001b[Kcomparison between signed and unsigned integer expressions [\u001b[01;35m\u001b[K-Wsign-compare\u001b[m\u001b[K]\n",
            "         for (size_t i = 0; \u001b[01;35m\u001b[Ki < max_objects\u001b[m\u001b[K; ++i)\n",
            "                            \u001b[01;35m\u001b[K~~^~~~~~~~~~~~~\u001b[m\u001b[K\n",
            "\u001b[01m\u001b[Ksrc/yolo_console_dll.cpp:\u001b[m\u001b[K In function ‘\u001b[01m\u001b[Kvoid draw_boxes(cv::Mat, std::vector<bbox_t>, std::vector<std::__cxx11::basic_string<char> >, int, int)\u001b[m\u001b[K’:\n",
            "\u001b[01m\u001b[Ksrc/yolo_console_dll.cpp:192:46:\u001b[m\u001b[K \u001b[01;35m\u001b[Kwarning: \u001b[m\u001b[Kcomparison between signed and unsigned integer expressions [\u001b[01;35m\u001b[K-Wsign-compare\u001b[m\u001b[K]\n",
            "             int max_width = (\u001b[01;35m\u001b[Ktext_size.width > i.w + 2\u001b[m\u001b[K) ? text_size.width : (i.w + 2);\n",
            "                              \u001b[01;35m\u001b[K~~~~~~~~~~~~~~~~^~~~~~~~~\u001b[m\u001b[K\n",
            "\u001b[01m\u001b[Ksrc/yolo_console_dll.cpp:201:62:\u001b[m\u001b[K \u001b[01;35m\u001b[Kwarning: \u001b[m\u001b[Kcomparison between signed and unsigned integer expressions [\u001b[01;35m\u001b[K-Wsign-compare\u001b[m\u001b[K]\n",
            "                 int const max_width_3d = (\u001b[01;35m\u001b[Ktext_size_3d.width > i.w + 2\u001b[m\u001b[K) ? text_size_3d.width : (i.w + 2);\n",
            "                                           \u001b[01;35m\u001b[K~~~~~~~~~~~~~~~~~~~^~~~~~~~~\u001b[m\u001b[K\n",
            "\u001b[01m\u001b[Ksrc/yolo_console_dll.cpp:183:15:\u001b[m\u001b[K \u001b[01;35m\u001b[Kwarning: \u001b[m\u001b[Kunused variable ‘\u001b[01m\u001b[Kcolors\u001b[m\u001b[K’ [\u001b[01;35m\u001b[K-Wunused-variable\u001b[m\u001b[K]\n",
            "     int const \u001b[01;35m\u001b[Kcolors\u001b[m\u001b[K[6][3] = { { 1,0,1 },{ 0,0,1 },{ 0,1,1 },{ 0,1,0 },{ 1,1,0 },{ 1,0,0 } };\n",
            "               \u001b[01;35m\u001b[K^~~~~~\u001b[m\u001b[K\n",
            "\u001b[01m\u001b[Ksrc/yolo_console_dll.cpp:\u001b[m\u001b[K In constructor ‘\u001b[01m\u001b[Kmain(int, char**)::detection_data_t::detection_data_t()\u001b[m\u001b[K’:\n",
            "\u001b[01m\u001b[Ksrc/yolo_console_dll.cpp:398:26:\u001b[m\u001b[K \u001b[01;35m\u001b[Kwarning: \u001b[m\u001b[K‘\u001b[01m\u001b[Kmain(int, char**)::detection_data_t::exit_flag\u001b[m\u001b[K’ will be initialized after [\u001b[01;35m\u001b[K-Wreorder\u001b[m\u001b[K]\n",
            "                     bool \u001b[01;35m\u001b[Kexit_flag\u001b[m\u001b[K;\n",
            "                          \u001b[01;35m\u001b[K^~~~~~~~~\u001b[m\u001b[K\n",
            "\u001b[01m\u001b[Ksrc/yolo_console_dll.cpp:396:26:\u001b[m\u001b[K \u001b[01;35m\u001b[Kwarning: \u001b[m\u001b[K  ‘\u001b[01m\u001b[Kbool main(int, char**)::detection_data_t::new_detection\u001b[m\u001b[K’ [\u001b[01;35m\u001b[K-Wreorder\u001b[m\u001b[K]\n",
            "                     bool \u001b[01;35m\u001b[Knew_detection\u001b[m\u001b[K;\n",
            "                          \u001b[01;35m\u001b[K^~~~~~~~~~~~~\u001b[m\u001b[K\n",
            "\u001b[01m\u001b[Ksrc/yolo_console_dll.cpp:401:21:\u001b[m\u001b[K \u001b[01;35m\u001b[Kwarning: \u001b[m\u001b[K  when initialized here [\u001b[01;35m\u001b[K-Wreorder\u001b[m\u001b[K]\n",
            "                     \u001b[01;35m\u001b[Kdetection_data_t\u001b[m\u001b[K() : exit_flag(false), new_detection(false) {}\n",
            "                     \u001b[01;35m\u001b[K^~~~~~~~~~~~~~~~\u001b[m\u001b[K\n"
          ],
          "name": "stdout"
        }
      ]
    },
    {
      "cell_type": "code",
      "metadata": {
        "colab": {
          "base_uri": "https://localhost:8080/"
        },
        "id": "IVrZirxxKV1F",
        "outputId": "3639b080-2ad5-4baf-c52b-dbb1c9b988c0"
      },
      "source": [
        "# install opencv\n",
        "!pip install opencv-python"
      ],
      "execution_count": null,
      "outputs": [
        {
          "output_type": "stream",
          "text": [
            "Requirement already satisfied: opencv-python in /usr/local/lib/python3.7/dist-packages (4.1.2.30)\n",
            "Requirement already satisfied: numpy>=1.14.5 in /usr/local/lib/python3.7/dist-packages (from opencv-python) (1.19.5)\n"
          ],
          "name": "stdout"
        }
      ]
    },
    {
      "cell_type": "markdown",
      "metadata": {
        "id": "bWveZmDTNS9U"
      },
      "source": [
        "## Import Libraries"
      ]
    },
    {
      "cell_type": "code",
      "metadata": {
        "id": "v3Ka95-dKZ4e"
      },
      "source": [
        "from PIL import Image\n",
        "import tensorflow as tf\n",
        "import tarfile\n",
        "import datetime\n",
        "import cv2\n",
        "import numpy as np\n",
        "import matplotlib.pyplot as plt\n",
        "from tensorflow.python.keras.layers import Conv2D, Input, Lambda, Activation\n",
        "from tensorflow.python.keras.models import Model\n",
        "from os.path import exists, join, basename\n",
        "from os import makedirs, remove, path\n",
        "from six.moves import urllib\n",
        "from tensorflow import keras "
      ],
      "execution_count": null,
      "outputs": []
    },
    {
      "cell_type": "code",
      "metadata": {
        "id": "PWc_IzlhKb0_"
      },
      "source": [
        "SCALE = 2\n",
        "# LR_SIZE = 100\n",
        "# Make sure HR_SIZE is smaller than 300 since some images in the dataset have height/width < 300\n",
        "# HR_SIZE = LR_SIZE * SCALE\n",
        "IMG_SIZE = 300\n",
        "HR_SIZE = IMG_SIZE * SCALE\n",
        "\n",
        "BATCH_SIZE = 100"
      ],
      "execution_count": null,
      "outputs": []
    },
    {
      "cell_type": "markdown",
      "metadata": {
        "id": "eYwKSAvDeC-x"
      },
      "source": [
        "## Super Resolution"
      ]
    },
    {
      "cell_type": "code",
      "metadata": {
        "id": "bkrJGIZEKgLc"
      },
      "source": [
        "def load_test_image(img_path):\n",
        "    hr = img_path\n",
        "    hr = cv2.cvtColor(hr, cv2.COLOR_BGR2YCrCb)\n",
        "    hr = tf.image.crop_to_bounding_box(hr, 0, 0,IMG_SIZE ,IMG_SIZE)\n",
        "    # lr = tf.image.resize(hr, [HR_SIZE//SCALE, HR_SIZE//SCALE])\n",
        "    lr = hr\n",
        "    lr = tf.cast(lr, tf.uint8)\n",
        "    return lr\n",
        "\n",
        "def super_resolve(original_img_path):\n",
        "    # lr - low resolution image\n",
        "    # hr - high resolution image (cropped from original)\n",
        "    # sr - super resolved image from lr\n",
        "    lr= load_test_image(original_img_path)\n",
        "    lr_ycrcb = lr.numpy().copy()    \n",
        "    lr = cv2.cvtColor(lr.numpy(), cv2.COLOR_YCrCb2RGB)\n",
        "    #hr = cv2.cvtColor(hr.numpy(), cv2.COLOR_YCrCb2RGB)   \n",
        "    lr_ycrcb = tf.cast(lr_ycrcb, tf.float32)\n",
        "    lr_y = lr_ycrcb[:, :, 0:1] / 255.\n",
        "    lr_cr = lr_ycrcb[:, :, 1:2]\n",
        "    lr_cb = lr_ycrcb[:, :, 2:3]\n",
        "    lr_y = tf.expand_dims(lr_y, axis=0)\n",
        "    \n",
        "    # Use TFLite to super resolve luminance\n",
        "    converter = tf.lite.TFLiteConverter.from_keras_model(model)\n",
        "    tflite_model = converter.convert()\n",
        "    interpreter = tf.lite.Interpreter(model_content=tflite_model)\n",
        "    interpreter.allocate_tensors()\n",
        "    input_details = interpreter.get_input_details()\n",
        "    output_details = interpreter.get_output_details()\n",
        "    interpreter.set_tensor(input_details[0]['index'], lr_y)\n",
        "    interpreter.invoke()\n",
        "    sr_y = interpreter.get_tensor(output_details[0]['index'])\n",
        "    \n",
        "    open(\"ESPCN.tflite\", 'wb').write(tflite_model)\n",
        "    \n",
        "    # Transform super resolved image back into RGB color space\n",
        "    sr_y = sr_y * 255\n",
        "    sr_cr = tf.image.resize(lr_cr, [IMG_SIZE*SCALE, IMG_SIZE*SCALE], tf.image.ResizeMethod.BICUBIC)\n",
        "    sr_cb = tf.image.resize(lr_cb, [IMG_SIZE*SCALE, IMG_SIZE*SCALE], tf.image.ResizeMethod.BICUBIC)\n",
        "    sr = tf.concat([sr_y[0], sr_cr, sr_cb], axis=2)\n",
        "    sr = tf.clip_by_value(sr, 0, 255)\n",
        "    sr = tf.round(sr)\n",
        "    sr = tf.cast(sr, tf.uint8)\n",
        "    sr = cv2.cvtColor(sr.numpy(), cv2.COLOR_YCrCb2RGB)\n",
        "    return sr\n",
        "    "
      ],
      "execution_count": null,
      "outputs": []
    },
    {
      "cell_type": "code",
      "metadata": {
        "id": "J-xDerTUKmsC",
        "colab": {
          "base_uri": "https://localhost:8080/"
        },
        "outputId": "5a8c398e-4505-43ca-bb2a-8f46ae85f5b6"
      },
      "source": [
        "## Use model \"export_ep700\" created from models/ESPCN(ep_700).ipynb\n",
        "model = keras.models.load_model('export_ep700')"
      ],
      "execution_count": null,
      "outputs": [
        {
          "output_type": "stream",
          "text": [
            "WARNING:tensorflow:SavedModel saved prior to TF 2.5 detected when loading Keras model. Please ensure that you are saving the model with model.save() or tf.keras.models.save_model(), *NOT* tf.saved_model.save(). To confirm, there should be a file named \"keras_metadata.pb\" in the SavedModel directory.\n"
          ],
          "name": "stdout"
        }
      ]
    },
    {
      "cell_type": "markdown",
      "metadata": {
        "id": "4-d3JkmerhFr"
      },
      "source": [
        "## Object Detection"
      ]
    },
    {
      "cell_type": "code",
      "metadata": {
        "id": "NrvhcDJCIZSs"
      },
      "source": [
        "# use \"classes.names\" from repository's data/classes.names\n",
        "# copy the file under darknet_for_colab/data\n",
        "!cp \"classes.names\" \"./data/classes.names\""
      ],
      "execution_count": null,
      "outputs": []
    },
    {
      "cell_type": "code",
      "metadata": {
        "id": "uPpNj3x1MURe"
      },
      "source": [
        "assert os.getcwd()=='/content/darknet_for_colab', 'Directory should be \"/content/darknet_for_colab\" instead of \"{}\"'.format(os.getcwd())"
      ],
      "execution_count": null,
      "outputs": []
    },
    {
      "cell_type": "code",
      "metadata": {
        "id": "ngT1wVUiQFbk",
        "colab": {
          "base_uri": "https://localhost:8080/"
        },
        "outputId": "ee1e2c1f-cac2-4b33-d9a5-ecc64581d81f"
      },
      "source": [
        "from ctypes import *\n",
        "import math\n",
        "import random\n",
        "import os\n",
        "import cv2\n",
        "import numpy as np\n",
        "import time\n",
        "import darknet\n",
        "import argparse\n",
        "\n",
        "from IPython.display import clear_output\n",
        "from google.colab.patches import cv2_imshow\n",
        "from PIL import Image\n",
        "\n",
        "import easydict\n",
        "\n",
        "######## Change Directory ########\n",
        "args = easydict.EasyDict({\n",
        " \n",
        "        # insert test video path\n",
        "        \"video\": 'video.mp4',\n",
        " \n",
        "        # use \"yolov4_custom_test.cfg\" from repository's data/yolov4_custom_test.cfg\n",
        "        \"config\": \"yolov4_custom_test.cfg\",\n",
        " \n",
        "        # use \"yolo4_custom_train.weights\" from repository's data/yolov4_custom_train.weights\n",
        "        \"weights\": 'yolov4_custom_train.weights',\n",
        " \n",
        "        # use \"classes.names\" from repository's data/classes.names\n",
        "        \"label\": \"classes.names\",\n",
        " \n",
        "        \"meta\": \"./data/yolov4.data\",\n",
        " \n",
        "        \"output\": \"./output.mp4\"\n",
        " \n",
        "})\n",
        "args = vars(args)\n",
        "\n",
        "def check_argument(args):\n",
        "    assert os.path.isfile(args[\"video\"]) == True, \"Can't find \" + args[\"video\"]\n",
        "    assert os.path.isfile(args[\"config\"]) == True, \"Can't find \" + args[\"config\"]\n",
        "    assert os.path.isfile(args[\"weights\"]) == True, \"Can't find \" + args[\"weights\"]\n",
        "    assert os.path.isfile(args[\"meta\"]) == True, \"Can't find \" + args[\"meta\"]\n",
        "    assert os.path.isfile(args[\"label\"]) == True, \"Can't find \" + args[\"label\"]\n",
        "\n",
        "def convertBack(x, y, w, h):\n",
        "    xmin = int(round(x - (w / 2)))\n",
        "    xmax = int(round(x + (w / 2)))\n",
        "    ymin = int(round(y - (h / 2)))\n",
        "    ymax = int(round(y + (h / 2)))\n",
        "    return xmin, ymin, xmax, ymax\n",
        "\n",
        "\n",
        "def cvDrawBoxes(detections, img):\n",
        "    for detection in detections:\n",
        "        x, y, w, h = detection[2][0],\\\n",
        "            detection[2][1],\\\n",
        "            detection[2][2],\\\n",
        "            detection[2][3]\n",
        "        xmin, ymin, xmax, ymax = convertBack(\n",
        "            float(x), float(y), float(w), float(h))\n",
        "        pt1 = (xmin, ymin)\n",
        "        pt2 = (xmax, ymax)\n",
        "        color = [int(c) for c in COLORS[LABELS.index(detection[0].decode())]]\n",
        "        #print(color, type(color))\n",
        "        # if detection[1] * 100 >= 60:\n",
        "        cv2.rectangle(img, pt1, pt2, color, 1)\n",
        "        cv2.putText(img,\n",
        "                  detection[0].decode() +\n",
        "                  \" [\" + str(round(detection[1] * 100, 2)) + \"]\",\n",
        "                  (pt1[0], pt1[1] - 5), cv2.FONT_HERSHEY_SIMPLEX, 0.5,\n",
        "                  color, 2)\n",
        "    return img\n",
        "\n",
        "\n",
        "netMain = None\n",
        "metaMain = None\n",
        "altNames = None\n",
        "\n",
        "\n",
        "def YOLO():\n",
        "\n",
        "\n",
        "    global metaMain, netMain, altNames, COLORS, LABELS\n",
        "    \n",
        "    videoPath = args[\"video\"]\n",
        "    configPath = args[\"config\"]\n",
        "    weightPath = args[\"weights\"]\n",
        "    metaPath = args[\"meta\"]\n",
        "    labelsPath = args[\"label\"]\n",
        "    outputPath = args [\"output\"]\n",
        "    \n",
        "    check_argument(args)\n",
        "    \n",
        "    LABELS = open(labelsPath).read().strip().split(\"\\n\")\n",
        "    #print(LABELS, len(LABELS))\n",
        "    np.random.seed(42)\n",
        "    COLORS = np.random.randint(0, 255, size=(len(LABELS), 3), dtype=\"uint8\")\n",
        "    \n",
        "    if not os.path.exists(configPath):\n",
        "        raise ValueError(\"Invalid config path `\" +\n",
        "                         os.path.abspath(configPath)+\"`\")\n",
        "    if not os.path.exists(weightPath):\n",
        "        raise ValueError(\"Invalid weight path `\" +\n",
        "                         os.path.abspath(weightPath)+\"`\")\n",
        "    if not os.path.exists(metaPath):\n",
        "        raise ValueError(\"Invalid data file path `\" +\n",
        "                         os.path.abspath(metaPath)+\"`\")\n",
        "    if netMain is None:\n",
        "        netMain = darknet.load_net_custom(configPath.encode(\n",
        "            \"ascii\"), weightPath.encode(\"ascii\"), 0, 1)  # batch size = 1\n",
        "    if metaMain is None:\n",
        "        metaMain = darknet.load_meta(metaPath.encode(\"ascii\"))\n",
        "    if altNames is None:\n",
        "        try:\n",
        "            with open(metaPath) as metaFH:\n",
        "                metaContents = metaFH.read()\n",
        "                import re\n",
        "                match = re.search(\"names *= *(.*)$\", metaContents,\n",
        "                                  re.IGNORECASE | re.MULTILINE)\n",
        "                if match:\n",
        "                    result = match.group(1)\n",
        "                else:\n",
        "                    result = None\n",
        "                try:\n",
        "                    if os.path.exists(result):\n",
        "                        with open(result) as namesFH:\n",
        "                            namesList = namesFH.read().strip().split(\"\\n\")\n",
        "                            altNames = [x.strip() for x in namesList]\n",
        "                except TypeError:\n",
        "                    pass\n",
        "        except Exception:\n",
        "            pass\n",
        "    #cap = cv2.VideoCapture(0)\n",
        "    cap = cv2.VideoCapture(videoPath)\n",
        "    cap.set(3, 1280)\n",
        "    cap.set(4, 720)\n",
        "    fps = cap.get(5)\n",
        "    print(fps)\n",
        "    out = cv2.VideoWriter(\n",
        "        \"{}\".format(outputPath), cv2.VideoWriter_fourcc(*\"DIVX\"), 18.0,\n",
        "        (darknet.network_width(netMain), darknet.network_height(netMain)))\n",
        "    print(\"[INFO] Start the YOLO loop...\")\n",
        "\n",
        "    # Create an image we reuse for each detect\n",
        "    darknet_image = darknet.make_image(darknet.network_width(netMain),\n",
        "                                    darknet.network_height(netMain),3)\n",
        "\n",
        "    print(\"[INFO] Start processing video...\")                                    \n",
        "    while True:\n",
        "        prev_time = time.time()\n",
        "        ret, frame_read = cap.read()\n",
        "\n",
        "        if not ret:\n",
        "          break\n",
        "        \n",
        "        frame_read = super_resolve(frame_read)\n",
        "        \n",
        "        frame_rgb = cv2.cvtColor(frame_read, cv2.COLOR_BGR2RGB)\n",
        "        frame_resized = cv2.resize(frame_rgb,\n",
        "                                   (darknet.network_width(netMain),\n",
        "                                    darknet.network_height(netMain)),\n",
        "                                   interpolation=cv2.INTER_LINEAR)\n",
        "\n",
        "        darknet.copy_image_from_bytes(darknet_image,frame_resized.tobytes())\n",
        "\n",
        "        detections = darknet.detect_image(netMain, metaMain, darknet_image, thresh=0.25)\n",
        "        image = cvDrawBoxes(detections, frame_resized)\n",
        "        image = cv2.cvtColor(image, cv2.COLOR_BGR2RGB)\n",
        "        #print(1/(time.time()-prev_time))\n",
        "        out.write(image)\n",
        "        #cv2_imshow(image)\n",
        "        #cv2.imshow('Demo', image)\n",
        "        cv2.waitKey(3)\n",
        "    cap.release()\n",
        "    out.release()\n",
        "    print('[INFO] Save processed video as \"{}\"'.format(outputPath))  \n",
        "                                  \n",
        "if __name__ == \"__main__\":\n",
        "    YOLO()\n"
      ],
      "execution_count": null,
      "outputs": [
        {
          "output_type": "stream",
          "text": [
            "30.00974342318935\n",
            "[INFO] Start the YOLO loop...\n",
            "[INFO] Start processing video...\n",
            "INFO:tensorflow:Assets written to: /tmp/tmp98onn1vf/assets\n",
            "INFO:tensorflow:Assets written to: /tmp/tmpjjai_0mu/assets\n"
          ],
          "name": "stdout"
        },
        {
          "output_type": "stream",
          "text": [
            "INFO:tensorflow:Assets written to: /tmp/tmpjjai_0mu/assets\n"
          ],
          "name": "stderr"
        },
        {
          "output_type": "stream",
          "text": [
            "INFO:tensorflow:Assets written to: /tmp/tmp5lduotw6/assets\n"
          ],
          "name": "stdout"
        },
        {
          "output_type": "stream",
          "text": [
            "INFO:tensorflow:Assets written to: /tmp/tmp5lduotw6/assets\n"
          ],
          "name": "stderr"
        },
        {
          "output_type": "stream",
          "text": [
            "INFO:tensorflow:Assets written to: /tmp/tmp2b1p0hm_/assets\n"
          ],
          "name": "stdout"
        },
        {
          "output_type": "stream",
          "text": [
            "INFO:tensorflow:Assets written to: /tmp/tmp2b1p0hm_/assets\n"
          ],
          "name": "stderr"
        },
        {
          "output_type": "stream",
          "text": [
            "INFO:tensorflow:Assets written to: /tmp/tmpss4fpn3z/assets\n"
          ],
          "name": "stdout"
        },
        {
          "output_type": "stream",
          "text": [
            "INFO:tensorflow:Assets written to: /tmp/tmpss4fpn3z/assets\n"
          ],
          "name": "stderr"
        },
        {
          "output_type": "stream",
          "text": [
            "INFO:tensorflow:Assets written to: /tmp/tmpzyxr76fp/assets\n"
          ],
          "name": "stdout"
        },
        {
          "output_type": "stream",
          "text": [
            "INFO:tensorflow:Assets written to: /tmp/tmpzyxr76fp/assets\n"
          ],
          "name": "stderr"
        },
        {
          "output_type": "stream",
          "text": [
            "INFO:tensorflow:Assets written to: /tmp/tmp4ci1sfn_/assets\n"
          ],
          "name": "stdout"
        },
        {
          "output_type": "stream",
          "text": [
            "INFO:tensorflow:Assets written to: /tmp/tmp4ci1sfn_/assets\n"
          ],
          "name": "stderr"
        },
        {
          "output_type": "stream",
          "text": [
            "INFO:tensorflow:Assets written to: /tmp/tmp6wu51jgd/assets\n"
          ],
          "name": "stdout"
        },
        {
          "output_type": "stream",
          "text": [
            "INFO:tensorflow:Assets written to: /tmp/tmp6wu51jgd/assets\n"
          ],
          "name": "stderr"
        },
        {
          "output_type": "stream",
          "text": [
            "INFO:tensorflow:Assets written to: /tmp/tmpulovd1lm/assets\n"
          ],
          "name": "stdout"
        },
        {
          "output_type": "stream",
          "text": [
            "INFO:tensorflow:Assets written to: /tmp/tmpulovd1lm/assets\n"
          ],
          "name": "stderr"
        },
        {
          "output_type": "stream",
          "text": [
            "INFO:tensorflow:Assets written to: /tmp/tmpqnrk7rxd/assets\n"
          ],
          "name": "stdout"
        },
        {
          "output_type": "stream",
          "text": [
            "INFO:tensorflow:Assets written to: /tmp/tmpqnrk7rxd/assets\n"
          ],
          "name": "stderr"
        },
        {
          "output_type": "stream",
          "text": [
            "INFO:tensorflow:Assets written to: /tmp/tmpz3kc_d8y/assets\n"
          ],
          "name": "stdout"
        },
        {
          "output_type": "stream",
          "text": [
            "INFO:tensorflow:Assets written to: /tmp/tmpz3kc_d8y/assets\n"
          ],
          "name": "stderr"
        },
        {
          "output_type": "stream",
          "text": [
            "INFO:tensorflow:Assets written to: /tmp/tmp7g15ke4l/assets\n"
          ],
          "name": "stdout"
        },
        {
          "output_type": "stream",
          "text": [
            "INFO:tensorflow:Assets written to: /tmp/tmp7g15ke4l/assets\n"
          ],
          "name": "stderr"
        },
        {
          "output_type": "stream",
          "text": [
            "INFO:tensorflow:Assets written to: /tmp/tmpbnivnhbv/assets\n"
          ],
          "name": "stdout"
        },
        {
          "output_type": "stream",
          "text": [
            "INFO:tensorflow:Assets written to: /tmp/tmpbnivnhbv/assets\n"
          ],
          "name": "stderr"
        },
        {
          "output_type": "stream",
          "text": [
            "INFO:tensorflow:Assets written to: /tmp/tmpi1fwg311/assets\n"
          ],
          "name": "stdout"
        },
        {
          "output_type": "stream",
          "text": [
            "INFO:tensorflow:Assets written to: /tmp/tmpi1fwg311/assets\n"
          ],
          "name": "stderr"
        },
        {
          "output_type": "stream",
          "text": [
            "INFO:tensorflow:Assets written to: /tmp/tmpy0bz9ife/assets\n"
          ],
          "name": "stdout"
        },
        {
          "output_type": "stream",
          "text": [
            "INFO:tensorflow:Assets written to: /tmp/tmpy0bz9ife/assets\n"
          ],
          "name": "stderr"
        },
        {
          "output_type": "stream",
          "text": [
            "INFO:tensorflow:Assets written to: /tmp/tmpgdxj9k7b/assets\n"
          ],
          "name": "stdout"
        },
        {
          "output_type": "stream",
          "text": [
            "INFO:tensorflow:Assets written to: /tmp/tmpgdxj9k7b/assets\n"
          ],
          "name": "stderr"
        },
        {
          "output_type": "stream",
          "text": [
            "INFO:tensorflow:Assets written to: /tmp/tmp5p_apqsn/assets\n"
          ],
          "name": "stdout"
        },
        {
          "output_type": "stream",
          "text": [
            "INFO:tensorflow:Assets written to: /tmp/tmp5p_apqsn/assets\n"
          ],
          "name": "stderr"
        },
        {
          "output_type": "stream",
          "text": [
            "INFO:tensorflow:Assets written to: /tmp/tmpu0u6q7tl/assets\n"
          ],
          "name": "stdout"
        },
        {
          "output_type": "stream",
          "text": [
            "INFO:tensorflow:Assets written to: /tmp/tmpu0u6q7tl/assets\n"
          ],
          "name": "stderr"
        },
        {
          "output_type": "stream",
          "text": [
            "INFO:tensorflow:Assets written to: /tmp/tmpvd0mufhb/assets\n"
          ],
          "name": "stdout"
        },
        {
          "output_type": "stream",
          "text": [
            "INFO:tensorflow:Assets written to: /tmp/tmpvd0mufhb/assets\n"
          ],
          "name": "stderr"
        },
        {
          "output_type": "stream",
          "text": [
            "INFO:tensorflow:Assets written to: /tmp/tmp8waposep/assets\n"
          ],
          "name": "stdout"
        },
        {
          "output_type": "stream",
          "text": [
            "INFO:tensorflow:Assets written to: /tmp/tmp8waposep/assets\n"
          ],
          "name": "stderr"
        },
        {
          "output_type": "stream",
          "text": [
            "INFO:tensorflow:Assets written to: /tmp/tmpk8knea4o/assets\n"
          ],
          "name": "stdout"
        },
        {
          "output_type": "stream",
          "text": [
            "INFO:tensorflow:Assets written to: /tmp/tmpk8knea4o/assets\n"
          ],
          "name": "stderr"
        },
        {
          "output_type": "stream",
          "text": [
            "INFO:tensorflow:Assets written to: /tmp/tmp1726p01e/assets\n"
          ],
          "name": "stdout"
        },
        {
          "output_type": "stream",
          "text": [
            "INFO:tensorflow:Assets written to: /tmp/tmp1726p01e/assets\n"
          ],
          "name": "stderr"
        },
        {
          "output_type": "stream",
          "text": [
            "INFO:tensorflow:Assets written to: /tmp/tmpqj1sp3yu/assets\n"
          ],
          "name": "stdout"
        },
        {
          "output_type": "stream",
          "text": [
            "INFO:tensorflow:Assets written to: /tmp/tmpqj1sp3yu/assets\n"
          ],
          "name": "stderr"
        },
        {
          "output_type": "stream",
          "text": [
            "INFO:tensorflow:Assets written to: /tmp/tmpx2tatj4m/assets\n"
          ],
          "name": "stdout"
        },
        {
          "output_type": "stream",
          "text": [
            "INFO:tensorflow:Assets written to: /tmp/tmpx2tatj4m/assets\n"
          ],
          "name": "stderr"
        },
        {
          "output_type": "stream",
          "text": [
            "INFO:tensorflow:Assets written to: /tmp/tmp1n7s0kro/assets\n"
          ],
          "name": "stdout"
        },
        {
          "output_type": "stream",
          "text": [
            "INFO:tensorflow:Assets written to: /tmp/tmp1n7s0kro/assets\n"
          ],
          "name": "stderr"
        },
        {
          "output_type": "stream",
          "text": [
            "INFO:tensorflow:Assets written to: /tmp/tmpvr58bsxw/assets\n"
          ],
          "name": "stdout"
        },
        {
          "output_type": "stream",
          "text": [
            "INFO:tensorflow:Assets written to: /tmp/tmpvr58bsxw/assets\n"
          ],
          "name": "stderr"
        },
        {
          "output_type": "stream",
          "text": [
            "INFO:tensorflow:Assets written to: /tmp/tmp9sbxjrzi/assets\n"
          ],
          "name": "stdout"
        },
        {
          "output_type": "stream",
          "text": [
            "INFO:tensorflow:Assets written to: /tmp/tmp9sbxjrzi/assets\n"
          ],
          "name": "stderr"
        },
        {
          "output_type": "stream",
          "text": [
            "INFO:tensorflow:Assets written to: /tmp/tmp9qviclfw/assets\n"
          ],
          "name": "stdout"
        },
        {
          "output_type": "stream",
          "text": [
            "INFO:tensorflow:Assets written to: /tmp/tmp9qviclfw/assets\n"
          ],
          "name": "stderr"
        },
        {
          "output_type": "stream",
          "text": [
            "INFO:tensorflow:Assets written to: /tmp/tmphaw6pg5t/assets\n"
          ],
          "name": "stdout"
        },
        {
          "output_type": "stream",
          "text": [
            "INFO:tensorflow:Assets written to: /tmp/tmphaw6pg5t/assets\n"
          ],
          "name": "stderr"
        },
        {
          "output_type": "stream",
          "text": [
            "INFO:tensorflow:Assets written to: /tmp/tmpom4nh6wf/assets\n"
          ],
          "name": "stdout"
        },
        {
          "output_type": "stream",
          "text": [
            "INFO:tensorflow:Assets written to: /tmp/tmpom4nh6wf/assets\n"
          ],
          "name": "stderr"
        },
        {
          "output_type": "stream",
          "text": [
            "INFO:tensorflow:Assets written to: /tmp/tmpwlbezkbi/assets\n"
          ],
          "name": "stdout"
        },
        {
          "output_type": "stream",
          "text": [
            "INFO:tensorflow:Assets written to: /tmp/tmpwlbezkbi/assets\n"
          ],
          "name": "stderr"
        },
        {
          "output_type": "stream",
          "text": [
            "INFO:tensorflow:Assets written to: /tmp/tmpr_oddz38/assets\n"
          ],
          "name": "stdout"
        },
        {
          "output_type": "stream",
          "text": [
            "INFO:tensorflow:Assets written to: /tmp/tmpr_oddz38/assets\n"
          ],
          "name": "stderr"
        },
        {
          "output_type": "stream",
          "text": [
            "INFO:tensorflow:Assets written to: /tmp/tmpl3b8bdly/assets\n"
          ],
          "name": "stdout"
        },
        {
          "output_type": "stream",
          "text": [
            "INFO:tensorflow:Assets written to: /tmp/tmpl3b8bdly/assets\n"
          ],
          "name": "stderr"
        },
        {
          "output_type": "stream",
          "text": [
            "INFO:tensorflow:Assets written to: /tmp/tmp3xeq6jtk/assets\n"
          ],
          "name": "stdout"
        },
        {
          "output_type": "stream",
          "text": [
            "INFO:tensorflow:Assets written to: /tmp/tmp3xeq6jtk/assets\n"
          ],
          "name": "stderr"
        },
        {
          "output_type": "stream",
          "text": [
            "INFO:tensorflow:Assets written to: /tmp/tmp0n2z58dr/assets\n"
          ],
          "name": "stdout"
        },
        {
          "output_type": "stream",
          "text": [
            "INFO:tensorflow:Assets written to: /tmp/tmp0n2z58dr/assets\n"
          ],
          "name": "stderr"
        },
        {
          "output_type": "stream",
          "text": [
            "INFO:tensorflow:Assets written to: /tmp/tmpv8sopxvp/assets\n"
          ],
          "name": "stdout"
        },
        {
          "output_type": "stream",
          "text": [
            "INFO:tensorflow:Assets written to: /tmp/tmpv8sopxvp/assets\n"
          ],
          "name": "stderr"
        },
        {
          "output_type": "stream",
          "text": [
            "INFO:tensorflow:Assets written to: /tmp/tmp8lfwzxnf/assets\n"
          ],
          "name": "stdout"
        },
        {
          "output_type": "stream",
          "text": [
            "INFO:tensorflow:Assets written to: /tmp/tmp8lfwzxnf/assets\n"
          ],
          "name": "stderr"
        },
        {
          "output_type": "stream",
          "text": [
            "INFO:tensorflow:Assets written to: /tmp/tmpp8o_0676/assets\n"
          ],
          "name": "stdout"
        },
        {
          "output_type": "stream",
          "text": [
            "INFO:tensorflow:Assets written to: /tmp/tmpp8o_0676/assets\n"
          ],
          "name": "stderr"
        },
        {
          "output_type": "stream",
          "text": [
            "INFO:tensorflow:Assets written to: /tmp/tmpufodgwps/assets\n"
          ],
          "name": "stdout"
        },
        {
          "output_type": "stream",
          "text": [
            "INFO:tensorflow:Assets written to: /tmp/tmpufodgwps/assets\n"
          ],
          "name": "stderr"
        },
        {
          "output_type": "stream",
          "text": [
            "INFO:tensorflow:Assets written to: /tmp/tmpz7bsgaog/assets\n"
          ],
          "name": "stdout"
        },
        {
          "output_type": "stream",
          "text": [
            "INFO:tensorflow:Assets written to: /tmp/tmpz7bsgaog/assets\n"
          ],
          "name": "stderr"
        },
        {
          "output_type": "stream",
          "text": [
            "INFO:tensorflow:Assets written to: /tmp/tmp0mqb__c0/assets\n"
          ],
          "name": "stdout"
        },
        {
          "output_type": "stream",
          "text": [
            "INFO:tensorflow:Assets written to: /tmp/tmp0mqb__c0/assets\n"
          ],
          "name": "stderr"
        },
        {
          "output_type": "stream",
          "text": [
            "INFO:tensorflow:Assets written to: /tmp/tmp5hg23hn1/assets\n"
          ],
          "name": "stdout"
        },
        {
          "output_type": "stream",
          "text": [
            "INFO:tensorflow:Assets written to: /tmp/tmp5hg23hn1/assets\n"
          ],
          "name": "stderr"
        },
        {
          "output_type": "stream",
          "text": [
            "INFO:tensorflow:Assets written to: /tmp/tmphtvvu49c/assets\n"
          ],
          "name": "stdout"
        },
        {
          "output_type": "stream",
          "text": [
            "INFO:tensorflow:Assets written to: /tmp/tmphtvvu49c/assets\n"
          ],
          "name": "stderr"
        },
        {
          "output_type": "stream",
          "text": [
            "INFO:tensorflow:Assets written to: /tmp/tmpnrvsmoul/assets\n"
          ],
          "name": "stdout"
        },
        {
          "output_type": "stream",
          "text": [
            "INFO:tensorflow:Assets written to: /tmp/tmpnrvsmoul/assets\n"
          ],
          "name": "stderr"
        },
        {
          "output_type": "stream",
          "text": [
            "INFO:tensorflow:Assets written to: /tmp/tmplywepp5i/assets\n"
          ],
          "name": "stdout"
        },
        {
          "output_type": "stream",
          "text": [
            "INFO:tensorflow:Assets written to: /tmp/tmplywepp5i/assets\n"
          ],
          "name": "stderr"
        },
        {
          "output_type": "stream",
          "text": [
            "INFO:tensorflow:Assets written to: /tmp/tmp5kl78c9d/assets\n"
          ],
          "name": "stdout"
        },
        {
          "output_type": "stream",
          "text": [
            "INFO:tensorflow:Assets written to: /tmp/tmp5kl78c9d/assets\n"
          ],
          "name": "stderr"
        },
        {
          "output_type": "stream",
          "text": [
            "INFO:tensorflow:Assets written to: /tmp/tmpeiv_42gl/assets\n"
          ],
          "name": "stdout"
        },
        {
          "output_type": "stream",
          "text": [
            "INFO:tensorflow:Assets written to: /tmp/tmpeiv_42gl/assets\n"
          ],
          "name": "stderr"
        },
        {
          "output_type": "stream",
          "text": [
            "INFO:tensorflow:Assets written to: /tmp/tmprjtgepp4/assets\n"
          ],
          "name": "stdout"
        },
        {
          "output_type": "stream",
          "text": [
            "INFO:tensorflow:Assets written to: /tmp/tmprjtgepp4/assets\n"
          ],
          "name": "stderr"
        },
        {
          "output_type": "stream",
          "text": [
            "INFO:tensorflow:Assets written to: /tmp/tmppvbwesmk/assets\n"
          ],
          "name": "stdout"
        },
        {
          "output_type": "stream",
          "text": [
            "INFO:tensorflow:Assets written to: /tmp/tmppvbwesmk/assets\n"
          ],
          "name": "stderr"
        },
        {
          "output_type": "stream",
          "text": [
            "INFO:tensorflow:Assets written to: /tmp/tmpc1pkd1mu/assets\n"
          ],
          "name": "stdout"
        },
        {
          "output_type": "stream",
          "text": [
            "INFO:tensorflow:Assets written to: /tmp/tmpc1pkd1mu/assets\n"
          ],
          "name": "stderr"
        },
        {
          "output_type": "stream",
          "text": [
            "INFO:tensorflow:Assets written to: /tmp/tmpcllor86g/assets\n"
          ],
          "name": "stdout"
        },
        {
          "output_type": "stream",
          "text": [
            "INFO:tensorflow:Assets written to: /tmp/tmpcllor86g/assets\n"
          ],
          "name": "stderr"
        },
        {
          "output_type": "stream",
          "text": [
            "INFO:tensorflow:Assets written to: /tmp/tmph_b8g2v9/assets\n"
          ],
          "name": "stdout"
        },
        {
          "output_type": "stream",
          "text": [
            "INFO:tensorflow:Assets written to: /tmp/tmph_b8g2v9/assets\n"
          ],
          "name": "stderr"
        },
        {
          "output_type": "stream",
          "text": [
            "INFO:tensorflow:Assets written to: /tmp/tmp5iyogdvv/assets\n"
          ],
          "name": "stdout"
        },
        {
          "output_type": "stream",
          "text": [
            "INFO:tensorflow:Assets written to: /tmp/tmp5iyogdvv/assets\n"
          ],
          "name": "stderr"
        },
        {
          "output_type": "stream",
          "text": [
            "INFO:tensorflow:Assets written to: /tmp/tmpkycy99hg/assets\n"
          ],
          "name": "stdout"
        },
        {
          "output_type": "stream",
          "text": [
            "INFO:tensorflow:Assets written to: /tmp/tmpkycy99hg/assets\n"
          ],
          "name": "stderr"
        },
        {
          "output_type": "stream",
          "text": [
            "INFO:tensorflow:Assets written to: /tmp/tmp7dqq69q_/assets\n"
          ],
          "name": "stdout"
        },
        {
          "output_type": "stream",
          "text": [
            "INFO:tensorflow:Assets written to: /tmp/tmp7dqq69q_/assets\n"
          ],
          "name": "stderr"
        },
        {
          "output_type": "stream",
          "text": [
            "INFO:tensorflow:Assets written to: /tmp/tmpm5qflze8/assets\n"
          ],
          "name": "stdout"
        },
        {
          "output_type": "stream",
          "text": [
            "INFO:tensorflow:Assets written to: /tmp/tmpm5qflze8/assets\n"
          ],
          "name": "stderr"
        },
        {
          "output_type": "stream",
          "text": [
            "INFO:tensorflow:Assets written to: /tmp/tmp3y5eyxby/assets\n"
          ],
          "name": "stdout"
        },
        {
          "output_type": "stream",
          "text": [
            "INFO:tensorflow:Assets written to: /tmp/tmp3y5eyxby/assets\n"
          ],
          "name": "stderr"
        },
        {
          "output_type": "stream",
          "text": [
            "INFO:tensorflow:Assets written to: /tmp/tmp4_yxsk5v/assets\n"
          ],
          "name": "stdout"
        },
        {
          "output_type": "stream",
          "text": [
            "INFO:tensorflow:Assets written to: /tmp/tmp4_yxsk5v/assets\n"
          ],
          "name": "stderr"
        },
        {
          "output_type": "stream",
          "text": [
            "INFO:tensorflow:Assets written to: /tmp/tmpvt1pnbl1/assets\n"
          ],
          "name": "stdout"
        },
        {
          "output_type": "stream",
          "text": [
            "INFO:tensorflow:Assets written to: /tmp/tmpvt1pnbl1/assets\n"
          ],
          "name": "stderr"
        },
        {
          "output_type": "stream",
          "text": [
            "INFO:tensorflow:Assets written to: /tmp/tmpz5mrryoa/assets\n"
          ],
          "name": "stdout"
        },
        {
          "output_type": "stream",
          "text": [
            "INFO:tensorflow:Assets written to: /tmp/tmpz5mrryoa/assets\n"
          ],
          "name": "stderr"
        },
        {
          "output_type": "stream",
          "text": [
            "INFO:tensorflow:Assets written to: /tmp/tmpdqpmv389/assets\n"
          ],
          "name": "stdout"
        },
        {
          "output_type": "stream",
          "text": [
            "INFO:tensorflow:Assets written to: /tmp/tmpdqpmv389/assets\n"
          ],
          "name": "stderr"
        },
        {
          "output_type": "stream",
          "text": [
            "INFO:tensorflow:Assets written to: /tmp/tmphq5qkza3/assets\n"
          ],
          "name": "stdout"
        },
        {
          "output_type": "stream",
          "text": [
            "INFO:tensorflow:Assets written to: /tmp/tmphq5qkza3/assets\n"
          ],
          "name": "stderr"
        },
        {
          "output_type": "stream",
          "text": [
            "INFO:tensorflow:Assets written to: /tmp/tmpa_u7aact/assets\n"
          ],
          "name": "stdout"
        },
        {
          "output_type": "stream",
          "text": [
            "INFO:tensorflow:Assets written to: /tmp/tmpa_u7aact/assets\n"
          ],
          "name": "stderr"
        },
        {
          "output_type": "stream",
          "text": [
            "INFO:tensorflow:Assets written to: /tmp/tmp6ygs8n0p/assets\n"
          ],
          "name": "stdout"
        },
        {
          "output_type": "stream",
          "text": [
            "INFO:tensorflow:Assets written to: /tmp/tmp6ygs8n0p/assets\n"
          ],
          "name": "stderr"
        },
        {
          "output_type": "stream",
          "text": [
            "INFO:tensorflow:Assets written to: /tmp/tmpjm2t2ga7/assets\n"
          ],
          "name": "stdout"
        },
        {
          "output_type": "stream",
          "text": [
            "INFO:tensorflow:Assets written to: /tmp/tmpjm2t2ga7/assets\n"
          ],
          "name": "stderr"
        },
        {
          "output_type": "stream",
          "text": [
            "INFO:tensorflow:Assets written to: /tmp/tmpp_t0vhho/assets\n"
          ],
          "name": "stdout"
        },
        {
          "output_type": "stream",
          "text": [
            "INFO:tensorflow:Assets written to: /tmp/tmpp_t0vhho/assets\n"
          ],
          "name": "stderr"
        },
        {
          "output_type": "stream",
          "text": [
            "INFO:tensorflow:Assets written to: /tmp/tmpc1yjcq9z/assets\n"
          ],
          "name": "stdout"
        },
        {
          "output_type": "stream",
          "text": [
            "INFO:tensorflow:Assets written to: /tmp/tmpc1yjcq9z/assets\n"
          ],
          "name": "stderr"
        },
        {
          "output_type": "stream",
          "text": [
            "INFO:tensorflow:Assets written to: /tmp/tmpizxzx7ip/assets\n"
          ],
          "name": "stdout"
        },
        {
          "output_type": "stream",
          "text": [
            "INFO:tensorflow:Assets written to: /tmp/tmpizxzx7ip/assets\n"
          ],
          "name": "stderr"
        },
        {
          "output_type": "stream",
          "text": [
            "INFO:tensorflow:Assets written to: /tmp/tmpx1ykea4x/assets\n"
          ],
          "name": "stdout"
        },
        {
          "output_type": "stream",
          "text": [
            "INFO:tensorflow:Assets written to: /tmp/tmpx1ykea4x/assets\n"
          ],
          "name": "stderr"
        },
        {
          "output_type": "stream",
          "text": [
            "INFO:tensorflow:Assets written to: /tmp/tmpcno0o4h2/assets\n"
          ],
          "name": "stdout"
        },
        {
          "output_type": "stream",
          "text": [
            "INFO:tensorflow:Assets written to: /tmp/tmpcno0o4h2/assets\n"
          ],
          "name": "stderr"
        },
        {
          "output_type": "stream",
          "text": [
            "INFO:tensorflow:Assets written to: /tmp/tmpfwscimuy/assets\n"
          ],
          "name": "stdout"
        },
        {
          "output_type": "stream",
          "text": [
            "INFO:tensorflow:Assets written to: /tmp/tmpfwscimuy/assets\n"
          ],
          "name": "stderr"
        },
        {
          "output_type": "stream",
          "text": [
            "INFO:tensorflow:Assets written to: /tmp/tmptomzatjw/assets\n"
          ],
          "name": "stdout"
        },
        {
          "output_type": "stream",
          "text": [
            "INFO:tensorflow:Assets written to: /tmp/tmptomzatjw/assets\n"
          ],
          "name": "stderr"
        },
        {
          "output_type": "stream",
          "text": [
            "INFO:tensorflow:Assets written to: /tmp/tmprbyuud0z/assets\n"
          ],
          "name": "stdout"
        },
        {
          "output_type": "stream",
          "text": [
            "INFO:tensorflow:Assets written to: /tmp/tmprbyuud0z/assets\n"
          ],
          "name": "stderr"
        },
        {
          "output_type": "stream",
          "text": [
            "INFO:tensorflow:Assets written to: /tmp/tmp7ulh635g/assets\n"
          ],
          "name": "stdout"
        },
        {
          "output_type": "stream",
          "text": [
            "INFO:tensorflow:Assets written to: /tmp/tmp7ulh635g/assets\n"
          ],
          "name": "stderr"
        },
        {
          "output_type": "stream",
          "text": [
            "INFO:tensorflow:Assets written to: /tmp/tmpkx6jcrda/assets\n"
          ],
          "name": "stdout"
        },
        {
          "output_type": "stream",
          "text": [
            "INFO:tensorflow:Assets written to: /tmp/tmpkx6jcrda/assets\n"
          ],
          "name": "stderr"
        },
        {
          "output_type": "stream",
          "text": [
            "INFO:tensorflow:Assets written to: /tmp/tmp781wapuh/assets\n"
          ],
          "name": "stdout"
        },
        {
          "output_type": "stream",
          "text": [
            "INFO:tensorflow:Assets written to: /tmp/tmp781wapuh/assets\n"
          ],
          "name": "stderr"
        },
        {
          "output_type": "stream",
          "text": [
            "INFO:tensorflow:Assets written to: /tmp/tmphci1p_re/assets\n"
          ],
          "name": "stdout"
        },
        {
          "output_type": "stream",
          "text": [
            "INFO:tensorflow:Assets written to: /tmp/tmphci1p_re/assets\n"
          ],
          "name": "stderr"
        },
        {
          "output_type": "stream",
          "text": [
            "INFO:tensorflow:Assets written to: /tmp/tmp7hvz9e7e/assets\n"
          ],
          "name": "stdout"
        },
        {
          "output_type": "stream",
          "text": [
            "INFO:tensorflow:Assets written to: /tmp/tmp7hvz9e7e/assets\n"
          ],
          "name": "stderr"
        },
        {
          "output_type": "stream",
          "text": [
            "INFO:tensorflow:Assets written to: /tmp/tmpz9qm_6zw/assets\n"
          ],
          "name": "stdout"
        },
        {
          "output_type": "stream",
          "text": [
            "INFO:tensorflow:Assets written to: /tmp/tmpz9qm_6zw/assets\n"
          ],
          "name": "stderr"
        },
        {
          "output_type": "stream",
          "text": [
            "INFO:tensorflow:Assets written to: /tmp/tmpnddgn2u5/assets\n"
          ],
          "name": "stdout"
        },
        {
          "output_type": "stream",
          "text": [
            "INFO:tensorflow:Assets written to: /tmp/tmpnddgn2u5/assets\n"
          ],
          "name": "stderr"
        },
        {
          "output_type": "stream",
          "text": [
            "INFO:tensorflow:Assets written to: /tmp/tmpvtvw68y2/assets\n"
          ],
          "name": "stdout"
        },
        {
          "output_type": "stream",
          "text": [
            "INFO:tensorflow:Assets written to: /tmp/tmpvtvw68y2/assets\n"
          ],
          "name": "stderr"
        },
        {
          "output_type": "stream",
          "text": [
            "INFO:tensorflow:Assets written to: /tmp/tmplpypl8lb/assets\n"
          ],
          "name": "stdout"
        },
        {
          "output_type": "stream",
          "text": [
            "INFO:tensorflow:Assets written to: /tmp/tmplpypl8lb/assets\n"
          ],
          "name": "stderr"
        },
        {
          "output_type": "stream",
          "text": [
            "INFO:tensorflow:Assets written to: /tmp/tmpajkh_0qk/assets\n"
          ],
          "name": "stdout"
        },
        {
          "output_type": "stream",
          "text": [
            "INFO:tensorflow:Assets written to: /tmp/tmpajkh_0qk/assets\n"
          ],
          "name": "stderr"
        },
        {
          "output_type": "stream",
          "text": [
            "INFO:tensorflow:Assets written to: /tmp/tmpfssfr88z/assets\n"
          ],
          "name": "stdout"
        },
        {
          "output_type": "stream",
          "text": [
            "INFO:tensorflow:Assets written to: /tmp/tmpfssfr88z/assets\n"
          ],
          "name": "stderr"
        },
        {
          "output_type": "stream",
          "text": [
            "INFO:tensorflow:Assets written to: /tmp/tmp6_amjxt9/assets\n"
          ],
          "name": "stdout"
        },
        {
          "output_type": "stream",
          "text": [
            "INFO:tensorflow:Assets written to: /tmp/tmp6_amjxt9/assets\n"
          ],
          "name": "stderr"
        },
        {
          "output_type": "stream",
          "text": [
            "INFO:tensorflow:Assets written to: /tmp/tmpkuyhwkee/assets\n"
          ],
          "name": "stdout"
        },
        {
          "output_type": "stream",
          "text": [
            "INFO:tensorflow:Assets written to: /tmp/tmpkuyhwkee/assets\n"
          ],
          "name": "stderr"
        },
        {
          "output_type": "stream",
          "text": [
            "INFO:tensorflow:Assets written to: /tmp/tmp410v39if/assets\n"
          ],
          "name": "stdout"
        },
        {
          "output_type": "stream",
          "text": [
            "INFO:tensorflow:Assets written to: /tmp/tmp410v39if/assets\n"
          ],
          "name": "stderr"
        },
        {
          "output_type": "stream",
          "text": [
            "INFO:tensorflow:Assets written to: /tmp/tmp00r7krhk/assets\n"
          ],
          "name": "stdout"
        },
        {
          "output_type": "stream",
          "text": [
            "INFO:tensorflow:Assets written to: /tmp/tmp00r7krhk/assets\n"
          ],
          "name": "stderr"
        },
        {
          "output_type": "stream",
          "text": [
            "INFO:tensorflow:Assets written to: /tmp/tmpy6nyxh2_/assets\n"
          ],
          "name": "stdout"
        },
        {
          "output_type": "stream",
          "text": [
            "INFO:tensorflow:Assets written to: /tmp/tmpy6nyxh2_/assets\n"
          ],
          "name": "stderr"
        },
        {
          "output_type": "stream",
          "text": [
            "INFO:tensorflow:Assets written to: /tmp/tmp5htchcst/assets\n"
          ],
          "name": "stdout"
        },
        {
          "output_type": "stream",
          "text": [
            "INFO:tensorflow:Assets written to: /tmp/tmp5htchcst/assets\n"
          ],
          "name": "stderr"
        },
        {
          "output_type": "stream",
          "text": [
            "INFO:tensorflow:Assets written to: /tmp/tmp62elvy1s/assets\n"
          ],
          "name": "stdout"
        },
        {
          "output_type": "stream",
          "text": [
            "INFO:tensorflow:Assets written to: /tmp/tmp62elvy1s/assets\n"
          ],
          "name": "stderr"
        },
        {
          "output_type": "stream",
          "text": [
            "INFO:tensorflow:Assets written to: /tmp/tmpuosulwma/assets\n"
          ],
          "name": "stdout"
        },
        {
          "output_type": "stream",
          "text": [
            "INFO:tensorflow:Assets written to: /tmp/tmpuosulwma/assets\n"
          ],
          "name": "stderr"
        },
        {
          "output_type": "stream",
          "text": [
            "INFO:tensorflow:Assets written to: /tmp/tmpvq1mciw2/assets\n"
          ],
          "name": "stdout"
        },
        {
          "output_type": "stream",
          "text": [
            "INFO:tensorflow:Assets written to: /tmp/tmpvq1mciw2/assets\n"
          ],
          "name": "stderr"
        },
        {
          "output_type": "stream",
          "text": [
            "INFO:tensorflow:Assets written to: /tmp/tmptrgt1nq9/assets\n"
          ],
          "name": "stdout"
        },
        {
          "output_type": "stream",
          "text": [
            "INFO:tensorflow:Assets written to: /tmp/tmptrgt1nq9/assets\n"
          ],
          "name": "stderr"
        },
        {
          "output_type": "stream",
          "text": [
            "INFO:tensorflow:Assets written to: /tmp/tmpbpv33xre/assets\n"
          ],
          "name": "stdout"
        },
        {
          "output_type": "stream",
          "text": [
            "INFO:tensorflow:Assets written to: /tmp/tmpbpv33xre/assets\n"
          ],
          "name": "stderr"
        },
        {
          "output_type": "stream",
          "text": [
            "INFO:tensorflow:Assets written to: /tmp/tmpjq4hanb1/assets\n"
          ],
          "name": "stdout"
        },
        {
          "output_type": "stream",
          "text": [
            "INFO:tensorflow:Assets written to: /tmp/tmpjq4hanb1/assets\n"
          ],
          "name": "stderr"
        },
        {
          "output_type": "stream",
          "text": [
            "INFO:tensorflow:Assets written to: /tmp/tmpshkmiyh0/assets\n"
          ],
          "name": "stdout"
        },
        {
          "output_type": "stream",
          "text": [
            "INFO:tensorflow:Assets written to: /tmp/tmpshkmiyh0/assets\n"
          ],
          "name": "stderr"
        },
        {
          "output_type": "stream",
          "text": [
            "INFO:tensorflow:Assets written to: /tmp/tmpafsmy1hq/assets\n"
          ],
          "name": "stdout"
        },
        {
          "output_type": "stream",
          "text": [
            "INFO:tensorflow:Assets written to: /tmp/tmpafsmy1hq/assets\n"
          ],
          "name": "stderr"
        },
        {
          "output_type": "stream",
          "text": [
            "INFO:tensorflow:Assets written to: /tmp/tmpsak7uyok/assets\n"
          ],
          "name": "stdout"
        },
        {
          "output_type": "stream",
          "text": [
            "INFO:tensorflow:Assets written to: /tmp/tmpsak7uyok/assets\n"
          ],
          "name": "stderr"
        },
        {
          "output_type": "stream",
          "text": [
            "INFO:tensorflow:Assets written to: /tmp/tmpnpdh4bzk/assets\n"
          ],
          "name": "stdout"
        },
        {
          "output_type": "stream",
          "text": [
            "INFO:tensorflow:Assets written to: /tmp/tmpnpdh4bzk/assets\n"
          ],
          "name": "stderr"
        },
        {
          "output_type": "stream",
          "text": [
            "INFO:tensorflow:Assets written to: /tmp/tmpl3gid9an/assets\n"
          ],
          "name": "stdout"
        },
        {
          "output_type": "stream",
          "text": [
            "INFO:tensorflow:Assets written to: /tmp/tmpl3gid9an/assets\n"
          ],
          "name": "stderr"
        },
        {
          "output_type": "stream",
          "text": [
            "INFO:tensorflow:Assets written to: /tmp/tmpw23xqkvc/assets\n"
          ],
          "name": "stdout"
        },
        {
          "output_type": "stream",
          "text": [
            "INFO:tensorflow:Assets written to: /tmp/tmpw23xqkvc/assets\n"
          ],
          "name": "stderr"
        },
        {
          "output_type": "stream",
          "text": [
            "INFO:tensorflow:Assets written to: /tmp/tmptq47pl7c/assets\n"
          ],
          "name": "stdout"
        },
        {
          "output_type": "stream",
          "text": [
            "INFO:tensorflow:Assets written to: /tmp/tmptq47pl7c/assets\n"
          ],
          "name": "stderr"
        },
        {
          "output_type": "stream",
          "text": [
            "INFO:tensorflow:Assets written to: /tmp/tmpet9wyrqc/assets\n"
          ],
          "name": "stdout"
        },
        {
          "output_type": "stream",
          "text": [
            "INFO:tensorflow:Assets written to: /tmp/tmpet9wyrqc/assets\n"
          ],
          "name": "stderr"
        },
        {
          "output_type": "stream",
          "text": [
            "INFO:tensorflow:Assets written to: /tmp/tmp56u5ci82/assets\n"
          ],
          "name": "stdout"
        },
        {
          "output_type": "stream",
          "text": [
            "INFO:tensorflow:Assets written to: /tmp/tmp56u5ci82/assets\n"
          ],
          "name": "stderr"
        },
        {
          "output_type": "stream",
          "text": [
            "INFO:tensorflow:Assets written to: /tmp/tmp3nsmd9a4/assets\n"
          ],
          "name": "stdout"
        },
        {
          "output_type": "stream",
          "text": [
            "INFO:tensorflow:Assets written to: /tmp/tmp3nsmd9a4/assets\n"
          ],
          "name": "stderr"
        },
        {
          "output_type": "stream",
          "text": [
            "INFO:tensorflow:Assets written to: /tmp/tmpchanaicd/assets\n"
          ],
          "name": "stdout"
        },
        {
          "output_type": "stream",
          "text": [
            "INFO:tensorflow:Assets written to: /tmp/tmpchanaicd/assets\n"
          ],
          "name": "stderr"
        },
        {
          "output_type": "stream",
          "text": [
            "INFO:tensorflow:Assets written to: /tmp/tmpvan2aa4t/assets\n"
          ],
          "name": "stdout"
        },
        {
          "output_type": "stream",
          "text": [
            "INFO:tensorflow:Assets written to: /tmp/tmpvan2aa4t/assets\n"
          ],
          "name": "stderr"
        },
        {
          "output_type": "stream",
          "text": [
            "INFO:tensorflow:Assets written to: /tmp/tmptfbgb95g/assets\n"
          ],
          "name": "stdout"
        },
        {
          "output_type": "stream",
          "text": [
            "INFO:tensorflow:Assets written to: /tmp/tmptfbgb95g/assets\n"
          ],
          "name": "stderr"
        },
        {
          "output_type": "stream",
          "text": [
            "INFO:tensorflow:Assets written to: /tmp/tmpckhcb0cw/assets\n"
          ],
          "name": "stdout"
        },
        {
          "output_type": "stream",
          "text": [
            "INFO:tensorflow:Assets written to: /tmp/tmpckhcb0cw/assets\n"
          ],
          "name": "stderr"
        },
        {
          "output_type": "stream",
          "text": [
            "INFO:tensorflow:Assets written to: /tmp/tmpp1620p9s/assets\n"
          ],
          "name": "stdout"
        },
        {
          "output_type": "stream",
          "text": [
            "INFO:tensorflow:Assets written to: /tmp/tmpp1620p9s/assets\n"
          ],
          "name": "stderr"
        },
        {
          "output_type": "stream",
          "text": [
            "INFO:tensorflow:Assets written to: /tmp/tmp4aolgeyg/assets\n"
          ],
          "name": "stdout"
        },
        {
          "output_type": "stream",
          "text": [
            "INFO:tensorflow:Assets written to: /tmp/tmp4aolgeyg/assets\n"
          ],
          "name": "stderr"
        },
        {
          "output_type": "stream",
          "text": [
            "INFO:tensorflow:Assets written to: /tmp/tmpbbhbvi3w/assets\n"
          ],
          "name": "stdout"
        },
        {
          "output_type": "stream",
          "text": [
            "INFO:tensorflow:Assets written to: /tmp/tmpbbhbvi3w/assets\n"
          ],
          "name": "stderr"
        },
        {
          "output_type": "stream",
          "text": [
            "INFO:tensorflow:Assets written to: /tmp/tmplpkmnlnu/assets\n"
          ],
          "name": "stdout"
        },
        {
          "output_type": "stream",
          "text": [
            "INFO:tensorflow:Assets written to: /tmp/tmplpkmnlnu/assets\n"
          ],
          "name": "stderr"
        },
        {
          "output_type": "stream",
          "text": [
            "INFO:tensorflow:Assets written to: /tmp/tmpji9dp7ny/assets\n"
          ],
          "name": "stdout"
        },
        {
          "output_type": "stream",
          "text": [
            "INFO:tensorflow:Assets written to: /tmp/tmpji9dp7ny/assets\n"
          ],
          "name": "stderr"
        },
        {
          "output_type": "stream",
          "text": [
            "INFO:tensorflow:Assets written to: /tmp/tmpd190x52w/assets\n"
          ],
          "name": "stdout"
        },
        {
          "output_type": "stream",
          "text": [
            "INFO:tensorflow:Assets written to: /tmp/tmpd190x52w/assets\n"
          ],
          "name": "stderr"
        },
        {
          "output_type": "stream",
          "text": [
            "INFO:tensorflow:Assets written to: /tmp/tmpdrlswngd/assets\n"
          ],
          "name": "stdout"
        },
        {
          "output_type": "stream",
          "text": [
            "INFO:tensorflow:Assets written to: /tmp/tmpdrlswngd/assets\n"
          ],
          "name": "stderr"
        },
        {
          "output_type": "stream",
          "text": [
            "INFO:tensorflow:Assets written to: /tmp/tmp3vc8p3yq/assets\n"
          ],
          "name": "stdout"
        },
        {
          "output_type": "stream",
          "text": [
            "INFO:tensorflow:Assets written to: /tmp/tmp3vc8p3yq/assets\n"
          ],
          "name": "stderr"
        },
        {
          "output_type": "stream",
          "text": [
            "INFO:tensorflow:Assets written to: /tmp/tmpr7cc7x2g/assets\n"
          ],
          "name": "stdout"
        },
        {
          "output_type": "stream",
          "text": [
            "INFO:tensorflow:Assets written to: /tmp/tmpr7cc7x2g/assets\n"
          ],
          "name": "stderr"
        },
        {
          "output_type": "stream",
          "text": [
            "INFO:tensorflow:Assets written to: /tmp/tmp57p2_sac/assets\n"
          ],
          "name": "stdout"
        },
        {
          "output_type": "stream",
          "text": [
            "INFO:tensorflow:Assets written to: /tmp/tmp57p2_sac/assets\n"
          ],
          "name": "stderr"
        },
        {
          "output_type": "stream",
          "text": [
            "INFO:tensorflow:Assets written to: /tmp/tmpc3_h66ve/assets\n"
          ],
          "name": "stdout"
        },
        {
          "output_type": "stream",
          "text": [
            "INFO:tensorflow:Assets written to: /tmp/tmpc3_h66ve/assets\n"
          ],
          "name": "stderr"
        },
        {
          "output_type": "stream",
          "text": [
            "INFO:tensorflow:Assets written to: /tmp/tmpxwdzlknx/assets\n"
          ],
          "name": "stdout"
        },
        {
          "output_type": "stream",
          "text": [
            "INFO:tensorflow:Assets written to: /tmp/tmpxwdzlknx/assets\n"
          ],
          "name": "stderr"
        },
        {
          "output_type": "stream",
          "text": [
            "INFO:tensorflow:Assets written to: /tmp/tmplncxjomf/assets\n"
          ],
          "name": "stdout"
        },
        {
          "output_type": "stream",
          "text": [
            "INFO:tensorflow:Assets written to: /tmp/tmplncxjomf/assets\n"
          ],
          "name": "stderr"
        },
        {
          "output_type": "stream",
          "text": [
            "INFO:tensorflow:Assets written to: /tmp/tmpaayigacf/assets\n"
          ],
          "name": "stdout"
        },
        {
          "output_type": "stream",
          "text": [
            "INFO:tensorflow:Assets written to: /tmp/tmpaayigacf/assets\n"
          ],
          "name": "stderr"
        },
        {
          "output_type": "stream",
          "text": [
            "INFO:tensorflow:Assets written to: /tmp/tmp88f28oqz/assets\n"
          ],
          "name": "stdout"
        },
        {
          "output_type": "stream",
          "text": [
            "INFO:tensorflow:Assets written to: /tmp/tmp88f28oqz/assets\n"
          ],
          "name": "stderr"
        },
        {
          "output_type": "stream",
          "text": [
            "INFO:tensorflow:Assets written to: /tmp/tmpjk6vi68h/assets\n"
          ],
          "name": "stdout"
        },
        {
          "output_type": "stream",
          "text": [
            "INFO:tensorflow:Assets written to: /tmp/tmpjk6vi68h/assets\n"
          ],
          "name": "stderr"
        },
        {
          "output_type": "stream",
          "text": [
            "INFO:tensorflow:Assets written to: /tmp/tmp3zl2cxko/assets\n"
          ],
          "name": "stdout"
        },
        {
          "output_type": "stream",
          "text": [
            "INFO:tensorflow:Assets written to: /tmp/tmp3zl2cxko/assets\n"
          ],
          "name": "stderr"
        },
        {
          "output_type": "stream",
          "text": [
            "INFO:tensorflow:Assets written to: /tmp/tmpu6ifyuqz/assets\n"
          ],
          "name": "stdout"
        },
        {
          "output_type": "stream",
          "text": [
            "INFO:tensorflow:Assets written to: /tmp/tmpu6ifyuqz/assets\n"
          ],
          "name": "stderr"
        },
        {
          "output_type": "stream",
          "text": [
            "INFO:tensorflow:Assets written to: /tmp/tmp32efzwnd/assets\n"
          ],
          "name": "stdout"
        },
        {
          "output_type": "stream",
          "text": [
            "INFO:tensorflow:Assets written to: /tmp/tmp32efzwnd/assets\n"
          ],
          "name": "stderr"
        },
        {
          "output_type": "stream",
          "text": [
            "INFO:tensorflow:Assets written to: /tmp/tmp_kja2uvy/assets\n"
          ],
          "name": "stdout"
        },
        {
          "output_type": "stream",
          "text": [
            "INFO:tensorflow:Assets written to: /tmp/tmp_kja2uvy/assets\n"
          ],
          "name": "stderr"
        },
        {
          "output_type": "stream",
          "text": [
            "INFO:tensorflow:Assets written to: /tmp/tmpmwat7bzz/assets\n"
          ],
          "name": "stdout"
        },
        {
          "output_type": "stream",
          "text": [
            "INFO:tensorflow:Assets written to: /tmp/tmpmwat7bzz/assets\n"
          ],
          "name": "stderr"
        },
        {
          "output_type": "stream",
          "text": [
            "INFO:tensorflow:Assets written to: /tmp/tmp5tlz9qgl/assets\n"
          ],
          "name": "stdout"
        },
        {
          "output_type": "stream",
          "text": [
            "INFO:tensorflow:Assets written to: /tmp/tmp5tlz9qgl/assets\n"
          ],
          "name": "stderr"
        },
        {
          "output_type": "stream",
          "text": [
            "INFO:tensorflow:Assets written to: /tmp/tmpp1rvhoiw/assets\n"
          ],
          "name": "stdout"
        },
        {
          "output_type": "stream",
          "text": [
            "INFO:tensorflow:Assets written to: /tmp/tmpp1rvhoiw/assets\n"
          ],
          "name": "stderr"
        },
        {
          "output_type": "stream",
          "text": [
            "INFO:tensorflow:Assets written to: /tmp/tmpfbvj40gr/assets\n"
          ],
          "name": "stdout"
        },
        {
          "output_type": "stream",
          "text": [
            "INFO:tensorflow:Assets written to: /tmp/tmpfbvj40gr/assets\n"
          ],
          "name": "stderr"
        },
        {
          "output_type": "stream",
          "text": [
            "INFO:tensorflow:Assets written to: /tmp/tmpmtlmooob/assets\n"
          ],
          "name": "stdout"
        },
        {
          "output_type": "stream",
          "text": [
            "INFO:tensorflow:Assets written to: /tmp/tmpmtlmooob/assets\n"
          ],
          "name": "stderr"
        },
        {
          "output_type": "stream",
          "text": [
            "INFO:tensorflow:Assets written to: /tmp/tmpity2j2kg/assets\n"
          ],
          "name": "stdout"
        },
        {
          "output_type": "stream",
          "text": [
            "INFO:tensorflow:Assets written to: /tmp/tmpity2j2kg/assets\n"
          ],
          "name": "stderr"
        },
        {
          "output_type": "stream",
          "text": [
            "INFO:tensorflow:Assets written to: /tmp/tmpb_wvyk6v/assets\n"
          ],
          "name": "stdout"
        },
        {
          "output_type": "stream",
          "text": [
            "INFO:tensorflow:Assets written to: /tmp/tmpb_wvyk6v/assets\n"
          ],
          "name": "stderr"
        },
        {
          "output_type": "stream",
          "text": [
            "INFO:tensorflow:Assets written to: /tmp/tmplfn9l0mb/assets\n"
          ],
          "name": "stdout"
        },
        {
          "output_type": "stream",
          "text": [
            "INFO:tensorflow:Assets written to: /tmp/tmplfn9l0mb/assets\n"
          ],
          "name": "stderr"
        },
        {
          "output_type": "stream",
          "text": [
            "INFO:tensorflow:Assets written to: /tmp/tmpn9g4d_m7/assets\n"
          ],
          "name": "stdout"
        },
        {
          "output_type": "stream",
          "text": [
            "INFO:tensorflow:Assets written to: /tmp/tmpn9g4d_m7/assets\n"
          ],
          "name": "stderr"
        },
        {
          "output_type": "stream",
          "text": [
            "INFO:tensorflow:Assets written to: /tmp/tmpl16wibzj/assets\n"
          ],
          "name": "stdout"
        },
        {
          "output_type": "stream",
          "text": [
            "INFO:tensorflow:Assets written to: /tmp/tmpl16wibzj/assets\n"
          ],
          "name": "stderr"
        },
        {
          "output_type": "stream",
          "text": [
            "INFO:tensorflow:Assets written to: /tmp/tmpa0o8lcem/assets\n"
          ],
          "name": "stdout"
        },
        {
          "output_type": "stream",
          "text": [
            "INFO:tensorflow:Assets written to: /tmp/tmpa0o8lcem/assets\n"
          ],
          "name": "stderr"
        },
        {
          "output_type": "stream",
          "text": [
            "INFO:tensorflow:Assets written to: /tmp/tmpxtlxao4j/assets\n"
          ],
          "name": "stdout"
        },
        {
          "output_type": "stream",
          "text": [
            "INFO:tensorflow:Assets written to: /tmp/tmpxtlxao4j/assets\n"
          ],
          "name": "stderr"
        },
        {
          "output_type": "stream",
          "text": [
            "INFO:tensorflow:Assets written to: /tmp/tmpvy_w7mz_/assets\n"
          ],
          "name": "stdout"
        },
        {
          "output_type": "stream",
          "text": [
            "INFO:tensorflow:Assets written to: /tmp/tmpvy_w7mz_/assets\n"
          ],
          "name": "stderr"
        },
        {
          "output_type": "stream",
          "text": [
            "INFO:tensorflow:Assets written to: /tmp/tmpvrnmkh8p/assets\n"
          ],
          "name": "stdout"
        },
        {
          "output_type": "stream",
          "text": [
            "INFO:tensorflow:Assets written to: /tmp/tmpvrnmkh8p/assets\n"
          ],
          "name": "stderr"
        },
        {
          "output_type": "stream",
          "text": [
            "INFO:tensorflow:Assets written to: /tmp/tmpany7qbbx/assets\n"
          ],
          "name": "stdout"
        },
        {
          "output_type": "stream",
          "text": [
            "INFO:tensorflow:Assets written to: /tmp/tmpany7qbbx/assets\n"
          ],
          "name": "stderr"
        },
        {
          "output_type": "stream",
          "text": [
            "INFO:tensorflow:Assets written to: /tmp/tmppjy4i479/assets\n"
          ],
          "name": "stdout"
        },
        {
          "output_type": "stream",
          "text": [
            "INFO:tensorflow:Assets written to: /tmp/tmppjy4i479/assets\n"
          ],
          "name": "stderr"
        },
        {
          "output_type": "stream",
          "text": [
            "INFO:tensorflow:Assets written to: /tmp/tmpm708wfos/assets\n"
          ],
          "name": "stdout"
        },
        {
          "output_type": "stream",
          "text": [
            "INFO:tensorflow:Assets written to: /tmp/tmpm708wfos/assets\n"
          ],
          "name": "stderr"
        },
        {
          "output_type": "stream",
          "text": [
            "INFO:tensorflow:Assets written to: /tmp/tmp_utyy0c_/assets\n"
          ],
          "name": "stdout"
        },
        {
          "output_type": "stream",
          "text": [
            "INFO:tensorflow:Assets written to: /tmp/tmp_utyy0c_/assets\n"
          ],
          "name": "stderr"
        },
        {
          "output_type": "stream",
          "text": [
            "INFO:tensorflow:Assets written to: /tmp/tmptsqoqv03/assets\n"
          ],
          "name": "stdout"
        },
        {
          "output_type": "stream",
          "text": [
            "INFO:tensorflow:Assets written to: /tmp/tmptsqoqv03/assets\n"
          ],
          "name": "stderr"
        },
        {
          "output_type": "stream",
          "text": [
            "INFO:tensorflow:Assets written to: /tmp/tmpm5e3_zz_/assets\n"
          ],
          "name": "stdout"
        },
        {
          "output_type": "stream",
          "text": [
            "INFO:tensorflow:Assets written to: /tmp/tmpm5e3_zz_/assets\n"
          ],
          "name": "stderr"
        },
        {
          "output_type": "stream",
          "text": [
            "INFO:tensorflow:Assets written to: /tmp/tmpam6_ysn0/assets\n"
          ],
          "name": "stdout"
        },
        {
          "output_type": "stream",
          "text": [
            "INFO:tensorflow:Assets written to: /tmp/tmpam6_ysn0/assets\n"
          ],
          "name": "stderr"
        },
        {
          "output_type": "stream",
          "text": [
            "INFO:tensorflow:Assets written to: /tmp/tmp90oy0n5v/assets\n"
          ],
          "name": "stdout"
        },
        {
          "output_type": "stream",
          "text": [
            "INFO:tensorflow:Assets written to: /tmp/tmp90oy0n5v/assets\n"
          ],
          "name": "stderr"
        },
        {
          "output_type": "stream",
          "text": [
            "INFO:tensorflow:Assets written to: /tmp/tmphp1y0x_8/assets\n"
          ],
          "name": "stdout"
        },
        {
          "output_type": "stream",
          "text": [
            "INFO:tensorflow:Assets written to: /tmp/tmphp1y0x_8/assets\n"
          ],
          "name": "stderr"
        },
        {
          "output_type": "stream",
          "text": [
            "INFO:tensorflow:Assets written to: /tmp/tmplto9rsoa/assets\n"
          ],
          "name": "stdout"
        },
        {
          "output_type": "stream",
          "text": [
            "INFO:tensorflow:Assets written to: /tmp/tmplto9rsoa/assets\n"
          ],
          "name": "stderr"
        },
        {
          "output_type": "stream",
          "text": [
            "[INFO] Save processed video as \"./output(video19).mp4\"\n"
          ],
          "name": "stdout"
        }
      ]
    },
    {
      "cell_type": "code",
      "metadata": {
        "id": "YiNNtK-0XMEl"
      },
      "source": [],
      "execution_count": null,
      "outputs": []
    }
  ]
}